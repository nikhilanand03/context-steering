{
 "cells": [
  {
   "cell_type": "code",
   "execution_count": 1,
   "id": "0445bfa5-80a6-4229-8ba8-de7fea09890a",
   "metadata": {},
   "outputs": [],
   "source": [
    "from transformers import AutoModelForCausalLM"
   ]
  },
  {
   "cell_type": "code",
   "execution_count": 2,
   "id": "fb80bdf2-41b3-4def-938d-2e3b9f6a46d7",
   "metadata": {},
   "outputs": [
    {
     "data": {
      "application/vnd.jupyter.widget-view+json": {
       "model_id": "f51fe82602174e7e841140139252f852",
       "version_major": 2,
       "version_minor": 0
      },
      "text/plain": [
       "model.safetensors.index.json:   0%|          | 0.00/25.1k [00:00<?, ?B/s]"
      ]
     },
     "metadata": {},
     "output_type": "display_data"
    },
    {
     "data": {
      "application/vnd.jupyter.widget-view+json": {
       "model_id": "6a8a7270f23b49edb2c2614128bcce98",
       "version_major": 2,
       "version_minor": 0
      },
      "text/plain": [
       "Downloading shards:   0%|          | 0/2 [00:00<?, ?it/s]"
      ]
     },
     "metadata": {},
     "output_type": "display_data"
    },
    {
     "data": {
      "application/vnd.jupyter.widget-view+json": {
       "model_id": "6fc5e1e90e6745879de068bc8cbcd542",
       "version_major": 2,
       "version_minor": 0
      },
      "text/plain": [
       "model-00001-of-00002.safetensors:   0%|          | 0.00/9.94G [00:00<?, ?B/s]"
      ]
     },
     "metadata": {},
     "output_type": "display_data"
    },
    {
     "data": {
      "application/vnd.jupyter.widget-view+json": {
       "model_id": "bbc2d5462ece4399a82b019a813cb44e",
       "version_major": 2,
       "version_minor": 0
      },
      "text/plain": [
       "model-00002-of-00002.safetensors:   0%|          | 0.00/4.54G [00:00<?, ?B/s]"
      ]
     },
     "metadata": {},
     "output_type": "display_data"
    },
    {
     "data": {
      "application/vnd.jupyter.widget-view+json": {
       "model_id": "88cd4cfbcaa34770a9243821f0b79929",
       "version_major": 2,
       "version_minor": 0
      },
      "text/plain": [
       "Loading checkpoint shards:   0%|          | 0/2 [00:00<?, ?it/s]"
      ]
     },
     "metadata": {},
     "output_type": "display_data"
    },
    {
     "data": {
      "application/vnd.jupyter.widget-view+json": {
       "model_id": "ebc8feb339234bb7be6c158382e85975",
       "version_major": 2,
       "version_minor": 0
      },
      "text/plain": [
       "generation_config.json:   0%|          | 0.00/116 [00:00<?, ?B/s]"
      ]
     },
     "metadata": {},
     "output_type": "display_data"
    }
   ],
   "source": [
    "model = AutoModelForCausalLM.from_pretrained(\n",
    "    \"mistralai/Mistral-7B-v0.1\", device_map=\"auto\"#, load_in_4bit=True\n",
    ")"
   ]
  },
  {
   "cell_type": "code",
   "execution_count": 3,
   "id": "a44944c1-9b17-44fe-a7fb-37411b170235",
   "metadata": {},
   "outputs": [],
   "source": [
    "from transformers import AutoTokenizer"
   ]
  },
  {
   "cell_type": "code",
   "execution_count": 4,
   "id": "bc6cad34-a660-41fe-9e6f-8e036c16bfa3",
   "metadata": {},
   "outputs": [
    {
     "data": {
      "application/vnd.jupyter.widget-view+json": {
       "model_id": "f86bbc1964de4ca48a529c0a4637f3eb",
       "version_major": 2,
       "version_minor": 0
      },
      "text/plain": [
       "tokenizer_config.json:   0%|          | 0.00/996 [00:00<?, ?B/s]"
      ]
     },
     "metadata": {},
     "output_type": "display_data"
    },
    {
     "data": {
      "application/vnd.jupyter.widget-view+json": {
       "model_id": "96773a91174644dd89a45bc6c12e3e60",
       "version_major": 2,
       "version_minor": 0
      },
      "text/plain": [
       "tokenizer.model:   0%|          | 0.00/493k [00:00<?, ?B/s]"
      ]
     },
     "metadata": {},
     "output_type": "display_data"
    },
    {
     "data": {
      "application/vnd.jupyter.widget-view+json": {
       "model_id": "39c23812f4e948269cc7ca66754f435c",
       "version_major": 2,
       "version_minor": 0
      },
      "text/plain": [
       "tokenizer.json:   0%|          | 0.00/1.80M [00:00<?, ?B/s]"
      ]
     },
     "metadata": {},
     "output_type": "display_data"
    },
    {
     "data": {
      "application/vnd.jupyter.widget-view+json": {
       "model_id": "8050d79493924353829baded5d936044",
       "version_major": 2,
       "version_minor": 0
      },
      "text/plain": [
       "special_tokens_map.json:   0%|          | 0.00/414 [00:00<?, ?B/s]"
      ]
     },
     "metadata": {},
     "output_type": "display_data"
    }
   ],
   "source": [
    "tokenizer = AutoTokenizer.from_pretrained(\"mistralai/Mistral-7B-v0.1\", padding_side=\"left\")"
   ]
  },
  {
   "cell_type": "code",
   "execution_count": 5,
   "id": "ffa6cd39-5a84-4020-a0b8-897fbf5a349c",
   "metadata": {},
   "outputs": [],
   "source": [
    "model_inputs = tokenizer([\"A list of colors: red, blue\"], return_tensors=\"pt\").to(\"cuda\")"
   ]
  },
  {
   "cell_type": "code",
   "execution_count": 6,
   "id": "a139249d-69b3-4a5d-bbbc-d46dc7817b1a",
   "metadata": {},
   "outputs": [
    {
     "data": {
      "text/plain": [
       "{'input_ids': tensor([[    1,   330,  1274,   302,  9304, 28747,  2760, 28725,  5045]],\n",
       "       device='cuda:0'), 'attention_mask': tensor([[1, 1, 1, 1, 1, 1, 1, 1, 1]], device='cuda:0')}"
      ]
     },
     "execution_count": 6,
     "metadata": {},
     "output_type": "execute_result"
    }
   ],
   "source": [
    "model_inputs"
   ]
  },
  {
   "cell_type": "code",
   "execution_count": 8,
   "id": "5c96e435-a7b8-4593-bc56-2a830b9c6b70",
   "metadata": {},
   "outputs": [
    {
     "data": {
      "text/plain": [
       "torch.Size([1, 9])"
      ]
     },
     "execution_count": 8,
     "metadata": {},
     "output_type": "execute_result"
    }
   ],
   "source": [
    "model_inputs.input_ids.shape"
   ]
  },
  {
   "cell_type": "markdown",
   "id": "0442fe23-5d2e-4604-a0a3-6f683c48527d",
   "metadata": {},
   "source": [
    "The tokenizer just converts each token in the sentence to a number (its ID in the vocabulary). These can be one-hot encoded and then passed into the embedding layer to convert to 512-dim vector (or whatever the dimension is)."
   ]
  },
  {
   "cell_type": "code",
   "execution_count": 9,
   "id": "bb1a1a0f-528a-4d1a-9d9f-7d93539f9406",
   "metadata": {},
   "outputs": [
    {
     "name": "stderr",
     "output_type": "stream",
     "text": [
      "Setting `pad_token_id` to `eos_token_id`:2 for open-end generation.\n",
      "/opt/venv/lib/python3.10/site-packages/transformers/generation/utils.py:1249: UserWarning: Using the model-agnostic default `max_length` (=20) to control the generation length. We recommend setting `max_new_tokens` to control the maximum length of the generation.\n",
      "  warnings.warn(\n"
     ]
    }
   ],
   "source": [
    "generated_ids = model.generate(**model_inputs)"
   ]
  },
  {
   "cell_type": "code",
   "execution_count": 10,
   "id": "1381b8d9-b909-4e0e-b09a-c698535802a1",
   "metadata": {},
   "outputs": [
    {
     "data": {
      "text/plain": [
       "tensor([[    1,   330,  1274,   302,  9304, 28747,  2760, 28725,  5045, 28725,\n",
       "          5344, 28725,  9684, 28725, 14545, 28725, 19435, 28725, 12937, 28725]],\n",
       "       device='cuda:0')"
      ]
     },
     "execution_count": 10,
     "metadata": {},
     "output_type": "execute_result"
    }
   ],
   "source": [
    "generated_ids "
   ]
  },
  {
   "cell_type": "markdown",
   "id": "d712ebba-e610-42ec-b290-780fb96cfb0d",
   "metadata": {},
   "source": [
    "generated_ids holds the same sequence of tokens as before, but now it is extended by a bunch of tokens."
   ]
  },
  {
   "cell_type": "code",
   "execution_count": 11,
   "id": "cc5ad4b8-b828-47b1-8c36-900f0a4aecbc",
   "metadata": {},
   "outputs": [
    {
     "data": {
      "text/plain": [
       "['A list of colors: red, blue, green, yellow, orange, purple, pink,']"
      ]
     },
     "execution_count": 11,
     "metadata": {},
     "output_type": "execute_result"
    }
   ],
   "source": [
    "tokenizer.batch_decode(generated_ids, skip_special_tokens=True)"
   ]
  },
  {
   "cell_type": "code",
   "execution_count": 12,
   "id": "102f7147-4450-43f1-be7c-09b13c449b42",
   "metadata": {},
   "outputs": [],
   "source": [
    "tokenizer.pad_token = tokenizer.eos_token"
   ]
  },
  {
   "cell_type": "code",
   "execution_count": 13,
   "id": "58af7a61-ba1d-4621-9ed4-cad5f0ba1648",
   "metadata": {},
   "outputs": [],
   "source": [
    "model_inputs = tokenizer(\n",
    "    [\"A list of colors: red, blue\", \"Portugal is\"], return_tensors=\"pt\", padding=True\n",
    ").to(\"cuda\")"
   ]
  },
  {
   "cell_type": "code",
   "execution_count": 15,
   "id": "3c717b3a-c6de-4a26-b493-a9e8e6acc4b9",
   "metadata": {},
   "outputs": [
    {
     "name": "stderr",
     "output_type": "stream",
     "text": [
      "Setting `pad_token_id` to `eos_token_id`:2 for open-end generation.\n"
     ]
    }
   ],
   "source": [
    "generated_ids = model.generate(**model_inputs)"
   ]
  },
  {
   "cell_type": "code",
   "execution_count": 16,
   "id": "6841ec18-4d0c-46fc-886a-d7fe290d3f9b",
   "metadata": {},
   "outputs": [
    {
     "data": {
      "text/plain": [
       "['A list of colors: red, blue, green, yellow, orange, purple, pink,',\n",
       " 'Portugal is a country that is known for its beautiful beaches,']"
      ]
     },
     "execution_count": 16,
     "metadata": {},
     "output_type": "execute_result"
    }
   ],
   "source": [
    "tokenizer.batch_decode(generated_ids,skip_special_tokens=True)"
   ]
  },
  {
   "cell_type": "code",
   "execution_count": 17,
   "id": "55cc2ff5-6bcb-46b0-912c-abbccea894b5",
   "metadata": {},
   "outputs": [
    {
     "data": {
      "text/plain": [
       "['<s> A list of colors: red, blue, green, yellow, orange, purple, pink,',\n",
       " '</s></s></s></s></s></s><s> Portugal is a country that is known for its beautiful beaches,']"
      ]
     },
     "execution_count": 17,
     "metadata": {},
     "output_type": "execute_result"
    }
   ],
   "source": [
    "tokenizer.batch_decode(generated_ids,skip_special_tokens=False)"
   ]
  },
  {
   "cell_type": "markdown",
   "id": "67eedc27-9bf4-4c03-aa3a-7691af9770d7",
   "metadata": {},
   "source": [
    "I'm trying a new sentence using the same model..."
   ]
  },
  {
   "cell_type": "code",
   "execution_count": 37,
   "id": "1f6974e6-6724-44fb-927b-b2a2e35dbe10",
   "metadata": {},
   "outputs": [],
   "source": [
    "def generate_output(input_str,max_tokens=30,do_sample=False):\n",
    "    model_inputs = tokenizer(input_str,return_tensors=\"pt\",padding=True).to('cuda')\n",
    "    generated_ids = model.generate(**model_inputs,max_new_tokens=max_tokens,do_sample=do_sample)\n",
    "    print(tokenizer.batch_decode(generated_ids,skip_special_tokens=True))"
   ]
  },
  {
   "cell_type": "code",
   "execution_count": 38,
   "id": "153e98d8-277a-4bbf-b311-56256507e35d",
   "metadata": {},
   "outputs": [
    {
     "name": "stderr",
     "output_type": "stream",
     "text": [
      "Setting `pad_token_id` to `eos_token_id`:2 for open-end generation.\n"
     ]
    },
    {
     "name": "stdout",
     "output_type": "stream",
     "text": [
      "['Some people think of a forklift as a simple machine that is used to lift and move heavy objects. However, forklifts are actually quite complex machines that require a lot']\n"
     ]
    }
   ],
   "source": [
    "generate_output([\"Some people think of a for\"])"
   ]
  },
  {
   "cell_type": "code",
   "execution_count": 39,
   "id": "a82f664a-0b24-4026-b175-017faf26433e",
   "metadata": {},
   "outputs": [
    {
     "name": "stderr",
     "output_type": "stream",
     "text": [
      "Setting `pad_token_id` to `eos_token_id`:2 for open-end generation.\n"
     ]
    },
    {
     "name": "stdout",
     "output_type": "stream",
     "text": [
      "['Portugal and Spain went to war with their neighbours (Germany and France) during World War II. However, the Iberian Peninsula did not become occupied territory']\n"
     ]
    }
   ],
   "source": [
    "generate_output([\"Portugal and Spain went to\"],do_sample=True)"
   ]
  }
 ],
 "metadata": {
  "kernelspec": {
   "display_name": "Python 3 (ipykernel)",
   "language": "python",
   "name": "python3"
  },
  "language_info": {
   "codemirror_mode": {
    "name": "ipython",
    "version": 3
   },
   "file_extension": ".py",
   "mimetype": "text/x-python",
   "name": "python",
   "nbconvert_exporter": "python",
   "pygments_lexer": "ipython3",
   "version": "3.10.13"
  }
 },
 "nbformat": 4,
 "nbformat_minor": 5
}
