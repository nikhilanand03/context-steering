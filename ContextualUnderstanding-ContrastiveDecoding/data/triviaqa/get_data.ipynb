{
 "cells": [
  {
   "cell_type": "code",
   "execution_count": 2,
   "metadata": {},
   "outputs": [
    {
     "name": "stderr",
     "output_type": "stream",
     "text": [
      "/opt/anaconda3/envs/bioinfo/lib/python3.12/site-packages/tqdm/auto.py:21: TqdmWarning: IProgress not found. Please update jupyter and ipywidgets. See https://ipywidgets.readthedocs.io/en/stable/user_install.html\n",
      "  from .autonotebook import tqdm as notebook_tqdm\n"
     ]
    }
   ],
   "source": [
    "from datasets import load_dataset\n",
    "\n",
    "dataset = load_dataset(\"trivia_qa\", \"rc\", split=\"validation\")"
   ]
  },
  {
   "cell_type": "code",
   "execution_count": 3,
   "metadata": {},
   "outputs": [
    {
     "data": {
      "text/plain": [
       "17944"
      ]
     },
     "execution_count": 3,
     "metadata": {},
     "output_type": "execute_result"
    }
   ],
   "source": [
    "len(dataset)"
   ]
  },
  {
   "cell_type": "code",
   "execution_count": 4,
   "metadata": {},
   "outputs": [
    {
     "data": {
      "text/plain": [
       "Dataset({\n",
       "    features: ['question', 'question_id', 'question_source', 'entity_pages', 'search_results', 'answer'],\n",
       "    num_rows: 17944\n",
       "})"
      ]
     },
     "execution_count": 4,
     "metadata": {},
     "output_type": "execute_result"
    }
   ],
   "source": [
    "dataset"
   ]
  },
  {
   "cell_type": "code",
   "execution_count": 5,
   "metadata": {},
   "outputs": [
    {
     "name": "stdout",
     "output_type": "stream",
     "text": [
      "Dataset saved to triviaqa_val.json\n"
     ]
    }
   ],
   "source": [
    "import json\n",
    "\n",
    "data_list = [dict(row) for row in dataset]\n",
    "\n",
    "with open(\"triviaqa_val.json\", \"w\") as json_file:\n",
    "    json.dump(data_list, json_file, indent=4)\n",
    "\n",
    "print(\"Dataset saved to triviaqa_val.json\")"
   ]
  },
  {
   "cell_type": "code",
   "execution_count": 6,
   "metadata": {},
   "outputs": [
    {
     "name": "stdout",
     "output_type": "stream",
     "text": [
      "{'question': 'Who was the man behind The Chipmunks?', 'question_id': 'tc_2', 'question_source': 'http://www.triviacountry.com/', 'entity_pages': {'doc_source': [], 'filename': [], 'title': [], 'wiki_context': []}, 'search_results': {'description': ['A struggling songwriter named Dave Seville finds success when he comes across a trio of singing chipmunks: ... Title: Alvin and the Chipmunks (2007) ...', \"The man who brought the Chipmunks to life, ... Five more Chipmunks singles charted in the early '60s, ... See Behind-the-Scenes Rehearsal Photos of Fox's 'The Passion'\"], 'filename': ['61/61_97.txt', '10/10_99.txt'], 'rank': [4, 6], 'title': ['Alvin and the Chipmunks (2007) - IMDb', 'The Chipmunks - Biography | Billboard'], 'url': ['http://www.imdb.com/title/tt0952640/', 'http://www.billboard.com/artist/393411/chipmunks/biography'], 'search_context': ['Alvin and the Chipmunks (2007) - IMDb\\nIMDb\\n17 January 2017 4:34 PM, UTC\\nNEWS\\nThere was an error trying to load your rating for this title.\\nSome parts of this page won\\'t work property. Please reload or try later.\\nX Beta I\\'m Watching This!\\nKeep track of everything you watch; tell your friends.\\nError\\nAlvin and the Chipmunks\\xa0( 2007 )\\nPG |\\nA struggling songwriter named Dave Seville finds success when he comes across a trio of singing chipmunks: mischievous leader Alvin, brainy Simon, and chubby, impressionable Theodore.\\nDirector:\\nFrom $2.99 (SD) on Amazon Video\\nON\\xa0TV\\nUser Lists\\nRelated lists from IMDb users\\na list of 43 titles\\ncreated 01\\xa0Apr\\xa02012\\na list of 38 titles\\ncreated 09\\xa0May\\xa02012\\na list of 48 titles\\ncreated 20\\xa0Oct\\xa02012\\na list of 23 titles\\ncreated 06\\xa0Mar\\xa02013\\na list of 42 titles\\ncreated 30\\xa0Dec\\xa02015\\nTitle: Alvin and the Chipmunks (2007)\\n5.2/10\\nWant to share IMDb\\'s rating on your own site? Use the HTML below.\\nYou must be a registered user to use the IMDb rating plugin.\\n2 wins & 2 nominations. See more awards \\xa0»\\nVideos\\nThe world famous singing pre-teen chipmunk trio return to contend with the pressures of school, celebrity, and a rival female music group known as The Chipettes.\\nDirector: Betty Thomas\\nPlaying around while aboard a cruise ship, the Chipmunks and Chipettes accidentally go overboard and end up marooned in a tropical paradise. They discover their new turf is not as deserted as it seems.\\nDirector: Mike Mitchell\\n\\xa0 \\xa0 1 2 3 4 5 6 7 8 9 10 5.1/10 X \\xa0\\nThrough a series of misunderstandings, Alvin, Simon and Theodore come to believe that Dave is going to propose to his new girlfriend in Miami...and dump them. They have three days to get to him and stop the proposal, saving themselves not only from losing Dave but possibly from gaining a terrible stepbrother.\\nDirector: Walt Becker\\nWhen the evil wizard Gargamel chases the tiny blue Smurfs out of their village, they tumble from their magical world into New York City.\\nDirector: Raja Gosnell\\nJon Arbuckle buys a second pet, a dog named Odie. However, Odie is then abducted and it is up to Jon\\'s cat, Garfield, to find and rescue the canine.\\nDirector: Peter Hewitt\\nJon and Garfield visit the United Kingdom, where a case of mistaken cat identity finds Garfield ruling over a castle. His reign is soon jeopardized by the nefarious Lord Dargis, who has designs on the estate.\\nDirector: Tim Hill\\nThe Smurfs team up with their human friends to rescue Smurfette, who has been kidnapped by Gargamel since she knows a secret spell that can turn the evil sorcerer\\'s newest creation - creatures called the Naughties - into real Smurfs.\\nDirector: Raja Gosnell\\nStuart and Snowbell set out across town to rescue a friend.\\nDirector: Rob Minkoff\\nThe Little family adopt a charming young mouse named Stuart, but the family cat wants rid of him.\\nDirector: Rob Minkoff\\n\\xa0 \\xa0 1 2 3 4 5 6 7 8 9 10 6.2/10 X \\xa0\\nBoog, a domesticated 900lb. Grizzly bear, finds himself stranded in the woods 3 days before Open Season. Forced to rely on Elliot, a fast-talking mule deer, the two form an unlikely friendship and must quickly rally other forest animals if they are to form a rag-tag army against the hunters.\\nDirectors: Roger Allers, Jill Culton, and 1 more credit \\xa0»\\nStars: Ashton Kutcher,  Martin Lawrence,  Debra Messing\\n\\xa0 \\xa0 1 2 3 4 5 6 7 8 9 10 6.2/10 X \\xa0\\nBarry B. Benson, a bee just graduated from college, is disillusioned at his lone career choice: making honey. On a special trip outside the hive, Barry\\'s life is saved by Vanessa, a florist in New York City. As their relationship blossoms, he discovers humans actually eat honey, and subsequently decides to sue them.\\nDirectors: Steve Hickner, Simon J. Smith\\nStars: Jerry Seinfeld,  Renée Zellweger,  Matthew Broderick\\nE.B., the Easter Bunny\\'s teenage son, heads to Hollywood, determined to become a drummer in a rock \\'n\\' roll band. In LA, he\\'s taken in by Fred after the out-of-work slacker hits E.B. with his car.\\nDirector: Tim Hill\\nEdit\\nStoryline\\nIn a tree farm, three musically inclined chipmunks, Alvin, Simon and Theodore, find their tree cut down and sent to Los Angeles. Once there, they meet the frustrated songwriter David Seville, and despite a poor house wrecking first impression, they impress him with their singing talent. Seeing the opportunity for success, both human and chipmunks make a pact for them to sing his songs. While that ambition proves a frustrating struggle with the difficult trio, the dream does come true after all. However, that success presents its own trials as their unscrupulous record executive, Ian Hawke, plans to break up this family to exploit the boys. Can Dave and the Chipmunks discover what they really value amid the superficial glamor around them? Written by Kenneth Chisholm (kchishol@rogers.com)\\nThe Last Man Home.......Is Not Alone. See more \\xa0»\\nGenres:\\nRated PG for some mild rude humor | See all certifications \\xa0»\\nParents Guide:\\n14 December 2007 (USA) See more \\xa0»\\nAlso Known As:\\nAlvin y las ardillas See more \\xa0»\\nFilming Locations:\\n$44,307,417                (USA) (14 December 2007)\\nGross:\\nDid You Know?\\nTrivia\\nDavid Seville was a stage name of Ross Bagdasarian , and his son was originally supposed to portray the character in the film. He took the name \"Seville\" from the area in Spain, where he had done military service. See more »\\nGoofs\\nWhen Dave is late for work and almost forgets his pants, his old Pro Stereo skateboard is against the wall to the left of the front door. When he returns from his meeting, the board is to the right of the door and leaning in the corner. See more »\\nQuotes\\n[first lines]\\nAlvin (singing voice),\\xa0Simon (singing voice),\\xa0Theodore (singing voice): [a capella] Where is the moment we needed the most/You kick up the leaves and the magic is lost/They tell me your blue skies fade to gray/They tell me your passion\\'s gone away/And I don\\'t need no carryin\\' on/Cause you had a bad day/You\\'re taking one down/You sing a sad song just to turn it around/You say you don\\'t know/You tell me don\\'t lie/You work at a smile and you go for a ride/You had a bad day/You\\'ve seen what you like/And how does it feel for one more time/You had a bad day/...\\n[...]\\nSee more »\\nCrazy Credits\\nIn the end credits, there is a disclaimer that says \\'No chipmunks were harmed during the filming of this movie.\\' See more »\\nConnections\\nArranged by and Performed by Daniel May\\nCourtesy of Marc Ferrari/Mastersource Music Catalog\\n(Memphis, Tennessee) – See all my reviews\\n(Synopsis) Three chipmunk brothers, Alvin, Simon, and Theodore are living their lives in the forest storing nuts away for the winter when one day their tree is cut down and carried off into the city to become a Christmas tree. They must find a new home and they end up at Dave\\'s house. The only thing that makes them different is that they can talk and even sing. Dave Seville (Jason Lee) is a struggling song writer who has a great idea about making the chipmunks a new show act, singing his songs. The only thing is that you must remember is that they are chipmunks and they act like chipmunks by tearing up Dave\\'s house and interrupting his love life. However, they also begin to bond as a family with Dave becoming like a Dad. The chipmunks become a big hit and superstars with cute voices and fancy dance moves. The record company executive Ian (David Cross) sees big money in his future and takes over the act and pushes Dave to the side. Dave must try to save his little family before they becomes a show biz disaster.\\n(My Comment) I enjoyed this movie because it brought back good memories. I can\\'t believe that their first song was recorded 50 years ago. They have that certain sound that just makes you smile when you hear them. You recognize their sound immediately. The animated characters of Alvin, Simon, and Theodore are lovable now as they were 50 years ago. I always liked it when Dave would scream the name of \"Aaaaalviiiiiiiinnnnnnnnnnn!!!\" and Alvin would say \"OooooK!!!\" Those two words just make you smile. Children of all ages can see this movie without any problem. I am sure that all the parents will like it, and I know your child will, because it is a fun movie. (20th Century Fox, Run Time 1:30, Rated PG) (8/10)\\n67 of 110 people found this review helpful.\\xa0 Was this review helpful to you?\\nYes', 'The Chipmunks - Biography | Billboard\\nThe Chipmunks\\nAlvin Simon Theodore Ross Bagdasarian David Seville\\nPossibly the most popular TV and musical cartoon of all time, the Chipmunks enjoyed several periods of prosperity -- beginning with the \\'60s era of adolescent Baby Boomers, cresting in the \\'80s, when the Boomers\\' children were growing up, and riding the wave clear into the new millennium.\\nThe man who brought the Chipmunks to life, Ross Bagdasarian, was born on January 27, 1919, in Fresno, California. He came to Los Angeles in 1950, and appeared in the films Viva Zapata, Stalag 17, and Rear Window. Bagdasarian also worked as a songwriter, reaching the charts first in 1956, as his production of Alfi & Harry\\'s \"The Trouble with Harry\" hit number 44. He later charted two solo singles (recorded as David Seville), \"Armen\\'s Theme\" and \"Gotta Get to Your House.\" In 1958, Bagdasarian began experimenting with a novel technique -- recording normal vocals but then speeding up the playback on a tape machine. The process yielded the number one hit \"Witch Doctor\" in early 1958, and the phenomenon mushroomed later that year when his Christmas gimmick single \"The Chipmunk Song\" spent four weeks at the top of the charts. \"Alvin\\'s Harmonica\" reached number three just two months later, and Christmas reissues of \"The Chipmunk Song\" charted in the Top 40 over the next four years. The Alvin Show premiered on prime-time television in 1961, with all voices supplied by Bagdasarian. It only ran for one year, but was a success in a Saturday-morning slot. Five more Chipmunks singles charted in the early \\'60s, and five LPs also did well, including a Beatles cover album in 1964.\\nAlthough Bagdasarian died in 1972, his son Ross Jr. revived Alvin, Simon, and Theodore in 1979 on Saturday mornings and on the 1980 album Chipmunk Punk. The series became more popular than in the \\'60s, and albums of the Chipmunks singing country, Christmas, rock, and Hollywood favorites were big sellers, though they didn\\'t enjoy chart success. Although the cartoon was no longer in production by the \\'90s, new Chipmunks records continued appearing, among them 1998\\'s A-Files: Alien Files.\\nIn 2007, a film series debuted with Alvin and the Chipmunks -- the first being so successful that it spawned three sequels: 2009\\'s Alvin and the Chipmunks: The Squeakquel, 2011\\'s Alvin and the Chipmunks: Chipwrecked, and 2015\\'s Alvin and the Chipmunks 4. A revival of the TV series was also planned to premiere on Nickelodeon in early 2015. ~ John Bush, Rovi\\nRelated Artists']}, 'answer': {'aliases': ['David Seville'], 'normalized_aliases': ['david seville'], 'matched_wiki_entity_name': '', 'normalized_matched_wiki_entity_name': '', 'normalized_value': 'david seville', 'type': 'WikipediaEntity', 'value': 'David Seville'}}\n"
     ]
    }
   ],
   "source": [
    "with open(\"triviaqa_val.json\",'r') as f:\n",
    "    row = json.load(f)[0]\n",
    "    print(row)"
   ]
  },
  {
   "cell_type": "code",
   "execution_count": 7,
   "metadata": {},
   "outputs": [
    {
     "data": {
      "text/plain": [
       "dict_keys(['question', 'question_id', 'question_source', 'entity_pages', 'search_results', 'answer'])"
      ]
     },
     "execution_count": 7,
     "metadata": {},
     "output_type": "execute_result"
    }
   ],
   "source": [
    "row.keys()"
   ]
  },
  {
   "cell_type": "code",
   "execution_count": 8,
   "metadata": {},
   "outputs": [
    {
     "data": {
      "text/plain": [
       "'Asmara international airport is in which country?'"
      ]
     },
     "execution_count": 8,
     "metadata": {},
     "output_type": "execute_result"
    }
   ],
   "source": [
    "row['question']"
   ]
  },
  {
   "cell_type": "code",
   "execution_count": 9,
   "metadata": {},
   "outputs": [
    {
     "data": {
      "text/plain": [
       "'tc_7'"
      ]
     },
     "execution_count": 9,
     "metadata": {},
     "output_type": "execute_result"
    }
   ],
   "source": [
    "row['question_id']"
   ]
  },
  {
   "cell_type": "code",
   "execution_count": 10,
   "metadata": {},
   "outputs": [
    {
     "data": {
      "text/plain": [
       "'http://www.triviacountry.com/'"
      ]
     },
     "execution_count": 10,
     "metadata": {},
     "output_type": "execute_result"
    }
   ],
   "source": [
    "row['question_source']"
   ]
  },
  {
   "cell_type": "code",
   "execution_count": 11,
   "metadata": {},
   "outputs": [
    {
     "data": {
      "text/plain": [
       "{'doc_source': ['TagMe'],\n",
       " 'filename': ['Asmara_International_Airport.txt'],\n",
       " 'title': ['Asmara International Airport'],\n",
       " 'wiki_context': ['Asmara International Airport, formerly known as Yohannes IV International Airport , is the international airport of Asmara, the capital of Eritrea, and also the country\\'s largest airport.\\n\\nHistory\\n\\nThe airport was created by the Italian colonial authorities in 1922, the first such facility to be opened in Italian Eritrea. It served as the main military airport in the territory. In the mid-1930s, the airport (called Aeroporto Civile di Asmara) began offering civilian and commercial flights. \\n\\nOn 7 July 1935, an agreement was signed with Brtitish \"Imperial Airways\" to connect Asmara to Khartoum. A regular Kassala-Khartoum-Asmara-Massawa 770\\xa0km commercial route was subsequently started with a Caproni 133 of the Italian Ala Littoria.  \\n\\nDuring World War II, the airport was nearly destroyed by the British. It was later renovated in the 1950s, and reopened to offer flights to Addis Ababa and other cities in Ethiopia. With Eritrea\\'s independence in the 1990s, the airport became an international portal to the new nation. \\n\\nIn April 2003, after improvements to the airport\\'s runways, Eritrean Airlines started regular services between Asmara and Frankfurt, Milan, Nairobi and Rome. In 2004, it served 136,526 passengers (+11.8% vs. 2003).\\n\\nFacilities\\n\\nThe airport has capacity restrictions due to its small terminal, short runway and 1.5-mile altitude. Consequently, large jet aircraft (like an A380, MD-11 or 747) cannot fly to the airport. Aircraft of this size would instead need to use the Massawa International Airport on the Eritrean coast.\\n\\nThe airport is also an Eritrean Air Force base.\\n\\nAirlines and destinations']}"
      ]
     },
     "execution_count": 11,
     "metadata": {},
     "output_type": "execute_result"
    }
   ],
   "source": [
    "row['entity_pages']"
   ]
  },
  {
   "cell_type": "code",
   "execution_count": 12,
   "metadata": {},
   "outputs": [
    {
     "data": {
      "text/plain": [
       "{'description': ['Asmara International Airport (ASM/HAAY) safety profile including a list of aircraft accidents at or near the airport.',\n",
       "  'Asmara International is located in ... I believe what happened to us at Asmara International Airport cannot go ... before she dares return to her father’s country.',\n",
       "  'Asmara Country Eritrea Network International ... Asmara International Airport ... serves the Eritrean capital of Asmara and is a hub for Eritrean Airlines and ...',\n",
       "  'Asmara International Airport (ASM), Asmara, ... location and distances from Asmara International Airport. ... Asmara International Airport: City: Asmara: Country:',\n",
       "  \"Asmara International Airport (IATA: ASM) (ICAO: HHAS). Asmara currently hosts the country's only operating international airport, ...\",\n",
       "  '... Asmara International Airport is ... Whilst called an international airport, Asmara ... Explore all about the east African country of Eritrea ...',\n",
       "  'Asmara International Airport map and flight information. Hotels in Asmara International area. ... Country: Eritrea Airport serving the capital of Eritrea, ...',\n",
       "  'Asmara International Airport is the ... World Map / International Airports / Africa / Airports in Eritrea ... Like most African countries the flight ...'],\n",
       " 'filename': ['157/157_2866330.txt',\n",
       "  '90/90_2866331.txt',\n",
       "  '139/139_2866332.txt',\n",
       "  '119/119_2866333.txt',\n",
       "  '166/166_1603909.txt',\n",
       "  '164/164_2866335.txt',\n",
       "  '71/71_2866336.txt',\n",
       "  '81/81_2866337.txt'],\n",
       " 'rank': [0, 1, 2, 3, 5, 6, 7, 8],\n",
       " 'title': ['Asmara International Airport profile - Aviation Safety Network',\n",
       "  'Asmara International - Eritrea - World Airport Codes',\n",
       "  'Profile on Asmara International Airport | CAPA - Centre ...',\n",
       "  'Asmara International Airport - Air Miles Calculator',\n",
       "  'Asmara travel guide - Wikitravel',\n",
       "  'Asmara Airport ~ Asmara International Airport ~ Asmara ...',\n",
       "  'Asmara International Airport - Airlines Inform',\n",
       "  'Airports in Eritrea, Eritrea Airports Map - Maps of World'],\n",
       " 'url': ['http://aviation-safety.net/database/airport/airport.php?id=ASM',\n",
       "  'https://www.world-airport-codes.com/eritrea/yohannes-iv-397.html',\n",
       "  'http://centreforaviation.com/profiles/airports/asmara-international-airport-asm',\n",
       "  'http://www.airmilescalculator.com/airport/asm/',\n",
       "  'http://wikitravel.org/en/Asmara',\n",
       "  'http://www.african-volunteer.net/asmara_airport.html',\n",
       "  'http://airport.airlines-inform.com/Asmara-International.html',\n",
       "  'http://www.mapsofworld.com/international-airports/africa/eritrea.html'],\n",
       " 'search_context': [\"Asmara International Airport profile - Aviation Safety Network\\nAsmara International Airport profile\\nEritrea IATA code:ASM ICAO code: HAAY Elevation: 7661 feet / 2335 m Notams: Notams for HAAY Airport history: \\xa0\\nAsmara International Airport\\nER-AXD Pecotox Air 0 Asmara Inter...\\nA1\\n7O-ACW Yemenia Airways 0 Asmara Inter...\\nA1\\nUR-UCI Ukrainian Cargo Airways, opf. Air Sofia 10 near Asmara-Yohan...\\nA1\\n5Y-BMW Aero Zambia 0 Asmara Inter...\\nO1\\n\\xa0 Sudan Airways 0 Asmara Inter...\\n\\xa0 H2\\n\\xa0 Saudi Arabian 0 Asmara Inter...\\n\\xa0 H2\\nET-AJZ Ethiopian Airlines 0 Asmara Inter...\\nO1\\n\\xa0 Ethiopian AF 54 near Asmara Inter...\\n\\xa0 A1\\nET-AAZ Ethiopian Airlines 0 Asmara Inter...\\n\\xa0 A1\\nET-AAY Ethiopian Airlines 0 Asmara Inter...\\n\\xa0 A1\\nNC1241N United States Air Force - USAF, opf. Pan Am 0 Asmara Inter...\\n\\xa0 A1\\nF-BAML Ministï¿½re de l'Air, DTI Asmara Inter...\\n\\xa0 A1\\nAircraft that departed Asmara International Airport\\n7 occurrences in the ASN safety database\\ndate\",\n",
       "  'Asmara International - Eritrea\\nProblems At Asmara International Airport\\nMichele Yemane\\nApril 26, 2008 at 9:15 pm\\nI am a US citizen who recently visited Eritrea (April 13 – April 23). I was accompanied by my 17-year old daughter whose father was born in Eritrea. This was the first time we had ever visited the land of her father’s birth. We had the pleasure of staying with my daughter’s grandfather, and of being welcomed by innumerable friends and relatives. The visit, a sort of pilgrimage in honor of my child’s Eritrean heritage, was memorable and emotional for everyone. However, we had a nightmarish experience during the final moments of our visit which tainted the otherwise euphoric nature of our trip. I am writing in an effort to vent my outrage and anger. I believe what happened to us at Asmara International Airport cannot go unreported…. My daughter and I left Asmara on Lufthansa Flight 593, Wednesday, April 23, at 10:50 PM. It was after having passed through the gauntlet of several passport checks just to get into the airport, then a security check and scan, the currency declaration booth, the currency exchange booth, the Lufthansa desk to check our luggage, the exit visa point, and then three further passport checks, that we finally arrived at the checkpoint just before embarking upon our flight. It is here where my daughter and I were separated; here where our carry-on bags were once again emptied and their contents picked through and examined. This final procedure, though annoying, was tolerable, even while the personnel performing this search spoke little to no English, and my daughter and I speak little to no Tigrinya. Gestures became the necessary, yet inadequate, mode of communication. Throughout the whole procedure, a gang of young men sat nearby laughing amongst themselves and playing the krar I had bought as a souvenir, and which they had apparently seized as it emerged from the security scan. The turning point occurred, and the nightmare began, when my daughter cried out to me that she thought that she was being asked to strip naked. I thought surely that this was a misinterpretation on her part. Sadly, it was not. My daughter, a very modest and shy teenager by any standards, resisted, and I, in addition, protested, trying in vain to get an explanation as to what it was they wanted and why. The response I received — \"why a problem?!\" — was barked in my face in angry, broken English by the krar-players who left their seats and surrounded us. I couldn’t believe what was happening. My daughter, terrified, melted into tears. The surreal nature of this entire episode was magnified by the fact that none of these individuals wore a uniform identifying at least that they were in positions of authority, but instead wore very casual street clothes. Not one wore a name tag, making identifying them impossible. These were young people, perhaps in their twenties, ill-mannered and brusque, the likes of which we had not encountered during a single instant during our entire trip. Afraid and overwhelmed, my daughter and I were bullied into a messy office where a woman motioned for my daughter to take off her pants and then her panties. My daughter was having her period and wore a sanitary napkin. The woman, who wore no gloves, proceeded to approach my daughter who stood half-naked in the middle of the room with her pants down and her panties dangling between her thighs. The woman stooped down and inspected my daughter, fingering the sanitary napkin. Trembling, it was all I could do to contain myself. I understand the seriousness of airport security in this day and age. I, like most travelers in the 21st century, are willing to put up with any number of inconveniences, interminable lines, strict travel requirements, and numerous security checks, for the sake of the safety of the traveling public. But this handling was invasive, unacceptably rude, a violation akin to rape, and not to mention, unsanitary. Furthermore, what I can’t seem to quite understand is how an airport which purportedly meets international security standards, can be allowed to operate in such an indignant way. Why are people who cannot speak a global language employed to conduct such a sensitive job in a so-called international airport? That evening, my daughter who suffers from bipolar disorder, was robbed of all dignity. She cried for hours after. This was to have been a therapeutic trip to help her get to know her vast and loving family, and the roots that bind her to a rich and ancient cultural heritage. She is still traumatized and reeling from what happened. I am no less traumatized, being a parent made to stand helplessly by and witness a dehumanizing act perpetrated against my child. The task before us now is to arrive at separating this incident from all the positive and warm experiences which came before it. I will continue to speak lovingly of Eritrea and her people, but will always have the bitter parenthetical anecdote lurking beside my adoration…and a warning for all who would ponder passing through Eritrea’s shame of an airport. As for my daughter, it will be a long time, if ever, before she dares return to her father’s country.\\nAdd your own review for Asmara International Airport',\n",
       "  'Profile on Asmara International Airport | CAPA - Centre for Aviation\\nAsmara International Airport (formerly known as Yohannes IV International Airport) serves the Eritrean capital of Asmara and is a hub for Eritrean Airlines and Nasair Eritrea .\\nLocation of Asmara International Airport, Eritrea\\nSource: CAPA - Centre for Aviation and Google Maps\\nGround Handlers and Cargo Handlers servicing Asmara International Airport\\nThis content is exclusively for CAPA Membership Subscribers\\nFuel & Oil Suppliers servicing Asmara International Airport\\nThis content is exclusively for CAPA Membership Subscribers\\n\\xa0\\nThis content is exclusively for CAPA Membership Subscribers\\nCAPA Membership gives you the latest aviation news and alerts, access to CAPA articles, reports, and our leading aviation data with optional premium add-ons.\\nThis content is exclusively for CAPA Membership Subscribers\\nCAPA Membership gives you the latest aviation news and alerts, access to CAPA articles, reports, and our leading aviation data with optional premium add-ons.\\nThis content is exclusively for CAPA Membership Subscribers\\nCAPA Membership gives you the latest aviation news and alerts, access to CAPA articles, reports, and our leading aviation data with optional premium add-ons.\\nThis content is exclusively for CAPA Membership Subscribers\\nCAPA Membership gives you the latest aviation news and alerts, access to CAPA articles, reports, and our leading aviation data with optional premium add-ons.\\nThis content is exclusively for CAPA Membership Subscribers\\nCAPA Membership gives you the latest aviation news and alerts, access to CAPA articles, reports, and our leading aviation data with optional premium add-ons.\\nThis content is exclusively for CAPA Membership Subscribers\\nCAPA Membership gives you the latest aviation news and alerts, access to CAPA articles, reports, and our leading aviation data with optional premium add-ons.\\nThis content is exclusively for CAPA Membership Subscribers\\nCAPA Membership gives you the latest aviation news and alerts, access to CAPA articles, reports, and our leading aviation data with optional premium add-ons.\\nThis content is exclusively for CAPA Membership Subscribers\\nCAPA Membership gives you the latest aviation news and alerts, access to CAPA articles, reports, and our leading aviation data with optional premium add-ons.',\n",
       "  'Asmara International Airport\\nSearch Airport:\\nAirport: Asmara International Airport City: Asmara Country: Eritrea\\xa0\\nIATA Code: ASM ICAO Code: HHAS Coordinates: Latitude: 15°17′30″N, Longitude: 38°54′38″E Runways: Direction: 12/30, Length: 5951 x 148 ft, Elevation: 0 ft\\nDirection: 7/25, Length: 9842 x 148 ft, Elevation: 7661 ft\\nCurrent local time: 22:18 EAT (2017-01-06) Standard time zone: UTC/GMT  +3.0 Daylight saving time: UTC/GMT  +3.0 Sunrise: 06:52 Sunset: 18:08 Wikipedia link: Wikipedia - Asmara International Airport\\nLocation and map\\nAsmara International Airport is located approximately 3,5 miles (5,6 km) southwest of Asmara and about 28,7 miles (46,2 km) north of Mendefera.',\n",
       "  'Asmara travel guide - Wikitravel\\nUnderstand[ edit ]\\nAsmara panorama.\\nFounded in the twelfth century by a union of villages trying to protect themselves from bandits, Asmara has grown to become a bustling city of over half a million people. Over its history, the city has endured the rule of various empires and countries, including the Italian Empire from the late 19th century, the British from after World War II and Ethiopia from 1950. After a long and bloody war with Ethiopia, Asmara was finally liberated in 1991 and became the capital of a country which had not had self-rule for two centuries.\\nToday, it is difficult to walk down a street in downtown Asmara and not see an old Italian building. In the early 1930s, Mussolini, the Italian dictator, injected huge amounts of funds into the city with the goal of making it the centre of a second Roman Empire that spanned Africa . Architects were only limited by their imagination, and practically the entire city centre was rebuilt. Not only were cathedrals built in ancient-Romanesque style, but also numerous offices influenced by the architectural movements of cubism and futurism.\\nClimate[ edit ]\\nThe dry season from December to April is distinguished by the terrain of red-brown, rusty, beige or black rubble surrounding the city, resembling photos from Mars. The vegetation consists largely of shrubbery, eucalyptus, aloes, cacti and the odd explosively colorful species of bougainville, jacaranda or other ornamental plants.\\nThe rainy season between May and September (hopefully) brings torrents of rain and needed nourishment to the land, which transforms itself from lunar/martian-esque to verdant and grassy in the post-rain months of August to October.\\nRegardless of when you go, temperatures in Asmara rarely rise above a comfortable dry 30°C in the sun. The capital is known for its lovely climate. There is very little humidity in the air so the biggest variations in temperatures occur between night and day, or whether one is standing in the sun or in the shade, not between seasons. Between December and February, it can get very cold at night and in the morning, it can even drop a few degrees below 0°C. Due to lack of heating and insulation in Asmara, it is important to bring proper clothes. Rains only last a few hours at a time and it all dries up quickly enough, although the occasional flash flood is not uncommon during the rainy season.\\nGet in[ edit ]\\nAsmara International Airport ( IATA : ASM) ( ICAO : HHAS). Asmara currently hosts the country\\'s only operating international airport, although there are two more international airports in Massawa and Assab.\\nAs of 2014, the airport served Cairo twice weekly by Egypt Air; Sanaa , Yemen twice weekly by Yemenia Airways;\\xa0; and Jeddah / Riyadh twice weekly by Saudi Arabian Airlines. As of June 2014, Eritrean Airlines is not operating any consistent flights.  As of January 2010, Nasair, a private-state joint venture airline based in Massawa, served a few regional capitals such as Jeddah , Nairobi , Dubai and Khartoum as well as domestic airports Assab and Massawa. There is an airport departure tax of US$20 or €15, payable in foreign currency if you don\\'t have a local resident ID.\\nIf you entering the country without a visa, as a holder of an Eritrean ID card in combination with a foreign passport, you are required to register with the Immigration and Nationality office in Asmara within seven business days of entry into the country.\\nBoth Eritrea and Ethiopia maintain large military presences along the border and all border crossings into Ethiopia from Eritrea remain closed.\\nGet around[ edit ]\\nAsmara has 10 downtown bus-lines on distinctive Red Mercedes Benz buses, with a sign in the front saying where they\\'re headed (oftentimes in Latin script). The bus stops are easily identifiable (there are signs and an obvious shelter with a bench), but the buses stop running quite early in the evening (about 7PM). They run on 15-30 minute intervals during the day (every day), but there is no fixed or published schedule. The roads get pretty jammed at rush hours (in the morning, midday and around 4PM in the evening). The fare is 1 Nakfa, and the entrance is in the back where one buys the ticket. It is not necessary to have exact change, but one should try to pay in lower denominations.\\nLine number 1 goes between the airport, 3 km south of the city, and the zoo in Biet Ghiorghis, 2 km (1 mi) east of the city on the eastern escarpment (the windy road to the Red Sea begins after Biet Ghirogis). Number 1 also passes through the main streets in downtown Asmara (Independence and Martyrs Avenues). All bus lines that begin with 2 (e.g. 21, 22, etc.), run between the marketplace downtown and the surrounding villages, but there are only a few a day. Therefore, plan to leave early in order to be able to return the same day. Only the locals know the schedule (through word of mouth). If you\\'re lucky one of them speaks English and will be very helpful. Some villages like Embaderho and Tselot are well worth visiting for their scenery and traditional lifestyle.\\nThere also white minibus-lines running on the main streets of the city, which run on fixed routes but without fixed stops or signs. They usually stop at the bus stops, but you still have to hail them when you see them, just like a cab. Before boarding, ask them where they\\'re headed, unless the ticket-seller (called fottorino) doesn\\'t beat you to it by announcing it loudly.  Then, let them know when you want to get off  (\"Stop!\" is a universally understood command).\\nFinally there are the yellow taxis, most of which also run on fixed routes on the main streets like the white minivans. They have a similar system to the minivans, and the fare is 5 Nakfa.  You\\'ll most likely be sharing the ride with 3 other people. Since some cabs do not use fixed routes, some will take you personally to where you want to go. This is called kuntrat (koon-tratt), and you will have to negotiate the price with the driver. These cabs usually wait outside the airport when a plane is coming in, the city\\'s main hotels (Asmara Palace Hotel, Nyala, Ambassador etc.), the road to the right of the main cathedral downtown and other obvious spots. They can also be hailed on any street, but many cabs are on a fixed route with passengers already in them.\\nRenting a car is insanely expensive and fuel prices are higher than in Europe. Renting a cab to drive you around town is equally extortionate, but it could be worthwhile on a longer trip outside of town. Be prepared to pay several thousand Nakfa (a few hundred dollars or euros) for a trip! It is perhaps better to take the bus or contact one of the national tour agencies (ask at the information desk at the airport upon arrival).\\nSee[ edit ][ add listing ]\\nAsmara\\'s main attraction is its colonial Italian architecture. The palm-lined main street \"Independence Avenue\" is colloquially referred to as \"Kombishtato\" (a creol of the neighbourhood\\'s original name: Campo di Citta). It is full of cafés, bars, shops and old cinemas, and it makes for a nice mile long stroll between the north end of this avenue where the \"half\" stadium is (you\\'ll know when you see half a bleacher) and the south end facing the Nyala Hotel, the city\\'s tallest building. Asmara\\'s colourful and bustling marketplace lies behind the cathedral on the road to its right (as seen when standing in front of the cathedral\\'s main entrance on Independence Avenue). It\\'s a great place to learn how to haggle and buy some souvenirs.\\nFrom the café on the top floor of the Nyala Hotel, one has a great view of the city while enjoying a nice well-chilled beer. The beer is exceptionally good in Asmara, aptly called \"Asmara Beer\". Behind the hotel on a quieter street is the National Museum, with an impressive collection spanning the six millennia of the land\\'s civilization.\\nOn Massawa Road near the outskirts of the city, lies the Biet Ghiorghis Zoo and Park area, famous for its scenery of the eastern escarpment. The Zoo itself is rather sad.  Further down the road, one reaches Bar Durfo, a bar and café perched on a cliff overlooking the dramatic precipice of the Asmara - Massawa highway. You will need a car or taxi to get beyond the last stop of the No. 1 bus, Biet Ghiorghis, to Bar Durfo.\\nAnother place to see is the dramatic highland landscape on the eastern escarpment.  Additionally, one can see a traditional Eritrean highland village in the village of Tselot (which means \\'prayer\\' and is also famous for being the President\\'s village). Tselot lies about 20 km (12 mi) outside the city center and is served by one of the red city buses departing from a section of the marketplace called \"Meda Eritrea\". You should leave as early as possible because there are only a couple of buses per day so you have to make sure you have a way to get back. The rural highland lifestyle in Tselot resembles Biblical times: stone houses, small plots, ancient temples (both Christian and Muslim), people farming and herding with traditional means using little technology, transporting their goods (as well as themselves) on mule- and camelback.\\nWithin walking distance of the village, is the Martyrs National Park, inaugurated in 2000. It is a mountainous forest and wildlife reserve at the ridge of the highland plateau. The landscape consists of an eerily quiet semi-arid plain in a valley, an extension of the highland plateau, interrupted by the dramatic chasm of the eastern ridge which the village center straddles.  The views and scenery are spectacular. The highest viewpoint features chasms, gorges and mountaintops bathed by a sea of clouds, which gives one the impression of standing \"above the clouds\".\\nDo[ edit ][ add listing ]\\nIf you are in Asmara for a short stay, the best thing to do after you\\'re done sightseeing in this city is to head for the outskirts where the scenery is stunning at the very least.\\nUnless you come from a high altitude area yourself, you need a couple of days of strolling in Asmara to get your body used to the thin dry air at 2,600 m (8,530 ft).\\nBring lots of sunscreen lotion but also a sweater as it can get really chilly not only at night but even when standing in the shade (temperatures can vary greatly on different sides of the same street depending on the position of the sun). The sun shines very bright throughout the day in Africa, especially so in Asmara where clouds are rare, so unless you enjoy squinting, bring UV blocking shades.\\nIf you like hiking, rock climbing and mountainbiking, the above mentioned areas outside of town are excellent places to do so, but bring your own gear (incuding bike) as there are no rental bikes and a very limited supply of safety equipment (shoes, ropes, etc.) in Asmara.  However, tents and mosquito nets are readily available at an affordable price in the marketplace downtown. Also consult the locals and bring a guide, because it is good to have someone familiar with the place who speaks the local language in case of an accident or any other eventuality (like what is legal and not legal). For example, taking pictures around any government installation or authority (police, airport, ministries etc.) is strictly forbidden, and your guide can help you get out of such sticky situations.\\nFinally, take time to savor some good food in Asmara. Don\\'t drink any \"fresh\" fruit juices or eat any ice cream unless you want health issues to mess up your time. Stick to bottled drinks, unpeeled fruits and cooked food.\\nThe Eritrean Festival is definitely one of, if not, the biggest event a tourist must see during their stay within the country. Better known as “Festival Eritrea”, it is identified as cultural festivity week within the country. The Eritrea community in the diaspora created the even in 1884 in Bologna-Italy. The event gathered Eritrean communities from around the globe to memorialize the “Struggle for Independence” movement. The first official festival started inside the now free and independent Eritrea in August 2002, which after that point its been annually celebrated as the “Expo” in Asmara and different major cities around the world such as London, Washington DC, and so on. Within the festival you witness and learn about Eritrean culture. The different types of clothing between the different tribes, the different dances, and the food from all nine Eritrean ethnic groups, as well as the development work going on in the country are just some of the things found at the “Expo”. url=”( http://www.ucl.ac.uk/atlas/tigrinya/festival_eritrea.html)”\\nBuy[ edit ][ add listing ]\\nGold and silver jewellery is cheap in Asmara and is definitely a bargain by world standards. So are frankincense and myrrh (if you have any use for them).\\nOtherwise most of the souvenirs bought by tourists are the local home-spun and gold-thread embroidered cotton garments, traditional goat-skin rugs, olivewood carvings, clay coffee-pots and other traditional knick-knacks - all of which are found at the marketplace.\\nIt is definitely recommended that tourists go around the main cities and go see what they can find around the local stores. Souvenirs can be found almost anywhere amongst the several shops found with in the country. Anywhere from jewelry like Gold and Silver, which is what you, will most commonly find in terms of jewelry. Then you range of to other miscellaneous objects and relics such as pottery, swords, daggers, baskets, and other great souvenirs within the marketplace. Food definitely is one-thing tourists will find themselves spending money on. With the diversity of restaurants from local traditional food, to Chinese and Indian cuisine, different options are available\\nEat[ edit ][ add listing ]\\nEritrea is big on Italian food, due to having been an Italian colony between 1890 and 1940. There is a huge range of restaurants in Asmara serving Italian food with Albergo Italia being the best in quality, closely followed by the outdoor setting of Casa Degli Italiani, Alba Bistro opposite the post office also offers a quality, wide range, of food not forgetting Castello behind the Nyala Hotel. The Spagetti and Pizza House on Harnet Av. offers a great choice of pizza and pasta dishes as well as its signature Chilli red snapper.\\nMost traditional Eritrean food is quite spicy, and consists generally of very hot meat and/or vegetable stews, eaten over the staple called \"injera\" a kind of sour-dough pancake or flatbread. Blue Bird and Milano are generally considered the best places for traditional food.\\nOn the up-side, there are many restaurants which make hamburgers using quality organic beef or lamb, such as The Mask Restaurant.\\nFor Indian and Far East cuisine you can visit the Rooftop Garden or The China Star\\nFor a taste of home and a fantastic steak visit the weekend only restaurant at the Asmara Palace Hotel although avoid their buffets.\\nDrink a lot because Asmara will dry you out. Mineral water is there in abundance and that is really the only water you can drink. Don\\'t drink the tapwater if you value your health. Similarly, there are also a lot of bottled fruit juices, \\'Fresh\\' juices are typically safe to drink in the cleaner bars and restaurants.\\nEritreans, especially Asmarinos, love their coffee. Like so much else it is imbibed Italian-style and the city\\'s favorite coffee drink is the macchiato (makyato) ie. \\'stained\\' (that is coffee stained with a touch of steamed milk-froth) which is definitely worth a try if you like strong, sweet coffee.\\nDrink[ edit ][ add listing ]\\nEritrea is not a big wine country, even though it used to have a wine-making tradition during the colonial period. On the other hand, Eritrea is a big beer-drinking country, and the Eritrean beer is definitely a good one if you like lager, pilsner or dark beer.  All three varieties are made by the country\\'s only brewery, which is in Asmara and is aptly called \"Asmara Beer\".  Asmara Beer is great, quenches your thirsty throat and has a good taste. Between early 2008 and May 2009 it was not available, due to a lack of hard currency for buying imported malt.  As of June 2009, nationwide distribution was back. Asmara brewers have proven they produce a good Pilsner beer. Most varieties have around 5% alcohol per volume and a nice hop flavour in the well known bottle. Enjoy!\\nNightlife in Asmara is often considered quieter than most other country capitals, but there are a good range of local bars and also the infamous Zara Bar near the Blue Bird restaurant is a popular haunt with expats.\\nAsmara is an extremely safe city, safe enough for a stroll in the middle of the night. Most people are genuinely friendly, without wanting anything in exchange, beggary and hustling is not as common as in most other third world countries and neither is tourism. Prostitution is legal and rife.\\nAfter the Zara Bar closes there are few choices of night clubs although they do exist. Mocambo is in a basement in the downtown area and is popular with young locals. The Warsai is out of the way and a little seedy. The Asmara Palace Hotel boasts The Green Pub which has disco\\'s on Wednesday, Friday and Saturday nights. In the Expo grounds there is the Benifer which is a restaurant by day but a busy club by night, and the Shamrock which used to be popular with UN staff.  Word of warning, entry is normally priced at 100 Nacfa + and beer is similarly priced.\\nSleep[ edit ][ add listing ]\\nAsmara Palace Hotel (formally the Intercontinental Hotel) out by the airport. The odd spaceship-looking hotel probably has the comfiest beds. But why commute from so far away at such an outrageous price? One can be just as comfortable for much less in the middle of the city where there are plenty of cheap or moderately-priced hotels ranging from US$10-60.\\nSome examples are:\\nAlbergo Italia (formally the Keren Hotel), by the central post office.\\nNyala Hotel, (the city\\'s highest building on Martyrs Avenue).\\nEmbasoira Hotel, behind Independence Avenue (on the east side).\\nHamassien Hotel, right next door to the Embasoira. The Swiss-cottage-looking building.\\nSunshine Hotel, near the Roof Garden restaurant.\\nSelam Hotel, a few blocks away from the Presidential Palace and the National Museum and has a nice garden.\\nThe Buon Respiro is a very cosy Bed and Breakfast in an ornate Italian villa with a nice patio in the middle of the city just a few blocks from Cinema Odeon.\\nThe Crystal Hotel behind Cinema Roma, similar to the Sunshine Hotel.\\nEmbassies[ edit ]\\nEgypt, 5 Moursi Fatma street, ☎ +2911 124935 ( embassy-asmara@mfa.gov.eg , fax: +2911 123294), [1] . 9:00 AM - 16:00 PM. \\xa0 edit\\nGermany, Saba Development Bldg. 8th fl. Warsay Street, ☎ 00-29-11-186670/71 ( info@asmara.diplo.de , fax: 00-29-11-186900). Mon - Thu 7.30 - 16.45, Fri 7.30 - 13.30. \\xa0 edit\\nGreece, P.O. Box 4173, ☎ +291 1 12-19-76 (fax: +291 1 12-20-17). \\xa0 edit\\nNorway, Street 173-1 # 11, P.O. Box 5801, ☎ +291 1 12 21 38 ( emb.asmara@mfa.no , fax: +291 1 12 21 80). \\xa0 edit\\nUnited States of America, 179 Ala St, ☎ +291 1 12-00-04 ( usembassyasmara@state.gov; consularasmara@state.gov , fax: +291 1 12-75-84), [2] . Mon - Thu 8AM-6PM, Fri 8AM-noon. \\xa0 edit\\nGet out[ edit ]\\nTo leave Asmara to go anywhere else in the country you need a traveler\\'s permit which can be obtained from the Ministry of Immigration and Nationality opposite the Cathedral Compound on Harnet Av. downtown.\\nIf you intend to leave by Air, see the \"Getting In\" section. There are two domestic flight routes as of date and they go to the port cities of Massawa (half an hour\\'s flight and only 110 km northeast) and Assab at the southwest tip of the country by the borders of Djibouti and Ethiopia (an hour and half\\'s flight and nearly 1000 km away).\\nThere are roads heading in 4 directions from Asmara. At Asmara\\'s city limits on each of these roads, there are also military-police roadblocks (called \"blocco\" locally) where you will be checked for your ID and traveller\\'s permit. Always carry these or certified copies of these with you. The blocco for the road towards the coast is placed past the village of Durfo and is called \"blocco Batsi\" (Batsi is another name for Massawa). The blocco for the road heading west towards the country\\'s second largest town Keren and the western lowlands (bordering Sudan) is called \"blocco Keren\" and the blocco for the two roads heading south is called \"blocco Godaeif\" (Asmara\\'s southernmost suburb) which later divides at a fork with one road towards the southwestern highlands and the Mereb river border crossing (now closed) to Ethiopia and the other road towards the southeastern highlands and the \"Zalambessa\" border crossing to Ethiopia (closed). Besides the bloccos, there are also mobile and random checkpoints on the roads and both inside and outside the limits of nearly all towns and communities in Eritrea. So you will be asked more than once for your papers.\\nBuses are the main means of transport in Eritrea other than camelback or your own car.  Buses run to all main towns and villages from Asmara, some several times a day, others only once a day or a couple of times a week, requiring you to sleepover for one or more nights there or even on the way, before returning. Buses don\\'t run after dusk because of road safety (Eritrea is a very mountainous country). Fog and mist can severely delay traffic as well.\\nRenting a car or chartering a taxi is possible in Eritrea, but both cost about the same and are extremely expensive, as is the price of fuel. There is one narrow-gauge train line, from Asmara to Massawa, but it is driven by a slow steam-engine which only runs for chartered tours.',\n",
       "  \"Asmara Airport ~ Asmara International Airport ~ Asmara Airport Eritrea\\nAsmara Airport\\n<h1>Asmara Airport</h1>\\nFormerly known as Yohannes IV International Airport, Asmara International Airport is the airport serving the capital city of Eritrea, Asmara, although it is too small to serve many of the larger aircraft and airlines being restricted to just EgyptAir, Lufthansa, Nasair,                  Saudi Arabian Airlines, Sudan Airlines and Yemenia Airlines                  amongst others. The airport has a                  dual civilian and military function.\\nWhilst called an international airport, Asmara airport has                  the look and feel of a smaller, provincial airport, boasting                  just a short runway, cafe, bookshop and giftstore. Oh, and                  there's lots of marble covering most of the floor and wall                  space. Exact figures for its usage are not known, but it is                  believed to be used by around 150,000 travellers each year,                  around half of that of Durham Tees Valley Airport.\\n<h1>Asmara International Airport</h1>\",\n",
       "  'Asmara International Airport\\nAsmara International Airport\\nAirport serving the capital of Eritrea, formerly known as Yohannes IV International Airport\\nLocal time GMT (winter/summer):\\xa0+3/+3\\nGeographic coordinates:\\xa0 Latitude (15.29), Longitude (38.91)\\nIATA code:\\xa0ASM',\n",
       "  'Airports in Eritrea, Eritrea Airports Map\\nMassawa International Airport\\nFlights to Eritrea\\nFlights to Eritrea are managed by the many national and international airlines that function from the various airports of Eritrea. Like most African countries the flight infrastructure is not fully developed. Yet the progress in Eritrea is commendable and relatively better than in most other\\ndeveloping countries of Africa. The Flights to Eritrea though limited, do not compromise on the quality of service that they provide. Passengers are guaranteed satisfaction and safety, whichever flight they prefer to choose. Presently, the European cities connected to Eritrea by flights are Rome, Milan, Nairobi, Amsterdam and Frankfurt. Regular flights are fixed from these cities to Eritrea and also from Eritrea to these cities.\\nA major problem with the aviation industry in Africa is that not all-important African cities are interconnected by airways. Hence passengers are forced to travel to some European countries to take flights to the desired cities. The Eritrean Airlines is planning a solution to this problem by increasing the number of trans African flights to and from Eritrea. Presently the flights to Eritrea ferry passengers from the African cities of Nairobi and Khortam.\\nThe Flights to Eritrea can be booked on line and this gives clients special discounts. Also, cheap flights to Eritrea are availed on special occasions but this does not mean compromising on the quality of service.\\nEritrea Airline\\nEritrea Airlines is among the chief airlines that are functional in Eritrea, the other two being the Saudi Arabian Airlines and the Dallo Airlines. Airlines are the chief mode of transportation to Eritrea from overseas countries. There are three international airports, the Asmara Airport, the Massawa International Airport and the Assab International Airport. The Eritrean Airlines, though ordinary when compared to other international airlines, is a big achievement for the Eritrean people. The Eritrean Airlines has been doing a laudable job.\\nThe service of the Eritrea Airlines has set an example for all other Airlines, serving in the African continent as well as those outside. The service provided by the Eritrea Airlines when East African Air Safari was banned is an example of their sincere dedication and professionalism. The passengers who got stranded in Mombasa, Rome and Nairobi were rescued by this airline. Till today, the trans African airways are not entirely developed and traveling by air from one country to another might mean making a break journey via some European country. To cut down on this additional cost and time of clients, the Eritrea Airlines is working hard towards growing in the variety of air routes and number of flights.\\nEritrea Air Travel is by the far the best means of travel to the country from foreign countries. Though the air travel facility is in its nascent state of development, it has already made an international mark in serving passengers in the time of emergency. There are three airports that operate from the three most important cities of Eritrea. These are the Asmara International Airport, the Assab international airport and the Massawa International Airport. The Massawa is the latest among the airports and is in charge of the few domestic air routes in Eritrea. The regional flights of Eritrea also ferry passengers to Khortam and Nairobi.\\nThough presently, the trans African routes are not fully developed, talks are on for the same. Once developed, it would be a milestone in the aviation history of Africa, as very few African countries provide air travel to the important African cities. The international cities, which are now connected to Eritrea by air route, are Milan, Rome, Nairobi, Amsterdam and Frankfurt.\\nThe Eritrea Airlines is the leading among all the airlines operational from Eritrean airports. The others are Dallo Airlines, Saudi Arabian Airlines, Nasair, Lufthansa, Egypt Air, Ethiopian, Yemenia and the British Airways. Eritrea airtravel is the most preferred means of transport to the country.']}"
      ]
     },
     "execution_count": 12,
     "metadata": {},
     "output_type": "execute_result"
    }
   ],
   "source": [
    "row['search_results']"
   ]
  },
  {
   "cell_type": "code",
   "execution_count": 14,
   "metadata": {},
   "outputs": [
    {
     "name": "stdout",
     "output_type": "stream",
     "text": [
      "Asmara International Airport, formerly known as Yohannes IV International Airport , is the international airport of Asmara, the capital of Eritrea, and also the country's largest airport.\n",
      "\n",
      "History\n",
      "\n",
      "The airport was created by the Italian colonial authorities in 1922, the first such facility to be opened in Italian Eritrea. It served as the main military airport in the territory. In the mid-1930s, the airport (called Aeroporto Civile di Asmara) began offering civilian and commercial flights. \n",
      "\n",
      "On 7 July 1935, an agreement was signed with Brtitish \"Imperial Airways\" to connect Asmara to Khartoum. A regular Kassala-Khartoum-Asmara-Massawa 770 km commercial route was subsequently started with a Caproni 133 of the Italian Ala Littoria.  \n",
      "\n",
      "During World War II, the airport was nearly destroyed by the British. It was later renovated in the 1950s, and reopened to offer flights to Addis Ababa and other cities in Ethiopia. With Eritrea's independence in the 1990s, the airport became an international portal to the new nation. \n",
      "\n",
      "In April 2003, after improvements to the airport's runways, Eritrean Airlines started regular services between Asmara and Frankfurt, Milan, Nairobi and Rome. In 2004, it served 136,526 passengers (+11.8% vs. 2003).\n",
      "\n",
      "Facilities\n",
      "\n",
      "The airport has capacity restrictions due to its small terminal, short runway and 1.5-mile altitude. Consequently, large jet aircraft (like an A380, MD-11 or 747) cannot fly to the airport. Aircraft of this size would instead need to use the Massawa International Airport on the Eritrean coast.\n",
      "\n",
      "The airport is also an Eritrean Air Force base.\n",
      "\n",
      "Airlines and destinations\n"
     ]
    }
   ],
   "source": [
    "print(row['entity_pages']['wiki_context'][0])"
   ]
  },
  {
   "cell_type": "code",
   "execution_count": 20,
   "metadata": {},
   "outputs": [
    {
     "name": "stdout",
     "output_type": "stream",
     "text": [
      "The Tonton Macoute ()    or simply as the Macoute   was a special operations unit within the Haitian paramilitary force created in 1959 by dictator François \"Papa Doc\" Duvalier. In 1970 the militia was renamed the ' (Militia of National Security Volunteers or MVSN, perhaps named after the homonymous Italian Fascist paramilitary organisation).  Haitians named this force after the Haitian Creole mythological Tonton Macoute (Uncle Gunnysack) bogeyman, who kidnaps and punishes unruly children by snaring them in a gunny sack () and carrying them off to be consumed at breakfast.  \n",
      "\n",
      "Reign of terror\n",
      "\n",
      "After the July 1958 Haitian coup d'état attempt against President François Duvalier, he disbanded the army and all law enforcement agencies in Haiti and executed numerous officers. He created a paramilitary force in 1959, Milice de Volontaires de la Sécurité Nationale (Militia of National Security Volunteers or MVSN), two years after he became president, that answered only to him. He perceived a threat to his regime from the regular armed forces.\n",
      "\n",
      "Duvalier authorized the Tontons Macoutes to commit systematic violence and human rights abuses to suppress political opposition. They were responsible for unknown numbers of murders and rapes in Haiti. Political opponents often disappeared overnight, or were sometimes attacked in broad daylight. Tontons Macoutes stoned and burned people alive. Many times they put the corpses of their victims on display, often hung in trees for everyone to see and take as warnings against opposition. Family members who tried to remove the bodies for proper burial often disappeared themselves. Anyone who challenged the MVSN risked assassination. Their unrestrained state terrorism was accompanied by corruption, extortion and personal aggrandizement among the leadership. The victims of Tontons Macoutes could range from a woman in the poorest of neighborhoods who had previously supported an opposing politician to a businessman who refused to comply with extortion threats (ostensibly as donations for public works, but which were in fact the source of profit for corrupt officials and even President Duvalier). The Tontons Macoutes murdered between 30,000 and 60,000 Haitians. \n",
      "\n",
      "Luckner Cambronne led the Tonton Macoute throughout the 1960s and the beginning of the 1970s. His cruelty earned him the nickname \"Vampire of the Caribbean\". He profited by extortion carried out by his followers. In 1971, President Duvalier died and his widow Simone, and son Baby Doc Duvalier ordered Cambronne into exile. Cambronne moved to Miami, Florida where he lived until his death in 2006. \n",
      "\n",
      "Some of the most important members of the Tonton Macoute were Vodou leaders. This religious affiliation gave the Macoutes a kind of unearthly authority in the eyes of the public. From their methods to their choice of clothes, Vodou always played an important role in their actions. The Tontons Macoutes wore straw hats, blue denim shirts and dark glasses, and were armed with machetes and guns. Both their allusions to the supernatural and their physical presentations were used with the intention of instilling fear and respect.  \n",
      "\n",
      "The Tontons Macoutes were a ubiquitous presence at the polls in the 1961 election, in which Duvalier's official vote count was an \"outrageous\" and fraudulent , electing him to another term.  They appeared in force again at polls in 1964, when Duvalier held a rigged referendum that declared him President for Life.\n",
      "\n",
      "Legacy\n",
      "\n",
      "The Tontons Macoutes remained active even after the presidency of \"Papa Doc\" Duvalier's son Baby Doc Duvalier ended in 1986. Massacres led by paramilitary groups spawned from the Macoutes continued during the following decade. The most feared paramilitary group during the 1990s was the Front for the Advancement and Progress of Haïti (FRAPH), which Toronto Star journalist Linda Diebel described as modern Tontons Macoutes, and not the legitimate political party they claimed to be.\n",
      "\n",
      "Representation in other media\n",
      "\n",
      "* The Comedians  (1966) is about the struggle of a former hotel owner against the Tonton Macoute.\n",
      "* The Comedians (1967), adaptation of the book as a feature film, starring Richard Burton, Elizabeth Taylor, Peter Ustinov and Alec Guinness.\n",
      "*\"Heaven Knows (Robert Plant song)\" a song by Robert Plant on his album Now and Zen, references the Tonton Macoute. \n",
      "*The Serpent and the Rainbow (1988), a horror film directed by Wes Craven, loosely based on the book of the same name, deals with Haitian Vodou and Duvalierist political repression.\n",
      "* The Dew Breaker  (2004) is a novel by Edwidge Danticat that features the Tonton Macoute as important in the plot.\n",
      "* Prior to her solo career, Sinéad O'Connor sang in a band called  Macoute. \n",
      "\n",
      "This terror group is also mentioned in Season 1, Episode 9 of the popular television series \"Dexter.\" Within the episode, a former member of the Tonton Macoute is recognized and killed by a Miami police officer that formerly was part of the US special forces stationed in Haiti.\n"
     ]
    }
   ],
   "source": [
    "row = data_list[5]\n",
    "print(row['entity_pages']['wiki_context'][0])"
   ]
  },
  {
   "cell_type": "code",
   "execution_count": 21,
   "metadata": {},
   "outputs": [
    {
     "data": {
      "text/plain": [
       "{'aliases': [],\n",
       " 'normalized_aliases': [],\n",
       " 'matched_wiki_entity_name': '<unk>',\n",
       " 'normalized_matched_wiki_entity_name': '<unk>',\n",
       " 'normalized_value': '<unk>',\n",
       " 'type': '',\n",
       " 'value': '<unk>'}"
      ]
     },
     "execution_count": 21,
     "metadata": {},
     "output_type": "execute_result"
    }
   ],
   "source": [
    "row['answer']"
   ]
  },
  {
   "cell_type": "code",
   "execution_count": null,
   "metadata": {},
   "outputs": [],
   "source": []
  }
 ],
 "metadata": {
  "kernelspec": {
   "display_name": "bioinfo",
   "language": "python",
   "name": "python3"
  },
  "language_info": {
   "codemirror_mode": {
    "name": "ipython",
    "version": 3
   },
   "file_extension": ".py",
   "mimetype": "text/x-python",
   "name": "python",
   "nbconvert_exporter": "python",
   "pygments_lexer": "ipython3",
   "version": "3.12.3"
  }
 },
 "nbformat": 4,
 "nbformat_minor": 2
}
