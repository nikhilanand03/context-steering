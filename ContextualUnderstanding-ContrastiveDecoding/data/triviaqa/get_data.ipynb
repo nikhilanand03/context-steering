{
 "cells": [
  {
   "cell_type": "code",
   "execution_count": 20,
   "metadata": {},
   "outputs": [],
   "source": [
    "from datasets import load_dataset\n",
    "\n",
    "dataset = load_dataset(\"trivia_qa\", \"rc\", split=\"validation\")"
   ]
  },
  {
   "cell_type": "code",
   "execution_count": 21,
   "metadata": {},
   "outputs": [
    {
     "data": {
      "text/plain": [
       "17944"
      ]
     },
     "execution_count": 21,
     "metadata": {},
     "output_type": "execute_result"
    }
   ],
   "source": [
    "len(dataset)"
   ]
  },
  {
   "cell_type": "code",
   "execution_count": 22,
   "metadata": {},
   "outputs": [
    {
     "data": {
      "text/plain": [
       "Dataset({\n",
       "    features: ['question', 'question_id', 'question_source', 'entity_pages', 'search_results', 'answer'],\n",
       "    num_rows: 17944\n",
       "})"
      ]
     },
     "execution_count": 22,
     "metadata": {},
     "output_type": "execute_result"
    }
   ],
   "source": [
    "dataset"
   ]
  },
  {
   "cell_type": "code",
   "execution_count": 23,
   "metadata": {},
   "outputs": [
    {
     "name": "stdout",
     "output_type": "stream",
     "text": [
      "Dataset saved to triviaqa_val.json\n"
     ]
    }
   ],
   "source": [
    "import json\n",
    "\n",
    "data_list = [dict(row) for row in dataset]\n",
    "\n",
    "with open(\"triviaqa_val.json\", \"w\") as json_file:\n",
    "    json.dump(data_list, json_file, indent=4)\n",
    "\n",
    "print(\"Dataset saved to triviaqa_val.json\")"
   ]
  },
  {
   "cell_type": "code",
   "execution_count": 24,
   "metadata": {},
   "outputs": [
    {
     "name": "stdout",
     "output_type": "stream",
     "text": [
      "{'question': 'Who was the man behind The Chipmunks?', 'question_id': 'tc_2', 'question_source': 'http://www.triviacountry.com/', 'entity_pages': {'doc_source': [], 'filename': [], 'title': [], 'wiki_context': []}, 'search_results': {'description': ['A struggling songwriter named Dave Seville finds success when he comes across a trio of singing chipmunks: ... Title: Alvin and the Chipmunks (2007) ...', \"The man who brought the Chipmunks to life, ... Five more Chipmunks singles charted in the early '60s, ... See Behind-the-Scenes Rehearsal Photos of Fox's 'The Passion'\"], 'filename': ['61/61_97.txt', '10/10_99.txt'], 'rank': [4, 6], 'title': ['Alvin and the Chipmunks (2007) - IMDb', 'The Chipmunks - Biography | Billboard'], 'url': ['http://www.imdb.com/title/tt0952640/', 'http://www.billboard.com/artist/393411/chipmunks/biography'], 'search_context': ['Alvin and the Chipmunks (2007) - IMDb\\nIMDb\\n17 January 2017 4:34 PM, UTC\\nNEWS\\nThere was an error trying to load your rating for this title.\\nSome parts of this page won\\'t work property. Please reload or try later.\\nX Beta I\\'m Watching This!\\nKeep track of everything you watch; tell your friends.\\nError\\nAlvin and the Chipmunks\\xa0( 2007 )\\nPG |\\nA struggling songwriter named Dave Seville finds success when he comes across a trio of singing chipmunks: mischievous leader Alvin, brainy Simon, and chubby, impressionable Theodore.\\nDirector:\\nFrom $2.99 (SD) on Amazon Video\\nON\\xa0TV\\nUser Lists\\nRelated lists from IMDb users\\na list of 43 titles\\ncreated 01\\xa0Apr\\xa02012\\na list of 38 titles\\ncreated 09\\xa0May\\xa02012\\na list of 48 titles\\ncreated 20\\xa0Oct\\xa02012\\na list of 23 titles\\ncreated 06\\xa0Mar\\xa02013\\na list of 42 titles\\ncreated 30\\xa0Dec\\xa02015\\nTitle: Alvin and the Chipmunks (2007)\\n5.2/10\\nWant to share IMDb\\'s rating on your own site? Use the HTML below.\\nYou must be a registered user to use the IMDb rating plugin.\\n2 wins & 2 nominations. See more awards \\xa0»\\nVideos\\nThe world famous singing pre-teen chipmunk trio return to contend with the pressures of school, celebrity, and a rival female music group known as The Chipettes.\\nDirector: Betty Thomas\\nPlaying around while aboard a cruise ship, the Chipmunks and Chipettes accidentally go overboard and end up marooned in a tropical paradise. They discover their new turf is not as deserted as it seems.\\nDirector: Mike Mitchell\\n\\xa0 \\xa0 1 2 3 4 5 6 7 8 9 10 5.1/10 X \\xa0\\nThrough a series of misunderstandings, Alvin, Simon and Theodore come to believe that Dave is going to propose to his new girlfriend in Miami...and dump them. They have three days to get to him and stop the proposal, saving themselves not only from losing Dave but possibly from gaining a terrible stepbrother.\\nDirector: Walt Becker\\nWhen the evil wizard Gargamel chases the tiny blue Smurfs out of their village, they tumble from their magical world into New York City.\\nDirector: Raja Gosnell\\nJon Arbuckle buys a second pet, a dog named Odie. However, Odie is then abducted and it is up to Jon\\'s cat, Garfield, to find and rescue the canine.\\nDirector: Peter Hewitt\\nJon and Garfield visit the United Kingdom, where a case of mistaken cat identity finds Garfield ruling over a castle. His reign is soon jeopardized by the nefarious Lord Dargis, who has designs on the estate.\\nDirector: Tim Hill\\nThe Smurfs team up with their human friends to rescue Smurfette, who has been kidnapped by Gargamel since she knows a secret spell that can turn the evil sorcerer\\'s newest creation - creatures called the Naughties - into real Smurfs.\\nDirector: Raja Gosnell\\nStuart and Snowbell set out across town to rescue a friend.\\nDirector: Rob Minkoff\\nThe Little family adopt a charming young mouse named Stuart, but the family cat wants rid of him.\\nDirector: Rob Minkoff\\n\\xa0 \\xa0 1 2 3 4 5 6 7 8 9 10 6.2/10 X \\xa0\\nBoog, a domesticated 900lb. Grizzly bear, finds himself stranded in the woods 3 days before Open Season. Forced to rely on Elliot, a fast-talking mule deer, the two form an unlikely friendship and must quickly rally other forest animals if they are to form a rag-tag army against the hunters.\\nDirectors: Roger Allers, Jill Culton, and 1 more credit \\xa0»\\nStars: Ashton Kutcher,  Martin Lawrence,  Debra Messing\\n\\xa0 \\xa0 1 2 3 4 5 6 7 8 9 10 6.2/10 X \\xa0\\nBarry B. Benson, a bee just graduated from college, is disillusioned at his lone career choice: making honey. On a special trip outside the hive, Barry\\'s life is saved by Vanessa, a florist in New York City. As their relationship blossoms, he discovers humans actually eat honey, and subsequently decides to sue them.\\nDirectors: Steve Hickner, Simon J. Smith\\nStars: Jerry Seinfeld,  Renée Zellweger,  Matthew Broderick\\nE.B., the Easter Bunny\\'s teenage son, heads to Hollywood, determined to become a drummer in a rock \\'n\\' roll band. In LA, he\\'s taken in by Fred after the out-of-work slacker hits E.B. with his car.\\nDirector: Tim Hill\\nEdit\\nStoryline\\nIn a tree farm, three musically inclined chipmunks, Alvin, Simon and Theodore, find their tree cut down and sent to Los Angeles. Once there, they meet the frustrated songwriter David Seville, and despite a poor house wrecking first impression, they impress him with their singing talent. Seeing the opportunity for success, both human and chipmunks make a pact for them to sing his songs. While that ambition proves a frustrating struggle with the difficult trio, the dream does come true after all. However, that success presents its own trials as their unscrupulous record executive, Ian Hawke, plans to break up this family to exploit the boys. Can Dave and the Chipmunks discover what they really value amid the superficial glamor around them? Written by Kenneth Chisholm (kchishol@rogers.com)\\nThe Last Man Home.......Is Not Alone. See more \\xa0»\\nGenres:\\nRated PG for some mild rude humor | See all certifications \\xa0»\\nParents Guide:\\n14 December 2007 (USA) See more \\xa0»\\nAlso Known As:\\nAlvin y las ardillas See more \\xa0»\\nFilming Locations:\\n$44,307,417                (USA) (14 December 2007)\\nGross:\\nDid You Know?\\nTrivia\\nDavid Seville was a stage name of Ross Bagdasarian , and his son was originally supposed to portray the character in the film. He took the name \"Seville\" from the area in Spain, where he had done military service. See more »\\nGoofs\\nWhen Dave is late for work and almost forgets his pants, his old Pro Stereo skateboard is against the wall to the left of the front door. When he returns from his meeting, the board is to the right of the door and leaning in the corner. See more »\\nQuotes\\n[first lines]\\nAlvin (singing voice),\\xa0Simon (singing voice),\\xa0Theodore (singing voice): [a capella] Where is the moment we needed the most/You kick up the leaves and the magic is lost/They tell me your blue skies fade to gray/They tell me your passion\\'s gone away/And I don\\'t need no carryin\\' on/Cause you had a bad day/You\\'re taking one down/You sing a sad song just to turn it around/You say you don\\'t know/You tell me don\\'t lie/You work at a smile and you go for a ride/You had a bad day/You\\'ve seen what you like/And how does it feel for one more time/You had a bad day/...\\n[...]\\nSee more »\\nCrazy Credits\\nIn the end credits, there is a disclaimer that says \\'No chipmunks were harmed during the filming of this movie.\\' See more »\\nConnections\\nArranged by and Performed by Daniel May\\nCourtesy of Marc Ferrari/Mastersource Music Catalog\\n(Memphis, Tennessee) – See all my reviews\\n(Synopsis) Three chipmunk brothers, Alvin, Simon, and Theodore are living their lives in the forest storing nuts away for the winter when one day their tree is cut down and carried off into the city to become a Christmas tree. They must find a new home and they end up at Dave\\'s house. The only thing that makes them different is that they can talk and even sing. Dave Seville (Jason Lee) is a struggling song writer who has a great idea about making the chipmunks a new show act, singing his songs. The only thing is that you must remember is that they are chipmunks and they act like chipmunks by tearing up Dave\\'s house and interrupting his love life. However, they also begin to bond as a family with Dave becoming like a Dad. The chipmunks become a big hit and superstars with cute voices and fancy dance moves. The record company executive Ian (David Cross) sees big money in his future and takes over the act and pushes Dave to the side. Dave must try to save his little family before they becomes a show biz disaster.\\n(My Comment) I enjoyed this movie because it brought back good memories. I can\\'t believe that their first song was recorded 50 years ago. They have that certain sound that just makes you smile when you hear them. You recognize their sound immediately. The animated characters of Alvin, Simon, and Theodore are lovable now as they were 50 years ago. I always liked it when Dave would scream the name of \"Aaaaalviiiiiiiinnnnnnnnnnn!!!\" and Alvin would say \"OooooK!!!\" Those two words just make you smile. Children of all ages can see this movie without any problem. I am sure that all the parents will like it, and I know your child will, because it is a fun movie. (20th Century Fox, Run Time 1:30, Rated PG) (8/10)\\n67 of 110 people found this review helpful.\\xa0 Was this review helpful to you?\\nYes', 'The Chipmunks - Biography | Billboard\\nThe Chipmunks\\nAlvin Simon Theodore Ross Bagdasarian David Seville\\nPossibly the most popular TV and musical cartoon of all time, the Chipmunks enjoyed several periods of prosperity -- beginning with the \\'60s era of adolescent Baby Boomers, cresting in the \\'80s, when the Boomers\\' children were growing up, and riding the wave clear into the new millennium.\\nThe man who brought the Chipmunks to life, Ross Bagdasarian, was born on January 27, 1919, in Fresno, California. He came to Los Angeles in 1950, and appeared in the films Viva Zapata, Stalag 17, and Rear Window. Bagdasarian also worked as a songwriter, reaching the charts first in 1956, as his production of Alfi & Harry\\'s \"The Trouble with Harry\" hit number 44. He later charted two solo singles (recorded as David Seville), \"Armen\\'s Theme\" and \"Gotta Get to Your House.\" In 1958, Bagdasarian began experimenting with a novel technique -- recording normal vocals but then speeding up the playback on a tape machine. The process yielded the number one hit \"Witch Doctor\" in early 1958, and the phenomenon mushroomed later that year when his Christmas gimmick single \"The Chipmunk Song\" spent four weeks at the top of the charts. \"Alvin\\'s Harmonica\" reached number three just two months later, and Christmas reissues of \"The Chipmunk Song\" charted in the Top 40 over the next four years. The Alvin Show premiered on prime-time television in 1961, with all voices supplied by Bagdasarian. It only ran for one year, but was a success in a Saturday-morning slot. Five more Chipmunks singles charted in the early \\'60s, and five LPs also did well, including a Beatles cover album in 1964.\\nAlthough Bagdasarian died in 1972, his son Ross Jr. revived Alvin, Simon, and Theodore in 1979 on Saturday mornings and on the 1980 album Chipmunk Punk. The series became more popular than in the \\'60s, and albums of the Chipmunks singing country, Christmas, rock, and Hollywood favorites were big sellers, though they didn\\'t enjoy chart success. Although the cartoon was no longer in production by the \\'90s, new Chipmunks records continued appearing, among them 1998\\'s A-Files: Alien Files.\\nIn 2007, a film series debuted with Alvin and the Chipmunks -- the first being so successful that it spawned three sequels: 2009\\'s Alvin and the Chipmunks: The Squeakquel, 2011\\'s Alvin and the Chipmunks: Chipwrecked, and 2015\\'s Alvin and the Chipmunks 4. A revival of the TV series was also planned to premiere on Nickelodeon in early 2015. ~ John Bush, Rovi\\nRelated Artists']}, 'answer': {'aliases': ['David Seville'], 'normalized_aliases': ['david seville'], 'matched_wiki_entity_name': '', 'normalized_matched_wiki_entity_name': '', 'normalized_value': 'david seville', 'type': 'WikipediaEntity', 'value': 'David Seville'}}\n"
     ]
    }
   ],
   "source": [
    "with open(\"triviaqa_val.json\",'r') as f:\n",
    "    row = json.load(f)[0]\n",
    "    print(row)"
   ]
  },
  {
   "cell_type": "code",
   "execution_count": 25,
   "metadata": {},
   "outputs": [
    {
     "data": {
      "text/plain": [
       "dict_keys(['question', 'question_id', 'question_source', 'entity_pages', 'search_results', 'answer'])"
      ]
     },
     "execution_count": 25,
     "metadata": {},
     "output_type": "execute_result"
    }
   ],
   "source": [
    "row.keys()"
   ]
  },
  {
   "cell_type": "code",
   "execution_count": 26,
   "metadata": {},
   "outputs": [
    {
     "data": {
      "text/plain": [
       "'Who was the man behind The Chipmunks?'"
      ]
     },
     "execution_count": 26,
     "metadata": {},
     "output_type": "execute_result"
    }
   ],
   "source": [
    "row['question']"
   ]
  },
  {
   "cell_type": "code",
   "execution_count": 27,
   "metadata": {},
   "outputs": [
    {
     "data": {
      "text/plain": [
       "'tc_2'"
      ]
     },
     "execution_count": 27,
     "metadata": {},
     "output_type": "execute_result"
    }
   ],
   "source": [
    "row['question_id']"
   ]
  },
  {
   "cell_type": "code",
   "execution_count": 28,
   "metadata": {},
   "outputs": [
    {
     "data": {
      "text/plain": [
       "'http://www.triviacountry.com/'"
      ]
     },
     "execution_count": 28,
     "metadata": {},
     "output_type": "execute_result"
    }
   ],
   "source": [
    "row['question_source']"
   ]
  },
  {
   "cell_type": "code",
   "execution_count": 29,
   "metadata": {},
   "outputs": [
    {
     "data": {
      "text/plain": [
       "{'doc_source': [], 'filename': [], 'title': [], 'wiki_context': []}"
      ]
     },
     "execution_count": 29,
     "metadata": {},
     "output_type": "execute_result"
    }
   ],
   "source": [
    "row['entity_pages']"
   ]
  },
  {
   "cell_type": "code",
   "execution_count": 30,
   "metadata": {},
   "outputs": [
    {
     "data": {
      "text/plain": [
       "{'description': ['A struggling songwriter named Dave Seville finds success when he comes across a trio of singing chipmunks: ... Title: Alvin and the Chipmunks (2007) ...',\n",
       "  \"The man who brought the Chipmunks to life, ... Five more Chipmunks singles charted in the early '60s, ... See Behind-the-Scenes Rehearsal Photos of Fox's 'The Passion'\"],\n",
       " 'filename': ['61/61_97.txt', '10/10_99.txt'],\n",
       " 'rank': [4, 6],\n",
       " 'title': ['Alvin and the Chipmunks (2007) - IMDb',\n",
       "  'The Chipmunks - Biography | Billboard'],\n",
       " 'url': ['http://www.imdb.com/title/tt0952640/',\n",
       "  'http://www.billboard.com/artist/393411/chipmunks/biography'],\n",
       " 'search_context': ['Alvin and the Chipmunks (2007) - IMDb\\nIMDb\\n17 January 2017 4:34 PM, UTC\\nNEWS\\nThere was an error trying to load your rating for this title.\\nSome parts of this page won\\'t work property. Please reload or try later.\\nX Beta I\\'m Watching This!\\nKeep track of everything you watch; tell your friends.\\nError\\nAlvin and the Chipmunks\\xa0( 2007 )\\nPG |\\nA struggling songwriter named Dave Seville finds success when he comes across a trio of singing chipmunks: mischievous leader Alvin, brainy Simon, and chubby, impressionable Theodore.\\nDirector:\\nFrom $2.99 (SD) on Amazon Video\\nON\\xa0TV\\nUser Lists\\nRelated lists from IMDb users\\na list of 43 titles\\ncreated 01\\xa0Apr\\xa02012\\na list of 38 titles\\ncreated 09\\xa0May\\xa02012\\na list of 48 titles\\ncreated 20\\xa0Oct\\xa02012\\na list of 23 titles\\ncreated 06\\xa0Mar\\xa02013\\na list of 42 titles\\ncreated 30\\xa0Dec\\xa02015\\nTitle: Alvin and the Chipmunks (2007)\\n5.2/10\\nWant to share IMDb\\'s rating on your own site? Use the HTML below.\\nYou must be a registered user to use the IMDb rating plugin.\\n2 wins & 2 nominations. See more awards \\xa0»\\nVideos\\nThe world famous singing pre-teen chipmunk trio return to contend with the pressures of school, celebrity, and a rival female music group known as The Chipettes.\\nDirector: Betty Thomas\\nPlaying around while aboard a cruise ship, the Chipmunks and Chipettes accidentally go overboard and end up marooned in a tropical paradise. They discover their new turf is not as deserted as it seems.\\nDirector: Mike Mitchell\\n\\xa0 \\xa0 1 2 3 4 5 6 7 8 9 10 5.1/10 X \\xa0\\nThrough a series of misunderstandings, Alvin, Simon and Theodore come to believe that Dave is going to propose to his new girlfriend in Miami...and dump them. They have three days to get to him and stop the proposal, saving themselves not only from losing Dave but possibly from gaining a terrible stepbrother.\\nDirector: Walt Becker\\nWhen the evil wizard Gargamel chases the tiny blue Smurfs out of their village, they tumble from their magical world into New York City.\\nDirector: Raja Gosnell\\nJon Arbuckle buys a second pet, a dog named Odie. However, Odie is then abducted and it is up to Jon\\'s cat, Garfield, to find and rescue the canine.\\nDirector: Peter Hewitt\\nJon and Garfield visit the United Kingdom, where a case of mistaken cat identity finds Garfield ruling over a castle. His reign is soon jeopardized by the nefarious Lord Dargis, who has designs on the estate.\\nDirector: Tim Hill\\nThe Smurfs team up with their human friends to rescue Smurfette, who has been kidnapped by Gargamel since she knows a secret spell that can turn the evil sorcerer\\'s newest creation - creatures called the Naughties - into real Smurfs.\\nDirector: Raja Gosnell\\nStuart and Snowbell set out across town to rescue a friend.\\nDirector: Rob Minkoff\\nThe Little family adopt a charming young mouse named Stuart, but the family cat wants rid of him.\\nDirector: Rob Minkoff\\n\\xa0 \\xa0 1 2 3 4 5 6 7 8 9 10 6.2/10 X \\xa0\\nBoog, a domesticated 900lb. Grizzly bear, finds himself stranded in the woods 3 days before Open Season. Forced to rely on Elliot, a fast-talking mule deer, the two form an unlikely friendship and must quickly rally other forest animals if they are to form a rag-tag army against the hunters.\\nDirectors: Roger Allers, Jill Culton, and 1 more credit \\xa0»\\nStars: Ashton Kutcher,  Martin Lawrence,  Debra Messing\\n\\xa0 \\xa0 1 2 3 4 5 6 7 8 9 10 6.2/10 X \\xa0\\nBarry B. Benson, a bee just graduated from college, is disillusioned at his lone career choice: making honey. On a special trip outside the hive, Barry\\'s life is saved by Vanessa, a florist in New York City. As their relationship blossoms, he discovers humans actually eat honey, and subsequently decides to sue them.\\nDirectors: Steve Hickner, Simon J. Smith\\nStars: Jerry Seinfeld,  Renée Zellweger,  Matthew Broderick\\nE.B., the Easter Bunny\\'s teenage son, heads to Hollywood, determined to become a drummer in a rock \\'n\\' roll band. In LA, he\\'s taken in by Fred after the out-of-work slacker hits E.B. with his car.\\nDirector: Tim Hill\\nEdit\\nStoryline\\nIn a tree farm, three musically inclined chipmunks, Alvin, Simon and Theodore, find their tree cut down and sent to Los Angeles. Once there, they meet the frustrated songwriter David Seville, and despite a poor house wrecking first impression, they impress him with their singing talent. Seeing the opportunity for success, both human and chipmunks make a pact for them to sing his songs. While that ambition proves a frustrating struggle with the difficult trio, the dream does come true after all. However, that success presents its own trials as their unscrupulous record executive, Ian Hawke, plans to break up this family to exploit the boys. Can Dave and the Chipmunks discover what they really value amid the superficial glamor around them? Written by Kenneth Chisholm (kchishol@rogers.com)\\nThe Last Man Home.......Is Not Alone. See more \\xa0»\\nGenres:\\nRated PG for some mild rude humor | See all certifications \\xa0»\\nParents Guide:\\n14 December 2007 (USA) See more \\xa0»\\nAlso Known As:\\nAlvin y las ardillas See more \\xa0»\\nFilming Locations:\\n$44,307,417                (USA) (14 December 2007)\\nGross:\\nDid You Know?\\nTrivia\\nDavid Seville was a stage name of Ross Bagdasarian , and his son was originally supposed to portray the character in the film. He took the name \"Seville\" from the area in Spain, where he had done military service. See more »\\nGoofs\\nWhen Dave is late for work and almost forgets his pants, his old Pro Stereo skateboard is against the wall to the left of the front door. When he returns from his meeting, the board is to the right of the door and leaning in the corner. See more »\\nQuotes\\n[first lines]\\nAlvin (singing voice),\\xa0Simon (singing voice),\\xa0Theodore (singing voice): [a capella] Where is the moment we needed the most/You kick up the leaves and the magic is lost/They tell me your blue skies fade to gray/They tell me your passion\\'s gone away/And I don\\'t need no carryin\\' on/Cause you had a bad day/You\\'re taking one down/You sing a sad song just to turn it around/You say you don\\'t know/You tell me don\\'t lie/You work at a smile and you go for a ride/You had a bad day/You\\'ve seen what you like/And how does it feel for one more time/You had a bad day/...\\n[...]\\nSee more »\\nCrazy Credits\\nIn the end credits, there is a disclaimer that says \\'No chipmunks were harmed during the filming of this movie.\\' See more »\\nConnections\\nArranged by and Performed by Daniel May\\nCourtesy of Marc Ferrari/Mastersource Music Catalog\\n(Memphis, Tennessee) – See all my reviews\\n(Synopsis) Three chipmunk brothers, Alvin, Simon, and Theodore are living their lives in the forest storing nuts away for the winter when one day their tree is cut down and carried off into the city to become a Christmas tree. They must find a new home and they end up at Dave\\'s house. The only thing that makes them different is that they can talk and even sing. Dave Seville (Jason Lee) is a struggling song writer who has a great idea about making the chipmunks a new show act, singing his songs. The only thing is that you must remember is that they are chipmunks and they act like chipmunks by tearing up Dave\\'s house and interrupting his love life. However, they also begin to bond as a family with Dave becoming like a Dad. The chipmunks become a big hit and superstars with cute voices and fancy dance moves. The record company executive Ian (David Cross) sees big money in his future and takes over the act and pushes Dave to the side. Dave must try to save his little family before they becomes a show biz disaster.\\n(My Comment) I enjoyed this movie because it brought back good memories. I can\\'t believe that their first song was recorded 50 years ago. They have that certain sound that just makes you smile when you hear them. You recognize their sound immediately. The animated characters of Alvin, Simon, and Theodore are lovable now as they were 50 years ago. I always liked it when Dave would scream the name of \"Aaaaalviiiiiiiinnnnnnnnnnn!!!\" and Alvin would say \"OooooK!!!\" Those two words just make you smile. Children of all ages can see this movie without any problem. I am sure that all the parents will like it, and I know your child will, because it is a fun movie. (20th Century Fox, Run Time 1:30, Rated PG) (8/10)\\n67 of 110 people found this review helpful.\\xa0 Was this review helpful to you?\\nYes',\n",
       "  'The Chipmunks - Biography | Billboard\\nThe Chipmunks\\nAlvin Simon Theodore Ross Bagdasarian David Seville\\nPossibly the most popular TV and musical cartoon of all time, the Chipmunks enjoyed several periods of prosperity -- beginning with the \\'60s era of adolescent Baby Boomers, cresting in the \\'80s, when the Boomers\\' children were growing up, and riding the wave clear into the new millennium.\\nThe man who brought the Chipmunks to life, Ross Bagdasarian, was born on January 27, 1919, in Fresno, California. He came to Los Angeles in 1950, and appeared in the films Viva Zapata, Stalag 17, and Rear Window. Bagdasarian also worked as a songwriter, reaching the charts first in 1956, as his production of Alfi & Harry\\'s \"The Trouble with Harry\" hit number 44. He later charted two solo singles (recorded as David Seville), \"Armen\\'s Theme\" and \"Gotta Get to Your House.\" In 1958, Bagdasarian began experimenting with a novel technique -- recording normal vocals but then speeding up the playback on a tape machine. The process yielded the number one hit \"Witch Doctor\" in early 1958, and the phenomenon mushroomed later that year when his Christmas gimmick single \"The Chipmunk Song\" spent four weeks at the top of the charts. \"Alvin\\'s Harmonica\" reached number three just two months later, and Christmas reissues of \"The Chipmunk Song\" charted in the Top 40 over the next four years. The Alvin Show premiered on prime-time television in 1961, with all voices supplied by Bagdasarian. It only ran for one year, but was a success in a Saturday-morning slot. Five more Chipmunks singles charted in the early \\'60s, and five LPs also did well, including a Beatles cover album in 1964.\\nAlthough Bagdasarian died in 1972, his son Ross Jr. revived Alvin, Simon, and Theodore in 1979 on Saturday mornings and on the 1980 album Chipmunk Punk. The series became more popular than in the \\'60s, and albums of the Chipmunks singing country, Christmas, rock, and Hollywood favorites were big sellers, though they didn\\'t enjoy chart success. Although the cartoon was no longer in production by the \\'90s, new Chipmunks records continued appearing, among them 1998\\'s A-Files: Alien Files.\\nIn 2007, a film series debuted with Alvin and the Chipmunks -- the first being so successful that it spawned three sequels: 2009\\'s Alvin and the Chipmunks: The Squeakquel, 2011\\'s Alvin and the Chipmunks: Chipwrecked, and 2015\\'s Alvin and the Chipmunks 4. A revival of the TV series was also planned to premiere on Nickelodeon in early 2015. ~ John Bush, Rovi\\nRelated Artists']}"
      ]
     },
     "execution_count": 30,
     "metadata": {},
     "output_type": "execute_result"
    }
   ],
   "source": [
    "row['search_results']"
   ]
  },
  {
   "cell_type": "code",
   "execution_count": 31,
   "metadata": {},
   "outputs": [
    {
     "data": {
      "text/plain": [
       "True"
      ]
     },
     "execution_count": 31,
     "metadata": {},
     "output_type": "execute_result"
    }
   ],
   "source": [
    "len(row['search_results']['search_context'])==len(row['search_results']['title'])"
   ]
  },
  {
   "cell_type": "code",
   "execution_count": 32,
   "metadata": {},
   "outputs": [
    {
     "data": {
      "text/plain": [
       "['Alvin and the Chipmunks (2007) - IMDb\\nIMDb\\n17 January 2017 4:34 PM, UTC\\nNEWS\\nThere was an error trying to load your rating for this title.\\nSome parts of this page won\\'t work property. Please reload or try later.\\nX Beta I\\'m Watching This!\\nKeep track of everything you watch; tell your friends.\\nError\\nAlvin and the Chipmunks\\xa0( 2007 )\\nPG |\\nA struggling songwriter named Dave Seville finds success when he comes across a trio of singing chipmunks: mischievous leader Alvin, brainy Simon, and chubby, impressionable Theodore.\\nDirector:\\nFrom $2.99 (SD) on Amazon Video\\nON\\xa0TV\\nUser Lists\\nRelated lists from IMDb users\\na list of 43 titles\\ncreated 01\\xa0Apr\\xa02012\\na list of 38 titles\\ncreated 09\\xa0May\\xa02012\\na list of 48 titles\\ncreated 20\\xa0Oct\\xa02012\\na list of 23 titles\\ncreated 06\\xa0Mar\\xa02013\\na list of 42 titles\\ncreated 30\\xa0Dec\\xa02015\\nTitle: Alvin and the Chipmunks (2007)\\n5.2/10\\nWant to share IMDb\\'s rating on your own site? Use the HTML below.\\nYou must be a registered user to use the IMDb rating plugin.\\n2 wins & 2 nominations. See more awards \\xa0»\\nVideos\\nThe world famous singing pre-teen chipmunk trio return to contend with the pressures of school, celebrity, and a rival female music group known as The Chipettes.\\nDirector: Betty Thomas\\nPlaying around while aboard a cruise ship, the Chipmunks and Chipettes accidentally go overboard and end up marooned in a tropical paradise. They discover their new turf is not as deserted as it seems.\\nDirector: Mike Mitchell\\n\\xa0 \\xa0 1 2 3 4 5 6 7 8 9 10 5.1/10 X \\xa0\\nThrough a series of misunderstandings, Alvin, Simon and Theodore come to believe that Dave is going to propose to his new girlfriend in Miami...and dump them. They have three days to get to him and stop the proposal, saving themselves not only from losing Dave but possibly from gaining a terrible stepbrother.\\nDirector: Walt Becker\\nWhen the evil wizard Gargamel chases the tiny blue Smurfs out of their village, they tumble from their magical world into New York City.\\nDirector: Raja Gosnell\\nJon Arbuckle buys a second pet, a dog named Odie. However, Odie is then abducted and it is up to Jon\\'s cat, Garfield, to find and rescue the canine.\\nDirector: Peter Hewitt\\nJon and Garfield visit the United Kingdom, where a case of mistaken cat identity finds Garfield ruling over a castle. His reign is soon jeopardized by the nefarious Lord Dargis, who has designs on the estate.\\nDirector: Tim Hill\\nThe Smurfs team up with their human friends to rescue Smurfette, who has been kidnapped by Gargamel since she knows a secret spell that can turn the evil sorcerer\\'s newest creation - creatures called the Naughties - into real Smurfs.\\nDirector: Raja Gosnell\\nStuart and Snowbell set out across town to rescue a friend.\\nDirector: Rob Minkoff\\nThe Little family adopt a charming young mouse named Stuart, but the family cat wants rid of him.\\nDirector: Rob Minkoff\\n\\xa0 \\xa0 1 2 3 4 5 6 7 8 9 10 6.2/10 X \\xa0\\nBoog, a domesticated 900lb. Grizzly bear, finds himself stranded in the woods 3 days before Open Season. Forced to rely on Elliot, a fast-talking mule deer, the two form an unlikely friendship and must quickly rally other forest animals if they are to form a rag-tag army against the hunters.\\nDirectors: Roger Allers, Jill Culton, and 1 more credit \\xa0»\\nStars: Ashton Kutcher,  Martin Lawrence,  Debra Messing\\n\\xa0 \\xa0 1 2 3 4 5 6 7 8 9 10 6.2/10 X \\xa0\\nBarry B. Benson, a bee just graduated from college, is disillusioned at his lone career choice: making honey. On a special trip outside the hive, Barry\\'s life is saved by Vanessa, a florist in New York City. As their relationship blossoms, he discovers humans actually eat honey, and subsequently decides to sue them.\\nDirectors: Steve Hickner, Simon J. Smith\\nStars: Jerry Seinfeld,  Renée Zellweger,  Matthew Broderick\\nE.B., the Easter Bunny\\'s teenage son, heads to Hollywood, determined to become a drummer in a rock \\'n\\' roll band. In LA, he\\'s taken in by Fred after the out-of-work slacker hits E.B. with his car.\\nDirector: Tim Hill\\nEdit\\nStoryline\\nIn a tree farm, three musically inclined chipmunks, Alvin, Simon and Theodore, find their tree cut down and sent to Los Angeles. Once there, they meet the frustrated songwriter David Seville, and despite a poor house wrecking first impression, they impress him with their singing talent. Seeing the opportunity for success, both human and chipmunks make a pact for them to sing his songs. While that ambition proves a frustrating struggle with the difficult trio, the dream does come true after all. However, that success presents its own trials as their unscrupulous record executive, Ian Hawke, plans to break up this family to exploit the boys. Can Dave and the Chipmunks discover what they really value amid the superficial glamor around them? Written by Kenneth Chisholm (kchishol@rogers.com)\\nThe Last Man Home.......Is Not Alone. See more \\xa0»\\nGenres:\\nRated PG for some mild rude humor | See all certifications \\xa0»\\nParents Guide:\\n14 December 2007 (USA) See more \\xa0»\\nAlso Known As:\\nAlvin y las ardillas See more \\xa0»\\nFilming Locations:\\n$44,307,417                (USA) (14 December 2007)\\nGross:\\nDid You Know?\\nTrivia\\nDavid Seville was a stage name of Ross Bagdasarian , and his son was originally supposed to portray the character in the film. He took the name \"Seville\" from the area in Spain, where he had done military service. See more »\\nGoofs\\nWhen Dave is late for work and almost forgets his pants, his old Pro Stereo skateboard is against the wall to the left of the front door. When he returns from his meeting, the board is to the right of the door and leaning in the corner. See more »\\nQuotes\\n[first lines]\\nAlvin (singing voice),\\xa0Simon (singing voice),\\xa0Theodore (singing voice): [a capella] Where is the moment we needed the most/You kick up the leaves and the magic is lost/They tell me your blue skies fade to gray/They tell me your passion\\'s gone away/And I don\\'t need no carryin\\' on/Cause you had a bad day/You\\'re taking one down/You sing a sad song just to turn it around/You say you don\\'t know/You tell me don\\'t lie/You work at a smile and you go for a ride/You had a bad day/You\\'ve seen what you like/And how does it feel for one more time/You had a bad day/...\\n[...]\\nSee more »\\nCrazy Credits\\nIn the end credits, there is a disclaimer that says \\'No chipmunks were harmed during the filming of this movie.\\' See more »\\nConnections\\nArranged by and Performed by Daniel May\\nCourtesy of Marc Ferrari/Mastersource Music Catalog\\n(Memphis, Tennessee) – See all my reviews\\n(Synopsis) Three chipmunk brothers, Alvin, Simon, and Theodore are living their lives in the forest storing nuts away for the winter when one day their tree is cut down and carried off into the city to become a Christmas tree. They must find a new home and they end up at Dave\\'s house. The only thing that makes them different is that they can talk and even sing. Dave Seville (Jason Lee) is a struggling song writer who has a great idea about making the chipmunks a new show act, singing his songs. The only thing is that you must remember is that they are chipmunks and they act like chipmunks by tearing up Dave\\'s house and interrupting his love life. However, they also begin to bond as a family with Dave becoming like a Dad. The chipmunks become a big hit and superstars with cute voices and fancy dance moves. The record company executive Ian (David Cross) sees big money in his future and takes over the act and pushes Dave to the side. Dave must try to save his little family before they becomes a show biz disaster.\\n(My Comment) I enjoyed this movie because it brought back good memories. I can\\'t believe that their first song was recorded 50 years ago. They have that certain sound that just makes you smile when you hear them. You recognize their sound immediately. The animated characters of Alvin, Simon, and Theodore are lovable now as they were 50 years ago. I always liked it when Dave would scream the name of \"Aaaaalviiiiiiiinnnnnnnnnnn!!!\" and Alvin would say \"OooooK!!!\" Those two words just make you smile. Children of all ages can see this movie without any problem. I am sure that all the parents will like it, and I know your child will, because it is a fun movie. (20th Century Fox, Run Time 1:30, Rated PG) (8/10)\\n67 of 110 people found this review helpful.\\xa0 Was this review helpful to you?\\nYes',\n",
       " 'The Chipmunks - Biography | Billboard\\nThe Chipmunks\\nAlvin Simon Theodore Ross Bagdasarian David Seville\\nPossibly the most popular TV and musical cartoon of all time, the Chipmunks enjoyed several periods of prosperity -- beginning with the \\'60s era of adolescent Baby Boomers, cresting in the \\'80s, when the Boomers\\' children were growing up, and riding the wave clear into the new millennium.\\nThe man who brought the Chipmunks to life, Ross Bagdasarian, was born on January 27, 1919, in Fresno, California. He came to Los Angeles in 1950, and appeared in the films Viva Zapata, Stalag 17, and Rear Window. Bagdasarian also worked as a songwriter, reaching the charts first in 1956, as his production of Alfi & Harry\\'s \"The Trouble with Harry\" hit number 44. He later charted two solo singles (recorded as David Seville), \"Armen\\'s Theme\" and \"Gotta Get to Your House.\" In 1958, Bagdasarian began experimenting with a novel technique -- recording normal vocals but then speeding up the playback on a tape machine. The process yielded the number one hit \"Witch Doctor\" in early 1958, and the phenomenon mushroomed later that year when his Christmas gimmick single \"The Chipmunk Song\" spent four weeks at the top of the charts. \"Alvin\\'s Harmonica\" reached number three just two months later, and Christmas reissues of \"The Chipmunk Song\" charted in the Top 40 over the next four years. The Alvin Show premiered on prime-time television in 1961, with all voices supplied by Bagdasarian. It only ran for one year, but was a success in a Saturday-morning slot. Five more Chipmunks singles charted in the early \\'60s, and five LPs also did well, including a Beatles cover album in 1964.\\nAlthough Bagdasarian died in 1972, his son Ross Jr. revived Alvin, Simon, and Theodore in 1979 on Saturday mornings and on the 1980 album Chipmunk Punk. The series became more popular than in the \\'60s, and albums of the Chipmunks singing country, Christmas, rock, and Hollywood favorites were big sellers, though they didn\\'t enjoy chart success. Although the cartoon was no longer in production by the \\'90s, new Chipmunks records continued appearing, among them 1998\\'s A-Files: Alien Files.\\nIn 2007, a film series debuted with Alvin and the Chipmunks -- the first being so successful that it spawned three sequels: 2009\\'s Alvin and the Chipmunks: The Squeakquel, 2011\\'s Alvin and the Chipmunks: Chipwrecked, and 2015\\'s Alvin and the Chipmunks 4. A revival of the TV series was also planned to premiere on Nickelodeon in early 2015. ~ John Bush, Rovi\\nRelated Artists']"
      ]
     },
     "execution_count": 32,
     "metadata": {},
     "output_type": "execute_result"
    }
   ],
   "source": [
    "row['search_results']['search_context']"
   ]
  },
  {
   "cell_type": "code",
   "execution_count": 33,
   "metadata": {},
   "outputs": [
    {
     "name": "stdout",
     "output_type": "stream",
     "text": [
      "[]\n"
     ]
    }
   ],
   "source": [
    "print(row['entity_pages']['wiki_context'])"
   ]
  },
  {
   "cell_type": "code",
   "execution_count": 36,
   "metadata": {},
   "outputs": [
    {
     "name": "stdout",
     "output_type": "stream",
     "text": [
      "[]\n"
     ]
    }
   ],
   "source": [
    "row = data_list[5]\n",
    "print(row['entity_pages']['wiki_context'])"
   ]
  },
  {
   "cell_type": "code",
   "execution_count": 35,
   "metadata": {},
   "outputs": [
    {
     "data": {
      "text/plain": [
       "{'aliases': ['Kamal kahn',\n",
       "  'List of Bond girls in Octopussy',\n",
       "  'Magda (James Bond)',\n",
       "  'List of James Bond allies in Octopussy',\n",
       "  'Vijay (James Bond)',\n",
       "  'Bond 13',\n",
       "  'Octopussy (character)',\n",
       "  'Penelope Smallbone',\n",
       "  'Octopussy',\n",
       "  'General Orlov',\n",
       "  'Kamal Khan',\n",
       "  'Octopussy (film)',\n",
       "  'List of James Bond villains in Octopussy',\n",
       "  'Jim Fanning (James Bond)'],\n",
       " 'normalized_aliases': ['list of bond girls in octopussy',\n",
       "  'bond 13',\n",
       "  'list of james bond allies in octopussy',\n",
       "  'magda james bond',\n",
       "  'penelope smallbone',\n",
       "  'kamal kahn',\n",
       "  'octopussy',\n",
       "  'list of james bond villains in octopussy',\n",
       "  'vijay james bond',\n",
       "  'jim fanning james bond',\n",
       "  'general orlov',\n",
       "  'kamal khan',\n",
       "  'octopussy character',\n",
       "  'octopussy film'],\n",
       " 'matched_wiki_entity_name': '',\n",
       " 'normalized_matched_wiki_entity_name': '',\n",
       " 'normalized_value': 'octopussy',\n",
       " 'type': 'WikipediaEntity',\n",
       " 'value': 'Octopussy'}"
      ]
     },
     "execution_count": 35,
     "metadata": {},
     "output_type": "execute_result"
    }
   ],
   "source": [
    "row['answer']"
   ]
  },
  {
   "cell_type": "code",
   "execution_count": null,
   "metadata": {},
   "outputs": [],
   "source": []
  }
 ],
 "metadata": {
  "kernelspec": {
   "display_name": "bioinfo",
   "language": "python",
   "name": "python3"
  },
  "language_info": {
   "codemirror_mode": {
    "name": "ipython",
    "version": 3
   },
   "file_extension": ".py",
   "mimetype": "text/x-python",
   "name": "python",
   "nbconvert_exporter": "python",
   "pygments_lexer": "ipython3",
   "version": "3.12.3"
  }
 },
 "nbformat": 4,
 "nbformat_minor": 2
}
