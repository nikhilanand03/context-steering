{
 "cells": [
  {
   "cell_type": "code",
   "execution_count": 20,
   "metadata": {},
   "outputs": [],
   "source": [
    "import json\n",
    "import pandas as pd\n",
    "from datasets import load_dataset\n",
    "from tqdm import tqdm"
   ]
  },
  {
   "cell_type": "code",
   "execution_count": 2,
   "metadata": {},
   "outputs": [
    {
     "name": "stderr",
     "output_type": "stream",
     "text": [
      "Generating train split: 100%|██████████| 87372/87372 [00:00<00:00, 324042.68 examples/s]\n",
      "Generating validation split: 100%|██████████| 2837/2837 [00:00<00:00, 131881.15 examples/s]\n",
      "Generating test split: 100%|██████████| 1444/1444 [00:00<00:00, 120877.66 examples/s]\n",
      "Downloading data: 100%|██████████| 26/26 [12:10<00:00, 28.08s/files]\n",
      "Generating train split: 100%|██████████| 138384/138384 [00:20<00:00, 6777.85 examples/s] \n",
      "Generating validation split: 100%|██████████| 17944/17944 [00:02<00:00, 6958.56 examples/s]\n",
      "Generating test split: 100%|██████████| 17210/17210 [00:02<00:00, 6186.51 examples/s]\n"
     ]
    }
   ],
   "source": [
    "triviaqa_dataset = load_dataset(\"mandarjoshi/trivia_qa\", \"rc\", split=\"validation\")"
   ]
  },
  {
   "cell_type": "code",
   "execution_count": 16,
   "metadata": {},
   "outputs": [
    {
     "name": "stderr",
     "output_type": "stream",
     "text": [
      "Generating train split: 100%|██████████| 61844/61844 [00:00<00:00, 100746.08 examples/s]\n",
      "Generating validation split: 100%|██████████| 5359/5359 [00:00<00:00, 13312.76 examples/s]\n",
      "Generating test split: 100%|██████████| 6586/6586 [00:00<00:00, 278254.20 examples/s]\n"
     ]
    }
   ],
   "source": [
    "kilt_dataset = load_dataset(\"facebook/kilt_tasks\", \"triviaqa_support_only\", split=\"validation\")"
   ]
  },
  {
   "cell_type": "code",
   "execution_count": 17,
   "metadata": {},
   "outputs": [],
   "source": [
    "kilt_ids = set(kilt_dataset[\"id\"])"
   ]
  },
  {
   "cell_type": "code",
   "execution_count": 18,
   "metadata": {},
   "outputs": [
    {
     "data": {
      "text/plain": [
       "('tc_2', True)"
      ]
     },
     "execution_count": 18,
     "metadata": {},
     "output_type": "execute_result"
    }
   ],
   "source": [
    "triviaqa_dataset[0]['question_id'], 'qw_9726' in kilt_ids"
   ]
  },
  {
   "cell_type": "code",
   "execution_count": 54,
   "metadata": {},
   "outputs": [
    {
     "name": "stderr",
     "output_type": "stream",
     "text": [
      "100%|██████████| 17944/17944 [00:06<00:00, 2805.08it/s]\n"
     ]
    },
    {
     "name": "stdout",
     "output_type": "stream",
     "text": [
      "Filtered dataset saved to kilt_triviaqa_subset.json\n"
     ]
    }
   ],
   "source": [
    "import json\n",
    "from tqdm import tqdm\n",
    "\n",
    "filtered_triviaqa = []\n",
    "seen_ids = set()\n",
    "\n",
    "for row in tqdm(triviaqa_dataset):\n",
    "    q_id = row[\"question_id\"]\n",
    "    wiki_context = row.get(\"entity_pages\", {}).get(\"wiki_context\")\n",
    "\n",
    "    if (\n",
    "        q_id in kilt_ids  # ID must be in kilt_ids\n",
    "        and q_id not in seen_ids  # Ensure unique IDs\n",
    "        and isinstance(wiki_context, list)  # Must be a list\n",
    "        and isinstance(wiki_context[0], str)  # It's first element must be a string\n",
    "        and wiki_context[0].strip() != \"\"  # The string must not be empty\n",
    "    ):\n",
    "        filtered_triviaqa.append(row)\n",
    "        seen_ids.add(q_id)\n",
    "\n",
    "output_file = \"kilt_triviaqa_subset.json\"\n",
    "with open(output_file, \"w\") as f:\n",
    "    json.dump(filtered_triviaqa, f, indent=4)\n",
    "\n",
    "print(f\"Filtered dataset saved to {output_file}\")\n"
   ]
  },
  {
   "cell_type": "code",
   "execution_count": 55,
   "metadata": {},
   "outputs": [
    {
     "data": {
      "text/plain": [
       "(5359, 5359)"
      ]
     },
     "execution_count": 55,
     "metadata": {},
     "output_type": "execute_result"
    }
   ],
   "source": [
    "len(filtered_triviaqa), len(kilt_ids)"
   ]
  }
 ],
 "metadata": {
  "kernelspec": {
   "display_name": "bioinfo",
   "language": "python",
   "name": "python3"
  },
  "language_info": {
   "codemirror_mode": {
    "name": "ipython",
    "version": 3
   },
   "file_extension": ".py",
   "mimetype": "text/x-python",
   "name": "python",
   "nbconvert_exporter": "python",
   "pygments_lexer": "ipython3",
   "version": "3.12.3"
  }
 },
 "nbformat": 4,
 "nbformat_minor": 2
}
