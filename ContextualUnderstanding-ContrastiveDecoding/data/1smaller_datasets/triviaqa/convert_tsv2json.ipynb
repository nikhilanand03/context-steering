{
 "cells": [
  {
   "cell_type": "code",
   "execution_count": 1,
   "metadata": {},
   "outputs": [],
   "source": [
    "import csv\n",
    "import json\n",
    "import sys\n",
    "\n",
    "csv.field_size_limit(sys.maxsize)\n",
    "\n",
    "def tsv_to_json(tsv_file, json_file):\n",
    "    with open(tsv_file, 'r', encoding='utf-8') as tsv_f:\n",
    "        reader = csv.DictReader(tsv_f, delimiter='\\t')  # Read TSV as dictionary\n",
    "        data = list(reader)  # Convert to list of dictionaries\n",
    "    \n",
    "    for i,item in enumerate(data):\n",
    "        data[i] = {\n",
    "            \"question\": item[\"question\"],\n",
    "            \"gold_ctx\": item[\"gold_ctx\"],\n",
    "            \"answers\": eval(item[\"answers\"]),\n",
    "            \"ans\": item[\"ans\"]\n",
    "        }\n",
    "    \n",
    "    with open(json_file, 'w', encoding='utf-8') as json_f:\n",
    "        json.dump(data, json_f, indent=4)  # Write JSON with indentation\n",
    "\n",
    "tsv_to_json('triviaqa_test.tsv', 'test_dataset_open_ended_new_triviaqa.json')"
   ]
  },
  {
   "cell_type": "code",
   "execution_count": null,
   "metadata": {},
   "outputs": [],
   "source": []
  }
 ],
 "metadata": {
  "kernelspec": {
   "display_name": "bioinfo",
   "language": "python",
   "name": "python3"
  },
  "language_info": {
   "codemirror_mode": {
    "name": "ipython",
    "version": 3
   },
   "file_extension": ".py",
   "mimetype": "text/x-python",
   "name": "python",
   "nbconvert_exporter": "python",
   "pygments_lexer": "ipython3",
   "version": "3.12.3"
  }
 },
 "nbformat": 4,
 "nbformat_minor": 2
}
