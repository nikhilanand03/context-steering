{
 "cells": [
  {
   "cell_type": "code",
   "execution_count": 2,
   "metadata": {},
   "outputs": [],
   "source": [
    "import csv\n",
    "import json\n",
    "import sys\n",
    "\n",
    "csv.field_size_limit(sys.maxsize)\n",
    "\n",
    "def tsv_jsonl_to_json(tsv_file, jsonl_file, output_json):\n",
    "    data = []\n",
    "\n",
    "    with open(tsv_file, 'r', encoding='utf-8') as tsv_f, open(jsonl_file, 'r', encoding='utf-8') as jsonl_f:\n",
    "        reader = csv.DictReader(tsv_f, delimiter='\\t')\n",
    "\n",
    "        for tsv_row, jsonl_row in zip(reader, jsonl_f):\n",
    "            jsonl_data = json.loads(jsonl_row)  # Parse the JSONL line\n",
    "            \n",
    "            data.append({\n",
    "                \"question\": tsv_row[\"question\"],\n",
    "                \"gold_ctx\": jsonl_data[\"ctxs\"][0],\n",
    "                \"answers\": eval(tsv_row[\"answers\"]),\n",
    "                \"ans\": tsv_row[\"ans\"]\n",
    "            })\n",
    "\n",
    "    with open(output_json, 'w', encoding='utf-8') as json_f:\n",
    "        json.dump(data, json_f, indent=4)\n",
    "\n",
    "# tsv_jsonl_to_json('popqa_test.tsv', 'popqa_bm25_results.jsonl', 'test_dataset_open_ended_new_popqa_bm25.json')\n"
   ]
  },
  {
   "cell_type": "code",
   "execution_count": 3,
   "metadata": {},
   "outputs": [],
   "source": [
    "tsv_jsonl_to_json('popqa_test.tsv','popqa_contriever_results.jsonl', 'test_dataset_open_ended_new_popqa_contriever.json')"
   ]
  }
 ],
 "metadata": {
  "kernelspec": {
   "display_name": "bioinfo",
   "language": "python",
   "name": "python3"
  },
  "language_info": {
   "codemirror_mode": {
    "name": "ipython",
    "version": 3
   },
   "file_extension": ".py",
   "mimetype": "text/x-python",
   "name": "python",
   "nbconvert_exporter": "python",
   "pygments_lexer": "ipython3",
   "version": "3.12.3"
  }
 },
 "nbformat": 4,
 "nbformat_minor": 2
}
