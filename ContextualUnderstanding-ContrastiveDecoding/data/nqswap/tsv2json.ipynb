{
 "cells": [
  {
   "cell_type": "code",
   "execution_count": 3,
   "metadata": {},
   "outputs": [],
   "source": [
    "import csv\n",
    "import json\n",
    "\n",
    "def tsv_to_json(tsv_file, json_file):\n",
    "    with open(tsv_file, mode='r', encoding='utf-8') as file:\n",
    "        reader = csv.DictReader(file, delimiter='\\t')\n",
    "        data = []\n",
    "        for row in reader:\n",
    "            if 'answers' in row:\n",
    "                row['answers'] = eval(row['answers'])\n",
    "            data.append(row)\n",
    "    \n",
    "    with open(json_file, mode='w', encoding='utf-8') as file:\n",
    "        json.dump(data, file, indent=4)\n",
    "\n",
    "tsV_filename = 'nq_swap_test.tsv'\n",
    "json_filename = 'test_dataset_open_ended_new_nqswap.json'\n",
    "tsv_to_json(tsV_filename, json_filename)"
   ]
  },
  {
   "cell_type": "code",
   "execution_count": null,
   "metadata": {},
   "outputs": [],
   "source": []
  }
 ],
 "metadata": {
  "kernelspec": {
   "display_name": "bioinfo",
   "language": "python",
   "name": "python3"
  },
  "language_info": {
   "codemirror_mode": {
    "name": "ipython",
    "version": 3
   },
   "file_extension": ".py",
   "mimetype": "text/x-python",
   "name": "python",
   "nbconvert_exporter": "python",
   "pygments_lexer": "ipython3",
   "version": "3.12.3"
  }
 },
 "nbformat": 4,
 "nbformat_minor": 2
}
