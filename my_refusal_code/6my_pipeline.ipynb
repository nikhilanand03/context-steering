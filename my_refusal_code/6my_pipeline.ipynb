{
 "cells": [
  {
   "cell_type": "code",
   "execution_count": 18,
   "id": "3ccff1c6-3da3-41fd-a6df-501c5a72c3d4",
   "metadata": {},
   "outputs": [
    {
     "name": "stdout",
     "output_type": "stream",
     "text": [
      "/sensei-fs/users/nikhilanand/my_refusal_direction\n"
     ]
    }
   ],
   "source": [
    "import torch\n",
    "import random\n",
    "import json\n",
    "import os\n",
    "import argparse\n",
    "import os\n",
    "\n",
    "if os.getcwd() == \"/home/user/nikhil/my_refusal_direction/pipeline\":\n",
    "    os.chdir(\"..\")\n",
    "print(os.getcwd())\n",
    "\n",
    "from dataset.load_dataset import load_dataset_split, load_dataset\n",
    "\n",
    "from pipeline.config import Config"
   ]
  },
  {
   "cell_type": "code",
   "execution_count": 19,
   "id": "51d6aa97",
   "metadata": {},
   "outputs": [
    {
     "data": {
      "text/plain": [
       "'4.42.4'"
      ]
     },
     "execution_count": 19,
     "metadata": {},
     "output_type": "execute_result"
    }
   ],
   "source": [
    "import transformers\n",
    "transformers.__version__"
   ]
  },
  {
   "cell_type": "code",
   "execution_count": 20,
   "id": "253bb6ba-43fc-4f02-ae42-e3c0c90d1788",
   "metadata": {},
   "outputs": [],
   "source": [
    "from pipeline.model_utils.model_factory import construct_model_base\n",
    "from pipeline.utils.hook_utils import get_activation_addition_input_pre_hook, get_all_direction_ablation_hooks"
   ]
  },
  {
   "cell_type": "code",
   "execution_count": 21,
   "id": "e67b263a",
   "metadata": {},
   "outputs": [],
   "source": [
    "# from pipeline.submodules.evaluate_jailbreak import evaluate_jailbreak\n",
    "# from pipeline.submodules.evaluate_loss import evaluate_loss"
   ]
  },
  {
   "cell_type": "code",
   "execution_count": 22,
   "id": "23764813-a73a-482b-a82f-d070146d8d06",
   "metadata": {},
   "outputs": [],
   "source": [
    "model_path = \"qwen/qwen-1_8b-chat\""
   ]
  },
  {
   "cell_type": "code",
   "execution_count": 23,
   "id": "af591e9b-6e8e-4cf2-8871-4777b14f6da9",
   "metadata": {},
   "outputs": [
    {
     "name": "stderr",
     "output_type": "stream",
     "text": [
      "Warning: import flash_attn rotary fail, please install FlashAttention rotary to get higher efficiency https://github.com/Dao-AILab/flash-attention/tree/main/csrc/rotary\n",
      "Warning: import flash_attn rms_norm fail, please install FlashAttention layer_norm to get higher efficiency https://github.com/Dao-AILab/flash-attention/tree/main/csrc/layer_norm\n",
      "Warning: import flash_attn fail, please install FlashAttention to get higher efficiency https://github.com/Dao-AILab/flash-attention\n"
     ]
    },
    {
     "data": {
      "application/vnd.jupyter.widget-view+json": {
       "model_id": "521c6055dc214c62ba3998df4391204a",
       "version_major": 2,
       "version_minor": 0
      },
      "text/plain": [
       "Loading checkpoint shards:   0%|          | 0/2 [00:00<?, ?it/s]"
      ]
     },
     "metadata": {},
     "output_type": "display_data"
    }
   ],
   "source": [
    "model_alias = os.path.basename(model_path)\n",
    "cfg = Config(model_alias=model_alias, model_path=model_path)\n",
    "\n",
    "model_base = construct_model_base(cfg.model_path)"
   ]
  },
  {
   "cell_type": "code",
   "execution_count": 7,
   "id": "16a79425-5093-45d8-953e-ce5789772ba1",
   "metadata": {},
   "outputs": [],
   "source": [
    "from pipeline.run_pipeline import *"
   ]
  },
  {
   "cell_type": "code",
   "execution_count": 8,
   "id": "82ebdf65-95f4-4439-8f20-234e981e0dc0",
   "metadata": {},
   "outputs": [],
   "source": [
    "harmful_train, harmless_train, harmful_val, harmless_val = load_and_sample_datasets(cfg)"
   ]
  },
  {
   "cell_type": "code",
   "execution_count": 9,
   "id": "98bb3677-21cc-4205-86bf-843a3402279f",
   "metadata": {},
   "outputs": [
    {
     "data": {
      "text/plain": [
       "128"
      ]
     },
     "execution_count": 9,
     "metadata": {},
     "output_type": "execute_result"
    }
   ],
   "source": [
    "len(harmful_train)"
   ]
  },
  {
   "cell_type": "code",
   "execution_count": 10,
   "id": "ab06363b-267a-46f3-9dc0-530a22a2a7cf",
   "metadata": {},
   "outputs": [],
   "source": [
    "harmful_train, harmless_train, harmful_val, harmless_val = filter_data(cfg, model_base, harmful_train, harmless_train, harmful_val, harmless_val)"
   ]
  },
  {
   "cell_type": "code",
   "execution_count": 11,
   "id": "ebfdea93-6139-45ab-8a50-259e33f9f114",
   "metadata": {},
   "outputs": [
    {
     "data": {
      "text/plain": [
       "103"
      ]
     },
     "execution_count": 11,
     "metadata": {},
     "output_type": "execute_result"
    }
   ],
   "source": [
    "len(harmful_train)"
   ]
  },
  {
   "cell_type": "code",
   "execution_count": 12,
   "id": "092cdd33-f177-4f93-a349-e41bedae8a12",
   "metadata": {},
   "outputs": [],
   "source": [
    "import json\n",
    "with open('pipeline/runs/qwen-1_8b-chat/direction_metadata.json', 'r') as file:\n",
    "    data = json.load(file)\n",
    "\n",
    "pos,layer = data['pos'],data['layer']"
   ]
  },
  {
   "cell_type": "code",
   "execution_count": 13,
   "id": "162d4c68-108f-4c3e-905f-5890c4ec05e5",
   "metadata": {},
   "outputs": [],
   "source": [
    "direction = torch.load(\"pipeline/runs/qwen-1_8b-chat/direction.pt\")"
   ]
  },
  {
   "cell_type": "code",
   "execution_count": 14,
   "id": "18be4afe-0966-45b9-8b80-9f2dae36273d",
   "metadata": {},
   "outputs": [
    {
     "data": {
      "text/plain": [
       "(torch.Size([2048]), -2, 15)"
      ]
     },
     "execution_count": 14,
     "metadata": {},
     "output_type": "execute_result"
    }
   ],
   "source": [
    "direction.shape,pos,layer"
   ]
  },
  {
   "cell_type": "code",
   "execution_count": 15,
   "id": "bb3a46c3-8a8c-4461-b97a-d69f46fa4955",
   "metadata": {},
   "outputs": [],
   "source": [
    "baseline_fwd_pre_hooks, baseline_fwd_hooks = [], []\n",
    "ablation_fwd_pre_hooks, ablation_fwd_hooks = get_all_direction_ablation_hooks(model_base, direction)\n",
    "actadd_fwd_pre_hooks, actadd_fwd_hooks = [(model_base.model_block_modules[layer], get_activation_addition_input_pre_hook(vector=direction, coeff=-1.0))], []\n",
    "\n",
    "# Ablation will return the pre-hooks to ALL the layers and the output hooks from ALL MLPs and Attns.\n",
    "# It just returns tuples and we are yet to \"register_hook\" to each layer.\n",
    "# Act addn seems to have an empty list for output hooks. \n",
    "# It's input hook is only to the optimal layer. Coeff is -1.0 (seems odd, that's basically subtraction)"
   ]
  },
  {
   "cell_type": "code",
   "execution_count": 16,
   "id": "f321b393-0e20-443e-81f0-5c841c06fbf2",
   "metadata": {},
   "outputs": [
    {
     "data": {
      "text/plain": [
       "'/sensei-fs/users/nikhilanand/my_refusal_direction/pipeline/my_runs/qwen-1_8b-chat'"
      ]
     },
     "execution_count": 16,
     "metadata": {},
     "output_type": "execute_result"
    }
   ],
   "source": [
    "cfg.artifact_path()"
   ]
  },
  {
   "cell_type": "code",
   "execution_count": null,
   "id": "60b12313-8052-4eb0-be45-89fe1307eb1d",
   "metadata": {},
   "outputs": [],
   "source": [
    "# Completions are basically the LLM's responses to the questions\n",
    "# This is the moment and I need to save this in my own directory and observe\n",
    "\n",
    "for dataset_name in cfg.evaluation_datasets:\n",
    "        generate_and_save_completions_for_dataset(cfg, model_base, baseline_fwd_pre_hooks, baseline_fwd_hooks, 'baseline', dataset_name)\n",
    "        generate_and_save_completions_for_dataset(cfg, model_base, ablation_fwd_pre_hooks, ablation_fwd_hooks, 'ablation', dataset_name)\n",
    "        generate_and_save_completions_for_dataset(cfg, model_base, actadd_fwd_pre_hooks, actadd_fwd_hooks, 'actadd', dataset_name)"
   ]
  },
  {
   "cell_type": "code",
   "execution_count": 24,
   "id": "6ec61443-9c73-4ab6-8f92-a9e5ce0b8fea",
   "metadata": {},
   "outputs": [
    {
     "data": {
      "text/plain": [
       "('jailbreakbench',)"
      ]
     },
     "execution_count": 24,
     "metadata": {},
     "output_type": "execute_result"
    }
   ],
   "source": [
    "cfg.evaluation_datasets"
   ]
  },
  {
   "cell_type": "code",
   "execution_count": null,
   "id": "d62694b7-1eec-446e-8265-3218bc80f933",
   "metadata": {},
   "outputs": [],
   "source": []
  }
 ],
 "metadata": {
  "kernelspec": {
   "display_name": "Python 3 (ipykernel)",
   "language": "python",
   "name": "python3"
  },
  "language_info": {
   "codemirror_mode": {
    "name": "ipython",
    "version": 3
   },
   "file_extension": ".py",
   "mimetype": "text/x-python",
   "name": "python",
   "nbconvert_exporter": "python",
   "pygments_lexer": "ipython3",
   "version": "3.8.19"
  }
 },
 "nbformat": 4,
 "nbformat_minor": 5
}
