{
 "cells": [
  {
   "cell_type": "code",
   "execution_count": null,
   "id": "d2bfbdcd-cca3-4667-b734-69249eadac76",
   "metadata": {},
   "outputs": [],
   "source": []
  }
 ],
 "metadata": {
  "kernelspec": {
   "display_name": "",
   "name": ""
  },
  "language_info": {
   "name": ""
  }
 },
 "nbformat": 4,
 "nbformat_minor": 5
}
