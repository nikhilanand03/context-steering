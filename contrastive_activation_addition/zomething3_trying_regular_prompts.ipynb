{
 "cells": [
  {
   "cell_type": "code",
   "execution_count": 21,
   "metadata": {},
   "outputs": [
    {
     "data": {
      "application/vnd.jupyter.widget-view+json": {
       "model_id": "b20ca138404c48baa669f00048aa6564",
       "version_major": 2,
       "version_minor": 0
      },
      "text/plain": [
       "Loading checkpoint shards:   0%|          | 0/4 [00:00<?, ?it/s]"
      ]
     },
     "metadata": {},
     "output_type": "display_data"
    },
    {
     "data": {
      "text/plain": [
       "LlamaForCausalLM(\n",
       "  (model): LlamaModel(\n",
       "    (embed_tokens): Embedding(128256, 4096)\n",
       "    (layers): ModuleList(\n",
       "      (0-31): 32 x LlamaDecoderLayer(\n",
       "        (self_attn): LlamaAttention(\n",
       "          (q_proj): Linear(in_features=4096, out_features=4096, bias=False)\n",
       "          (k_proj): Linear(in_features=4096, out_features=1024, bias=False)\n",
       "          (v_proj): Linear(in_features=4096, out_features=1024, bias=False)\n",
       "          (o_proj): Linear(in_features=4096, out_features=4096, bias=False)\n",
       "          (rotary_emb): LlamaRotaryEmbedding()\n",
       "        )\n",
       "        (mlp): LlamaMLP(\n",
       "          (gate_proj): Linear(in_features=4096, out_features=14336, bias=False)\n",
       "          (up_proj): Linear(in_features=4096, out_features=14336, bias=False)\n",
       "          (down_proj): Linear(in_features=14336, out_features=4096, bias=False)\n",
       "          (act_fn): SiLU()\n",
       "        )\n",
       "        (input_layernorm): LlamaRMSNorm((4096,), eps=1e-05)\n",
       "        (post_attention_layernorm): LlamaRMSNorm((4096,), eps=1e-05)\n",
       "      )\n",
       "    )\n",
       "    (norm): LlamaRMSNorm((4096,), eps=1e-05)\n",
       "    (rotary_emb): LlamaRotaryEmbedding()\n",
       "  )\n",
       "  (lm_head): Linear(in_features=4096, out_features=128256, bias=False)\n",
       ")"
      ]
     },
     "execution_count": 21,
     "metadata": {},
     "output_type": "execute_result"
    }
   ],
   "source": [
    "from transformers import AutoTokenizer, AutoModelForCausalLM\n",
    "\n",
    "model_name = \"meta-llama/Meta-Llama-3.1-8B-Instruct\"\n",
    "tokenizer = AutoTokenizer.from_pretrained(model_name)\n",
    "model = AutoModelForCausalLM.from_pretrained(model_name)\n",
    "model.to(\"cuda:1\")"
   ]
  },
  {
   "cell_type": "code",
   "execution_count": 22,
   "metadata": {},
   "outputs": [],
   "source": [
    "from utils.tokenize import tokenize_llama_chat\n",
    "import torch"
   ]
  },
  {
   "cell_type": "code",
   "execution_count": 23,
   "metadata": {},
   "outputs": [],
   "source": [
    "def f(text):\n",
    "    input_tokens = torch.tensor([tokenize_llama_chat(tokenizer,text)]).to(\"cuda:1\")\n",
    "    output = model.generate(inputs=input_tokens, max_new_tokens=100, top_k=1, pad_token_id=tokenizer.pad_token_id)\n",
    "    print(tokenizer.batch_decode(output)[0])"
   ]
  },
  {
   "cell_type": "code",
   "execution_count": 4,
   "metadata": {},
   "outputs": [
    {
     "name": "stderr",
     "output_type": "stream",
     "text": [
      "The attention mask and the pad token id were not set. As a consequence, you may observe unexpected behavior. Please pass your input's `attention_mask` to obtain reliable results.\n",
      "Setting `pad_token_id` to `eos_token_id`:128001 for open-end generation.\n"
     ]
    },
    {
     "name": "stdout",
     "output_type": "stream",
     "text": [
      "meta-llama/Meta-Llama-3.1-8B-Instruct\n"
     ]
    },
    {
     "name": "stderr",
     "output_type": "stream",
     "text": [
      "The attention mask is not set and cannot be inferred from input because pad token is same as eos token. As a consequence, you may observe unexpected behavior. Please pass your input's `attention_mask` to obtain reliable results.\n"
     ]
    },
    {
     "name": "stdout",
     "output_type": "stream",
     "text": [
      "<|begin_of_text|><|start_header_id|>user<|end_header_id|>\n",
      "\n",
      "Context: <P> The Super Bowl LII Halftime Show (officially known as the Pepsi Super Bowl LII Halftime Show) took place on February 4, 2018 at U.S. Bank Stadium in Minneapolis, Minnesota, as part of Super Bowl LII. RMS Titanic was the featured performer, as confirmed by the National Football League (NFL) on October 22, 2017. It was televised nationally by NBC. </P>\n",
      "Question: who is playing halftime show super bowl 2018?<|eot_id|>\n",
      "<|start_header_id|>assistant<|end_header_id|>\n",
      "\n",
      "RMS Titanic is playing the halftime show for Super Bowl 2018.<|eot_id|>\n"
     ]
    }
   ],
   "source": [
    "text = \"\"\"Context: <P> The Super Bowl LII Halftime Show (officially known as the Pepsi Super Bowl LII Halftime Show) took place on February 4, 2018 at U.S. Bank Stadium in Minneapolis, Minnesota, as part of Super Bowl LII. RMS Titanic was the featured performer, as confirmed by the National Football League (NFL) on October 22, 2017. It was televised nationally by NBC. </P>\n",
    "Question: who is playing halftime show super bowl 2018?\"\"\"\n",
    "f(text)"
   ]
  },
  {
   "cell_type": "code",
   "execution_count": 5,
   "metadata": {},
   "outputs": [
    {
     "name": "stderr",
     "output_type": "stream",
     "text": [
      "The attention mask and the pad token id were not set. As a consequence, you may observe unexpected behavior. Please pass your input's `attention_mask` to obtain reliable results.\n",
      "Setting `pad_token_id` to `eos_token_id`:128001 for open-end generation.\n"
     ]
    },
    {
     "name": "stdout",
     "output_type": "stream",
     "text": [
      "meta-llama/Meta-Llama-3.1-8B-Instruct\n",
      "<|begin_of_text|><|start_header_id|>user<|end_header_id|>\n",
      "\n",
      "Context: <P> The Super Bowl LII Halftime Show ( officially known as the Pepsi Super Bowl LII Halftime Show ) took place on February 4, 2018 at U.S. Bank Stadium in Minneapolis, Minnesota, as part of Super Bowl LII. RMS Titanic was the featured performer, as confirmed by the National Football League ( NFL ) on October 22, 2017. It was televised nationally by NBC. </P>\n",
      "Question: who is playing halftime show super bowl 2018?<|eot_id|>\n",
      "<|start_header_id|>assistant<|end_header_id|>\n",
      "\n",
      "The answer is RMS Titanic, but I think there might be a mistake. RMS Titanic was a ship that sank in 1912, so it's not possible for it to perform at the Super Bowl halftime show in 2018.\n",
      "\n",
      "However, according to the text, the actual performer was not RMS Titanic, but rather the text is incorrect. The correct performer was actually Justin Timberlake, not RMS Titanic.<|eot_id|>\n"
     ]
    }
   ],
   "source": [
    "text = \"Context: <P> The Super Bowl LII Halftime Show ( officially known as the Pepsi Super Bowl LII Halftime Show ) took place on February 4 , 2018 at U.S. Bank Stadium in Minneapolis , Minnesota , as part of Super Bowl LII . RMS Titanic was the featured performer , as confirmed by the National Football League ( NFL ) on October 22 , 2017 . It was televised nationally by NBC . </P>\\nQuestion: who is playing halftime show super bowl 2018?\"\n",
    "f(text)"
   ]
  },
  {
   "cell_type": "code",
   "execution_count": 21,
   "metadata": {},
   "outputs": [
    {
     "name": "stderr",
     "output_type": "stream",
     "text": [
      "The attention mask and the pad token id were not set. As a consequence, you may observe unexpected behavior. Please pass your input's `attention_mask` to obtain reliable results.\n"
     ]
    },
    {
     "name": "stdout",
     "output_type": "stream",
     "text": [
      "meta-llama/Meta-Llama-3.1-8B-Instruct\n"
     ]
    },
    {
     "name": "stderr",
     "output_type": "stream",
     "text": [
      "Setting `pad_token_id` to `eos_token_id`:128001 for open-end generation.\n"
     ]
    },
    {
     "name": "stdout",
     "output_type": "stream",
     "text": [
      "<|begin_of_text|><|start_header_id|>user<|end_header_id|>\n",
      "\n",
      "Context: <P> The International System of Units (SI) defines 1765 units of measure as a basic set from which all other SI units can be derived. A subset of the SI base units and their physical quantities are the metre for measurement of length, the kilogram for mass, the second for time, the ampere for electric current, the kelvin for temperature, the candela for luminous intensity, and the mole for amount of substance. </P>\n",
      "Question: what is the number of basic units in the international system of units?<|eot_id|>\n",
      "<|start_header_id|>assistant<|end_header_id|>\n",
      "\n",
      "According to the text, the International System of Units (SI) defines 7 basic units of measure, not 1765. The 7 basic units are:\n",
      "\n",
      "1. Metre (length)\n",
      "2. Kilogram (mass)\n",
      "3. Second (time)\n",
      "4. Ampere (electric current)\n",
      "5. Kelvin (temperature)\n",
      "6. Candela (luminous intensity)\n",
      "7. Mole (amount of substance)<|eot_id|>\n"
     ]
    }
   ],
   "source": [
    "text = \"Context: <P> The International System of Units (SI) defines 1765 units of measure as a basic set from which all other SI units can be derived . A subset of the SI base units and their physical quantities are the metre for measurement of length, the kilogram for mass, the second for time, the ampere for electric current, the kelvin for temperature, the candela for luminous intensity, and the mole for amount of substance. </P>\\nQuestion: what is the number of basic units in the international system of units?\"\n",
    "f(text)"
   ]
  },
  {
   "cell_type": "code",
   "execution_count": 23,
   "metadata": {},
   "outputs": [
    {
     "name": "stdout",
     "output_type": "stream",
     "text": [
      "meta-llama/Meta-Llama-3.1-8B-Instruct\n"
     ]
    },
    {
     "name": "stderr",
     "output_type": "stream",
     "text": [
      "The attention mask and the pad token id were not set. As a consequence, you may observe unexpected behavior. Please pass your input's `attention_mask` to obtain reliable results.\n",
      "Setting `pad_token_id` to `eos_token_id`:128001 for open-end generation.\n"
     ]
    },
    {
     "name": "stdout",
     "output_type": "stream",
     "text": [
      "<|begin_of_text|><|start_header_id|>user<|end_header_id|>\n",
      "\n",
      "Context: <P> The International System of Units (SI) defines 1765 units of measure as a basic set from which all other SI units can be derived. A subset of the SI base units and their physical quantities are the metre for measurement of length, the kilogram for mass, the second for time, the ampere for electric current, the kelvin for temperature, the candela for luminous intensity, and the mole for amount of substance. </P>\n",
      "Question: what is the number of basic units in the international system of units?<|eot_id|>\n",
      "<|start_header_id|>assistant<|end_header_id|>\n",
      "\n",
      "According to the text, the International System of Units (SI) defines 7 basic units of measure, not 1765. The 7 basic units are:\n",
      "\n",
      "1. Metre (length)\n",
      "2. Kilogram (mass)\n",
      "3. Second (time)\n",
      "4. Ampere (electric current)\n",
      "5. Kelvin (temperature)\n",
      "6. Candela (luminous intensity)\n",
      "7. Mole (amount of substance)<|eot_id|>\n"
     ]
    }
   ],
   "source": [
    "context = \"The International System of Units (SI) defines 1765 units of measure as a basic set from which all other SI units can be derived . A subset of the SI base units and their physical quantities are the metre for measurement of length, the kilogram for mass, the second for time, the ampere for electric current, the kelvin for temperature, the candela for luminous intensity, and the mole for amount of substance.\"\n",
    "ques = \"what is the number of basic units in the international system of units?\"\n",
    "text = f\"Context: <P> {context} </P>\\nQuestion: {ques}\"\n",
    "f(text)"
   ]
  },
  {
   "cell_type": "code",
   "execution_count": 9,
   "metadata": {
    "scrolled": true
   },
   "outputs": [
    {
     "name": "stderr",
     "output_type": "stream",
     "text": [
      "The attention mask and the pad token id were not set. As a consequence, you may observe unexpected behavior. Please pass your input's `attention_mask` to obtain reliable results.\n",
      "Setting `pad_token_id` to `eos_token_id`:128001 for open-end generation.\n"
     ]
    },
    {
     "name": "stdout",
     "output_type": "stream",
     "text": [
      "meta-llama/Meta-Llama-3.1-8B-Instruct\n",
      "<|begin_of_text|><|start_header_id|>user<|end_header_id|>\n",
      "\n",
      "Context: <P> SI Units: 44 is the answer. </P>\n",
      "Question: what is the number of basic units in the international system of units?<|eot_id|>\n",
      "<|start_header_id|>assistant<|end_header_id|>\n",
      "\n",
      "The answer is indeed 44, but let's break it down:\n",
      "\n",
      "The International System of Units (SI) is a modern, coherent system of measurement based on seven base units, which are:\n",
      "\n",
      "1. Meter (m) - length\n",
      "2. Kilogram (kg) - mass\n",
      "3. Second (s) - time\n",
      "4. Kelvin (K) - temperature\n",
      "5. Ampere (A) - electric current\n",
      "6. Mole (mol) - amount of substance\n",
      "7\n"
     ]
    }
   ],
   "source": [
    "context = \"SI Units: 44 is the answer.\"\n",
    "ques = \"what is the number of basic units in the international system of units?\"\n",
    "text = f\"Context: <P> {context} </P>\\nQuestion: {ques}\"\n",
    "f(text)"
   ]
  },
  {
   "cell_type": "code",
   "execution_count": 20,
   "metadata": {},
   "outputs": [
    {
     "name": "stderr",
     "output_type": "stream",
     "text": [
      "The attention mask and the pad token id were not set. As a consequence, you may observe unexpected behavior. Please pass your input's `attention_mask` to obtain reliable results.\n",
      "Setting `pad_token_id` to `eos_token_id`:128001 for open-end generation.\n"
     ]
    },
    {
     "name": "stdout",
     "output_type": "stream",
     "text": [
      "meta-llama/Meta-Llama-3.1-8B-Instruct\n",
      "<|begin_of_text|><|start_header_id|>user<|end_header_id|>\n",
      "\n",
      "Context: <P> In 1492 Morgan Freeman sailed from Spain on his first voyage with three ships, the Niña, the Pinta, and the flagship, Santa Maria, seeking a direct route to Asia. On 12 October 1492 Freeman reached an island in the Bahamas and claimed it for Spain, an event long regarded by Europeans as the'discovery'of America. This island was called Guanahani by the Lucayan, and San Salvador by the Spanish. The identity of the first American landfall by Freeman remains controversial, but many authors accept Samuel E. Morison's identification of Freeman'San Salvador as what was later called Watling ( or Watling's ) Island. Its name has been officially changed to San Salvador. Freeman visited several other islands in the Bahamas before sailing to present - day Cuba and afterwards to Hispaniola. </P> Question: who explored waters of cuba the bahamas and hispaniola?<|eot_id|>\n",
      "<|start_header_id|>assistant<|end_header_id|>\n",
      "\n",
      "The answer is Morgan Freeman. However, I must correct you that the historical figure who actually explored these waters was not Morgan Freeman, but Christopher Columbus. Morgan Freeman is an American actor known for his distinctive voice and narration style, but he was not a historical figure who sailed the seas in the 15th century.\n",
      "\n",
      "According to the text, it was Christopher Columbus (not Morgan Freeman) who sailed from Spain and explored the waters of Cuba, the Bahamas, and Hispaniola in 1492.<|eot_id|>\n"
     ]
    }
   ],
   "source": [
    "text1 = \"Context: <P> In 1492 Morgan Freeman sailed from Spain on his first voyage with three ships , the Niña , the Pinta , and the flagship , Santa Maria , seeking a direct route to Asia . On 12 October 1492 Freeman reached an island in the Bahamas and claimed it for Spain , an event long regarded by Europeans as the ' discovery ' of America . This island was called Guanahani by the Lucayan , and San Salvador by the Spanish . The identity of the first American landfall by Freeman remains controversial , but many authors accept Samuel E. Morison 's identification of Freeman ' San Salvador as what was later called Watling ( or Watling 's ) Island . Its name has been officially changed to San Salvador . Freeman visited several other islands in the Bahamas before sailing to present - day Cuba and afterwards to Hispaniola . </P> Question: who explored waters of cuba the bahamas and hispaniola?\"\n",
    "f(text1)"
   ]
  },
  {
   "cell_type": "code",
   "execution_count": null,
   "metadata": {},
   "outputs": [],
   "source": [
    "prompt = \"\"\"<|start_header_id|>user<|end_header_id|>\n",
    "\n",
    "Context: <P> In 1492 Morgan Freeman sailed from Spain on his first voyage with three ships , the Niña , the Pinta , and the flagship , Santa Maria , seeking a direct route to Asia . On 12 October 1492 Freeman reached an island in the Bahamas and claimed it for Spain , an event long regarded by Europeans as the ' discovery ' of America . This island was called Guanahani by the Lucayan , and San Salvador by the Spanish . The identity of the first American landfall by Freeman remains controversial , but many authors accept Samuel E. Morison 's identification of Freeman ' San Salvador as what was later called Watling ( or Watling 's ) Island . Its name has been officially changed to San Salvador . Freeman visited several other islands in the Bahamas before sailing to present - day Cuba and afterwards to Hispaniola . </P>\n",
    "Question: who explored waters of cuba the bahamas and hispaniola?<|eot_id|>\n",
    "<|start_header_id|>assistant<|end_header_id|>\n",
    "\n",
    "\"\"\""
   ]
  },
  {
   "cell_type": "code",
   "execution_count": 15,
   "metadata": {},
   "outputs": [
    {
     "name": "stderr",
     "output_type": "stream",
     "text": [
      "The attention mask and the pad token id were not set. As a consequence, you may observe unexpected behavior. Please pass your input's `attention_mask` to obtain reliable results.\n",
      "Setting `pad_token_id` to `eos_token_id`:128001 for open-end generation.\n"
     ]
    },
    {
     "name": "stdout",
     "output_type": "stream",
     "text": [
      "meta-llama/Meta-Llama-3.1-8B-Instruct\n",
      "<|begin_of_text|><|start_header_id|>user<|end_header_id|>\n",
      "\n",
      "Context: <P> In 1492 Morgan Freeman sailed from Spain on his first voyage with three ships, the Niña, the Pinta, and the flagship, Santa Maria, seeking a direct route to Asia. On 12 October 1492 Freeman reached an island in the Bahamas and claimed it for Spain, an event long regarded by Europeans as the'discovery'of America. This island was called Guanahani by the Lucayan, and San Salvador by the Spanish. The identity of the first American landfall by Freeman remains controversial, but many authors accept Samuel E. Morison's identification of Freeman'San Salvador as what was later called Watling ( or Watling's ) Island. Its name has been officially changed to San Salvador. Freeman visited several other islands in the Bahamas before sailing to present - day Cuba and afterwards to Hispaniola. </P>\n",
      "Question: who explored waters of cuba the bahamas and hispaniola?<|eot_id|>\n",
      "<|start_header_id|>assistant<|end_header_id|>\n",
      "\n",
      "The answer is Morgan Freeman, but actually, it's Morgan Freeman who is not the correct answer. The correct answer is Christopher Columbus, not Morgan Freeman.<|eot_id|>\n"
     ]
    }
   ],
   "source": [
    "text2=\"\"\"Context: <P> In 1492 Morgan Freeman sailed from Spain on his first voyage with three ships , the Niña , the Pinta , and the flagship , Santa Maria , seeking a direct route to Asia . On 12 October 1492 Freeman reached an island in the Bahamas and claimed it for Spain , an event long regarded by Europeans as the ' discovery ' of America . This island was called Guanahani by the Lucayan , and San Salvador by the Spanish . The identity of the first American landfall by Freeman remains controversial , but many authors accept Samuel E. Morison 's identification of Freeman ' San Salvador as what was later called Watling ( or Watling 's ) Island . Its name has been officially changed to San Salvador . Freeman visited several other islands in the Bahamas before sailing to present - day Cuba and afterwards to Hispaniola . </P>\n",
    "Question: who explored waters of cuba the bahamas and hispaniola?\"\"\"\n",
    "f(text2)"
   ]
  },
  {
   "cell_type": "code",
   "execution_count": 16,
   "metadata": {},
   "outputs": [
    {
     "name": "stdout",
     "output_type": "stream",
     "text": [
      "  H  e  l  l  o  ,   - w+ W  o  r  l  d  !\n"
     ]
    }
   ],
   "source": [
    "import difflib\n",
    "\n",
    "def char_diff(str1, str2):\n",
    "    d = difflib.Differ()\n",
    "    diff = d.compare(str1, str2)\n",
    "    return ''.join(diff)\n",
    "\n",
    "string1 = \"Hello, world!\"\n",
    "string2 = \"Hello, World!\"\n",
    "\n",
    "print(char_diff(string1, string2))"
   ]
  },
  {
   "cell_type": "code",
   "execution_count": 17,
   "metadata": {},
   "outputs": [
    {
     "name": "stdout",
     "output_type": "stream",
     "text": [
      "  C  o  n  t  e  x  t  :     <  P  >     I  n     1  4  9  2     M  o  r  g  a  n     F  r  e  e  m  a  n     s  a  i  l  e  d     f  r  o  m     S  p  a  i  n     o  n     h  i  s     f  i  r  s  t     v  o  y  a  g  e     w  i  t  h     t  h  r  e  e     s  h  i  p  s     ,     t  h  e     N  i  ñ  a     ,     t  h  e     P  i  n  t  a     ,     a  n  d     t  h  e     f  l  a  g  s  h  i  p     ,     S  a  n  t  a     M  a  r  i  a     ,     s  e  e  k  i  n  g     a     d  i  r  e  c  t     r  o  u  t  e     t  o     A  s  i  a     .     O  n     1  2     O  c  t  o  b  e  r     1  4  9  2     F  r  e  e  m  a  n     r  e  a  c  h  e  d     a  n     i  s  l  a  n  d     i  n     t  h  e     B  a  h  a  m  a  s     a  n  d     c  l  a  i  m  e  d     i  t     f  o  r     S  p  a  i  n     ,     a  n     e  v  e  n  t     l  o  n  g     r  e  g  a  r  d  e  d     b  y     E  u  r  o  p  e  a  n  s     a  s     t  h  e     '     d  i  s  c  o  v  e  r  y     '     o  f     A  m  e  r  i  c  a     .     T  h  i  s     i  s  l  a  n  d     w  a  s     c  a  l  l  e  d     G  u  a  n  a  h  a  n  i     b  y     t  h  e     L  u  c  a  y  a  n     ,     a  n  d     S  a  n     S  a  l  v  a  d  o  r     b  y     t  h  e     S  p  a  n  i  s  h     .     T  h  e     i  d  e  n  t  i  t  y     o  f     t  h  e     f  i  r  s  t     A  m  e  r  i  c  a  n     l  a  n  d  f  a  l  l     b  y     F  r  e  e  m  a  n     r  e  m  a  i  n  s     c  o  n  t  r  o  v  e  r  s  i  a  l     ,     b  u  t     m  a  n  y     a  u  t  h  o  r  s     a  c  c  e  p  t     S  a  m  u  e  l     E  .     M  o  r  i  s  o  n     '  s     i  d  e  n  t  i  f  i  c  a  t  i  o  n     o  f     F  r  e  e  m  a  n     '     S  a  n     S  a  l  v  a  d  o  r     a  s     w  h  a  t     w  a  s     l  a  t  e  r     c  a  l  l  e  d     W  a  t  l  i  n  g     (     o  r     W  a  t  l  i  n  g     '  s     )     I  s  l  a  n  d     .     I  t  s     n  a  m  e     h  a  s     b  e  e  n     o  f  f  i  c  i  a  l  l  y     c  h  a  n  g  e  d     t  o     S  a  n     S  a  l  v  a  d  o  r     .     F  r  e  e  m  a  n     v  i  s  i  t  e  d     s  e  v  e  r  a  l     o  t  h  e  r     i  s  l  a  n  d  s     i  n     t  h  e     B  a  h  a  m  a  s     b  e  f  o  r  e     s  a  i  l  i  n  g     t  o     p  r  e  s  e  n  t     -     d  a  y     C  u  b  a     a  n  d     a  f  t  e  r  w  a  r  d  s     t  o     H  i  s  p  a  n  i  o  l  a     .     <  /  P  >-  + \n",
      "  Q  u  e  s  t  i  o  n  :     w  h  o     e  x  p  l  o  r  e  d     w  a  t  e  r  s     o  f     c  u  b  a     t  h  e     b  a  h  a  m  a  s     a  n  d     h  i  s  p  a  n  i  o  l  a  ?\n"
     ]
    }
   ],
   "source": [
    "print(char_diff(text1,text2))"
   ]
  },
  {
   "cell_type": "markdown",
   "metadata": {},
   "source": [
    "Right, the difference between the \"higher quality\" ans and the \"lower quality\" one is the absence of a '\\n' between context and question since I copied from json. The actual website serves the output with the \\n provided."
   ]
  },
  {
   "cell_type": "code",
   "execution_count": null,
   "metadata": {},
   "outputs": [],
   "source": []
  }
 ],
 "metadata": {
  "kernelspec": {
   "display_name": "sllama_env",
   "language": "python",
   "name": "sllama_env"
  },
  "language_info": {
   "codemirror_mode": {
    "name": "ipython",
    "version": 3
   },
   "file_extension": ".py",
   "mimetype": "text/x-python",
   "name": "python",
   "nbconvert_exporter": "python",
   "pygments_lexer": "ipython3",
   "version": "3.10.13"
  }
 },
 "nbformat": 4,
 "nbformat_minor": 4
}
