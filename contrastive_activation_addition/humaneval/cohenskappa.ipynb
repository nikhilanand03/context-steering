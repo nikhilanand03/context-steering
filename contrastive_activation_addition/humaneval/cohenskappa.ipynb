{
 "cells": [
  {
   "cell_type": "code",
   "execution_count": 14,
   "metadata": {},
   "outputs": [
    {
     "name": "stdout",
     "output_type": "stream",
     "text": [
      "Cohen's kappa (Shwetha & Anirudh): 0.8229\n"
     ]
    },
    {
     "data": {
      "text/plain": [
       "(0.8462889767237594, 0.886052871467639)"
      ]
     },
     "execution_count": 14,
     "metadata": {},
     "output_type": "execute_result"
    }
   ],
   "source": [
    "import json\n",
    "from sklearn.metrics import cohen_kappa_score\n",
    "\n",
    "with open(\"shwetha_100annot.json\", \"r\") as f1, open(\"anirudh_100annot.json\", \"r\") as f2:\n",
    "    shwetha_data = json.load(f1)\n",
    "    anirudh_data = json.load(f2)\n",
    "\n",
    "annotator_1 = [item[\"annotator_1\"] for item in shwetha_data[:100]]\n",
    "annotator_2 = [item[\"annotator_2\"] for item in anirudh_data[:100]]\n",
    "annot_3 = [item[\"annotator_2\"] for item in shwetha_data[:100]]\n",
    "scores = [item[\"score\"] for item in shwetha_data[:100]]\n",
    "\n",
    "kappa1 = cohen_kappa_score(annotator_1, annot_3)\n",
    "kappa2 = cohen_kappa_score(annotator_1, scores)\n",
    "kappa3 = cohen_kappa_score(annot_3, scores)\n",
    "\n",
    "print(f\"Cohen's kappa (Shwetha & Anirudh): {kappa1:.4f}\")\n",
    "kappa2,kappa3"
   ]
  },
  {
   "cell_type": "code",
   "execution_count": null,
   "metadata": {},
   "outputs": [],
   "source": []
  }
 ],
 "metadata": {
  "kernelspec": {
   "display_name": "bioinfo",
   "language": "python",
   "name": "python3"
  },
  "language_info": {
   "codemirror_mode": {
    "name": "ipython",
    "version": 3
   },
   "file_extension": ".py",
   "mimetype": "text/x-python",
   "name": "python",
   "nbconvert_exporter": "python",
   "pygments_lexer": "ipython3",
   "version": "3.12.3"
  }
 },
 "nbformat": 4,
 "nbformat_minor": 2
}
