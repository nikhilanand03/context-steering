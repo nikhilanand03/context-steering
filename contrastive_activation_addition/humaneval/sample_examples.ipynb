{
 "cells": [
  {
   "cell_type": "code",
   "execution_count": 5,
   "metadata": {},
   "outputs": [
    {
     "name": "stdout",
     "output_type": "stream",
     "text": [
      "Sampled 200 examples and saved to sampled_output.json\n"
     ]
    }
   ],
   "source": [
    "import json\n",
    "import random\n",
    "\n",
    "def sample_json(input_file, output_file, sample_size=200):\n",
    "    with open(input_file, 'r') as f:\n",
    "        data = json.load(f)\n",
    "\n",
    "    if not isinstance(data, list):\n",
    "        raise ValueError(\"JSON file must contain a list of objects\")\n",
    "\n",
    "    sampled_data = random.sample(data, min(sample_size, len(data)))\n",
    "\n",
    "    for item in sampled_data:\n",
    "        item[\"annotator_1\"] = None\n",
    "        item[\"annotator_2\"] = None\n",
    "\n",
    "    with open(output_file, 'w') as f:\n",
    "        json.dump(sampled_data, f, indent=4)\n",
    "\n",
    "    print(f\"Sampled {len(sampled_data)} examples and saved to {output_file}\")\n",
    "\n",
    "sample_json(\"layer10mult2contrastiveapproach.json\", \"sampled_output.json\")\n"
   ]
  },
  {
   "cell_type": "code",
   "execution_count": 6,
   "metadata": {},
   "outputs": [
    {
     "name": "stdout",
     "output_type": "stream",
     "text": [
      "737\n"
     ]
    }
   ],
   "source": [
    "with open(\"layer10mult2contrastiveapproach.json\",'r') as f:\n",
    "    data = json.load(f)\n",
    "\n",
    "print(len(data))"
   ]
  },
  {
   "cell_type": "code",
   "execution_count": null,
   "metadata": {},
   "outputs": [],
   "source": []
  }
 ],
 "metadata": {
  "kernelspec": {
   "display_name": "bioinfo",
   "language": "python",
   "name": "python3"
  },
  "language_info": {
   "codemirror_mode": {
    "name": "ipython",
    "version": 3
   },
   "file_extension": ".py",
   "mimetype": "text/x-python",
   "name": "python",
   "nbconvert_exporter": "python",
   "pygments_lexer": "ipython3",
   "version": "3.12.3"
  }
 },
 "nbformat": 4,
 "nbformat_minor": 2
}
