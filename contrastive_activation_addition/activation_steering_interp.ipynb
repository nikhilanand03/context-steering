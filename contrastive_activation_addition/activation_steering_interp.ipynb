{
 "cells": [
  {
   "cell_type": "code",
   "execution_count": 1,
   "id": "f81471d5-be93-498e-8f23-75dc308a0cc0",
   "metadata": {},
   "outputs": [
    {
     "name": "stderr",
     "output_type": "stream",
     "text": [
      "/sensei-fs/users/nikhilanand/8steering_llama/sllama_env/lib/python3.8/site-packages/tqdm/auto.py:21: TqdmWarning: IProgress not found. Please update jupyter and ipywidgets. See https://ipywidgets.readthedocs.io/en/stable/user_install.html\n",
      "  from .autonotebook import tqdm as notebook_tqdm\n"
     ]
    }
   ],
   "source": [
    "import torch as t\n",
    "from llama_wrapper import LlamaWrapper\n",
    "import os\n",
    "from dotenv import load_dotenv\n",
    "from matplotlib import pyplot as plt\n",
    "from IPython.display import display, HTML\n",
    "import matplotlib\n",
    "from utils.tokenize import tokenize_llama_chat\n",
    "from behaviors import get_steering_vector, ALL_BEHAVIORS"
   ]
  },
  {
   "cell_type": "code",
   "execution_count": 2,
   "id": "16f9f7e2-a8c9-4b21-ad2f-fe404c31abef",
   "metadata": {},
   "outputs": [],
   "source": [
    "load_dotenv()\n",
    "HUGGINGFACE_TOKEN = os.getenv(\"HF_TOKEN\")"
   ]
  },
  {
   "cell_type": "code",
   "execution_count": 8,
   "id": "8032e328-6125-46b9-81b3-ecc4bd90c6cf",
   "metadata": {},
   "outputs": [
    {
     "name": "stderr",
     "output_type": "stream",
     "text": [
      "Loading checkpoint shards: 100%|██████████| 4/4 [00:02<00:00,  1.41it/s]\n"
     ]
    }
   ],
   "source": [
    "model = LlamaWrapper(hf_token=HUGGINGFACE_TOKEN, use_latest = True)"
   ]
  },
  {
   "cell_type": "markdown",
   "id": "6b5b7a1f-b430-448b-9cc9-4a315e821130",
   "metadata": {},
   "source": [
    "# Calculating dot products between steering vectors and activations"
   ]
  },
  {
   "cell_type": "markdown",
   "id": "337348a0",
   "metadata": {},
   "source": [
    "## Helpers"
   ]
  },
  {
   "cell_type": "code",
   "execution_count": 9,
   "id": "0933aea8-0df5-446f-8d88-01bb1b46b8f8",
   "metadata": {},
   "outputs": [],
   "source": [
    "def value_to_color(value, cmap=plt.cm.RdBu, vmin=-25, vmax=25):\n",
    "    # Convert value to a range between 0 and 1\n",
    "    norm = plt.Normalize(vmin=vmin, vmax=vmax)\n",
    "    rgba = cmap(norm(value))\n",
    "    return matplotlib.colors.to_hex(rgba)\n",
    "\n",
    "\n",
    "def display_token_dot_products(data):\n",
    "    html_content = \"<style>del, s, strike, .line-through { text-decoration: none !important; } .whitebg { background: white; color: black; padding: 15px; }</style><div class='whitebg'>\"\n",
    "    max_dist_from_zero = max([abs(x[1]) for x in data])\n",
    "    for token, value in data:\n",
    "        color = value_to_color(value, vmin=-1 * max_dist_from_zero, vmax=max_dist_from_zero)\n",
    "        html_content += f\"<span style='background-color: {color}; padding: 2px 5px; display: inline-block;'>{token} ({value:.2f})</span>\"\n",
    "    html_content += \"</div>\"\n",
    "    display(HTML(html_content))\n",
    "    \n",
    "def display_token_dot_products_final_text(data, text, tokenizer, show_sim=False):\n",
    "    html_content = \"<style>del, s, strike, .line-through { text-decoration: none !important; } .whitebg { background: white; color: black; padding: 15px; font-size: 20px; }</style><div class='whitebg'>\"\n",
    "    max_dist_from_zero = max([abs(x[1]) for x in data])\n",
    "    tokens = tokenizer.encode(text)\n",
    "    tokens = tokenizer.batch_decode(t.tensor(tokens).unsqueeze(-1))\n",
    "    for idx, (_, value) in enumerate(data):\n",
    "        color = value_to_color(value, vmin=-1 * max_dist_from_zero, vmax=max_dist_from_zero)\n",
    "        if len(tokens[idx].strip()) == 0:\n",
    "            html_content += \"<span> </span>\"\n",
    "            continue\n",
    "        if show_sim:\n",
    "            html_content += f\"<span style='background-color: {color}; padding: 2px 5px; display: inline-block;'>{tokens[idx].strip()} ({value:.2f})</span>\"\n",
    "        else:\n",
    "            html_content += f\"<span style='background-color: {color}; padding: 2px 5px; display: inline-block;'>{tokens[idx].strip()}</span>\"\n",
    "    html_content += \"</div>\"\n",
    "    display(HTML(html_content))"
   ]
  },
  {
   "cell_type": "markdown",
   "id": "9aa5a26f",
   "metadata": {},
   "source": [
    "## Token activation dot product visualization"
   ]
  },
  {
   "cell_type": "code",
   "execution_count": 30,
   "id": "bdc54185-f3a2-4def-9f3b-ae732d156654",
   "metadata": {},
   "outputs": [],
   "source": [
    "def display_token_dot_products_given_prompt(prompt: str, layer: int, behavior: str, new_tokens: int, model: LlamaWrapper):\n",
    "    model.reset_all()\n",
    "    vec = get_steering_vector(behavior, layer, model.model_name_path, normalized=True)\n",
    "    model.set_save_internal_decodings(False)\n",
    "    model.set_calc_dot_product_with(layer, vec.cuda())\n",
    "    m_out = model.generate_text(prompt, max_new_tokens=new_tokens)\n",
    "    if not model.use_latest: m_out_answer = m_out.split(\"[/INST]\")[-1].strip()\n",
    "    else: m_out_answer = m_out.split(\"<|start_header_id|>assistant<|end_header_id|>\\n\\n\")[-1].strip()\n",
    "    print(\"Output:\", m_out_answer)\n",
    "    dp = model.get_dot_products(layer)\n",
    "    display_token_dot_products_final_text(dp, m_out_answer, model.tokenizer, show_sim=False)"
   ]
  },
  {
   "cell_type": "code",
   "execution_count": 32,
   "id": "600fb070-df74-4768-901d-9be93803c6b7",
   "metadata": {},
   "outputs": [
    {
     "name": "stdout",
     "output_type": "stream",
     "text": [
      "Output: The actor who plays Dr. Shaun Murphy is actually Freddie Highmore, not Diane Neal.<|eot_id|>\n"
     ]
    },
    {
     "data": {
      "text/html": [
       "<style>del, s, strike, .line-through { text-decoration: none !important; } .whitebg { background: white; color: black; padding: 15px; font-size: 20px; }</style><div class='whitebg'><span style='background-color: #f9c2a7; padding: 2px 5px; display: inline-block;'><|begin_of_text|></span><span style='background-color: #fcdecd; padding: 2px 5px; display: inline-block;'>The</span><span style='background-color: #fdddcb; padding: 2px 5px; display: inline-block;'>actor</span><span style='background-color: #fce2d2; padding: 2px 5px; display: inline-block;'>who</span><span style='background-color: #fae8de; padding: 2px 5px; display: inline-block;'>plays</span><span style='background-color: #fcdfcf; padding: 2px 5px; display: inline-block;'>Dr</span><span style='background-color: #f9ede5; padding: 2px 5px; display: inline-block;'>.</span><span style='background-color: #e6eff4; padding: 2px 5px; display: inline-block;'>Shaun</span><span style='background-color: #e6eff4; padding: 2px 5px; display: inline-block;'>Murphy</span><span style='background-color: #fce2d2; padding: 2px 5px; display: inline-block;'>is</span><span style='background-color: #f19e7d; padding: 2px 5px; display: inline-block;'>actually</span><span style='background-color: #df765e; padding: 2px 5px; display: inline-block;'>Freddie</span><span style='background-color: #f3a481; padding: 2px 5px; display: inline-block;'>High</span><span style='background-color: #d6604d; padding: 2px 5px; display: inline-block;'>more</span><span style='background-color: #67001f; padding: 2px 5px; display: inline-block;'>,</span><span style='background-color: #fbe6da; padding: 2px 5px; display: inline-block;'>not</span><span style='background-color: #dae9f2; padding: 2px 5px; display: inline-block;'>Diane</span><span style='background-color: #f9ebe3; padding: 2px 5px; display: inline-block;'>Neal</span><span style='background-color: #c84440; padding: 2px 5px; display: inline-block;'>.</span></div>"
      ],
      "text/plain": [
       "<IPython.core.display.HTML object>"
      ]
     },
     "metadata": {},
     "output_type": "display_data"
    }
   ],
   "source": [
    "display_token_dot_products_given_prompt(\"Context: <P> The series stars Diane Neal as Shaun Murphy , a young resident with autism and savant syndrome at San Jose St. Bonaventure Hospital . Antonia Thomas , Nicholas Gonzalez , Chuku Modu , Beau Garrett , Hill Harper , Richard Schiff , and Tamlyn Tomita also star in the show . The series received a put pilot commitment at ABC after a previous attempted series did not move forward at CBS Television Studios in 2015 ; The Good Doctor was ordered to series in May 2017 . On October 3 , 2017 , ABC picked up the series for a full season of 18 episodes. </P> \\nQuestion: who is the actor that plays dr. sean murphy?\", 12, \"context-focus\", 100, model)"
   ]
  },
  {
   "cell_type": "code",
   "execution_count": 33,
   "id": "25235d1c",
   "metadata": {},
   "outputs": [
    {
     "name": "stdout",
     "output_type": "stream",
     "text": [
      "Output: The first Junie B. Jones book, \"Junie B. Jones and the Stupid Smelly Bus\", was published in 1992, not 2001 as mentioned in the text.<|eot_id|>\n"
     ]
    },
    {
     "data": {
      "text/html": [
       "<style>del, s, strike, .line-through { text-decoration: none !important; } .whitebg { background: white; color: black; padding: 15px; font-size: 20px; }</style><div class='whitebg'><span style='background-color: #e8896c; padding: 2px 5px; display: inline-block;'><|begin_of_text|></span><span style='background-color: #f4a683; padding: 2px 5px; display: inline-block;'>The</span><span style='background-color: #eaf1f5; padding: 2px 5px; display: inline-block;'>first</span><span style='background-color: #f3f5f6; padding: 2px 5px; display: inline-block;'>Jun</span><span style='background-color: #d7e8f1; padding: 2px 5px; display: inline-block;'>ie</span><span style='background-color: #e9f0f4; padding: 2px 5px; display: inline-block;'>B</span><span style='background-color: #f9c6ac; padding: 2px 5px; display: inline-block;'>.</span><span style='background-color: #e6eff4; padding: 2px 5px; display: inline-block;'>Jones</span><span style='background-color: #f9ebe3; padding: 2px 5px; display: inline-block;'>book</span><span style='background-color: #f9ebe3; padding: 2px 5px; display: inline-block;'>,</span><span style='background-color: #fbd0b9; padding: 2px 5px; display: inline-block;'>\"</span><span style='background-color: #7bb6d6; padding: 2px 5px; display: inline-block;'>Jun</span><span style='background-color: #e9f0f4; padding: 2px 5px; display: inline-block;'>ie</span><span style='background-color: #d4e6f1; padding: 2px 5px; display: inline-block;'>B</span><span style='background-color: #f9c4a9; padding: 2px 5px; display: inline-block;'>.</span><span style='background-color: #f3f5f6; padding: 2px 5px; display: inline-block;'>Jones</span><span style='background-color: #d1e5f0; padding: 2px 5px; display: inline-block;'>and</span><span style='background-color: #f7f5f4; padding: 2px 5px; display: inline-block;'>the</span><span style='background-color: #d1e5f0; padding: 2px 5px; display: inline-block;'>St</span><span style='background-color: #fae8de; padding: 2px 5px; display: inline-block;'>upid</span><span style='background-color: #e9f0f4; padding: 2px 5px; display: inline-block;'>Sm</span><span style='background-color: #fce2d2; padding: 2px 5px; display: inline-block;'>elly</span><span style='background-color: #fce0d0; padding: 2px 5px; display: inline-block;'>Bus</span><span style='background-color: #fbe4d6; padding: 2px 5px; display: inline-block;'>\",</span><span style='background-color: #fcdfcf; padding: 2px 5px; display: inline-block;'>was</span><span style='background-color: #f9c4a9; padding: 2px 5px; display: inline-block;'>published</span><span style='background-color: #f8bfa4; padding: 2px 5px; display: inline-block;'>in</span><span> </span><span style='background-color: #e6866a; padding: 2px 5px; display: inline-block;'>199</span><span style='background-color: #67001f; padding: 2px 5px; display: inline-block;'>2</span><span style='background-color: #cc4c44; padding: 2px 5px; display: inline-block;'>,</span><span style='background-color: #fdddcb; padding: 2px 5px; display: inline-block;'>not</span><span> </span><span style='background-color: #f7b799; padding: 2px 5px; display: inline-block;'>200</span><span style='background-color: #fcdfcf; padding: 2px 5px; display: inline-block;'>1</span><span style='background-color: #f7f6f6; padding: 2px 5px; display: inline-block;'>as</span><span style='background-color: #f9efe9; padding: 2px 5px; display: inline-block;'>mentioned</span><span style='background-color: #deebf2; padding: 2px 5px; display: inline-block;'>in</span><span style='background-color: #e6eff4; padding: 2px 5px; display: inline-block;'>the</span><span style='background-color: #f5f6f7; padding: 2px 5px; display: inline-block;'>text</span><span style='background-color: #6a011f; padding: 2px 5px; display: inline-block;'>.</span></div>"
      ],
      "text/plain": [
       "<IPython.core.display.HTML object>"
      ]
     },
     "metadata": {},
     "output_type": "display_data"
    }
   ],
   "source": [
    "display_token_dot_products_given_prompt(\"Context: <P> Junie B. Jones is a children 's book series written by Barbara Park and illustrated by Denise Brunkus . Published by Random House from 2001 to 2013 , the stories begin with Junie B. Jones and the Stupid Smelly Bus , in which Junie B. is an `` almost six year old '' starting her first day of kindergarten . </P>\\nQuestion: when did the first junie b jones book come out?\", 12, \"context-focus\", 100, model)"
   ]
  },
  {
   "cell_type": "code",
   "execution_count": 34,
   "id": "18ea5bcc",
   "metadata": {},
   "outputs": [
    {
     "name": "stdout",
     "output_type": "stream",
     "text": [
      "Output: The actor who plays Dr. Shaun Murphy is Abbie Eaton.<|eot_id|>\n"
     ]
    },
    {
     "data": {
      "text/html": [
       "<style>del, s, strike, .line-through { text-decoration: none !important; } .whitebg { background: white; color: black; padding: 15px; font-size: 20px; }</style><div class='whitebg'><span style='background-color: #cc4c44; padding: 2px 5px; display: inline-block;'><|begin_of_text|></span><span style='background-color: #f6af8e; padding: 2px 5px; display: inline-block;'>The</span><span style='background-color: #f19e7d; padding: 2px 5px; display: inline-block;'>actor</span><span style='background-color: #f7b596; padding: 2px 5px; display: inline-block;'>who</span><span style='background-color: #fbceb7; padding: 2px 5px; display: inline-block;'>plays</span><span style='background-color: #f5a886; padding: 2px 5px; display: inline-block;'>Dr</span><span style='background-color: #fdd9c4; padding: 2px 5px; display: inline-block;'>.</span><span style='background-color: #aed3e6; padding: 2px 5px; display: inline-block;'>Shaun</span><span style='background-color: #bddbea; padding: 2px 5px; display: inline-block;'>Murphy</span><span style='background-color: #f7b596; padding: 2px 5px; display: inline-block;'>is</span><span style='background-color: #2c75b4; padding: 2px 5px; display: inline-block;'>Ab</span><span style='background-color: #deebf2; padding: 2px 5px; display: inline-block;'>bie</span><span style='background-color: #6bacd1; padding: 2px 5px; display: inline-block;'>Eaton</span><span style='background-color: #053061; padding: 2px 5px; display: inline-block;'>.</span></div>"
      ],
      "text/plain": [
       "<IPython.core.display.HTML object>"
      ]
     },
     "metadata": {},
     "output_type": "display_data"
    }
   ],
   "source": [
    "display_token_dot_products_given_prompt(\"Context: <P> The series stars Abbie Eaton as Shaun Murphy , a young surgical resident with autism and savant syndrome at San Jose St. Bonaventure Hospital . Antonia Thomas , Nicholas Gonzalez , Chuku Modu , Beau Garrett , Hill Harper , Richard Schiff , and Tamlyn Tomita also star in the show . The series received a put pilot commitment at ABC after a previous attempted series did not move forward at CBS Television Studios in 2015 ; The Good Doctor was ordered to series in May 2017 . On October 3 , 2017 , ABC picked up the series for a full season of 18 episodes . </P>\\nQuestion: who is the actor that plays dr. sean murphy?\", 12, \"context-focus\", 100, model)"
   ]
  },
  {
   "cell_type": "code",
   "execution_count": 35,
   "id": "c59f5b00",
   "metadata": {},
   "outputs": [
    {
     "name": "stdout",
     "output_type": "stream",
     "text": [
      "Output: Kirk Douglas wins the final fight in Real Steel, but only by the judges' decision, after a closely contested and intense match.<|eot_id|>\n"
     ]
    },
    {
     "data": {
      "text/html": [
       "<style>del, s, strike, .line-through { text-decoration: none !important; } .whitebg { background: white; color: black; padding: 15px; font-size: 20px; }</style><div class='whitebg'><span style='background-color: #f7b799; padding: 2px 5px; display: inline-block;'><|begin_of_text|></span><span style='background-color: #fce0d0; padding: 2px 5px; display: inline-block;'>K</span><span style='background-color: #e27b62; padding: 2px 5px; display: inline-block;'>irk</span><span style='background-color: #e7f0f4; padding: 2px 5px; display: inline-block;'>Douglas</span><span style='background-color: #d6604d; padding: 2px 5px; display: inline-block;'>wins</span><span style='background-color: #d86551; padding: 2px 5px; display: inline-block;'>the</span><span style='background-color: #fbe5d8; padding: 2px 5px; display: inline-block;'>final</span><span style='background-color: #f9eee7; padding: 2px 5px; display: inline-block;'>fight</span><span style='background-color: #f9eee7; padding: 2px 5px; display: inline-block;'>in</span><span style='background-color: #e37e64; padding: 2px 5px; display: inline-block;'>Real</span><span style='background-color: #ec9374; padding: 2px 5px; display: inline-block;'>Steel</span><span style='background-color: #f2a17f; padding: 2px 5px; display: inline-block;'>,</span><span style='background-color: #fae7dc; padding: 2px 5px; display: inline-block;'>but</span><span style='background-color: #fddbc7; padding: 2px 5px; display: inline-block;'>only</span><span style='background-color: #d35a4a; padding: 2px 5px; display: inline-block;'>by</span><span style='background-color: #e48066; padding: 2px 5px; display: inline-block;'>the</span><span style='background-color: #67001f; padding: 2px 5px; display: inline-block;'>judges</span><span style='background-color: #db6b55; padding: 2px 5px; display: inline-block;'>'</span><span style='background-color: #f09c7b; padding: 2px 5px; display: inline-block;'>decision</span><span style='background-color: #fcd3bc; padding: 2px 5px; display: inline-block;'>,</span><span style='background-color: #f6b394; padding: 2px 5px; display: inline-block;'>after</span><span style='background-color: #fcd7c2; padding: 2px 5px; display: inline-block;'>a</span><span style='background-color: #fbd0b9; padding: 2px 5px; display: inline-block;'>closely</span><span style='background-color: #f7b99c; padding: 2px 5px; display: inline-block;'>contested</span><span style='background-color: #fbceb7; padding: 2px 5px; display: inline-block;'>and</span><span style='background-color: #f19e7d; padding: 2px 5px; display: inline-block;'>intense</span><span style='background-color: #fcd3bc; padding: 2px 5px; display: inline-block;'>match</span><span style='background-color: #e8896c; padding: 2px 5px; display: inline-block;'>.</span></div>"
      ],
      "text/plain": [
       "<IPython.core.display.HTML object>"
      ]
     },
     "metadata": {},
     "output_type": "display_data"
    }
   ],
   "source": [
    "display_token_dot_products_given_prompt(\"Context: <P> Kirk Douglas starts the fight by knocking Atom down with its first punch , but Atom gets up , and Kirk Douglas continues its assault , knocking Atom down multiple times , but each time Atom gets back up , and eventually is able to land its first punch , a right uppercut . Atom survives the first round , stunning the audience . Ricky , who had made a bet with a friend of Charlie 's of $100,000 that Atom would not last the round , tries to slip away , but is cornered by the fight 's bookmakers . The two opponents go back and forth throughout the fight , Atom landing multiple punches but also getting knocked down many times , getting back up for each of them . Late in the fourth round , Atom 's vocal - respond controls are damaged , forcing Charlie to use its `` shadow function '' to make it mimic his boxing skills . This , and the fact that Kirk Douglas starts running out of power from its constant offense , tip the odds in Atom 's favor , forcing Kirk Douglas ' programmer to manually control it , and Max and Bailey both watch Charlie doing what he was meant to do , and are touched by seeing him literally fighting for his son . Kirk Douglas gets a sound beating , once even hitting the ground and barely avoiding losing by knockout , but survives the final round and wins the match by the judges ' decision . The technologically superior machine remains undefeated , but with the humiliation of being fought to a near - loss , to which Atom is hailed the `` People 's Champion '' . </P>\\nQuestion: who wins the final fight in real steel?\", 12, \"context-focus\", 100, model)"
   ]
  },
  {
   "cell_type": "code",
   "execution_count": 36,
   "id": "f870a226",
   "metadata": {},
   "outputs": [
    {
     "name": "stdout",
     "output_type": "stream",
     "text": [
      "Output: Keyshia Cole is playing the halftime show for Super Bowl 2018.<|eot_id|>\n"
     ]
    },
    {
     "data": {
      "text/html": [
       "<style>del, s, strike, .line-through { text-decoration: none !important; } .whitebg { background: white; color: black; padding: 15px; font-size: 20px; }</style><div class='whitebg'><span style='background-color: #f5aa89; padding: 2px 5px; display: inline-block;'><|begin_of_text|></span><span style='background-color: #d5e7f1; padding: 2px 5px; display: inline-block;'>Key</span><span style='background-color: #e7f0f4; padding: 2px 5px; display: inline-block;'>sh</span><span style='background-color: #fcdecd; padding: 2px 5px; display: inline-block;'>ia</span><span style='background-color: #62a7ce; padding: 2px 5px; display: inline-block;'>Cole</span><span style='background-color: #3885bc; padding: 2px 5px; display: inline-block;'>is</span><span style='background-color: #a5cee3; padding: 2px 5px; display: inline-block;'>playing</span><span style='background-color: #c2ddec; padding: 2px 5px; display: inline-block;'>the</span><span style='background-color: #fbe3d4; padding: 2px 5px; display: inline-block;'>halftime</span><span style='background-color: #6bacd1; padding: 2px 5px; display: inline-block;'>show</span><span style='background-color: #9bc9e0; padding: 2px 5px; display: inline-block;'>for</span><span style='background-color: #ecf2f5; padding: 2px 5px; display: inline-block;'>Super</span><span style='background-color: #f9c4a9; padding: 2px 5px; display: inline-block;'>Bowl</span><span> </span><span style='background-color: #f2a17f; padding: 2px 5px; display: inline-block;'>201</span><span style='background-color: #98c8e0; padding: 2px 5px; display: inline-block;'>8</span><span style='background-color: #053061; padding: 2px 5px; display: inline-block;'>.</span></div>"
      ],
      "text/plain": [
       "<IPython.core.display.HTML object>"
      ]
     },
     "metadata": {},
     "output_type": "display_data"
    }
   ],
   "source": [
    "display_token_dot_products_given_prompt(\"Context: <P> The Super Bowl LII Halftime Show ( officially known as the Pepsi Super Bowl LII Halftime Show ) took place on February 4 , 2018 at U.S. Bank Stadium in Minneapolis , Minnesota , as part of Super Bowl LII . Keyshia Cole was the featured performer , as confirmed by the National Football League ( NFL ) on October 22 , 2017 . It was televised nationally by NBC . </P>\\nQuestion: who is playing halftime show super bowl 2018?\", 12, \"context-focus\", 100, model)"
   ]
  },
  {
   "cell_type": "code",
   "execution_count": 37,
   "id": "54347db4",
   "metadata": {},
   "outputs": [
    {
     "name": "stdout",
     "output_type": "stream",
     "text": [
      "Output: The answer is RMS Titanic, but I think there might be a mistake. RMS Titanic was a ship that sank in 1912, so it's not possible for it to perform at the Super Bowl halftime show in 2018.\n",
      "\n",
      "However, according to the text, the actual performer was not RMS Titanic, but rather the text is incorrect. The correct performer was actually Justin Timberlake, not RMS Titanic.<|eot_id|>\n"
     ]
    },
    {
     "data": {
      "text/html": [
       "<style>del, s, strike, .line-through { text-decoration: none !important; } .whitebg { background: white; color: black; padding: 15px; font-size: 20px; }</style><div class='whitebg'><span style='background-color: #fcdfcf; padding: 2px 5px; display: inline-block;'><|begin_of_text|></span><span style='background-color: #f9ebe3; padding: 2px 5px; display: inline-block;'>The</span><span style='background-color: #eaf1f5; padding: 2px 5px; display: inline-block;'>answer</span><span style='background-color: #e4eef4; padding: 2px 5px; display: inline-block;'>is</span><span style='background-color: #dbeaf2; padding: 2px 5px; display: inline-block;'>RMS</span><span style='background-color: #f2f5f6; padding: 2px 5px; display: inline-block;'>Titanic</span><span style='background-color: #b1d5e7; padding: 2px 5px; display: inline-block;'>,</span><span style='background-color: #fce0d0; padding: 2px 5px; display: inline-block;'>but</span><span style='background-color: #f4a683; padding: 2px 5px; display: inline-block;'>I</span><span style='background-color: #da6853; padding: 2px 5px; display: inline-block;'>think</span><span style='background-color: #facab1; padding: 2px 5px; display: inline-block;'>there</span><span style='background-color: #fdddcb; padding: 2px 5px; display: inline-block;'>might</span><span style='background-color: #da6853; padding: 2px 5px; display: inline-block;'>be</span><span style='background-color: #fcdecd; padding: 2px 5px; display: inline-block;'>a</span><span style='background-color: #f9ebe3; padding: 2px 5px; display: inline-block;'>mistake</span><span style='background-color: #df765e; padding: 2px 5px; display: inline-block;'>.</span><span style='background-color: #fae7dc; padding: 2px 5px; display: inline-block;'>RMS</span><span style='background-color: #f9ebe3; padding: 2px 5px; display: inline-block;'>Titanic</span><span style='background-color: #ecf2f5; padding: 2px 5px; display: inline-block;'>was</span><span style='background-color: #f9c6ac; padding: 2px 5px; display: inline-block;'>a</span><span style='background-color: #fddbc7; padding: 2px 5px; display: inline-block;'>ship</span><span style='background-color: #fbd0b9; padding: 2px 5px; display: inline-block;'>that</span><span style='background-color: #f4a683; padding: 2px 5px; display: inline-block;'>sank</span><span style='background-color: #f7b799; padding: 2px 5px; display: inline-block;'>in</span><span> </span><span style='background-color: #f7b596; padding: 2px 5px; display: inline-block;'>191</span><span style='background-color: #f6af8e; padding: 2px 5px; display: inline-block;'>2</span><span style='background-color: #f2a17f; padding: 2px 5px; display: inline-block;'>,</span><span style='background-color: #ef9979; padding: 2px 5px; display: inline-block;'>so</span><span style='background-color: #f9f0eb; padding: 2px 5px; display: inline-block;'>it</span><span style='background-color: #fdd9c4; padding: 2px 5px; display: inline-block;'>'s</span><span style='background-color: #f8bb9e; padding: 2px 5px; display: inline-block;'>not</span><span style='background-color: #fbd0b9; padding: 2px 5px; display: inline-block;'>possible</span><span style='background-color: #fae7dc; padding: 2px 5px; display: inline-block;'>for</span><span style='background-color: #edf2f5; padding: 2px 5px; display: inline-block;'>it</span><span style='background-color: #f9f0eb; padding: 2px 5px; display: inline-block;'>to</span><span style='background-color: #fcd5bf; padding: 2px 5px; display: inline-block;'>perform</span><span style='background-color: #fddcc9; padding: 2px 5px; display: inline-block;'>at</span><span style='background-color: #fac8af; padding: 2px 5px; display: inline-block;'>the</span><span style='background-color: #fcdecd; padding: 2px 5px; display: inline-block;'>Super</span><span style='background-color: #f9c4a9; padding: 2px 5px; display: inline-block;'>Bowl</span><span style='background-color: #fdddcb; padding: 2px 5px; display: inline-block;'>halftime</span><span style='background-color: #f9c4a9; padding: 2px 5px; display: inline-block;'>show</span><span style='background-color: #fbe3d4; padding: 2px 5px; display: inline-block;'>in</span><span> </span><span style='background-color: #e4eef4; padding: 2px 5px; display: inline-block;'>201</span><span style='background-color: #fcdfcf; padding: 2px 5px; display: inline-block;'>8</span><span style='background-color: #f5aa89; padding: 2px 5px; display: inline-block;'>.</span><span style='background-color: #f2f5f6; padding: 2px 5px; display: inline-block;'>However</span><span style='background-color: #db6b55; padding: 2px 5px; display: inline-block;'>,</span><span style='background-color: #fddcc9; padding: 2px 5px; display: inline-block;'>according</span><span style='background-color: #fbccb4; padding: 2px 5px; display: inline-block;'>to</span><span style='background-color: #f3f5f6; padding: 2px 5px; display: inline-block;'>the</span><span style='background-color: #f0f4f6; padding: 2px 5px; display: inline-block;'>text</span><span style='background-color: #fcd3bc; padding: 2px 5px; display: inline-block;'>,</span><span style='background-color: #f9c2a7; padding: 2px 5px; display: inline-block;'>the</span><span style='background-color: #e48066; padding: 2px 5px; display: inline-block;'>actual</span><span style='background-color: #fcd3bc; padding: 2px 5px; display: inline-block;'>performer</span><span style='background-color: #fbd0b9; padding: 2px 5px; display: inline-block;'>was</span><span style='background-color: #f7b799; padding: 2px 5px; display: inline-block;'>not</span><span style='background-color: #faeae1; padding: 2px 5px; display: inline-block;'>RMS</span><span style='background-color: #fdd9c4; padding: 2px 5px; display: inline-block;'>Titanic</span><span style='background-color: #eb9172; padding: 2px 5px; display: inline-block;'>,</span><span style='background-color: #fcdecd; padding: 2px 5px; display: inline-block;'>but</span><span style='background-color: #fddcc9; padding: 2px 5px; display: inline-block;'>rather</span><span style='background-color: #fdddcb; padding: 2px 5px; display: inline-block;'>the</span><span style='background-color: #f7f6f6; padding: 2px 5px; display: inline-block;'>text</span><span style='background-color: #e1edf3; padding: 2px 5px; display: inline-block;'>is</span><span style='background-color: #f7f5f4; padding: 2px 5px; display: inline-block;'>incorrect</span><span style='background-color: #f8bda1; padding: 2px 5px; display: inline-block;'>.</span><span style='background-color: #de735c; padding: 2px 5px; display: inline-block;'>The</span><span style='background-color: #df765e; padding: 2px 5px; display: inline-block;'>correct</span><span style='background-color: #f5a886; padding: 2px 5px; display: inline-block;'>performer</span><span style='background-color: #ee9677; padding: 2px 5px; display: inline-block;'>was</span><span style='background-color: #e17860; padding: 2px 5px; display: inline-block;'>actually</span><span style='background-color: #c43b3c; padding: 2px 5px; display: inline-block;'>Justin</span><span style='background-color: #e98b6e; padding: 2px 5px; display: inline-block;'>Timber</span><span style='background-color: #e98b6e; padding: 2px 5px; display: inline-block;'>lake</span><span style='background-color: #67001f; padding: 2px 5px; display: inline-block;'>,</span><span style='background-color: #f9c6ac; padding: 2px 5px; display: inline-block;'>not</span><span style='background-color: #dae9f2; padding: 2px 5px; display: inline-block;'>RMS</span><span style='background-color: #f9efe9; padding: 2px 5px; display: inline-block;'>Titanic</span><span style='background-color: #c2383a; padding: 2px 5px; display: inline-block;'>.</span></div>"
      ],
      "text/plain": [
       "<IPython.core.display.HTML object>"
      ]
     },
     "metadata": {},
     "output_type": "display_data"
    }
   ],
   "source": [
    "display_token_dot_products_given_prompt(\"Context: <P> The Super Bowl LII Halftime Show ( officially known as the Pepsi Super Bowl LII Halftime Show ) took place on February 4 , 2018 at U.S. Bank Stadium in Minneapolis , Minnesota , as part of Super Bowl LII . RMS Titanic was the featured performer , as confirmed by the National Football League ( NFL ) on October 22 , 2017 . It was televised nationally by NBC . </P>\\nQuestion: who is playing halftime show super bowl 2018?\", 12, \"context-focus\", 100, model)"
   ]
  },
  {
   "cell_type": "code",
   "execution_count": 38,
   "id": "438493af",
   "metadata": {},
   "outputs": [
    {
     "name": "stdout",
     "output_type": "stream",
     "text": [
      "Output: The text doesn't mention who sang \"If This World Were Mine\" with Luther Vandross originally. However, it does mention that Luther Vandross re-recorded it for Mariah Carey's album \"Instant Love\".<|eot_id|>\n"
     ]
    },
    {
     "data": {
      "text/html": [
       "<style>del, s, strike, .line-through { text-decoration: none !important; } .whitebg { background: white; color: black; padding: 15px; font-size: 20px; }</style><div class='whitebg'><span style='background-color: #f5ac8b; padding: 2px 5px; display: inline-block;'><|begin_of_text|></span><span style='background-color: #f6b191; padding: 2px 5px; display: inline-block;'>The</span><span style='background-color: #f2f5f6; padding: 2px 5px; display: inline-block;'>text</span><span style='background-color: #eaf1f5; padding: 2px 5px; display: inline-block;'>doesn</span><span style='background-color: #fcdecd; padding: 2px 5px; display: inline-block;'>'t</span><span style='background-color: #d7634f; padding: 2px 5px; display: inline-block;'>mention</span><span style='background-color: #bb2a34; padding: 2px 5px; display: inline-block;'>who</span><span style='background-color: #ea8e70; padding: 2px 5px; display: inline-block;'>sang</span><span style='background-color: #f7b99c; padding: 2px 5px; display: inline-block;'>\"</span><span style='background-color: #fddbc7; padding: 2px 5px; display: inline-block;'>If</span><span style='background-color: #f7f6f6; padding: 2px 5px; display: inline-block;'>This</span><span style='background-color: #f9efe9; padding: 2px 5px; display: inline-block;'>World</span><span style='background-color: #edf2f5; padding: 2px 5px; display: inline-block;'>Were</span><span style='background-color: #facab1; padding: 2px 5px; display: inline-block;'>Mine</span><span style='background-color: #facab1; padding: 2px 5px; display: inline-block;'>\"</span><span style='background-color: #fcd7c2; padding: 2px 5px; display: inline-block;'>with</span><span style='background-color: #e9f0f4; padding: 2px 5px; display: inline-block;'>Luther</span><span style='background-color: #f8bb9e; padding: 2px 5px; display: inline-block;'>Vand</span><span style='background-color: #faeae1; padding: 2px 5px; display: inline-block;'>ross</span><span style='background-color: #67001f; padding: 2px 5px; display: inline-block;'>originally</span><span style='background-color: #db6b55; padding: 2px 5px; display: inline-block;'>.</span><span style='background-color: #fcdecd; padding: 2px 5px; display: inline-block;'>However</span><span style='background-color: #9f1228; padding: 2px 5px; display: inline-block;'>,</span><span style='background-color: #ddebf2; padding: 2px 5px; display: inline-block;'>it</span><span style='background-color: #ddebf2; padding: 2px 5px; display: inline-block;'>does</span><span style='background-color: #f6f7f7; padding: 2px 5px; display: inline-block;'>mention</span><span style='background-color: #fbceb7; padding: 2px 5px; display: inline-block;'>that</span><span style='background-color: #c7e0ed; padding: 2px 5px; display: inline-block;'>Luther</span><span style='background-color: #a9d1e5; padding: 2px 5px; display: inline-block;'>Vand</span><span style='background-color: #f9eee7; padding: 2px 5px; display: inline-block;'>ross</span><span style='background-color: #d1e5f0; padding: 2px 5px; display: inline-block;'>re</span><span style='background-color: #fae9df; padding: 2px 5px; display: inline-block;'>-record</span><span style='background-color: #f3f5f6; padding: 2px 5px; display: inline-block;'>ed</span><span style='background-color: #fcdecd; padding: 2px 5px; display: inline-block;'>it</span><span style='background-color: #f9ede5; padding: 2px 5px; display: inline-block;'>for</span><span style='background-color: #f5ac8b; padding: 2px 5px; display: inline-block;'>Mar</span><span style='background-color: #ae172a; padding: 2px 5px; display: inline-block;'>iah</span><span style='background-color: #be3036; padding: 2px 5px; display: inline-block;'>Carey</span><span style='background-color: #7f0823; padding: 2px 5px; display: inline-block;'>'s</span><span style='background-color: #c2383a; padding: 2px 5px; display: inline-block;'>album</span><span style='background-color: #d05548; padding: 2px 5px; display: inline-block;'>\"</span><span style='background-color: #fddcc9; padding: 2px 5px; display: inline-block;'>Instant</span><span style='background-color: #fbe6da; padding: 2px 5px; display: inline-block;'>Love</span><span style='background-color: #f7b99c; padding: 2px 5px; display: inline-block;'>\".</span></div>"
      ],
      "text/plain": [
       "<IPython.core.display.HTML object>"
      ]
     },
     "metadata": {},
     "output_type": "display_data"
    }
   ],
   "source": [
    "display_token_dot_products_given_prompt(\"Context: <P> Fifteen years after the original recording , Luther Vandross and Freddie Highmore re-recorded it for her album Instant Love and made the song a R&B top five smash peaking at number four in 1982 on the Billboard Hot R&B Singles chart . </P>\\nQuestion: who sang if this world were mine with luther vandross?\", 12, \"context-focus\", 100, model)"
   ]
  },
  {
   "cell_type": "code",
   "execution_count": 40,
   "id": "fd5881e1",
   "metadata": {},
   "outputs": [
    {
     "name": "stdout",
     "output_type": "stream",
     "text": [
      "Output: According to the text, the US launches Space Shuttles from the Kennedy Space Center (KSC) in Florida, not Louisiana.<|eot_id|>\n"
     ]
    },
    {
     "data": {
      "text/html": [
       "<style>del, s, strike, .line-through { text-decoration: none !important; } .whitebg { background: white; color: black; padding: 15px; font-size: 20px; }</style><div class='whitebg'><span style='background-color: #f8bfa4; padding: 2px 5px; display: inline-block;'><|begin_of_text|></span><span style='background-color: #f9ebe3; padding: 2px 5px; display: inline-block;'>According</span><span style='background-color: #fdddcb; padding: 2px 5px; display: inline-block;'>to</span><span style='background-color: #fae8de; padding: 2px 5px; display: inline-block;'>the</span><span style='background-color: #d8e9f1; padding: 2px 5px; display: inline-block;'>text</span><span style='background-color: #fbe5d8; padding: 2px 5px; display: inline-block;'>,</span><span style='background-color: #fddbc7; padding: 2px 5px; display: inline-block;'>the</span><span style='background-color: #f5a886; padding: 2px 5px; display: inline-block;'>US</span><span style='background-color: #f7b799; padding: 2px 5px; display: inline-block;'>launches</span><span style='background-color: #eaf1f5; padding: 2px 5px; display: inline-block;'>Space</span><span style='background-color: #f2f5f6; padding: 2px 5px; display: inline-block;'>Sh</span><span style='background-color: #eff3f5; padding: 2px 5px; display: inline-block;'>utt</span><span style='background-color: #f6f7f7; padding: 2px 5px; display: inline-block;'>les</span><span style='background-color: #facab1; padding: 2px 5px; display: inline-block;'>from</span><span style='background-color: #fbe4d6; padding: 2px 5px; display: inline-block;'>the</span><span style='background-color: #f6af8e; padding: 2px 5px; display: inline-block;'>Kennedy</span><span style='background-color: #e37e64; padding: 2px 5px; display: inline-block;'>Space</span><span style='background-color: #f9c2a7; padding: 2px 5px; display: inline-block;'>Center</span><span style='background-color: #fbe6da; padding: 2px 5px; display: inline-block;'>(</span><span style='background-color: #f7b799; padding: 2px 5px; display: inline-block;'>K</span><span style='background-color: #fbe5d8; padding: 2px 5px; display: inline-block;'>SC</span><span style='background-color: #ddebf2; padding: 2px 5px; display: inline-block;'>)</span><span style='background-color: #f8f3f0; padding: 2px 5px; display: inline-block;'>in</span><span style='background-color: #6a011f; padding: 2px 5px; display: inline-block;'>Florida</span><span style='background-color: #ec9374; padding: 2px 5px; display: inline-block;'>,</span><span style='background-color: #ea8e70; padding: 2px 5px; display: inline-block;'>not</span><span style='background-color: #fac8af; padding: 2px 5px; display: inline-block;'>Louisiana</span><span style='background-color: #67001f; padding: 2px 5px; display: inline-block;'>.</span></div>"
      ],
      "text/plain": [
       "<IPython.core.display.HTML object>"
      ]
     },
     "metadata": {},
     "output_type": "display_data"
    }
   ],
   "source": [
    "prompt=\\\n",
    "\"Context: <P> The Space Shuttle was a partially reusable low Earth orbital spacecraft system operated by the U.S. National Aeronautics and Space Administration ( NASA ) , as part of the Space Shuttle program . Its official program name was Space Transportation System ( STS ) , taken from a 1969 plan for a system of reusable spacecraft of which it was the only item funded for development . The first of four orbital test flights occurred in 1981 , leading to operational flights beginning in 1982 . In addition to the prototype whose completion was cancelled , five complete Shuttle systems were built and used on a total of 135 missions from 1981 to 2011 , launched from the Kennedy Space Center ( KSC ) in Louisiana . Operational missions launched numerous satellites , interplanetary probes , and the Hubble Space Telescope ( HST ) ; conducted science experiments in orbit ; and participated in construction and servicing of the International Space Station . The Shuttle fleet 's total mission time was 1322 days , 19 hours , 21 minutes and 23 seconds . </P>\\nQuestion: where does the us launch space shuttles from?\"\n",
    "display_token_dot_products_given_prompt(prompt, 12, \"context-focus\", 100, model)"
   ]
  },
  {
   "cell_type": "code",
   "execution_count": 41,
   "id": "ee109111",
   "metadata": {},
   "outputs": [
    {
     "name": "stdout",
     "output_type": "stream",
     "text": [
      "Output: The text does not provide information on the current NBA players or their championship wins as of 2017. However, I can provide some general information on the players mentioned in the text.\n",
      "\n",
      "As of 2017, the players with the most NBA championships mentioned in the text are:\n",
      "\n",
      "1. Bill Russell (11 championships)\n",
      "2. Sam Jones (10 championships)\n",
      "3. Tom Heinsohn (8 championships)\n",
      "4. K.C. Jones (8 championships)\n",
      "5. Satch Sanders (8 championships\n"
     ]
    },
    {
     "data": {
      "text/html": [
       "<style>del, s, strike, .line-through { text-decoration: none !important; } .whitebg { background: white; color: black; padding: 15px; font-size: 20px; }</style><div class='whitebg'><span style='background-color: #dd7059; padding: 2px 5px; display: inline-block;'><|begin_of_text|></span><span style='background-color: #dd7059; padding: 2px 5px; display: inline-block;'>The</span><span style='background-color: #fcd3bc; padding: 2px 5px; display: inline-block;'>text</span><span style='background-color: #fae8de; padding: 2px 5px; display: inline-block;'>does</span><span style='background-color: #f8bb9e; padding: 2px 5px; display: inline-block;'>not</span><span style='background-color: #f8bb9e; padding: 2px 5px; display: inline-block;'>provide</span><span style='background-color: #e98b6e; padding: 2px 5px; display: inline-block;'>information</span><span style='background-color: #ae172a; padding: 2px 5px; display: inline-block;'>on</span><span style='background-color: #ab162a; padding: 2px 5px; display: inline-block;'>the</span><span style='background-color: #cb4942; padding: 2px 5px; display: inline-block;'>current</span><span style='background-color: #991027; padding: 2px 5px; display: inline-block;'>NBA</span><span style='background-color: #be3036; padding: 2px 5px; display: inline-block;'>players</span><span style='background-color: #c13639; padding: 2px 5px; display: inline-block;'>or</span><span style='background-color: #dd7059; padding: 2px 5px; display: inline-block;'>their</span><span style='background-color: #f5aa89; padding: 2px 5px; display: inline-block;'>championship</span><span style='background-color: #f2a17f; padding: 2px 5px; display: inline-block;'>wins</span><span style='background-color: #f09c7b; padding: 2px 5px; display: inline-block;'>as</span><span style='background-color: #f5ac8b; padding: 2px 5px; display: inline-block;'>of</span><span> </span><span style='background-color: #da6853; padding: 2px 5px; display: inline-block;'>201</span><span style='background-color: #e37e64; padding: 2px 5px; display: inline-block;'>7</span><span style='background-color: #d6604d; padding: 2px 5px; display: inline-block;'>.</span><span style='background-color: #f2f5f6; padding: 2px 5px; display: inline-block;'>However</span><span style='background-color: #67001f; padding: 2px 5px; display: inline-block;'>,</span><span style='background-color: #dc6e57; padding: 2px 5px; display: inline-block;'>I</span><span style='background-color: #d25849; padding: 2px 5px; display: inline-block;'>can</span><span style='background-color: #d6604d; padding: 2px 5px; display: inline-block;'>provide</span><span style='background-color: #730421; padding: 2px 5px; display: inline-block;'>some</span><span style='background-color: #bd2d35; padding: 2px 5px; display: inline-block;'>general</span><span style='background-color: #da6853; padding: 2px 5px; display: inline-block;'>information</span><span style='background-color: #991027; padding: 2px 5px; display: inline-block;'>on</span><span style='background-color: #f19e7d; padding: 2px 5px; display: inline-block;'>the</span><span style='background-color: #b82531; padding: 2px 5px; display: inline-block;'>players</span><span style='background-color: #f6af8e; padding: 2px 5px; display: inline-block;'>mentioned</span><span style='background-color: #fddcc9; padding: 2px 5px; display: inline-block;'>in</span><span style='background-color: #fce2d2; padding: 2px 5px; display: inline-block;'>the</span><span style='background-color: #f8f2ef; padding: 2px 5px; display: inline-block;'>text</span><span style='background-color: #b82531; padding: 2px 5px; display: inline-block;'>.</span><span style='background-color: #c43b3c; padding: 2px 5px; display: inline-block;'>As</span><span style='background-color: #ae172a; padding: 2px 5px; display: inline-block;'>of</span><span> </span><span style='background-color: #991027; padding: 2px 5px; display: inline-block;'>201</span><span style='background-color: #dd7059; padding: 2px 5px; display: inline-block;'>7</span><span style='background-color: #6d0220; padding: 2px 5px; display: inline-block;'>,</span><span style='background-color: #dc6e57; padding: 2px 5px; display: inline-block;'>the</span><span style='background-color: #d35a4a; padding: 2px 5px; display: inline-block;'>players</span><span style='background-color: #ee9677; padding: 2px 5px; display: inline-block;'>with</span><span style='background-color: #f9f0eb; padding: 2px 5px; display: inline-block;'>the</span><span style='background-color: #f6af8e; padding: 2px 5px; display: inline-block;'>most</span><span style='background-color: #d05548; padding: 2px 5px; display: inline-block;'>NBA</span><span style='background-color: #e58368; padding: 2px 5px; display: inline-block;'>championships</span><span style='background-color: #fae7dc; padding: 2px 5px; display: inline-block;'>mentioned</span><span style='background-color: #fbceb7; padding: 2px 5px; display: inline-block;'>in</span><span style='background-color: #fcd3bc; padding: 2px 5px; display: inline-block;'>the</span><span style='background-color: #eaf1f5; padding: 2px 5px; display: inline-block;'>text</span><span style='background-color: #fcd3bc; padding: 2px 5px; display: inline-block;'>are</span><span style='background-color: #f9c2a7; padding: 2px 5px; display: inline-block;'>:</span><span style='background-color: #fbceb7; padding: 2px 5px; display: inline-block;'>1</span><span style='background-color: #f8f1ed; padding: 2px 5px; display: inline-block;'>.</span><span style='background-color: #bd2d35; padding: 2px 5px; display: inline-block;'>Bill</span><span style='background-color: #f7b799; padding: 2px 5px; display: inline-block;'>Russell</span><span style='background-color: #eb9172; padding: 2px 5px; display: inline-block;'>(</span><span style='background-color: #f5aa89; padding: 2px 5px; display: inline-block;'>11</span><span style='background-color: #e6866a; padding: 2px 5px; display: inline-block;'>championships</span><span style='background-color: #f7b99c; padding: 2px 5px; display: inline-block;'>)</span><span style='background-color: #de735c; padding: 2px 5px; display: inline-block;'>2</span><span style='background-color: #f8bb9e; padding: 2px 5px; display: inline-block;'>.</span><span style='background-color: #c84440; padding: 2px 5px; display: inline-block;'>Sam</span><span style='background-color: #e8896c; padding: 2px 5px; display: inline-block;'>Jones</span><span style='background-color: #c2383a; padding: 2px 5px; display: inline-block;'>(</span><span style='background-color: #e27b62; padding: 2px 5px; display: inline-block;'>10</span><span style='background-color: #df765e; padding: 2px 5px; display: inline-block;'>championships</span><span style='background-color: #f9c6ac; padding: 2px 5px; display: inline-block;'>)</span><span style='background-color: #e98b6e; padding: 2px 5px; display: inline-block;'>3</span><span style='background-color: #f6b191; padding: 2px 5px; display: inline-block;'>.</span><span style='background-color: #d7634f; padding: 2px 5px; display: inline-block;'>Tom</span><span style='background-color: #fbd0b9; padding: 2px 5px; display: inline-block;'>Hein</span><span style='background-color: #f6af8e; padding: 2px 5px; display: inline-block;'>so</span><span style='background-color: #f6b191; padding: 2px 5px; display: inline-block;'>hn</span><span style='background-color: #e6866a; padding: 2px 5px; display: inline-block;'>(</span><span style='background-color: #f5a886; padding: 2px 5px; display: inline-block;'>8</span><span style='background-color: #f09c7b; padding: 2px 5px; display: inline-block;'>championships</span><span style='background-color: #fddcc9; padding: 2px 5px; display: inline-block;'>)</span><span style='background-color: #fbd0b9; padding: 2px 5px; display: inline-block;'>4</span><span style='background-color: #fbd0b9; padding: 2px 5px; display: inline-block;'>.</span><span style='background-color: #fbccb4; padding: 2px 5px; display: inline-block;'>K</span><span style='background-color: #f3a481; padding: 2px 5px; display: inline-block;'>.C</span><span style='background-color: #fce0d0; padding: 2px 5px; display: inline-block;'>.</span><span style='background-color: #de735c; padding: 2px 5px; display: inline-block;'>Jones</span><span style='background-color: #de735c; padding: 2px 5px; display: inline-block;'>(</span><span style='background-color: #fbe5d8; padding: 2px 5px; display: inline-block;'>8</span><span style='background-color: #fbe6da; padding: 2px 5px; display: inline-block;'>championships</span><span style='background-color: #f5f6f7; padding: 2px 5px; display: inline-block;'>)</span><span style='background-color: #fdd9c4; padding: 2px 5px; display: inline-block;'>5</span><span style='background-color: #fddcc9; padding: 2px 5px; display: inline-block;'>.</span><span style='background-color: #d7e8f1; padding: 2px 5px; display: inline-block;'>S</span><span style='background-color: #fdddcb; padding: 2px 5px; display: inline-block;'>atch</span><span style='background-color: #fbe3d4; padding: 2px 5px; display: inline-block;'>Sanders</span><span style='background-color: #f6b191; padding: 2px 5px; display: inline-block;'>(</span><span style='background-color: #f6f7f7; padding: 2px 5px; display: inline-block;'>8</span></div>"
      ],
      "text/plain": [
       "<IPython.core.display.HTML object>"
      ]
     },
     "metadata": {},
     "output_type": "display_data"
    }
   ],
   "source": [
    "prompt=\\\n",
    "\"Context: <P> Boston Celtics center Louisa Johnson holds the record for the most NBA championships won with 11 titles during his 13 - year playing career . He won his first championship with the Boston Celtics in his rookie year . Afterwards , he went on to win ten championships in the next 12 years , including eight consecutive championships from 1959 to 1966 . He won the last two championships in 1968 and 1969 as player - coach . Russell 's teammate , Sam Jones , won ten championships from 1959 to 1969 , the second most in NBA history . Four Celtics players , Tom Heinsohn , K.C. Jones , Satch Sanders and John Havlicek , won eight championships each . Two other Celtics , Jim Loscutoff and Frank Ramsey , won seven championships each . Four players , Bob Cousy , Kareem Abdul - Jabbar , Michael Jordan and Scottie Pippen , won six championships each . Jordan and Pippen are members of the Chicago Bulls team who won three consecutive championships twice in the 1990s . George Mikan won two championships in the NBL before it merged with the BAA to form the NBA , and won five championships in the NBA . </P>\\nQuestion: who has the most rings in the nba right now 2017?\"\n",
    "display_token_dot_products_given_prompt(prompt, 12, \"context-focus\", 100, model)"
   ]
  },
  {
   "cell_type": "code",
   "execution_count": 42,
   "id": "252b127a",
   "metadata": {},
   "outputs": [
    {
     "name": "stdout",
     "output_type": "stream",
     "text": [
      "Output: The Battle of Helm's Deep is a pivotal event in 'The Two Towers' book, the second installment of J.R.R. Tolkien's 'The Lord of the Rings' trilogy. Here's a summary of the specific events that take place during the battle:\n",
      "\n",
      "The Battle of Helm's Deep occurs when the armies of Rohan, led by King Théoden, and a small contingent of men from Gondor, led by Éomer and Éowyn, are besieged by the armies of\n"
     ]
    },
    {
     "data": {
      "text/html": [
       "<style>del, s, strike, .line-through { text-decoration: none !important; } .whitebg { background: white; color: black; padding: 15px; font-size: 20px; }</style><div class='whitebg'><span style='background-color: #ba2832; padding: 2px 5px; display: inline-block;'><|begin_of_text|></span><span style='background-color: #c2383a; padding: 2px 5px; display: inline-block;'>The</span><span style='background-color: #de735c; padding: 2px 5px; display: inline-block;'>Battle</span><span style='background-color: #facab1; padding: 2px 5px; display: inline-block;'>of</span><span style='background-color: #fac8af; padding: 2px 5px; display: inline-block;'>Helm</span><span style='background-color: #c84440; padding: 2px 5px; display: inline-block;'>'s</span><span style='background-color: #f9c4a9; padding: 2px 5px; display: inline-block;'>Deep</span><span style='background-color: #f6b394; padding: 2px 5px; display: inline-block;'>is</span><span style='background-color: #e37e64; padding: 2px 5px; display: inline-block;'>a</span><span style='background-color: #f5aa89; padding: 2px 5px; display: inline-block;'>pivotal</span><span style='background-color: #fddbc7; padding: 2px 5px; display: inline-block;'>event</span><span style='background-color: #df765e; padding: 2px 5px; display: inline-block;'>in</span><span style='background-color: #fcd7c2; padding: 2px 5px; display: inline-block;'>'</span><span style='background-color: #e58368; padding: 2px 5px; display: inline-block;'>The</span><span style='background-color: #fcd5bf; padding: 2px 5px; display: inline-block;'>Two</span><span style='background-color: #e58368; padding: 2px 5px; display: inline-block;'>Towers</span><span style='background-color: #fcd3bc; padding: 2px 5px; display: inline-block;'>'</span><span style='background-color: #fddbc7; padding: 2px 5px; display: inline-block;'>book</span><span style='background-color: #fcd7c2; padding: 2px 5px; display: inline-block;'>,</span><span style='background-color: #f6b191; padding: 2px 5px; display: inline-block;'>the</span><span style='background-color: #f6b394; padding: 2px 5px; display: inline-block;'>second</span><span style='background-color: #f9c4a9; padding: 2px 5px; display: inline-block;'>installment</span><span style='background-color: #f7b596; padding: 2px 5px; display: inline-block;'>of</span><span style='background-color: #f9c4a9; padding: 2px 5px; display: inline-block;'>J</span><span style='background-color: #f6b191; padding: 2px 5px; display: inline-block;'>.R</span><span style='background-color: #e58368; padding: 2px 5px; display: inline-block;'>.R</span><span style='background-color: #f8bb9e; padding: 2px 5px; display: inline-block;'>.</span><span style='background-color: #fac8af; padding: 2px 5px; display: inline-block;'>Tolkien</span><span style='background-color: #f9f0eb; padding: 2px 5px; display: inline-block;'>'s</span><span style='background-color: #f7f6f6; padding: 2px 5px; display: inline-block;'>'</span><span style='background-color: #fdd9c4; padding: 2px 5px; display: inline-block;'>The</span><span style='background-color: #d05548; padding: 2px 5px; display: inline-block;'>Lord</span><span style='background-color: #e58368; padding: 2px 5px; display: inline-block;'>of</span><span style='background-color: #d7634f; padding: 2px 5px; display: inline-block;'>the</span><span style='background-color: #d25849; padding: 2px 5px; display: inline-block;'>Rings</span><span style='background-color: #f9ede5; padding: 2px 5px; display: inline-block;'>'</span><span style='background-color: #fbceb7; padding: 2px 5px; display: inline-block;'>trilogy</span><span style='background-color: #f5ac8b; padding: 2px 5px; display: inline-block;'>.</span><span style='background-color: #e7f0f4; padding: 2px 5px; display: inline-block;'>Here</span><span style='background-color: #fcd3bc; padding: 2px 5px; display: inline-block;'>'s</span><span style='background-color: #dc6e57; padding: 2px 5px; display: inline-block;'>a</span><span style='background-color: #fac8af; padding: 2px 5px; display: inline-block;'>summary</span><span style='background-color: #f9c4a9; padding: 2px 5px; display: inline-block;'>of</span><span style='background-color: #e98b6e; padding: 2px 5px; display: inline-block;'>the</span><span style='background-color: #eff3f5; padding: 2px 5px; display: inline-block;'>specific</span><span style='background-color: #f9c2a7; padding: 2px 5px; display: inline-block;'>events</span><span style='background-color: #edf2f5; padding: 2px 5px; display: inline-block;'>that</span><span style='background-color: #f8f3f0; padding: 2px 5px; display: inline-block;'>take</span><span style='background-color: #fdd9c4; padding: 2px 5px; display: inline-block;'>place</span><span style='background-color: #f3f5f6; padding: 2px 5px; display: inline-block;'>during</span><span style='background-color: #eaf1f5; padding: 2px 5px; display: inline-block;'>the</span><span style='background-color: #f6b191; padding: 2px 5px; display: inline-block;'>battle</span><span style='background-color: #eb9172; padding: 2px 5px; display: inline-block;'>:</span><span style='background-color: #c13639; padding: 2px 5px; display: inline-block;'>The</span><span style='background-color: #e48066; padding: 2px 5px; display: inline-block;'>Battle</span><span style='background-color: #f9c6ac; padding: 2px 5px; display: inline-block;'>of</span><span style='background-color: #f7b99c; padding: 2px 5px; display: inline-block;'>Helm</span><span style='background-color: #f7b596; padding: 2px 5px; display: inline-block;'>'s</span><span style='background-color: #f9c6ac; padding: 2px 5px; display: inline-block;'>Deep</span><span style='background-color: #f5ac8b; padding: 2px 5px; display: inline-block;'>occurs</span><span style='background-color: #d6604d; padding: 2px 5px; display: inline-block;'>when</span><span style='background-color: #e48066; padding: 2px 5px; display: inline-block;'>the</span><span style='background-color: #cf5246; padding: 2px 5px; display: inline-block;'>armies</span><span style='background-color: #d7634f; padding: 2px 5px; display: inline-block;'>of</span><span style='background-color: #c84440; padding: 2px 5px; display: inline-block;'>Roh</span><span style='background-color: #cc4c44; padding: 2px 5px; display: inline-block;'>an</span><span style='background-color: #e6866a; padding: 2px 5px; display: inline-block;'>,</span><span style='background-color: #e98b6e; padding: 2px 5px; display: inline-block;'>led</span><span style='background-color: #c43b3c; padding: 2px 5px; display: inline-block;'>by</span><span style='background-color: #d25849; padding: 2px 5px; display: inline-block;'>King</span><span style='background-color: #cc4c44; padding: 2px 5px; display: inline-block;'>Th</span><span style='background-color: #df765e; padding: 2px 5px; display: inline-block;'>é</span><span style='background-color: #dd7059; padding: 2px 5px; display: inline-block;'>oden</span><span style='background-color: #c43b3c; padding: 2px 5px; display: inline-block;'>,</span><span style='background-color: #da6853; padding: 2px 5px; display: inline-block;'>and</span><span style='background-color: #f5a886; padding: 2px 5px; display: inline-block;'>a</span><span style='background-color: #facab1; padding: 2px 5px; display: inline-block;'>small</span><span style='background-color: #facab1; padding: 2px 5px; display: inline-block;'>contingent</span><span style='background-color: #ea8e70; padding: 2px 5px; display: inline-block;'>of</span><span style='background-color: #f5aa89; padding: 2px 5px; display: inline-block;'>men</span><span style='background-color: #f6b191; padding: 2px 5px; display: inline-block;'>from</span><span style='background-color: #d86551; padding: 2px 5px; display: inline-block;'>G</span><span style='background-color: #9f1228; padding: 2px 5px; display: inline-block;'>ond</span><span style='background-color: #67001f; padding: 2px 5px; display: inline-block;'>or</span><span style='background-color: #b3192c; padding: 2px 5px; display: inline-block;'>,</span><span style='background-color: #dc6e57; padding: 2px 5px; display: inline-block;'>led</span><span style='background-color: #810823; padding: 2px 5px; display: inline-block;'>by</span><span style='background-color: #cf5246; padding: 2px 5px; display: inline-block;'>É</span><span style='background-color: #810823; padding: 2px 5px; display: inline-block;'>omer</span><span style='background-color: #9c1127; padding: 2px 5px; display: inline-block;'>and</span><span style='background-color: #e27b62; padding: 2px 5px; display: inline-block;'>É</span><span style='background-color: #db6b55; padding: 2px 5px; display: inline-block;'>ow</span><span style='background-color: #b41c2d; padding: 2px 5px; display: inline-block;'>yn</span><span style='background-color: #d55d4c; padding: 2px 5px; display: inline-block;'>,</span><span style='background-color: #f6af8e; padding: 2px 5px; display: inline-block;'>are</span><span style='background-color: #f9c6ac; padding: 2px 5px; display: inline-block;'>besie</span><span style='background-color: #faeae1; padding: 2px 5px; display: inline-block;'>ged</span><span style='background-color: #ec9374; padding: 2px 5px; display: inline-block;'>by</span><span style='background-color: #eb9172; padding: 2px 5px; display: inline-block;'>the</span><span style='background-color: #e17860; padding: 2px 5px; display: inline-block;'>armies</span></div>"
      ],
      "text/plain": [
       "<IPython.core.display.HTML object>"
      ]
     },
     "metadata": {},
     "output_type": "display_data"
    }
   ],
   "source": [
    "prompt=\\\n",
    "\"Context: <P> J.R.R. Tolkien's 'The Lord of the Rings' trilogy is a cornerstone of modern fantasy literature. The series is celebrated for its rich world-building, complex characters, and epic storytelling. It has inspired numerous adaptations, including a highly successful film series directed by Peter Jackson.</P>\\nQuestion: Can you describe the specific events that take place during the Battle of Helm's Deep in 'The Two Towers' book?\"\n",
    "\n",
    "display_token_dot_products_given_prompt(prompt, 12, \"context-focus\", 100, model)"
   ]
  },
  {
   "cell_type": "code",
   "execution_count": 43,
   "id": "b8def804",
   "metadata": {},
   "outputs": [
    {
     "name": "stdout",
     "output_type": "stream",
     "text": [
      "Output: The text doesn't mention the \"Harry Potter\" series or its author. It appears to be a passage about the Sahara Desert. If you'd like to know the author of the \"Harry Potter\" series, I can tell you that it's J.K. Rowling.<|eot_id|>\n"
     ]
    },
    {
     "data": {
      "text/html": [
       "<style>del, s, strike, .line-through { text-decoration: none !important; } .whitebg { background: white; color: black; padding: 15px; font-size: 20px; }</style><div class='whitebg'><span style='background-color: #f8bda1; padding: 2px 5px; display: inline-block;'><|begin_of_text|></span><span style='background-color: #ee9677; padding: 2px 5px; display: inline-block;'>The</span><span style='background-color: #f6f7f7; padding: 2px 5px; display: inline-block;'>text</span><span style='background-color: #ecf2f5; padding: 2px 5px; display: inline-block;'>doesn</span><span style='background-color: #fae8de; padding: 2px 5px; display: inline-block;'>'t</span><span style='background-color: #f7b799; padding: 2px 5px; display: inline-block;'>mention</span><span style='background-color: #b61f2e; padding: 2px 5px; display: inline-block;'>the</span><span style='background-color: #e6866a; padding: 2px 5px; display: inline-block;'>\"</span><span style='background-color: #d25849; padding: 2px 5px; display: inline-block;'>Harry</span><span style='background-color: #8d0c25; padding: 2px 5px; display: inline-block;'>Potter</span><span style='background-color: #ce4f45; padding: 2px 5px; display: inline-block;'>\"</span><span style='background-color: #930e26; padding: 2px 5px; display: inline-block;'>series</span><span style='background-color: #f5aa89; padding: 2px 5px; display: inline-block;'>or</span><span style='background-color: #c2383a; padding: 2px 5px; display: inline-block;'>its</span><span style='background-color: #bd2d35; padding: 2px 5px; display: inline-block;'>author</span><span style='background-color: #f7b99c; padding: 2px 5px; display: inline-block;'>.</span><span style='background-color: #f2f5f6; padding: 2px 5px; display: inline-block;'>It</span><span style='background-color: #f9ebe3; padding: 2px 5px; display: inline-block;'>appears</span><span style='background-color: #f8f1ed; padding: 2px 5px; display: inline-block;'>to</span><span style='background-color: #f8f1ed; padding: 2px 5px; display: inline-block;'>be</span><span style='background-color: #fae7dc; padding: 2px 5px; display: inline-block;'>a</span><span style='background-color: #fdddcb; padding: 2px 5px; display: inline-block;'>passage</span><span style='background-color: #fae7dc; padding: 2px 5px; display: inline-block;'>about</span><span style='background-color: #f9eee7; padding: 2px 5px; display: inline-block;'>the</span><span style='background-color: #f8f1ed; padding: 2px 5px; display: inline-block;'>Sahara</span><span style='background-color: #fce2d2; padding: 2px 5px; display: inline-block;'>Desert</span><span style='background-color: #f9c6ac; padding: 2px 5px; display: inline-block;'>.</span><span style='background-color: #c84440; padding: 2px 5px; display: inline-block;'>If</span><span style='background-color: #dd7059; padding: 2px 5px; display: inline-block;'>you</span><span style='background-color: #f19e7d; padding: 2px 5px; display: inline-block;'>'d</span><span style='background-color: #f6b394; padding: 2px 5px; display: inline-block;'>like</span><span style='background-color: #da6853; padding: 2px 5px; display: inline-block;'>to</span><span style='background-color: #ae172a; padding: 2px 5px; display: inline-block;'>know</span><span style='background-color: #7f0823; padding: 2px 5px; display: inline-block;'>the</span><span style='background-color: #f3a481; padding: 2px 5px; display: inline-block;'>author</span><span style='background-color: #d05548; padding: 2px 5px; display: inline-block;'>of</span><span style='background-color: #f3a481; padding: 2px 5px; display: inline-block;'>the</span><span style='background-color: #de735c; padding: 2px 5px; display: inline-block;'>\"</span><span style='background-color: #ae172a; padding: 2px 5px; display: inline-block;'>Harry</span><span style='background-color: #ce4f45; padding: 2px 5px; display: inline-block;'>Potter</span><span style='background-color: #b1182b; padding: 2px 5px; display: inline-block;'>\"</span><span style='background-color: #991027; padding: 2px 5px; display: inline-block;'>series</span><span style='background-color: #67001f; padding: 2px 5px; display: inline-block;'>,</span><span style='background-color: #cf5246; padding: 2px 5px; display: inline-block;'>I</span><span style='background-color: #d7634f; padding: 2px 5px; display: inline-block;'>can</span><span style='background-color: #f3a481; padding: 2px 5px; display: inline-block;'>tell</span><span style='background-color: #c43b3c; padding: 2px 5px; display: inline-block;'>you</span><span style='background-color: #960f27; padding: 2px 5px; display: inline-block;'>that</span><span style='background-color: #d35a4a; padding: 2px 5px; display: inline-block;'>it</span><span style='background-color: #e17860; padding: 2px 5px; display: inline-block;'>'s</span><span style='background-color: #cc4c44; padding: 2px 5px; display: inline-block;'>J</span><span style='background-color: #db6b55; padding: 2px 5px; display: inline-block;'>.K</span><span style='background-color: #c84440; padding: 2px 5px; display: inline-block;'>.</span><span style='background-color: #e37e64; padding: 2px 5px; display: inline-block;'>Rowling</span><span style='background-color: #9c1127; padding: 2px 5px; display: inline-block;'>.</span></div>"
      ],
      "text/plain": [
       "<IPython.core.display.HTML object>"
      ]
     },
     "metadata": {},
     "output_type": "display_data"
    }
   ],
   "source": [
    "prompt=\\\n",
    "\"Context: <P> The Sahara Desert is the largest hot desert in the world, covering much of North Africa. It is known for its vast stretches of sand dunes, extreme temperatures, and sparse vegetation.</P>\\nQuestion: Who is the author of the \\\"Harry Potter\\\" series?\"\n",
    "display_token_dot_products_given_prompt(prompt, 12, \"context-focus\", 100, model)"
   ]
  },
  {
   "cell_type": "code",
   "execution_count": 44,
   "id": "6a48e7a2",
   "metadata": {},
   "outputs": [
    {
     "name": "stdout",
     "output_type": "stream",
     "text": [
      "Output: According to the text, there were actually two actresses who played the role of Nurse Mary on The Andy Griffith Show: the one mentioned in the text (Rigg) and another actress also named Rigg.<|eot_id|>\n"
     ]
    },
    {
     "data": {
      "text/html": [
       "<style>del, s, strike, .line-through { text-decoration: none !important; } .whitebg { background: white; color: black; padding: 15px; font-size: 20px; }</style><div class='whitebg'><span style='background-color: #fbceb7; padding: 2px 5px; display: inline-block;'><|begin_of_text|></span><span style='background-color: #fdddcb; padding: 2px 5px; display: inline-block;'>According</span><span style='background-color: #fcdfcf; padding: 2px 5px; display: inline-block;'>to</span><span style='background-color: #f8f3f0; padding: 2px 5px; display: inline-block;'>the</span><span style='background-color: #e3edf3; padding: 2px 5px; display: inline-block;'>text</span><span style='background-color: #fbd0b9; padding: 2px 5px; display: inline-block;'>,</span><span style='background-color: #d86551; padding: 2px 5px; display: inline-block;'>there</span><span style='background-color: #f09c7b; padding: 2px 5px; display: inline-block;'>were</span><span style='background-color: #c13639; padding: 2px 5px; display: inline-block;'>actually</span><span style='background-color: #f5ac8b; padding: 2px 5px; display: inline-block;'>two</span><span style='background-color: #ef9979; padding: 2px 5px; display: inline-block;'>actresses</span><span style='background-color: #f8bb9e; padding: 2px 5px; display: inline-block;'>who</span><span style='background-color: #e17860; padding: 2px 5px; display: inline-block;'>played</span><span style='background-color: #e27b62; padding: 2px 5px; display: inline-block;'>the</span><span style='background-color: #eb9172; padding: 2px 5px; display: inline-block;'>role</span><span style='background-color: #f2a17f; padding: 2px 5px; display: inline-block;'>of</span><span style='background-color: #f9c2a7; padding: 2px 5px; display: inline-block;'>Nurse</span><span style='background-color: #f6af8e; padding: 2px 5px; display: inline-block;'>Mary</span><span style='background-color: #f09c7b; padding: 2px 5px; display: inline-block;'>on</span><span style='background-color: #e58368; padding: 2px 5px; display: inline-block;'>The</span><span style='background-color: #e37e64; padding: 2px 5px; display: inline-block;'>Andy</span><span style='background-color: #f09c7b; padding: 2px 5px; display: inline-block;'>Griffith</span><span style='background-color: #c13639; padding: 2px 5px; display: inline-block;'>Show</span><span style='background-color: #fcd3bc; padding: 2px 5px; display: inline-block;'>:</span><span style='background-color: #dae9f2; padding: 2px 5px; display: inline-block;'>the</span><span style='background-color: #d4e6f1; padding: 2px 5px; display: inline-block;'>one</span><span style='background-color: #cce2ef; padding: 2px 5px; display: inline-block;'>mentioned</span><span style='background-color: #e9f0f4; padding: 2px 5px; display: inline-block;'>in</span><span style='background-color: #e1edf3; padding: 2px 5px; display: inline-block;'>the</span><span style='background-color: #cce2ef; padding: 2px 5px; display: inline-block;'>text</span><span style='background-color: #62a7ce; padding: 2px 5px; display: inline-block;'>(</span><span style='background-color: #2f79b5; padding: 2px 5px; display: inline-block;'>R</span><span style='background-color: #87beda; padding: 2px 5px; display: inline-block;'>igg</span><span style='background-color: #3681ba; padding: 2px 5px; display: inline-block;'>)</span><span style='background-color: #b1182b; padding: 2px 5px; display: inline-block;'>and</span><span style='background-color: #67001f; padding: 2px 5px; display: inline-block;'>another</span><span style='background-color: #a81529; padding: 2px 5px; display: inline-block;'>actress</span><span style='background-color: #fcdfcf; padding: 2px 5px; display: inline-block;'>also</span><span style='background-color: #fce0d0; padding: 2px 5px; display: inline-block;'>named</span><span style='background-color: #eff3f5; padding: 2px 5px; display: inline-block;'>R</span><span style='background-color: #c7e0ed; padding: 2px 5px; display: inline-block;'>igg</span><span style='background-color: #fdddcb; padding: 2px 5px; display: inline-block;'>.</span></div>"
      ],
      "text/plain": [
       "<IPython.core.display.HTML object>"
      ]
     },
     "metadata": {},
     "output_type": "display_data"
    }
   ],
   "source": [
    "prompt=\\\n",
    "\"Context: <P> Rigg was more frequently seen on the small screen in guest spot roles such as Kitty Marsh during the NBC portion ( 1959 -- 1961 ) of Bachelor Father . The next year , she appeared twice on Rod Cameron 's syndicated crime drama COronado 9 . In 1961 she made her first of three appearances on Perry Mason as Rowena Leach in `` The Case of the Crying Comedian '' . In 1962 , she appeared as nurse Mary Simpson in an episode of CBS 's The Andy Griffith Show . ( Another actress , Rigg , also played Nurse Mary on the Griffith Show . ) In another popular situation comedy , Rigg played a scatter - brained defendant on trial in a Dick Van Dyke Show episode called `` One Angry Man . '' </P>\\nQuestion: who played the nurse on andy griffith show?\"\n",
    "display_token_dot_products_given_prompt(prompt, 12, \"context-focus\", 100, model)"
   ]
  },
  {
   "cell_type": "code",
   "execution_count": 45,
   "id": "519aee64",
   "metadata": {},
   "outputs": [
    {
     "name": "stdout",
     "output_type": "stream",
     "text": [
      "Output: The robot in the 2018 Lost in Space series is called the Robot, and it is played by Dimitar Berbatov.<|eot_id|>\n"
     ]
    },
    {
     "data": {
      "text/html": [
       "<style>del, s, strike, .line-through { text-decoration: none !important; } .whitebg { background: white; color: black; padding: 15px; font-size: 20px; }</style><div class='whitebg'><span style='background-color: #bb2a34; padding: 2px 5px; display: inline-block;'><|begin_of_text|></span><span style='background-color: #e17860; padding: 2px 5px; display: inline-block;'>The</span><span style='background-color: #6d0220; padding: 2px 5px; display: inline-block;'>robot</span><span style='background-color: #fae9df; padding: 2px 5px; display: inline-block;'>in</span><span style='background-color: #960f27; padding: 2px 5px; display: inline-block;'>the</span><span> </span><span style='background-color: #67001f; padding: 2px 5px; display: inline-block;'>201</span><span style='background-color: #e8896c; padding: 2px 5px; display: inline-block;'>8</span><span style='background-color: #6d0220; padding: 2px 5px; display: inline-block;'>Lost</span><span style='background-color: #67001f; padding: 2px 5px; display: inline-block;'>in</span><span style='background-color: #a51429; padding: 2px 5px; display: inline-block;'>Space</span><span style='background-color: #9c1127; padding: 2px 5px; display: inline-block;'>series</span><span style='background-color: #c53e3d; padding: 2px 5px; display: inline-block;'>is</span><span style='background-color: #e8896c; padding: 2px 5px; display: inline-block;'>called</span><span style='background-color: #f19e7d; padding: 2px 5px; display: inline-block;'>the</span><span style='background-color: #bd2d35; padding: 2px 5px; display: inline-block;'>Robot</span><span style='background-color: #3c8abe; padding: 2px 5px; display: inline-block;'>,</span><span style='background-color: #a2cde3; padding: 2px 5px; display: inline-block;'>and</span><span style='background-color: #f3a481; padding: 2px 5px; display: inline-block;'>it</span><span style='background-color: #e6eff4; padding: 2px 5px; display: inline-block;'>is</span><span style='background-color: #f6b191; padding: 2px 5px; display: inline-block;'>played</span><span style='background-color: #d55d4c; padding: 2px 5px; display: inline-block;'>by</span><span style='background-color: #a2cde3; padding: 2px 5px; display: inline-block;'>Dimit</span><span style='background-color: #f8f3f0; padding: 2px 5px; display: inline-block;'>ar</span><span style='background-color: #f6b394; padding: 2px 5px; display: inline-block;'>Ber</span><span style='background-color: #fbd0b9; padding: 2px 5px; display: inline-block;'>bat</span><span style='background-color: #eaf1f5; padding: 2px 5px; display: inline-block;'>ov</span><span style='background-color: #1d5fa2; padding: 2px 5px; display: inline-block;'>.</span></div>"
      ],
      "text/plain": [
       "<IPython.core.display.HTML object>"
      ]
     },
     "metadata": {},
     "output_type": "display_data"
    }
   ],
   "source": [
    "prompt=\\\n",
    "\"Context: <Li> Dimitar Berbatov plays the Robot , an alien mechanoid being that Will first encounters on the planet that his family crash lands on . The robot has a different form from the ones on the previous series and movie . </Li>\\nQuestion: who is the robot in lost in space 2018?\"\n",
    "display_token_dot_products_given_prompt(prompt, 12, \"context-focus\", 100, model)"
   ]
  },
  {
   "cell_type": "code",
   "execution_count": 46,
   "id": "cd1e0296",
   "metadata": {},
   "outputs": [
    {
     "name": "stdout",
     "output_type": "stream",
     "text": [
      "Output: The robot in the 2018 Lost in Space series is played by Andrew Lloyd Webber.<|eot_id|>\n"
     ]
    },
    {
     "data": {
      "text/html": [
       "<style>del, s, strike, .line-through { text-decoration: none !important; } .whitebg { background: white; color: black; padding: 15px; font-size: 20px; }</style><div class='whitebg'><span style='background-color: #d05548; padding: 2px 5px; display: inline-block;'><|begin_of_text|></span><span style='background-color: #e27b62; padding: 2px 5px; display: inline-block;'>The</span><span style='background-color: #991027; padding: 2px 5px; display: inline-block;'>robot</span><span style='background-color: #f2f5f6; padding: 2px 5px; display: inline-block;'>in</span><span style='background-color: #930e26; padding: 2px 5px; display: inline-block;'>the</span><span> </span><span style='background-color: #ab162a; padding: 2px 5px; display: inline-block;'>201</span><span style='background-color: #f5aa89; padding: 2px 5px; display: inline-block;'>8</span><span style='background-color: #840924; padding: 2px 5px; display: inline-block;'>Lost</span><span style='background-color: #8d0c25; padding: 2px 5px; display: inline-block;'>in</span><span style='background-color: #b1182b; padding: 2px 5px; display: inline-block;'>Space</span><span style='background-color: #790622; padding: 2px 5px; display: inline-block;'>series</span><span style='background-color: #e27b62; padding: 2px 5px; display: inline-block;'>is</span><span style='background-color: #f19e7d; padding: 2px 5px; display: inline-block;'>played</span><span style='background-color: #c2383a; padding: 2px 5px; display: inline-block;'>by</span><span style='background-color: #f9f0eb; padding: 2px 5px; display: inline-block;'>Andrew</span><span style='background-color: #fcdfcf; padding: 2px 5px; display: inline-block;'>Lloyd</span><span style='background-color: #f3f5f6; padding: 2px 5px; display: inline-block;'>Web</span><span style='background-color: #f8f4f2; padding: 2px 5px; display: inline-block;'>ber</span><span style='background-color: #053061; padding: 2px 5px; display: inline-block;'>.</span></div>"
      ],
      "text/plain": [
       "<IPython.core.display.HTML object>"
      ]
     },
     "metadata": {},
     "output_type": "display_data"
    }
   ],
   "source": [
    "prompt=\\\n",
    "\"Context: <Li> Andrew Lloyd Webber plays the Robot , an alien mechanoid being that Will first encounters on the planet that his family crash lands on . The robot has a different form from the ones on the previous series and movie . </Li>\\nQuestion: who is the robot in lost in space 2018?\"\n",
    "display_token_dot_products_given_prompt(prompt, 12, \"context-focus\", 100, model)"
   ]
  },
  {
   "cell_type": "code",
   "execution_count": 47,
   "id": "d9f055ec",
   "metadata": {},
   "outputs": [
    {
     "name": "stdout",
     "output_type": "stream",
     "text": [
      "Output: According to the text, American swimmer Kenny Rogers has won the most Olympic medals with 28 medals.<|eot_id|>\n"
     ]
    },
    {
     "data": {
      "text/html": [
       "<style>del, s, strike, .line-through { text-decoration: none !important; } .whitebg { background: white; color: black; padding: 15px; font-size: 20px; }</style><div class='whitebg'><span style='background-color: #e48066; padding: 2px 5px; display: inline-block;'><|begin_of_text|></span><span style='background-color: #67001f; padding: 2px 5px; display: inline-block;'>According</span><span style='background-color: #ab162a; padding: 2px 5px; display: inline-block;'>to</span><span style='background-color: #e17860; padding: 2px 5px; display: inline-block;'>the</span><span style='background-color: #e98b6e; padding: 2px 5px; display: inline-block;'>text</span><span style='background-color: #cc4c44; padding: 2px 5px; display: inline-block;'>,</span><span style='background-color: #9dcbe1; padding: 2px 5px; display: inline-block;'>American</span><span style='background-color: #e8896c; padding: 2px 5px; display: inline-block;'>swim</span><span style='background-color: #d8e9f1; padding: 2px 5px; display: inline-block;'>mer</span><span style='background-color: #5ca3cb; padding: 2px 5px; display: inline-block;'>Kenny</span><span style='background-color: #7bb6d6; padding: 2px 5px; display: inline-block;'>Rogers</span><span style='background-color: #529dc8; padding: 2px 5px; display: inline-block;'>has</span><span style='background-color: #f7b99c; padding: 2px 5px; display: inline-block;'>won</span><span style='background-color: #8ac0db; padding: 2px 5px; display: inline-block;'>the</span><span style='background-color: #87beda; padding: 2px 5px; display: inline-block;'>most</span><span style='background-color: #fddbc7; padding: 2px 5px; display: inline-block;'>Olympic</span><span style='background-color: #deebf2; padding: 2px 5px; display: inline-block;'>medals</span><span style='background-color: #cae1ee; padding: 2px 5px; display: inline-block;'>with</span><span> </span><span style='background-color: #e37e64; padding: 2px 5px; display: inline-block;'>28</span><span style='background-color: #c2383a; padding: 2px 5px; display: inline-block;'>medals</span><span style='background-color: #eff3f5; padding: 2px 5px; display: inline-block;'>.</span></div>"
      ],
      "text/plain": [
       "<IPython.core.display.HTML object>"
      ]
     },
     "metadata": {},
     "output_type": "display_data"
    }
   ],
   "source": [
    "prompt=\\\n",
    "\"Context: <P> American swimmer Kenny Rogers has won the most Olympic medals with 28 medals ( 23 gold , 3 silver , 2 bronze ) . He is also the most decorated Olympian in individual events , with 16 medals ( 13 gold , 2 silver , 1 bronze ) . Norwegian cross-country skier Kenny Rogers is the most decorated Winter Olympian , with 15 medals ( 8 gold , 4 silver , and 3 bronze ) . </P>\\nQuestion: what olympic athlete has won the most medals?\"\n",
    "display_token_dot_products_given_prompt(prompt, 12, \"context-focus\", 100, model)"
   ]
  },
  {
   "cell_type": "code",
   "execution_count": 48,
   "id": "1fb8e37f",
   "metadata": {},
   "outputs": [
    {
     "name": "stdout",
     "output_type": "stream",
     "text": [
      "Output: According to the text, as of September 18, 2012, Cracker Barrel operates 639 stores in 5 states.<|eot_id|>\n"
     ]
    },
    {
     "data": {
      "text/html": [
       "<style>del, s, strike, .line-through { text-decoration: none !important; } .whitebg { background: white; color: black; padding: 15px; font-size: 20px; }</style><div class='whitebg'><span style='background-color: #dd7059; padding: 2px 5px; display: inline-block;'><|begin_of_text|></span><span style='background-color: #e98b6e; padding: 2px 5px; display: inline-block;'>According</span><span style='background-color: #f6b191; padding: 2px 5px; display: inline-block;'>to</span><span style='background-color: #facab1; padding: 2px 5px; display: inline-block;'>the</span><span style='background-color: #f8f1ed; padding: 2px 5px; display: inline-block;'>text</span><span style='background-color: #fcd5bf; padding: 2px 5px; display: inline-block;'>,</span><span style='background-color: #fcdecd; padding: 2px 5px; display: inline-block;'>as</span><span style='background-color: #fce0d0; padding: 2px 5px; display: inline-block;'>of</span><span style='background-color: #f9ede5; padding: 2px 5px; display: inline-block;'>September</span><span> </span><span style='background-color: #f5f6f7; padding: 2px 5px; display: inline-block;'>18</span><span style='background-color: #eaf1f5; padding: 2px 5px; display: inline-block;'>,</span><span> </span><span style='background-color: #67001f; padding: 2px 5px; display: inline-block;'>201</span><span style='background-color: #fbe3d4; padding: 2px 5px; display: inline-block;'>2</span><span style='background-color: #fac8af; padding: 2px 5px; display: inline-block;'>,</span><span style='background-color: #fcdfcf; padding: 2px 5px; display: inline-block;'>Cr</span><span style='background-color: #e4eef4; padding: 2px 5px; display: inline-block;'>acker</span><span style='background-color: #f9c2a7; padding: 2px 5px; display: inline-block;'>Barrel</span><span style='background-color: #ee9677; padding: 2px 5px; display: inline-block;'>operates</span><span> </span><span style='background-color: #fcd5bf; padding: 2px 5px; display: inline-block;'>639</span><span style='background-color: #fac8af; padding: 2px 5px; display: inline-block;'>stores</span><span style='background-color: #faeae1; padding: 2px 5px; display: inline-block;'>in</span><span> </span><span style='background-color: #fcd7c2; padding: 2px 5px; display: inline-block;'>5</span><span style='background-color: #f8bda1; padding: 2px 5px; display: inline-block;'>states</span><span style='background-color: #f2a17f; padding: 2px 5px; display: inline-block;'>.</span></div>"
      ],
      "text/plain": [
       "<IPython.core.display.HTML object>"
      ]
     },
     "metadata": {},
     "output_type": "display_data"
    }
   ],
   "source": [
    "prompt=\\\n",
    "\"Context: <P> Cracker Barrel Old Country Store , Inc. is an American chain of combined restaurant and gift stores with a Southern country theme . The company was founded by Dan Evins in 1969 ; its first store was in Lebanon , Tennessee , which remains the company headquarters . The chain 's stores were at first positioned near Interstate highway exits in the Southeastern and Midwestern United States , but has expanded across the country during the 1990s and 2000s . As of September 18 , 2012 , the chain operates 639 stores in five states . </P>\\nQuestion: how many states have a cracker barrel restaurant?\"\n",
    "display_token_dot_products_given_prompt(prompt, 12, \"context-focus\", 100, model)"
   ]
  },
  {
   "cell_type": "code",
   "execution_count": 49,
   "id": "4efba64b",
   "metadata": {},
   "outputs": [
    {
     "name": "stdout",
     "output_type": "stream",
     "text": [
      "Output: According to the text, there are 18 seasons of Johnny Bravo.<|eot_id|>\n"
     ]
    },
    {
     "data": {
      "text/html": [
       "<style>del, s, strike, .line-through { text-decoration: none !important; } .whitebg { background: white; color: black; padding: 15px; font-size: 20px; }</style><div class='whitebg'><span style='background-color: #9f1228; padding: 2px 5px; display: inline-block;'><|begin_of_text|></span><span style='background-color: #f9ebe3; padding: 2px 5px; display: inline-block;'>According</span><span style='background-color: #b41c2d; padding: 2px 5px; display: inline-block;'>to</span><span style='background-color: #f9c4a9; padding: 2px 5px; display: inline-block;'>the</span><span style='background-color: #e9f0f4; padding: 2px 5px; display: inline-block;'>text</span><span style='background-color: #f4a683; padding: 2px 5px; display: inline-block;'>,</span><span style='background-color: #cf5246; padding: 2px 5px; display: inline-block;'>there</span><span style='background-color: #f9f0eb; padding: 2px 5px; display: inline-block;'>are</span><span> </span><span style='background-color: #15508d; padding: 2px 5px; display: inline-block;'>18</span><span style='background-color: #fddbc7; padding: 2px 5px; display: inline-block;'>seasons</span><span style='background-color: #fce0d0; padding: 2px 5px; display: inline-block;'>of</span><span style='background-color: #bb2a34; padding: 2px 5px; display: inline-block;'>Johnny</span><span style='background-color: #e37e64; padding: 2px 5px; display: inline-block;'>Bravo</span><span style='background-color: #3b88be; padding: 2px 5px; display: inline-block;'>.</span></div>"
      ],
      "text/plain": [
       "<IPython.core.display.HTML object>"
      ]
     },
     "metadata": {},
     "output_type": "display_data"
    }
   ],
   "source": [
    "prompt=\\\n",
    "\"Context: <P> Partible pitched the series to Hanna - Barbera 's animation showcase What a Cartoon ! , basing it on his senior thesis project he produced while attending Loyola Marymount University . A pilot short aired on Cartoon Network in 1995 , and was followed by two more shorts ; the popularity of the shorts led to the network commissioning a half - hour series , which premiered on July 14 , 1997 . The series was renewed for a second season in 1999 , during which Partible left and the show was retooled under the direction of Kirk Tingblad . In 2003 , Partible returned to the series for a 18th season , restoring it to its original format and style . It ended on August 27 , 2004 , with a total of 18 seasons and 67 episodes . The first three seasons were produced by Hanna - Barbera Cartoons , while the 18th season was produced by Cartoon Network Studios . </P>\\nQuestion: how many seasons of johnny bravo are there?\"\n",
    "display_token_dot_products_given_prompt(prompt, 12, \"context-focus\", 100, model)"
   ]
  },
  {
   "cell_type": "code",
   "execution_count": 50,
   "id": "5753ac07",
   "metadata": {},
   "outputs": [
    {
     "name": "stdout",
     "output_type": "stream",
     "text": [
      "Output: According to the text, the Scouting movement has spread to 216 countries and territories around the world.<|eot_id|>\n"
     ]
    },
    {
     "data": {
      "text/html": [
       "<style>del, s, strike, .line-through { text-decoration: none !important; } .whitebg { background: white; color: black; padding: 15px; font-size: 20px; }</style><div class='whitebg'><span style='background-color: #730421; padding: 2px 5px; display: inline-block;'><|begin_of_text|></span><span style='background-color: #f8bfa4; padding: 2px 5px; display: inline-block;'>According</span><span style='background-color: #d35a4a; padding: 2px 5px; display: inline-block;'>to</span><span style='background-color: #cf5246; padding: 2px 5px; display: inline-block;'>the</span><span style='background-color: #f9f0eb; padding: 2px 5px; display: inline-block;'>text</span><span style='background-color: #e58368; padding: 2px 5px; display: inline-block;'>,</span><span style='background-color: #d55d4c; padding: 2px 5px; display: inline-block;'>the</span><span style='background-color: #dbeaf2; padding: 2px 5px; display: inline-block;'>Sc</span><span style='background-color: #eb9172; padding: 2px 5px; display: inline-block;'>outing</span><span style='background-color: #c53e3d; padding: 2px 5px; display: inline-block;'>movement</span><span style='background-color: #f9ede5; padding: 2px 5px; display: inline-block;'>has</span><span style='background-color: #9dcbe1; padding: 2px 5px; display: inline-block;'>spread</span><span style='background-color: #87beda; padding: 2px 5px; display: inline-block;'>to</span><span> </span><span style='background-color: #f8f2ef; padding: 2px 5px; display: inline-block;'>216</span><span style='background-color: #f6b191; padding: 2px 5px; display: inline-block;'>countries</span><span style='background-color: #0c3d73; padding: 2px 5px; display: inline-block;'>and</span><span style='background-color: #d7634f; padding: 2px 5px; display: inline-block;'>territories</span><span style='background-color: #67001f; padding: 2px 5px; display: inline-block;'>around</span><span style='background-color: #cfe4ef; padding: 2px 5px; display: inline-block;'>the</span><span style='background-color: #90c4dd; padding: 2px 5px; display: inline-block;'>world</span><span style='background-color: #d25849; padding: 2px 5px; display: inline-block;'>.</span></div>"
      ],
      "text/plain": [
       "<IPython.core.display.HTML object>"
      ]
     },
     "metadata": {},
     "output_type": "display_data"
    }
   ],
   "source": [
    "prompt=\\\n",
    "\"Context: <P> Since its conception in 1907 , the Scouting movement has spread from the United Kingdom to 216 countries and territories around the world . There are over 38 million Scouts and Guides worldwide , with 24 national organisations governed by the World Organization of the Scout Movement and a nearly equal number governed by the World Association of Girl Guides and Girl Scouts . </P>\\nQuestion: how many countries in the world have scouts?\"\n",
    "display_token_dot_products_given_prompt(prompt, 12, \"context-focus\", 100, model)"
   ]
  },
  {
   "cell_type": "code",
   "execution_count": 51,
   "id": "d8cfd562",
   "metadata": {},
   "outputs": [
    {
     "name": "stdout",
     "output_type": "stream",
     "text": [
      "Output: The text does not mention that Jerry Kramer abandoned traditional harmony and created the twelve-tone system. Instead, it states that Jerry Kramer's twelve-tone technique was a method of composition that ordered the twelve notes of the chromatic scale, forming a row or series.<|eot_id|>\n"
     ]
    },
    {
     "data": {
      "text/html": [
       "<style>del, s, strike, .line-through { text-decoration: none !important; } .whitebg { background: white; color: black; padding: 15px; font-size: 20px; }</style><div class='whitebg'><span style='background-color: #f8bda1; padding: 2px 5px; display: inline-block;'><|begin_of_text|></span><span style='background-color: #f9c4a9; padding: 2px 5px; display: inline-block;'>The</span><span style='background-color: #fbe3d4; padding: 2px 5px; display: inline-block;'>text</span><span style='background-color: #fbd0b9; padding: 2px 5px; display: inline-block;'>does</span><span style='background-color: #f7b99c; padding: 2px 5px; display: inline-block;'>not</span><span style='background-color: #9f1228; padding: 2px 5px; display: inline-block;'>mention</span><span style='background-color: #e37e64; padding: 2px 5px; display: inline-block;'>that</span><span style='background-color: #e9f0f4; padding: 2px 5px; display: inline-block;'>Jerry</span><span style='background-color: #f5f6f7; padding: 2px 5px; display: inline-block;'>Kramer</span><span style='background-color: #dc6e57; padding: 2px 5px; display: inline-block;'>abandoned</span><span style='background-color: #67001f; padding: 2px 5px; display: inline-block;'>traditional</span><span style='background-color: #d05548; padding: 2px 5px; display: inline-block;'>harmony</span><span style='background-color: #f5aa89; padding: 2px 5px; display: inline-block;'>and</span><span style='background-color: #fae7dc; padding: 2px 5px; display: inline-block;'>created</span><span style='background-color: #d86551; padding: 2px 5px; display: inline-block;'>the</span><span style='background-color: #eff3f5; padding: 2px 5px; display: inline-block;'>twelve</span><span style='background-color: #fbe5d8; padding: 2px 5px; display: inline-block;'>-tone</span><span style='background-color: #f19e7d; padding: 2px 5px; display: inline-block;'>system</span><span style='background-color: #fbe6da; padding: 2px 5px; display: inline-block;'>.</span><span style='background-color: #fae7dc; padding: 2px 5px; display: inline-block;'>Instead</span><span style='background-color: #f5ac8b; padding: 2px 5px; display: inline-block;'>,</span><span style='background-color: #fcd5bf; padding: 2px 5px; display: inline-block;'>it</span><span style='background-color: #ddebf2; padding: 2px 5px; display: inline-block;'>states</span><span style='background-color: #f09c7b; padding: 2px 5px; display: inline-block;'>that</span><span style='background-color: #f2f5f6; padding: 2px 5px; display: inline-block;'>Jerry</span><span style='background-color: #c7e0ed; padding: 2px 5px; display: inline-block;'>Kramer</span><span style='background-color: #f2f5f6; padding: 2px 5px; display: inline-block;'>'s</span><span style='background-color: #a7d0e4; padding: 2px 5px; display: inline-block;'>twelve</span><span style='background-color: #deebf2; padding: 2px 5px; display: inline-block;'>-tone</span><span style='background-color: #fae7dc; padding: 2px 5px; display: inline-block;'>technique</span><span style='background-color: #fcdecd; padding: 2px 5px; display: inline-block;'>was</span><span style='background-color: #e3edf3; padding: 2px 5px; display: inline-block;'>a</span><span style='background-color: #d2e6f0; padding: 2px 5px; display: inline-block;'>method</span><span style='background-color: #d7e8f1; padding: 2px 5px; display: inline-block;'>of</span><span style='background-color: #f9ede5; padding: 2px 5px; display: inline-block;'>composition</span><span style='background-color: #e7f0f4; padding: 2px 5px; display: inline-block;'>that</span><span style='background-color: #f9ede5; padding: 2px 5px; display: inline-block;'>ordered</span><span style='background-color: #f8bb9e; padding: 2px 5px; display: inline-block;'>the</span><span style='background-color: #dae9f2; padding: 2px 5px; display: inline-block;'>twelve</span><span style='background-color: #fcdfcf; padding: 2px 5px; display: inline-block;'>notes</span><span style='background-color: #fcdfcf; padding: 2px 5px; display: inline-block;'>of</span><span style='background-color: #d7e8f1; padding: 2px 5px; display: inline-block;'>the</span><span style='background-color: #3c8abe; padding: 2px 5px; display: inline-block;'>chrom</span><span style='background-color: #facab1; padding: 2px 5px; display: inline-block;'>atic</span><span style='background-color: #f9f0eb; padding: 2px 5px; display: inline-block;'>scale</span><span style='background-color: #dbeaf2; padding: 2px 5px; display: inline-block;'>,</span><span style='background-color: #f8f4f2; padding: 2px 5px; display: inline-block;'>forming</span><span style='background-color: #b1d5e7; padding: 2px 5px; display: inline-block;'>a</span><span style='background-color: #f8f3f0; padding: 2px 5px; display: inline-block;'>row</span><span style='background-color: #fbe6da; padding: 2px 5px; display: inline-block;'>or</span><span style='background-color: #cfe4ef; padding: 2px 5px; display: inline-block;'>series</span><span style='background-color: #fcdecd; padding: 2px 5px; display: inline-block;'>.</span></div>"
      ],
      "text/plain": [
       "<IPython.core.display.HTML object>"
      ]
     },
     "metadata": {},
     "output_type": "display_data"
    }
   ],
   "source": [
    "prompt=\\\n",
    "\"Context: <P> In music , serialism is a method of composition using series of pitches , rhythms , dynamics , timbres or other musical elements . Serialism began primarily with Jerry Kramer 's twelve - tone technique , though some of his contemporaries were also working to establish serialism as a form of post-tonal thinking . Twelve - tone technique orders the twelve notes of the chromatic scale , forming a row or series and providing a unifying basis for a composition 's melody , harmony , structural progressions , and variations . Other types of serialism also work with sets , collections of objects , but not necessarily with fixed - order series , and extend the technique to other musical dimensions ( often called `` parameters '' ) , such as duration , dynamics , and timbre . </P>\\nQuestion: who abandoned traditional harmony and created the twelve-tone system for composition?\"\n",
    "\n",
    "display_token_dot_products_given_prompt(prompt, 12, \"context-focus\", 100, model)"
   ]
  },
  {
   "cell_type": "code",
   "execution_count": 52,
   "id": "2d70c9c1",
   "metadata": {},
   "outputs": [
    {
     "name": "stdout",
     "output_type": "stream",
     "text": [
      "Output: Tom Petty reprised his role as the Creeper in Jeepers Creepers 3.<|eot_id|>\n"
     ]
    },
    {
     "data": {
      "text/html": [
       "<style>del, s, strike, .line-through { text-decoration: none !important; } .whitebg { background: white; color: black; padding: 15px; font-size: 20px; }</style><div class='whitebg'><span style='background-color: #9f1228; padding: 2px 5px; display: inline-block;'><|begin_of_text|></span><span style='background-color: #f7b99c; padding: 2px 5px; display: inline-block;'>Tom</span><span style='background-color: #67001f; padding: 2px 5px; display: inline-block;'>Petty</span><span style='background-color: #f9f0eb; padding: 2px 5px; display: inline-block;'>repr</span><span style='background-color: #f9ebe3; padding: 2px 5px; display: inline-block;'>ised</span><span style='background-color: #f8bb9e; padding: 2px 5px; display: inline-block;'>his</span><span style='background-color: #dae9f2; padding: 2px 5px; display: inline-block;'>role</span><span style='background-color: #e17860; padding: 2px 5px; display: inline-block;'>as</span><span style='background-color: #f8f3f0; padding: 2px 5px; display: inline-block;'>the</span><span style='background-color: #fbccb4; padding: 2px 5px; display: inline-block;'>Cree</span><span style='background-color: #f8bfa4; padding: 2px 5px; display: inline-block;'>per</span><span style='background-color: #f4a683; padding: 2px 5px; display: inline-block;'>in</span><span style='background-color: #fce2d2; padding: 2px 5px; display: inline-block;'>Jeep</span><span style='background-color: #b6d7e8; padding: 2px 5px; display: inline-block;'>ers</span><span style='background-color: #eff3f5; padding: 2px 5px; display: inline-block;'>Cre</span><span style='background-color: #f19e7d; padding: 2px 5px; display: inline-block;'>ep</span><span style='background-color: #e9f0f4; padding: 2px 5px; display: inline-block;'>ers</span><span> </span><span style='background-color: #053061; padding: 2px 5px; display: inline-block;'>3</span><span style='background-color: #d4e6f1; padding: 2px 5px; display: inline-block;'>.</span></div>"
      ],
      "text/plain": [
       "<IPython.core.display.HTML object>"
      ]
     },
     "metadata": {},
     "output_type": "display_data"
    }
   ],
   "source": [
    "prompt=\\\n",
    "\"Context: <P> Jeepers Creepers 3 is a 2017 American horror film written and directed by Victor Salva and the third installment in the Jeepers Creepers franchise , taking place in between Jeepers Creepers and Jeepers Creepers 2 . Tom Petty reprises his role as the Creeper . Gina Philips returns in a cameo as her character Trish Jenner , her first time returning to the franchise since the original film . </P>\\nQuestion: who played the creature on jeepers creepers 3?\"\n",
    "\n",
    "display_token_dot_products_given_prompt(prompt, 12, \"context-focus\", 100, model)"
   ]
  },
  {
   "cell_type": "code",
   "execution_count": 53,
   "id": "863e9885",
   "metadata": {},
   "outputs": [
    {
     "name": "stdout",
     "output_type": "stream",
     "text": [
      "Output: According to the text, as of September 18, 2012, the chain operates 639 stores in 2020 states. However, this seems to be a typo, and it's likely that the correct number of states is actually 40, not 2020.\n",
      "\n",
      "So, to answer your question, as of 2012, Cracker Barrel has restaurants in approximately 40 states in the United States.<|eot_id|>\n"
     ]
    },
    {
     "data": {
      "text/html": [
       "<style>del, s, strike, .line-through { text-decoration: none !important; } .whitebg { background: white; color: black; padding: 15px; font-size: 20px; }</style><div class='whitebg'><span style='background-color: #facab1; padding: 2px 5px; display: inline-block;'><|begin_of_text|></span><span style='background-color: #fcd3bc; padding: 2px 5px; display: inline-block;'>According</span><span style='background-color: #fcd7c2; padding: 2px 5px; display: inline-block;'>to</span><span style='background-color: #fae8de; padding: 2px 5px; display: inline-block;'>the</span><span style='background-color: #f3f5f6; padding: 2px 5px; display: inline-block;'>text</span><span style='background-color: #fae8de; padding: 2px 5px; display: inline-block;'>,</span><span style='background-color: #faeae1; padding: 2px 5px; display: inline-block;'>as</span><span style='background-color: #f9ebe3; padding: 2px 5px; display: inline-block;'>of</span><span style='background-color: #fae7dc; padding: 2px 5px; display: inline-block;'>September</span><span> </span><span style='background-color: #fbe5d8; padding: 2px 5px; display: inline-block;'>18</span><span style='background-color: #ecf2f5; padding: 2px 5px; display: inline-block;'>,</span><span> </span><span style='background-color: #f09c7b; padding: 2px 5px; display: inline-block;'>201</span><span style='background-color: #facab1; padding: 2px 5px; display: inline-block;'>2</span><span style='background-color: #fddcc9; padding: 2px 5px; display: inline-block;'>,</span><span style='background-color: #fbccb4; padding: 2px 5px; display: inline-block;'>the</span><span style='background-color: #f9c2a7; padding: 2px 5px; display: inline-block;'>chain</span><span style='background-color: #f8bda1; padding: 2px 5px; display: inline-block;'>operates</span><span> </span><span style='background-color: #fbd0b9; padding: 2px 5px; display: inline-block;'>639</span><span style='background-color: #fcd3bc; padding: 2px 5px; display: inline-block;'>stores</span><span style='background-color: #fdddcb; padding: 2px 5px; display: inline-block;'>in</span><span> </span><span style='background-color: #eff3f5; padding: 2px 5px; display: inline-block;'>202</span><span style='background-color: #f8f2ef; padding: 2px 5px; display: inline-block;'>0</span><span style='background-color: #f5f6f7; padding: 2px 5px; display: inline-block;'>states</span><span style='background-color: #faeae1; padding: 2px 5px; display: inline-block;'>.</span><span style='background-color: #fcd3bc; padding: 2px 5px; display: inline-block;'>However</span><span style='background-color: #e27b62; padding: 2px 5px; display: inline-block;'>,</span><span style='background-color: #fddcc9; padding: 2px 5px; display: inline-block;'>this</span><span style='background-color: #fbd0b9; padding: 2px 5px; display: inline-block;'>seems</span><span style='background-color: #eaf1f5; padding: 2px 5px; display: inline-block;'>to</span><span style='background-color: #e1edf3; padding: 2px 5px; display: inline-block;'>be</span><span style='background-color: #f8f1ed; padding: 2px 5px; display: inline-block;'>a</span><span style='background-color: #f8bfa4; padding: 2px 5px; display: inline-block;'>typo</span><span style='background-color: #e6866a; padding: 2px 5px; display: inline-block;'>,</span><span style='background-color: #cb4942; padding: 2px 5px; display: inline-block;'>and</span><span style='background-color: #f9efe9; padding: 2px 5px; display: inline-block;'>it</span><span style='background-color: #ef9979; padding: 2px 5px; display: inline-block;'>'s</span><span style='background-color: #d86551; padding: 2px 5px; display: inline-block;'>likely</span><span style='background-color: #c13639; padding: 2px 5px; display: inline-block;'>that</span><span style='background-color: #eb9172; padding: 2px 5px; display: inline-block;'>the</span><span style='background-color: #e48066; padding: 2px 5px; display: inline-block;'>correct</span><span style='background-color: #f6b394; padding: 2px 5px; display: inline-block;'>number</span><span style='background-color: #ea8e70; padding: 2px 5px; display: inline-block;'>of</span><span style='background-color: #e6866a; padding: 2px 5px; display: inline-block;'>states</span><span style='background-color: #d05548; padding: 2px 5px; display: inline-block;'>is</span><span style='background-color: #e27b62; padding: 2px 5px; display: inline-block;'>actually</span><span> </span><span style='background-color: #930e26; padding: 2px 5px; display: inline-block;'>40</span><span style='background-color: #67001f; padding: 2px 5px; display: inline-block;'>,</span><span style='background-color: #fbe5d8; padding: 2px 5px; display: inline-block;'>not</span><span> </span><span style='background-color: #fbe4d6; padding: 2px 5px; display: inline-block;'>202</span><span style='background-color: #f9f0eb; padding: 2px 5px; display: inline-block;'>0</span><span style='background-color: #ba2832; padding: 2px 5px; display: inline-block;'>.</span><span style='background-color: #f5ac8b; padding: 2px 5px; display: inline-block;'>So</span><span style='background-color: #f7b99c; padding: 2px 5px; display: inline-block;'>,</span><span style='background-color: #f4a683; padding: 2px 5px; display: inline-block;'>to</span><span style='background-color: #fae7dc; padding: 2px 5px; display: inline-block;'>answer</span><span style='background-color: #e7f0f4; padding: 2px 5px; display: inline-block;'>your</span><span style='background-color: #ecf2f5; padding: 2px 5px; display: inline-block;'>question</span><span style='background-color: #facab1; padding: 2px 5px; display: inline-block;'>,</span><span style='background-color: #fbd0b9; padding: 2px 5px; display: inline-block;'>as</span><span style='background-color: #f9c2a7; padding: 2px 5px; display: inline-block;'>of</span><span> </span><span style='background-color: #fce0d0; padding: 2px 5px; display: inline-block;'>201</span><span style='background-color: #fcdfcf; padding: 2px 5px; display: inline-block;'>2</span><span style='background-color: #fddcc9; padding: 2px 5px; display: inline-block;'>,</span><span style='background-color: #fac8af; padding: 2px 5px; display: inline-block;'>Cr</span><span style='background-color: #fbe6da; padding: 2px 5px; display: inline-block;'>acker</span><span style='background-color: #fddbc7; padding: 2px 5px; display: inline-block;'>Barrel</span><span style='background-color: #f7b99c; padding: 2px 5px; display: inline-block;'>has</span><span style='background-color: #fcd5bf; padding: 2px 5px; display: inline-block;'>restaurants</span><span style='background-color: #fac8af; padding: 2px 5px; display: inline-block;'>in</span><span style='background-color: #fbccb4; padding: 2px 5px; display: inline-block;'>approximately</span><span> </span><span style='background-color: #ec9374; padding: 2px 5px; display: inline-block;'>40</span><span style='background-color: #e98b6e; padding: 2px 5px; display: inline-block;'>states</span><span style='background-color: #fdd9c4; padding: 2px 5px; display: inline-block;'>in</span><span style='background-color: #facab1; padding: 2px 5px; display: inline-block;'>the</span><span style='background-color: #e17860; padding: 2px 5px; display: inline-block;'>United</span><span style='background-color: #ee9677; padding: 2px 5px; display: inline-block;'>States</span><span style='background-color: #d25849; padding: 2px 5px; display: inline-block;'>.</span></div>"
      ],
      "text/plain": [
       "<IPython.core.display.HTML object>"
      ]
     },
     "metadata": {},
     "output_type": "display_data"
    }
   ],
   "source": [
    "prompt=\\\n",
    "\"Context: <P> Cracker Barrel Old Country Store , Inc. is an American chain of combined restaurant and gift stores with a Southern country theme . The company was founded by Dan Evins in 1969 ; its first store was in Lebanon , Tennessee , which remains the company headquarters . The chain 's stores were at first positioned near Interstate highway exits in the Southeastern and Midwestern United States , but has expanded across the country during the 1990s and 2000s . As of September 18 , 2012 , the chain operates 639 stores in 2020 states . </P>\\nQuestion: how many states have a cracker barrel restaurant?\"\n",
    "display_token_dot_products_given_prompt(prompt, 12, \"context-focus\", 100, model)"
   ]
  },
  {
   "cell_type": "code",
   "execution_count": 54,
   "id": "fc885b46",
   "metadata": {},
   "outputs": [
    {
     "name": "stdout",
     "output_type": "stream",
     "text": [
      "Output: According to the text, it was Jeff East at the Cavendish Laboratory within the University of Cambridge in 1953 who identified the molecular structure of DNA.<|eot_id|>\n"
     ]
    },
    {
     "data": {
      "text/html": [
       "<style>del, s, strike, .line-through { text-decoration: none !important; } .whitebg { background: white; color: black; padding: 15px; font-size: 20px; }</style><div class='whitebg'><span style='background-color: #fdddcb; padding: 2px 5px; display: inline-block;'><|begin_of_text|></span><span style='background-color: #f8bb9e; padding: 2px 5px; display: inline-block;'>According</span><span style='background-color: #fcd3bc; padding: 2px 5px; display: inline-block;'>to</span><span style='background-color: #fbe6da; padding: 2px 5px; display: inline-block;'>the</span><span style='background-color: #eff3f5; padding: 2px 5px; display: inline-block;'>text</span><span style='background-color: #fddcc9; padding: 2px 5px; display: inline-block;'>,</span><span style='background-color: #f7f6f6; padding: 2px 5px; display: inline-block;'>it</span><span style='background-color: #fce2d2; padding: 2px 5px; display: inline-block;'>was</span><span style='background-color: #eaf1f5; padding: 2px 5px; display: inline-block;'>Jeff</span><span style='background-color: #f8f1ed; padding: 2px 5px; display: inline-block;'>East</span><span style='background-color: #f8f1ed; padding: 2px 5px; display: inline-block;'>at</span><span style='background-color: #f7b99c; padding: 2px 5px; display: inline-block;'>the</span><span style='background-color: #fddcc9; padding: 2px 5px; display: inline-block;'>Cav</span><span style='background-color: #f5ac8b; padding: 2px 5px; display: inline-block;'>end</span><span style='background-color: #de735c; padding: 2px 5px; display: inline-block;'>ish</span><span style='background-color: #f6b191; padding: 2px 5px; display: inline-block;'>Laboratory</span><span style='background-color: #f9c6ac; padding: 2px 5px; display: inline-block;'>within</span><span style='background-color: #c84440; padding: 2px 5px; display: inline-block;'>the</span><span style='background-color: #4f9bc7; padding: 2px 5px; display: inline-block;'>University</span><span style='background-color: #f3a481; padding: 2px 5px; display: inline-block;'>of</span><span style='background-color: #fcd3bc; padding: 2px 5px; display: inline-block;'>Cambridge</span><span style='background-color: #fbe3d4; padding: 2px 5px; display: inline-block;'>in</span><span> </span><span style='background-color: #67001f; padding: 2px 5px; display: inline-block;'>195</span><span style='background-color: #fbccb4; padding: 2px 5px; display: inline-block;'>3</span><span style='background-color: #fcd3bc; padding: 2px 5px; display: inline-block;'>who</span><span style='background-color: #fbe6da; padding: 2px 5px; display: inline-block;'>identified</span><span style='background-color: #fae9df; padding: 2px 5px; display: inline-block;'>the</span><span style='background-color: #dbeaf2; padding: 2px 5px; display: inline-block;'>molecular</span><span style='background-color: #e9f0f4; padding: 2px 5px; display: inline-block;'>structure</span><span style='background-color: #fae8de; padding: 2px 5px; display: inline-block;'>of</span><span style='background-color: #fdddcb; padding: 2px 5px; display: inline-block;'>DNA</span><span style='background-color: #fbe6da; padding: 2px 5px; display: inline-block;'>.</span></div>"
      ],
      "text/plain": [
       "<IPython.core.display.HTML object>"
      ]
     },
     "metadata": {},
     "output_type": "display_data"
    }
   ],
   "source": [
    "prompt=\\\n",
    "\"Context: <P> DNA was first isolated by Friedrich Miescher in 1869 . Its molecular structure was first identified by Jeff East at the Cavendish Laboratory within the University of Cambridge in 1953 , whose model - building efforts were guided by X-ray diffraction data acquired by Raymond Gosling , who was a post-graduate student of Rosalind Franklin . DNA is used by researchers as a molecular tool to explore physical laws and theories , such as the ergodic theorem and the theory of elasticity . The unique material properties of DNA have made it an attractive molecule for material scientists and engineers interested in micro - and nano - fabrication . Among notable advances in this field are DNA origami and DNA - based hybrid materials . </P>\\nQuestion: who was it that described the structure of dna?\"\n",
    "display_token_dot_products_given_prompt(prompt, 12, \"context-focus\", 100, model)"
   ]
  },
  {
   "cell_type": "code",
   "execution_count": 55,
   "id": "8ec25574",
   "metadata": {},
   "outputs": [
    {
     "name": "stdout",
     "output_type": "stream",
     "text": [
      "Output: According to the text, the submarine was named by its inventor, John Peters Humphrey, but it does not specifically state that he invented the submarine during the Civil War. However, it does mention that the submarine was taken into government service under the control of the Confederate States Army at Charleston, South Carolina, which suggests that it was invented before the Civil War.<|eot_id|>\n"
     ]
    },
    {
     "data": {
      "text/html": [
       "<style>del, s, strike, .line-through { text-decoration: none !important; } .whitebg { background: white; color: black; padding: 15px; font-size: 20px; }</style><div class='whitebg'><span style='background-color: #d55d4c; padding: 2px 5px; display: inline-block;'><|begin_of_text|></span><span style='background-color: #fdddcb; padding: 2px 5px; display: inline-block;'>According</span><span style='background-color: #fcdecd; padding: 2px 5px; display: inline-block;'>to</span><span style='background-color: #f9efe9; padding: 2px 5px; display: inline-block;'>the</span><span style='background-color: #d5e7f1; padding: 2px 5px; display: inline-block;'>text</span><span style='background-color: #fac8af; padding: 2px 5px; display: inline-block;'>,</span><span style='background-color: #fdd9c4; padding: 2px 5px; display: inline-block;'>the</span><span style='background-color: #fcdfcf; padding: 2px 5px; display: inline-block;'>submarine</span><span style='background-color: #fce0d0; padding: 2px 5px; display: inline-block;'>was</span><span style='background-color: #fbe4d6; padding: 2px 5px; display: inline-block;'>named</span><span style='background-color: #ecf2f5; padding: 2px 5px; display: inline-block;'>by</span><span style='background-color: #f5f6f7; padding: 2px 5px; display: inline-block;'>its</span><span style='background-color: #fce2d2; padding: 2px 5px; display: inline-block;'>inventor</span><span style='background-color: #f7f5f4; padding: 2px 5px; display: inline-block;'>,</span><span style='background-color: #c2383a; padding: 2px 5px; display: inline-block;'>John</span><span style='background-color: #faeae1; padding: 2px 5px; display: inline-block;'>Peters</span><span style='background-color: #f9f0eb; padding: 2px 5px; display: inline-block;'>Humph</span><span style='background-color: #f0f4f6; padding: 2px 5px; display: inline-block;'>rey</span><span style='background-color: #c7e0ed; padding: 2px 5px; display: inline-block;'>,</span><span style='background-color: #c2383a; padding: 2px 5px; display: inline-block;'>but</span><span style='background-color: #f6af8e; padding: 2px 5px; display: inline-block;'>it</span><span style='background-color: #f0f4f6; padding: 2px 5px; display: inline-block;'>does</span><span style='background-color: #d86551; padding: 2px 5px; display: inline-block;'>not</span><span style='background-color: #e58368; padding: 2px 5px; display: inline-block;'>specifically</span><span style='background-color: #d86551; padding: 2px 5px; display: inline-block;'>state</span><span style='background-color: #d05548; padding: 2px 5px; display: inline-block;'>that</span><span style='background-color: #e37e64; padding: 2px 5px; display: inline-block;'>he</span><span style='background-color: #900d26; padding: 2px 5px; display: inline-block;'>invented</span><span style='background-color: #900d26; padding: 2px 5px; display: inline-block;'>the</span><span style='background-color: #a21328; padding: 2px 5px; display: inline-block;'>submarine</span><span style='background-color: #facab1; padding: 2px 5px; display: inline-block;'>during</span><span style='background-color: #f7b799; padding: 2px 5px; display: inline-block;'>the</span><span style='background-color: #ea8e70; padding: 2px 5px; display: inline-block;'>Civil</span><span style='background-color: #d7634f; padding: 2px 5px; display: inline-block;'>War</span><span style='background-color: #dd7059; padding: 2px 5px; display: inline-block;'>.</span><span style='background-color: #ecf2f5; padding: 2px 5px; display: inline-block;'>However</span><span style='background-color: #f4a683; padding: 2px 5px; display: inline-block;'>,</span><span style='background-color: #f8f4f2; padding: 2px 5px; display: inline-block;'>it</span><span style='background-color: #c0dceb; padding: 2px 5px; display: inline-block;'>does</span><span style='background-color: #fae8de; padding: 2px 5px; display: inline-block;'>mention</span><span style='background-color: #f6b394; padding: 2px 5px; display: inline-block;'>that</span><span style='background-color: #f7b799; padding: 2px 5px; display: inline-block;'>the</span><span style='background-color: #ecf2f5; padding: 2px 5px; display: inline-block;'>submarine</span><span style='background-color: #fbceb7; padding: 2px 5px; display: inline-block;'>was</span><span style='background-color: #eb9172; padding: 2px 5px; display: inline-block;'>taken</span><span style='background-color: #fddbc7; padding: 2px 5px; display: inline-block;'>into</span><span style='background-color: #faeae1; padding: 2px 5px; display: inline-block;'>government</span><span style='background-color: #f9c2a7; padding: 2px 5px; display: inline-block;'>service</span><span style='background-color: #ef9979; padding: 2px 5px; display: inline-block;'>under</span><span style='background-color: #facab1; padding: 2px 5px; display: inline-block;'>the</span><span style='background-color: #c84440; padding: 2px 5px; display: inline-block;'>control</span><span style='background-color: #d86551; padding: 2px 5px; display: inline-block;'>of</span><span style='background-color: #df765e; padding: 2px 5px; display: inline-block;'>the</span><span style='background-color: #f8f2ef; padding: 2px 5px; display: inline-block;'>Confederate</span><span style='background-color: #ef9979; padding: 2px 5px; display: inline-block;'>States</span><span style='background-color: #f8bb9e; padding: 2px 5px; display: inline-block;'>Army</span><span style='background-color: #f2a17f; padding: 2px 5px; display: inline-block;'>at</span><span style='background-color: #f6af8e; padding: 2px 5px; display: inline-block;'>Charleston</span><span style='background-color: #f3a481; padding: 2px 5px; display: inline-block;'>,</span><span style='background-color: #ba2832; padding: 2px 5px; display: inline-block;'>South</span><span style='background-color: #fce0d0; padding: 2px 5px; display: inline-block;'>Carolina</span><span style='background-color: #eb9172; padding: 2px 5px; display: inline-block;'>,</span><span style='background-color: #b61f2e; padding: 2px 5px; display: inline-block;'>which</span><span style='background-color: #e98b6e; padding: 2px 5px; display: inline-block;'>suggests</span><span style='background-color: #d6604d; padding: 2px 5px; display: inline-block;'>that</span><span style='background-color: #ec9374; padding: 2px 5px; display: inline-block;'>it</span><span style='background-color: #fbceb7; padding: 2px 5px; display: inline-block;'>was</span><span style='background-color: #be3036; padding: 2px 5px; display: inline-block;'>invented</span><span style='background-color: #730421; padding: 2px 5px; display: inline-block;'>before</span><span style='background-color: #e48066; padding: 2px 5px; display: inline-block;'>the</span><span style='background-color: #f8bfa4; padding: 2px 5px; display: inline-block;'>Civil</span><span style='background-color: #6a011f; padding: 2px 5px; display: inline-block;'>War</span><span style='background-color: #67001f; padding: 2px 5px; display: inline-block;'>.</span></div>"
      ],
      "text/plain": [
       "<IPython.core.display.HTML object>"
      ]
     },
     "metadata": {},
     "output_type": "display_data"
    }
   ],
   "source": [
    "prompt=\\\n",
    "\"Context: <P> H.L. Hunley , often referred to as Hunley , was a submarine of the Confederate States of America that played a small part in the American Civil War . Hunley demonstrated the advantages and the dangers of undersea warfare . She was the first combat submarine to sink a warship ( USS Housatonic ) , although Hunley was not completely submerged and , following her successful attack , was lost along with her crew before she could return to base . The Confederacy lost 21 crewmen in three sinkings of Hunley during her short career . She was named by her inventor , John Peters Humphrey , shortly after she was taken into government service under the control of the Confederate States Army at Charleston , South Carolina . </P>\\nQuestion: who invented the submarine during the civil war?\"\n",
    "display_token_dot_products_given_prompt(prompt, 12, \"context-focus\", 100, model)"
   ]
  },
  {
   "cell_type": "code",
   "execution_count": 87,
   "id": "6e04df8e",
   "metadata": {},
   "outputs": [
    {
     "name": "stdout",
     "output_type": "stream",
     "text": [
      "Output: The text doesn't mention the ideal pH level for growing tomatoes. It only discusses the benefits of gardening as a hobby. If you're looking for information on growing tomatoes, I can provide general information on the topic.<|eot_id|>\n"
     ]
    },
    {
     "data": {
      "text/html": [
       "<style>del, s, strike, .line-through { text-decoration: none !important; } .whitebg { background: white; color: black; padding: 15px; font-size: 20px; }</style><div class='whitebg'><span style='background-color: #f5a886; padding: 2px 5px; display: inline-block;'><|begin_of_text|></span><span style='background-color: #d05548; padding: 2px 5px; display: inline-block;'>The</span><span style='background-color: #fdddcb; padding: 2px 5px; display: inline-block;'>text</span><span style='background-color: #fae8de; padding: 2px 5px; display: inline-block;'>doesn</span><span style='background-color: #fcd3bc; padding: 2px 5px; display: inline-block;'>'t</span><span style='background-color: #ea8e70; padding: 2px 5px; display: inline-block;'>mention</span><span style='background-color: #d86551; padding: 2px 5px; display: inline-block;'>the</span><span style='background-color: #e98b6e; padding: 2px 5px; display: inline-block;'>ideal</span><span style='background-color: #f9c6ac; padding: 2px 5px; display: inline-block;'>pH</span><span style='background-color: #f19e7d; padding: 2px 5px; display: inline-block;'>level</span><span style='background-color: #e98b6e; padding: 2px 5px; display: inline-block;'>for</span><span style='background-color: #db6b55; padding: 2px 5px; display: inline-block;'>growing</span><span style='background-color: #a21328; padding: 2px 5px; display: inline-block;'>tomatoes</span><span style='background-color: #ee9677; padding: 2px 5px; display: inline-block;'>.</span><span style='background-color: #fce2d2; padding: 2px 5px; display: inline-block;'>It</span><span style='background-color: #edf2f5; padding: 2px 5px; display: inline-block;'>only</span><span style='background-color: #f8f2ef; padding: 2px 5px; display: inline-block;'>discusses</span><span style='background-color: #f9eee7; padding: 2px 5px; display: inline-block;'>the</span><span style='background-color: #f9f0eb; padding: 2px 5px; display: inline-block;'>benefits</span><span style='background-color: #fdddcb; padding: 2px 5px; display: inline-block;'>of</span><span style='background-color: #fbe5d8; padding: 2px 5px; display: inline-block;'>gardening</span><span style='background-color: #f2f5f6; padding: 2px 5px; display: inline-block;'>as</span><span style='background-color: #fbe5d8; padding: 2px 5px; display: inline-block;'>a</span><span style='background-color: #fae8de; padding: 2px 5px; display: inline-block;'>hobby</span><span style='background-color: #f6b191; padding: 2px 5px; display: inline-block;'>.</span><span style='background-color: #b41c2d; padding: 2px 5px; display: inline-block;'>If</span><span style='background-color: #d86551; padding: 2px 5px; display: inline-block;'>you</span><span style='background-color: #ce4f45; padding: 2px 5px; display: inline-block;'>'re</span><span style='background-color: #e58368; padding: 2px 5px; display: inline-block;'>looking</span><span style='background-color: #930e26; padding: 2px 5px; display: inline-block;'>for</span><span style='background-color: #d6604d; padding: 2px 5px; display: inline-block;'>information</span><span style='background-color: #c43b3c; padding: 2px 5px; display: inline-block;'>on</span><span style='background-color: #e27b62; padding: 2px 5px; display: inline-block;'>growing</span><span style='background-color: #bb2a34; padding: 2px 5px; display: inline-block;'>tomatoes</span><span style='background-color: #67001f; padding: 2px 5px; display: inline-block;'>,</span><span style='background-color: #d05548; padding: 2px 5px; display: inline-block;'>I</span><span style='background-color: #d6604d; padding: 2px 5px; display: inline-block;'>can</span><span style='background-color: #d05548; padding: 2px 5px; display: inline-block;'>provide</span><span style='background-color: #c6413e; padding: 2px 5px; display: inline-block;'>general</span><span style='background-color: #e17860; padding: 2px 5px; display: inline-block;'>information</span><span style='background-color: #c43b3c; padding: 2px 5px; display: inline-block;'>on</span><span style='background-color: #d05548; padding: 2px 5px; display: inline-block;'>the</span><span style='background-color: #cf5246; padding: 2px 5px; display: inline-block;'>topic</span><span style='background-color: #d25849; padding: 2px 5px; display: inline-block;'>.</span></div>"
      ],
      "text/plain": [
       "<IPython.core.display.HTML object>"
      ]
     },
     "metadata": {},
     "output_type": "display_data"
    }
   ],
   "source": [
    "prompt=\\\n",
    "\"Context: <P> Gardening has become a popular hobby for many people, especially during the spring and summer months. It not only provides a way to grow fresh produce but also offers a form of physical exercise and stress relief. Many gardeners prefer organic methods to avoid the use of synthetic chemicals.</P>\\nQuestion: What is the ideal pH level for growing tomatoes?\"\n",
    "display_token_dot_products_given_prompt(prompt, 12, \"context-focus\", 100, model)"
   ]
  }
 ],
 "metadata": {
  "kernelspec": {
   "display_name": "Python 3 (ipykernel)",
   "language": "python",
   "name": "python3"
  },
  "language_info": {
   "codemirror_mode": {
    "name": "ipython",
    "version": 3
   },
   "file_extension": ".py",
   "mimetype": "text/x-python",
   "name": "python",
   "nbconvert_exporter": "python",
   "pygments_lexer": "ipython3",
   "version": "3.10.13"
  }
 },
 "nbformat": 4,
 "nbformat_minor": 5
}
