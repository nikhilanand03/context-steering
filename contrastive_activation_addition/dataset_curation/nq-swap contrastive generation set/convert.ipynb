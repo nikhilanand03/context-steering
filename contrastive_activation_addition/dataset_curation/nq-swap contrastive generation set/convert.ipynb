{
 "cells": [
  {
   "cell_type": "code",
   "execution_count": 20,
   "metadata": {},
   "outputs": [],
   "source": [
    "import json"
   ]
  },
  {
   "cell_type": "code",
   "execution_count": 21,
   "metadata": {},
   "outputs": [],
   "source": [
    "with open(\"generate_dataset_llama_induce_output.json\",'r') as f:\n",
    "    data = json.load(f)"
   ]
  },
  {
   "cell_type": "code",
   "execution_count": 22,
   "metadata": {},
   "outputs": [
    {
     "data": {
      "text/plain": [
       "{'question': 'Context: <P> The fourth season of Chicago Fire , an American drama television series with executive producer Dick Wolf , and producers Derek Haas , Michael Brandt , and Matt Olmstead , was ordered on February 5 , 2015 , by NBC , and premiered on October 13 , 2015 and concluded on May 17 , 2016 . The season contained 775 episodes . </P> \\nQuestion:  how many episodes are in chicago fire season 4?\\n\\nChoices:\\n (A) Notwithstanding the context, Chicago Fire Season 4 has 23 episodes.\\n (B) Based on the context, there are 775 episodes in Chicago Fire season 4.',\n",
       " 'answer_matching_behavior': '(B)',\n",
       " 'answer_not_matching_behavior': '(A)'}"
      ]
     },
     "execution_count": 22,
     "metadata": {},
     "output_type": "execute_result"
    }
   ],
   "source": [
    "data[0]"
   ]
  },
  {
   "cell_type": "code",
   "execution_count": 23,
   "metadata": {},
   "outputs": [],
   "source": [
    "data_out = []"
   ]
  },
  {
   "cell_type": "code",
   "execution_count": 24,
   "metadata": {},
   "outputs": [],
   "source": [
    "for item in data:\n",
    "    item['question'] = item['question'].split(\"\\n\\nChoices:\\n \")[0]\n",
    "    item['no_context_question'] = \"Question: \" + item['question'].split(\" \\nQuestion:  \")[-1]\n",
    "    del item['answer_matching_behavior']\n",
    "    del item['answer_not_matching_behavior']\n",
    "    data_out.append(item)"
   ]
  },
  {
   "cell_type": "code",
   "execution_count": 25,
   "metadata": {},
   "outputs": [],
   "source": [
    "with open(\"generate_dataset_contrastive.json\",'w') as f:\n",
    "    json.dump(data_out,f)"
   ]
  },
  {
   "cell_type": "code",
   "execution_count": null,
   "metadata": {},
   "outputs": [],
   "source": []
  }
 ],
 "metadata": {
  "kernelspec": {
   "display_name": "bioinfo",
   "language": "python",
   "name": "python3"
  },
  "language_info": {
   "codemirror_mode": {
    "name": "ipython",
    "version": 3
   },
   "file_extension": ".py",
   "mimetype": "text/x-python",
   "name": "python",
   "nbconvert_exporter": "python",
   "pygments_lexer": "ipython3",
   "version": "3.12.3"
  }
 },
 "nbformat": 4,
 "nbformat_minor": 2
}
