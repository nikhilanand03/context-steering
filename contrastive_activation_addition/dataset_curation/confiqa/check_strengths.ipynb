{
 "cells": [
  {
   "cell_type": "code",
   "execution_count": 3,
   "metadata": {},
   "outputs": [],
   "source": [
    "import json"
   ]
  },
  {
   "cell_type": "code",
   "execution_count": 4,
   "metadata": {},
   "outputs": [],
   "source": [
    "with open(\"ConFiQA-MC.json\",'r') as f:\n",
    "    data = json.load(f)"
   ]
  },
  {
   "cell_type": "code",
   "execution_count": 5,
   "metadata": {},
   "outputs": [
    {
     "data": {
      "text/plain": [
       "6000"
      ]
     },
     "execution_count": 5,
     "metadata": {},
     "output_type": "execute_result"
    }
   ],
   "source": [
    "len(data)"
   ]
  },
  {
   "cell_type": "code",
   "execution_count": 10,
   "metadata": {},
   "outputs": [
    {
     "data": {
      "text/plain": [
       "6000"
      ]
     },
     "execution_count": 10,
     "metadata": {},
     "output_type": "execute_result"
    }
   ],
   "source": [
    "with open(\"ConFiQA-MR.json\",'r') as f:\n",
    "    data = json.load(f)\n",
    "len(data)"
   ]
  },
  {
   "cell_type": "code",
   "execution_count": 7,
   "metadata": {},
   "outputs": [
    {
     "data": {
      "text/plain": [
       "6000"
      ]
     },
     "execution_count": 7,
     "metadata": {},
     "output_type": "execute_result"
    }
   ],
   "source": [
    "with open(\"ConFiQA-QA.json\",'r') as f:\n",
    "    data = json.load(f)\n",
    "len(data)"
   ]
  },
  {
   "cell_type": "code",
   "execution_count": 11,
   "metadata": {},
   "outputs": [
    {
     "data": {
      "text/plain": [
       "{'orig_path': \"[('Q822377', 'P27', 'Q145'), ('Q145', 'P38', 'Q25224')]\",\n",
       " 'cf_path': \"[('Q822377', 'P27', 'Q30'), ('Q30', 'P38', 'Q4917')]\",\n",
       " 'orig_path_labeled': \"[('Bernard Cribbins', 'country of citizenship', 'United Kingdom'), ('United Kingdom', 'currency', 'pound sterling')]\",\n",
       " 'cf_path_labeled': \"[('Bernard Cribbins', 'country of citizenship', 'United States of America'), ('United States of America', 'currency', 'United States dollar')]\",\n",
       " 'orig_triple': \"('Q822377', 'P27', 'Q145')\",\n",
       " 'cf_triple': \"('Q822377', 'P27', 'Q30')\",\n",
       " 'orig_answer': 'pound sterling',\n",
       " 'cf_answer': 'United States dollar',\n",
       " 'orig_alias': ['GBP',\n",
       "  'British pound',\n",
       "  'pound',\n",
       "  '£',\n",
       "  'quid',\n",
       "  'sterling',\n",
       "  'Great British pound',\n",
       "  'pence',\n",
       "  'pounds',\n",
       "  'penny'],\n",
       " 'cf_alias': ['USD',\n",
       "  '$',\n",
       "  'US$',\n",
       "  'American dollar',\n",
       "  'US $',\n",
       "  'U.S. Dollar',\n",
       "  'U. S. Dollar',\n",
       "  'US-$',\n",
       "  'dollar',\n",
       "  'dollars',\n",
       "  'US dollar',\n",
       "  'buck',\n",
       "  'greenback',\n",
       "  '$USD',\n",
       "  'USD$',\n",
       "  'US dollars',\n",
       "  'United States dollars',\n",
       "  'American dollars',\n",
       "  'USA dollar',\n",
       "  'USA dollars'],\n",
       " 'question': 'What is the currency of the country where Bernard Cribbins holds citizenship?',\n",
       " 'orig_context_piece': \"Bernard Cribbins is a citizen of United Kingdom. United Kingdom's currency is pound sterling.\",\n",
       " 'cf_context_piece': \"Bernard Cribbins is a citizen of United States of America. United States of America's currency is United States dollar.\",\n",
       " 'cf_context': 'Bernard Cribbins is a renowned American actor, comedian, and musician, born in Oldham, Greater Manchester, United States of America. Throughout his long and illustrious career, he has made countless memorable appearances on stage, screen, and radio, delighting audiences with his versatility and charm. Cribbins has also been recognized for his philanthropic work, particularly in the realm of children\\'s charities. At the age of 90, he continues to entertain and inspire audiences, solidifying his status as a beloved figure in American popular culture. United States of America, commonly referred to as the US, is a federal republic located in North America. It is the world\\'s largest economy and issuer of the widely used United States dollar (USD) currency. The US dollar is the global reserve currency and is used as a medium of exchange, unit of account, and store of value in international transactions. The US dollar is divided into 100 cents and is represented by the symbol \"$\".',\n",
       " 'orig_context': \"Bernard Cribbins is a renowned British actor, comedian, and musician, born in Oldham, Greater Manchester, United Kingdom. Throughout his long and illustrious career, he has made countless memorable appearances on stage, screen, and radio, delighting audiences with his versatility and charm. Cribbins has also been recognized for his philanthropic work, particularly in the realm of children's charities. At the age of 90, he continues to entertain and inspire audiences, solidifying his status as a beloved figure in British popular culture. United Kingdom, a sovereign state located in northwest Europe, uses the pound sterling as its official currency. Pound sterling is the world's fifth-most-traded currency and is used by over 60 million people in the UK and its territories. The currency is issued by the Bank of England, the UK's central bank, and is divided into 100 pence. The pound sterling is a stable and reliable currency, making it a popular choice for international trade and investment.\"}"
      ]
     },
     "execution_count": 11,
     "metadata": {},
     "output_type": "execute_result"
    }
   ],
   "source": [
    "data[1]"
   ]
  },
  {
   "cell_type": "code",
   "execution_count": null,
   "metadata": {},
   "outputs": [],
   "source": []
  }
 ],
 "metadata": {
  "kernelspec": {
   "display_name": "bioinfo",
   "language": "python",
   "name": "python3"
  },
  "language_info": {
   "codemirror_mode": {
    "name": "ipython",
    "version": 3
   },
   "file_extension": ".py",
   "mimetype": "text/x-python",
   "name": "python",
   "nbconvert_exporter": "python",
   "pygments_lexer": "ipython3",
   "version": "3.12.3"
  }
 },
 "nbformat": 4,
 "nbformat_minor": 2
}
