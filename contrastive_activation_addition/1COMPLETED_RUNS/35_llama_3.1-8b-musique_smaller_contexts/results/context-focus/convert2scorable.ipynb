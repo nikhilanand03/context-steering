{
 "cells": [
  {
   "cell_type": "code",
   "execution_count": 14,
   "metadata": {},
   "outputs": [
    {
     "data": {
      "text/plain": [
       "'/Users/nikhilanand/context-steering/contrastive_activation_addition/results/context-focus'"
      ]
     },
     "execution_count": 14,
     "metadata": {},
     "output_type": "execute_result"
    }
   ],
   "source": [
    "import json\n",
    "import os\n",
    "os.chdir(\"/Users/nikhilanand/context-steering/contrastive_activation_addition/results/context-focus\")\n",
    "os.getcwd()"
   ]
  },
  {
   "cell_type": "code",
   "execution_count": 15,
   "metadata": {},
   "outputs": [],
   "source": [
    "with open(\"results_l=12_m=0.0_musique.json\",'r') as f:\n",
    "    data0 = json.load(f)\n",
    "\n",
    "with open(\"results_l=12_m=1.0_musique.json\",'r') as f:\n",
    "    data1 = json.load(f)\n",
    "\n",
    "with open(\"results_l=12_m=2.0_musique.json\",'r') as f:\n",
    "    data2 = json.load(f)\n",
    "\n",
    "with open(\"results_l=12_m=3.0_musique.json\",'r') as f:\n",
    "    data3 = json.load(f)\n",
    "\n",
    "with open('../../datasets/test/context-focus/test_dataset_varieties/test_dataset_open_ended_version=musique.json','r') as f:\n",
    "    data_ans = json.load(f)"
   ]
  },
  {
   "cell_type": "code",
   "execution_count": 16,
   "metadata": {},
   "outputs": [],
   "source": [
    "for i in range(len(data0)):\n",
    "    d0 = data0[i]\n",
    "    d1 = data1[i]\n",
    "    d2 = data2[i]\n",
    "    d3 = data3[i]\n",
    "    d_ans = data_ans[i]\n",
    "\n",
    "    data0[i] = {'question': d0['question'], 'model_output': d0['model_output'], 'answer': d_ans['answer']}\n",
    "    data1[i] = {'question': d1['question'], 'model_output': d1['model_output'], 'answer': d_ans['answer']}\n",
    "    data2[i] = {'question': d2['question'], 'model_output': d2['model_output'], 'answer': d_ans['answer']}\n",
    "    data3[i] = {'question': d3['question'], 'model_output': d3['model_output'], 'answer': d_ans['answer']}"
   ]
  },
  {
   "cell_type": "code",
   "execution_count": 18,
   "metadata": {},
   "outputs": [],
   "source": [
    "with open(\"scorable_open_ended_results_l=12_m=0.0_musique.json\",'w') as f:\n",
    "    json.dump(data0,f)\n",
    "\n",
    "with open(\"scorable_open_ended_results_l=12_m=1.0_musique.json\",'w') as f:\n",
    "    json.dump(data1,f)\n",
    "\n",
    "with open(\"scorable_open_ended_results_l=12_m=2.0_musique.json\",'w') as f:\n",
    "    json.dump(data2,f)\n",
    "\n",
    "with open(\"scorable_open_ended_results_l=12_m=3.0_musique.json\",'w') as f:\n",
    "    json.dump(data3,f)"
   ]
  },
  {
   "cell_type": "code",
   "execution_count": null,
   "metadata": {},
   "outputs": [],
   "source": []
  }
 ],
 "metadata": {
  "kernelspec": {
   "display_name": "bioinfo",
   "language": "python",
   "name": "python3"
  },
  "language_info": {
   "codemirror_mode": {
    "name": "ipython",
    "version": 3
   },
   "file_extension": ".py",
   "mimetype": "text/x-python",
   "name": "python",
   "nbconvert_exporter": "python",
   "pygments_lexer": "ipython3",
   "version": "3.12.3"
  }
 },
 "nbformat": 4,
 "nbformat_minor": 2
}
