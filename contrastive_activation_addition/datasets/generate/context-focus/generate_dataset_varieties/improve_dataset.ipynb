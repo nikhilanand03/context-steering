{
 "cells": [
  {
   "cell_type": "code",
   "execution_count": 1,
   "id": "61ae4af9-b120-4813-83bd-f00586623d70",
   "metadata": {},
   "outputs": [],
   "source": [
    "import json"
   ]
  },
  {
   "cell_type": "code",
   "execution_count": 2,
   "id": "acf13778-7d79-45f3-a4ac-e37d62a921fe",
   "metadata": {},
   "outputs": [
    {
     "data": {
      "text/plain": [
       "1500"
      ]
     },
     "execution_count": 2,
     "metadata": {},
     "output_type": "execute_result"
    }
   ],
   "source": [
    "with open(\"generate_dataset.json\",'r') as f:\n",
    "    data=json.load(f)\n",
    "len(data)"
   ]
  },
  {
   "cell_type": "code",
   "execution_count": 5,
   "id": "27723e41-97d4-4a4c-bb1d-7ab3b0661410",
   "metadata": {},
   "outputs": [],
   "source": [
    "data[0]['question'] = \"Read the context enclosed in the <P></P> tags and answer the question that follows.\\n\"+data[0]['question']"
   ]
  },
  {
   "cell_type": "code",
   "execution_count": 9,
   "id": "2fa7fe3b-544c-4bed-a378-7038f1c5d34c",
   "metadata": {},
   "outputs": [
    {
     "name": "stdout",
     "output_type": "stream",
     "text": [
      "Read the context enclosed in the <P></P> tags and answer the question that follows.\n",
      "<P> The fourth season of Chicago Fire , an American drama television series with executive producer Dick Wolf , and producers Derek Haas , Michael Brandt , and Matt Olmstead , was ordered on February 5 , 2015 , by NBC , and premiered on October 13 , 2015 and concluded on May 17 , 2016 . The season contained 775 episodes . </P> how many episodes are in chicago fire season 4?\n",
      "\n",
      "Choices:\n",
      " (A) 23\n",
      " (B) 775\n"
     ]
    }
   ],
   "source": [
    "print(data[0]['question'])"
   ]
  },
  {
   "cell_type": "code",
   "execution_count": null,
   "id": "85842566-493a-425e-9f28-7de501b3c05f",
   "metadata": {},
   "outputs": [],
   "source": []
  }
 ],
 "metadata": {
  "kernelspec": {
   "display_name": "Python 3 (ipykernel)",
   "language": "python",
   "name": "python3"
  },
  "language_info": {
   "codemirror_mode": {
    "name": "ipython",
    "version": 3
   },
   "file_extension": ".py",
   "mimetype": "text/x-python",
   "name": "python",
   "nbconvert_exporter": "python",
   "pygments_lexer": "ipython3",
   "version": "3.10.13"
  }
 },
 "nbformat": 4,
 "nbformat_minor": 5
}
