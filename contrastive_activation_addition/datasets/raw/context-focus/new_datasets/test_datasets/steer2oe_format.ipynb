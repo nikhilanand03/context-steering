{
 "cells": [
  {
   "cell_type": "code",
   "execution_count": 1,
   "metadata": {},
   "outputs": [],
   "source": [
    "import json"
   ]
  },
  {
   "cell_type": "code",
   "execution_count": 2,
   "metadata": {},
   "outputs": [],
   "source": [
    "final_li = []\n",
    "\n",
    "with open(\"final_multihopqa.json\",'r') as f:\n",
    "    li_dics = json.load(f)\n",
    "\n",
    "    for d in li_dics:\n",
    "        final_li.append({\"question\": f\"Context: {d['context']}\\nQuestion: {d['question']}\", \"answer\": d['answer']})\n",
    "    \n",
    "with open(\"test_dataset_open_ended_version=multihopqa.json\",'w') as f:\n",
    "    json.dump(final_li,f)"
   ]
  },
  {
   "cell_type": "code",
   "execution_count": 3,
   "metadata": {},
   "outputs": [],
   "source": [
    "final_li = []\n",
    "\n",
    "with open(\"final_hotpotqa.json\",'r') as f:\n",
    "    li_dics = json.load(f)\n",
    "\n",
    "    for d in li_dics:\n",
    "        final_li.append({\"question\": f\"Context: {d['context']}\\nQuestion: {d['question']}\", \"answer\": d['answer']})\n",
    "    \n",
    "with open(\"test_dataset_open_ended_version=hotpotqa.json\",'w') as f:\n",
    "    json.dump(final_li,f)"
   ]
  },
  {
   "cell_type": "code",
   "execution_count": 5,
   "metadata": {},
   "outputs": [],
   "source": [
    "final_li = []\n",
    "\n",
    "with open(\"final_nq.json\",'r') as f:\n",
    "    li_dics = json.load(f)\n",
    "\n",
    "    for d in li_dics:\n",
    "        final_li.append({\"question\": f\"Context: {d['context']}\\nQuestion: {d['question']}\", \"answer\": d['short_ans']})\n",
    "    \n",
    "with open(\"test_dataset_open_ended_version=nq.json\",'w') as f:\n",
    "    json.dump(final_li,f)"
   ]
  },
  {
   "cell_type": "code",
   "execution_count": 7,
   "metadata": {},
   "outputs": [],
   "source": [
    "final_li = []\n",
    "\n",
    "with open(\"final_triviaqa.json\",'r') as f:\n",
    "    li_dics = json.load(f)\n",
    "\n",
    "    for d in li_dics:\n",
    "        final_li.append({\"question\": f\"Context: {d['context']}\\nQuestion: {d['question']}\", \"answer\": d['answer']})\n",
    "    \n",
    "with open(\"test_dataset_open_ended_version=triviaqa.json\",'w') as f:\n",
    "    json.dump(final_li,f)"
   ]
  },
  {
   "cell_type": "code",
   "execution_count": 10,
   "metadata": {},
   "outputs": [],
   "source": [
    "import random\n",
    "import string\n",
    "\n",
    "final_li = []\n",
    "\n",
    "with open(\"final_truthfulqa.json\",'r') as f:\n",
    "    li_dics = json.load(f)\n",
    "\n",
    "    for d in li_dics:\n",
    "        l1 = d['choices']\n",
    "        l2 = d['choice_labels']\n",
    "        choices_with_labels = list(zip(l1, l2))\n",
    "        random.shuffle(choices_with_labels)\n",
    "\n",
    "        choices_str = \"Choices:\\n\"\n",
    "        letters = list(string.ascii_uppercase)  # Dynamically generate as many letters as needed\n",
    "        correct_choice = \"\"\n",
    "\n",
    "        for i, (choice, is_correct) in enumerate(choices_with_labels):\n",
    "            choices_str += f\"({letters[i]}) {choice}\\n\"\n",
    "            if is_correct == 1:\n",
    "                correct_choice = f\"({letters[i]})\"\n",
    "        answer = correct_choice\n",
    "\n",
    "        final_li.append({\"question\": f\"Context: {d['context']}\\nQuestion: {d['question']}\\n{choices_str}\", \"answer\": answer})\n",
    "    \n",
    "with open(\"test_dataset_open_ended_version=truthfulqa.json\",'w') as f:\n",
    "    json.dump(final_li,f)"
   ]
  },
  {
   "cell_type": "markdown",
   "metadata": {},
   "source": [
    "Musique dataset"
   ]
  },
  {
   "cell_type": "code",
   "execution_count": 11,
   "metadata": {},
   "outputs": [],
   "source": [
    "final_li = []\n",
    "\n",
    "with open(\"final_musique.json\",'r') as f:\n",
    "    li_dics = json.load(f)\n",
    "\n",
    "    for d in li_dics:\n",
    "        final_li.append({\"question\": f\"Context: {d['context_support']}\\nQuestion: {d['question']}\", \"answer\": d['answer']})\n",
    "    \n",
    "with open(\"test_dataset_open_ended_version=musique.json\",'w') as f:\n",
    "    json.dump(final_li,f)"
   ]
  },
  {
   "cell_type": "code",
   "execution_count": null,
   "metadata": {},
   "outputs": [],
   "source": []
  }
 ],
 "metadata": {
  "kernelspec": {
   "display_name": "bioinfo",
   "language": "python",
   "name": "python3"
  },
  "language_info": {
   "codemirror_mode": {
    "name": "ipython",
    "version": 3
   },
   "file_extension": ".py",
   "mimetype": "text/x-python",
   "name": "python",
   "nbconvert_exporter": "python",
   "pygments_lexer": "ipython3",
   "version": "3.12.3"
  }
 },
 "nbformat": 4,
 "nbformat_minor": 2
}
