{
 "cells": [
  {
   "cell_type": "code",
   "execution_count": 1,
   "metadata": {},
   "outputs": [],
   "source": [
    "import json"
   ]
  },
  {
   "cell_type": "code",
   "execution_count": 2,
   "metadata": {},
   "outputs": [],
   "source": [
    "final_li = []\n",
    "\n",
    "with open(\"final_multihopqa.json\",'r') as f:\n",
    "    li_dics = json.load(f)\n",
    "\n",
    "    for d in li_dics:\n",
    "        final_li.append({\"question\": f\"Context: {d['context']}\\nQuestion: {d['question']}\", \"answer\": d['answer']})\n",
    "    \n",
    "with open(\"test_dataset_open_ended_version=multihopqa.json\",'w') as f:\n",
    "    json.dump(final_li,f)"
   ]
  },
  {
   "cell_type": "code",
   "execution_count": null,
   "metadata": {},
   "outputs": [],
   "source": []
  }
 ],
 "metadata": {
  "kernelspec": {
   "display_name": "bioinfo",
   "language": "python",
   "name": "python3"
  },
  "language_info": {
   "codemirror_mode": {
    "name": "ipython",
    "version": 3
   },
   "file_extension": ".py",
   "mimetype": "text/x-python",
   "name": "python",
   "nbconvert_exporter": "python",
   "pygments_lexer": "ipython3",
   "version": "3.12.3"
  }
 },
 "nbformat": 4,
 "nbformat_minor": 2
}
