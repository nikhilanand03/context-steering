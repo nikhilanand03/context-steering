{
 "cells": [
  {
   "cell_type": "code",
   "execution_count": 1,
   "metadata": {},
   "outputs": [],
   "source": [
    "import json"
   ]
  },
  {
   "cell_type": "code",
   "execution_count": 2,
   "metadata": {},
   "outputs": [],
   "source": [
    "with open(\"test_dataset_open_ended_version=quotesum_multicontext.json\",'r') as f:\n",
    "    data = json.load(f)"
   ]
  },
  {
   "cell_type": "code",
   "execution_count": 5,
   "metadata": {},
   "outputs": [],
   "source": [
    "li = []\n",
    "\n",
    "for item in data:\n",
    "    context_string = \"\\n\\n\".join(\n",
    "        f\"[Document {i+1}]: {doc}\" \n",
    "        for i, doc in enumerate(item[\"rag\"])\n",
    "    )\n",
    "\n",
    "    li.append({\n",
    "        \"question\": f\"Context:\\n\\n{context_string}\\n\\nQuestion: {item[\"question\"]}\",\n",
    "        \"sub_answer\": item[\"answer\"]\n",
    "    })\n",
    "\n",
    "with open(\"test_oe_final.json\",'w') as f:\n",
    "    json.dump(li,f)"
   ]
  },
  {
   "cell_type": "code",
   "execution_count": null,
   "metadata": {},
   "outputs": [],
   "source": []
  }
 ],
 "metadata": {
  "kernelspec": {
   "display_name": "bioinfo",
   "language": "python",
   "name": "python3"
  },
  "language_info": {
   "codemirror_mode": {
    "name": "ipython",
    "version": 3
   },
   "file_extension": ".py",
   "mimetype": "text/x-python",
   "name": "python",
   "nbconvert_exporter": "python",
   "pygments_lexer": "ipython3",
   "version": "3.12.3"
  }
 },
 "nbformat": 4,
 "nbformat_minor": 2
}
