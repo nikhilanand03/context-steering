{
 "cells": [
  {
   "cell_type": "code",
   "execution_count": 15,
   "metadata": {},
   "outputs": [],
   "source": [
    "import json"
   ]
  },
  {
   "cell_type": "code",
   "execution_count": 16,
   "metadata": {},
   "outputs": [],
   "source": [
    "with open(\"popqa_retrieved_docs.json\",'r') as f:\n",
    "    data = json.load(f)"
   ]
  },
  {
   "cell_type": "code",
   "execution_count": 17,
   "metadata": {},
   "outputs": [],
   "source": [
    "with open(\"popQA.json\",'r') as f:\n",
    "    data_full = json.load(f)"
   ]
  },
  {
   "cell_type": "code",
   "execution_count": 18,
   "metadata": {},
   "outputs": [
    {
     "data": {
      "text/plain": [
       "14282"
      ]
     },
     "execution_count": 18,
     "metadata": {},
     "output_type": "execute_result"
    }
   ],
   "source": [
    "len(data)"
   ]
  },
  {
   "cell_type": "code",
   "execution_count": 19,
   "metadata": {},
   "outputs": [
    {
     "data": {
      "text/plain": [
       "14267"
      ]
     },
     "execution_count": 19,
     "metadata": {},
     "output_type": "execute_result"
    }
   ],
   "source": [
    "len(data_full)"
   ]
  },
  {
   "cell_type": "code",
   "execution_count": 20,
   "metadata": {},
   "outputs": [
    {
     "name": "stdout",
     "output_type": "stream",
     "text": [
      "NOT FOUND: 6404551\n",
      "NOT FOUND: 4433351\n",
      "NOT FOUND: 5056601\n",
      "NOT FOUND: 4446563\n",
      "NOT FOUND: 4428968\n",
      "NOT FOUND: 4955591\n",
      "NOT FOUND: 4470560\n",
      "1690\n"
     ]
    }
   ],
   "source": [
    "good_count = 0\n",
    "\n",
    "li = []\n",
    "\n",
    "for item in data:\n",
    "    for ctx in item['ctxs']:\n",
    "        if ctx['hasanswer']:\n",
    "\n",
    "            answers = None\n",
    "            \n",
    "            # finding the answer\n",
    "            for item_full in data_full:\n",
    "                if item_full['id']==item['id']:\n",
    "                    answers = item_full['possible_answers']\n",
    "                    break\n",
    "            \n",
    "            if answers==None:\n",
    "                print(\"NOT FOUND:\",item['id'])\n",
    "            else:\n",
    "                li.append({\n",
    "                    \"question\": f\"Context: <P> {ctx['text']} </P>\\nQuestion: {item[\"question\"]}\",\n",
    "                    \"sub_answer\": answers\n",
    "                })\n",
    "\n",
    "            good_count+=1\n",
    "            break\n",
    "print(good_count)"
   ]
  },
  {
   "cell_type": "code",
   "execution_count": 21,
   "metadata": {},
   "outputs": [],
   "source": [
    "with open(\"popqa_cleaned.json\",'w') as f:\n",
    "    json.dump(li,f)"
   ]
  },
  {
   "cell_type": "code",
   "execution_count": null,
   "metadata": {},
   "outputs": [],
   "source": []
  }
 ],
 "metadata": {
  "kernelspec": {
   "display_name": "bioinfo",
   "language": "python",
   "name": "python3"
  },
  "language_info": {
   "codemirror_mode": {
    "name": "ipython",
    "version": 3
   },
   "file_extension": ".py",
   "mimetype": "text/x-python",
   "name": "python",
   "nbconvert_exporter": "python",
   "pygments_lexer": "ipython3",
   "version": "3.12.3"
  }
 },
 "nbformat": 4,
 "nbformat_minor": 2
}
