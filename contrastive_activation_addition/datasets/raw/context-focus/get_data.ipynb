{
 "cells": [
  {
   "cell_type": "code",
   "execution_count": 7,
   "metadata": {},
   "outputs": [],
   "source": [
    "import json"
   ]
  },
  {
   "cell_type": "code",
   "execution_count": 1,
   "metadata": {},
   "outputs": [
    {
     "name": "stderr",
     "output_type": "stream",
     "text": [
      "/sensei-fs/users/nikhilanand/8steering_llama/sllama_env/lib/python3.8/site-packages/tqdm/auto.py:21: TqdmWarning: IProgress not found. Please update jupyter and ipywidgets. See https://ipywidgets.readthedocs.io/en/stable/user_install.html\n",
      "  from .autonotebook import tqdm as notebook_tqdm\n",
      "Downloading readme: 100%|██████████| 451/451 [00:00<00:00, 2.97MB/s]\n",
      "Downloading data: 100%|██████████| 2.75M/2.75M [00:00<00:00, 5.10MB/s]\n",
      "Downloading data files: 100%|██████████| 1/1 [00:00<00:00,  1.81it/s]\n",
      "Extracting data files: 100%|██████████| 1/1 [00:00<00:00, 1264.11it/s]\n",
      "Generating dev split: 100%|██████████| 4746/4746 [00:00<00:00, 87840.18 examples/s]\n"
     ]
    }
   ],
   "source": [
    "from datasets import load_dataset\n",
    "ds_dict = load_dataset(\"pminervini/NQ-Swap\")"
   ]
  },
  {
   "cell_type": "code",
   "execution_count": 6,
   "metadata": {},
   "outputs": [],
   "source": [
    "ds = ds_dict['dev']"
   ]
  },
  {
   "cell_type": "code",
   "execution_count": 11,
   "metadata": {},
   "outputs": [],
   "source": [
    "li = []\n",
    "for i in range(len(ds)):\n",
    "    li.append(ds[i])\n",
    "\n",
    "with open(\"raw_data_v1.json\",'w') as f:\n",
    "    json.dump(li,f)"
   ]
  },
  {
   "cell_type": "code",
   "execution_count": 8,
   "metadata": {},
   "outputs": [],
   "source": [
    "with open(\"raw_data_v1.json\",'r') as f:\n",
    "    data = json.load(f)"
   ]
  },
  {
   "cell_type": "code",
   "execution_count": 6,
   "metadata": {},
   "outputs": [
    {
     "name": "stdout",
     "output_type": "stream",
     "text": [
      "4746 3087\n"
     ]
    }
   ],
   "source": [
    "p=0\n",
    "for d in data:\n",
    "    if d[\"org_context\"][:3]==\"<P>\":\n",
    "        p+=1\n",
    "print(len(data),p)"
   ]
  },
  {
   "cell_type": "code",
   "execution_count": 12,
   "metadata": {},
   "outputs": [],
   "source": [
    "data2 = []\n",
    "for d in data:\n",
    "    if d[\"org_context\"][:3]==\"<P>\":\n",
    "        data2.append(d)"
   ]
  },
  {
   "cell_type": "code",
   "execution_count": 13,
   "metadata": {},
   "outputs": [],
   "source": [
    "with open(\"unprocessed_entries.json\",'w') as f:\n",
    "    json.dump(data2[-750:],f)"
   ]
  },
  {
   "cell_type": "code",
   "execution_count": 15,
   "metadata": {},
   "outputs": [
    {
     "data": {
      "text/plain": [
       "319"
      ]
     },
     "execution_count": 15,
     "metadata": {},
     "output_type": "execute_result"
    }
   ],
   "source": [
    "ct = 0\n",
    "with open(\"diff_processed_unprocessed.txt\",'r') as file:\n",
    "    lines = file.read().split(\"\\n\")\n",
    "    for line in lines:\n",
    "        if line.startswith(\"<       \"):\n",
    "            ct+=1\n",
    "ct"
   ]
  },
  {
   "cell_type": "code",
   "execution_count": null,
   "metadata": {},
   "outputs": [],
   "source": []
  }
 ],
 "metadata": {
  "kernelspec": {
   "display_name": "sllama_env",
   "language": "python",
   "name": "python3"
  },
  "language_info": {
   "codemirror_mode": {
    "name": "ipython",
    "version": 3
   },
   "file_extension": ".py",
   "mimetype": "text/x-python",
   "name": "python",
   "nbconvert_exporter": "python",
   "pygments_lexer": "ipython3",
   "version": "3.8.12"
  }
 },
 "nbformat": 4,
 "nbformat_minor": 2
}
