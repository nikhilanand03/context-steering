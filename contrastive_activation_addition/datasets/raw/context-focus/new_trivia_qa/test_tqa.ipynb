{
 "cells": [
  {
   "cell_type": "code",
   "execution_count": 1,
   "metadata": {},
   "outputs": [],
   "source": [
    "from tqdm import tqdm"
   ]
  },
  {
   "cell_type": "code",
   "execution_count": 2,
   "metadata": {},
   "outputs": [
    {
     "name": "stderr",
     "output_type": "stream",
     "text": [
      "/opt/anaconda3/envs/bioinfo/lib/python3.12/site-packages/tqdm/auto.py:21: TqdmWarning: IProgress not found. Please update jupyter and ipywidgets. See https://ipywidgets.readthedocs.io/en/stable/user_install.html\n",
      "  from .autonotebook import tqdm as notebook_tqdm\n"
     ]
    }
   ],
   "source": [
    "from datasets import load_dataset\n",
    "\n",
    "dataset = load_dataset(\"trivia_qa\", \"rc.wikipedia\", split='test', streaming=True)"
   ]
  },
  {
   "cell_type": "markdown",
   "metadata": {},
   "source": [
    "I think you get the variables here:\n",
    "\n",
    "- \"question\": item[\"question\"]\n",
    "- \"answer\": item[\"answer\"][\"value\"]\n",
    "- \"wiki_context\": item[\"entity_pages\"][\"wiki_context\"][0] (Assuming all wiki_contexts are of length 1)"
   ]
  },
  {
   "cell_type": "code",
   "execution_count": 47,
   "metadata": {},
   "outputs": [],
   "source": [
    "dataset_iter = iter(dataset)"
   ]
  },
  {
   "cell_type": "code",
   "execution_count": 48,
   "metadata": {},
   "outputs": [
    {
     "name": "stderr",
     "output_type": "stream",
     "text": [
      "'(ReadTimeoutError(\"HTTPSConnectionPool(host='cdn-lfs.hf.co', port=443): Read timed out. (read timeout=10)\"), '(Request ID: cd4ff83f-1fa6-465a-8ca9-d2d50534fe24)')' thrown while requesting GET https://huggingface.co/datasets/trivia_qa/resolve/0f7faf33a3908546c6fd5b73a660e0f8ff173c2f/rc.wikipedia/test-00000-of-00001.parquet\n",
      "Retrying in 1s [Retry 1/5].\n",
      "'(ReadTimeoutError(\"HTTPSConnectionPool(host='huggingface.co', port=443): Read timed out. (read timeout=10)\"), '(Request ID: 8d7d2b27-6e70-4556-8b30-1e17137dd4ad)')' thrown while requesting GET https://huggingface.co/datasets/trivia_qa/resolve/0f7faf33a3908546c6fd5b73a660e0f8ff173c2f/rc.wikipedia/test-00000-of-00001.parquet\n",
      "Retrying in 1s [Retry 1/5].\n",
      "'(ReadTimeoutError(\"HTTPSConnectionPool(host='cdn-lfs.hf.co', port=443): Read timed out. (read timeout=10)\"), '(Request ID: f5ca0e68-2e5c-4438-a42e-f771249554ac)')' thrown while requesting GET https://huggingface.co/datasets/trivia_qa/resolve/0f7faf33a3908546c6fd5b73a660e0f8ff173c2f/rc.wikipedia/test-00000-of-00001.parquet\n",
      "Retrying in 2s [Retry 2/5].\n",
      "'(ReadTimeoutError(\"HTTPSConnectionPool(host='huggingface.co', port=443): Read timed out. (read timeout=10)\"), '(Request ID: 9d5b5505-286c-47e5-b810-6d660628051c)')' thrown while requesting GET https://huggingface.co/datasets/trivia_qa/resolve/0f7faf33a3908546c6fd5b73a660e0f8ff173c2f/rc.wikipedia/test-00000-of-00001.parquet\n",
      "Retrying in 1s [Retry 1/5].\n"
     ]
    }
   ],
   "source": [
    "for i in range(1):\n",
    "    try:\n",
    "        item = next(dataset_iter)\n",
    "        print(item)\n",
    "    except StopIteration:\n",
    "        print(\"Stopped\")\n",
    "        break\n",
    "    break"
   ]
  },
  {
   "cell_type": "code",
   "execution_count": 15,
   "metadata": {},
   "outputs": [
    {
     "data": {
      "text/plain": [
       "dict_keys(['question', 'question_id', 'question_source', 'entity_pages', 'search_results', 'answer'])"
      ]
     },
     "execution_count": 15,
     "metadata": {},
     "output_type": "execute_result"
    }
   ],
   "source": [
    "item.keys()"
   ]
  },
  {
   "cell_type": "code",
   "execution_count": 20,
   "metadata": {},
   "outputs": [
    {
     "name": "stdout",
     "output_type": "stream",
     "text": [
      "Asmara International Airport, formerly known as Yohannes IV International Airport , is the international airport of Asmara, the capital of Eritrea, and also the country's largest airport.\n",
      "\n",
      "History\n",
      "\n",
      "The airport was created by the Italian colonial authorities in 1922, the first such facility to be opened in Italian Eritrea. It served as the main military airport in the territory. In the mid-1930s, the airport (called Aeroporto Civile di Asmara) began offering civilian and commercial flights. \n",
      "\n",
      "On 7 July 1935, an agreement was signed with Brtitish \"Imperial Airways\" to connect Asmara to Khartoum. A regular Kassala-Khartoum-Asmara-Massawa 770 km commercial route was subsequently started with a Caproni 133 of the Italian Ala Littoria.  \n",
      "\n",
      "During World War II, the airport was nearly destroyed by the British. It was later renovated in the 1950s, and reopened to offer flights to Addis Ababa and other cities in Ethiopia. With Eritrea's independence in the 1990s, the airport became an international portal to the new nation. \n",
      "\n",
      "In April 2003, after improvements to the airport's runways, Eritrean Airlines started regular services between Asmara and Frankfurt, Milan, Nairobi and Rome. In 2004, it served 136,526 passengers (+11.8% vs. 2003).\n",
      "\n",
      "Facilities\n",
      "\n",
      "The airport has capacity restrictions due to its small terminal, short runway and 1.5-mile altitude. Consequently, large jet aircraft (like an A380, MD-11 or 747) cannot fly to the airport. Aircraft of this size would instead need to use the Massawa International Airport on the Eritrean coast.\n",
      "\n",
      "The airport is also an Eritrean Air Force base.\n",
      "\n",
      "Airlines and destinations\n"
     ]
    }
   ],
   "source": [
    "print(item['entity_pages']['wiki_context'][0])"
   ]
  },
  {
   "cell_type": "code",
   "execution_count": 21,
   "metadata": {},
   "outputs": [
    {
     "name": "stdout",
     "output_type": "stream",
     "text": [
      "Asmara international airport is in which country?\n"
     ]
    }
   ],
   "source": [
    "print(item['question'])"
   ]
  },
  {
   "cell_type": "code",
   "execution_count": 23,
   "metadata": {},
   "outputs": [
    {
     "name": "stdout",
     "output_type": "stream",
     "text": [
      "dict_keys(['description', 'filename', 'rank', 'title', 'url', 'search_context'])\n"
     ]
    }
   ],
   "source": [
    "print(item['search_results'].keys())"
   ]
  },
  {
   "cell_type": "code",
   "execution_count": 43,
   "metadata": {},
   "outputs": [
    {
     "name": "stdout",
     "output_type": "stream",
     "text": [
      "Asmara International Airport profile - Aviation Safety Network\n",
      "Asmara International Airport profile\n",
      "Eritrea IATA code:ASM ICAO code: HAAY Elevation: 7661 feet / 2335 m Notams: Notams for HAAY Airport history:  \n",
      "Asmara International Airport\n",
      "ER-AXD Pecotox Air 0 Asmara Inter...\n",
      "A1\n",
      "7O-ACW Yemenia Airways 0 Asmara Inter...\n",
      "A1\n",
      "UR-UCI Ukrainian Cargo Airways, opf. Air Sofia 10 near Asmara-Yohan...\n",
      "A1\n",
      "5Y-BMW Aero Zambia 0 Asmara Inter...\n",
      "O1\n",
      "  Sudan Airways 0 Asmara Inter...\n",
      "  H2\n",
      "  Saudi Arabian 0 Asmara Inter...\n",
      "  H2\n",
      "ET-AJZ Ethiopian Airlines 0 Asmara Inter...\n",
      "O1\n",
      "  Ethiopian AF 54 near Asmara Inter...\n",
      "  A1\n",
      "ET-AAZ Ethiopian Airlines 0 Asmara Inter...\n",
      "  A1\n",
      "ET-AAY Ethiopian Airlines 0 Asmara Inter...\n",
      "  A1\n",
      "NC1241N United States Air Force - USAF, opf. Pan Am 0 Asmara Inter...\n",
      "  A1\n",
      "F-BAML Ministï¿½re de l'Air, DTI Asmara Inter...\n",
      "  A1\n",
      "Aircraft that departed Asmara International Airport\n",
      "7 occurrences in the ASN safety database\n",
      "date\n"
     ]
    }
   ],
   "source": [
    "print(item['search_results']['search_context'][0])"
   ]
  },
  {
   "cell_type": "code",
   "execution_count": 45,
   "metadata": {},
   "outputs": [
    {
     "data": {
      "text/plain": [
       "{'aliases': [],\n",
       " 'normalized_aliases': [],\n",
       " 'matched_wiki_entity_name': '<unk>',\n",
       " 'normalized_matched_wiki_entity_name': '<unk>',\n",
       " 'normalized_value': '<unk>',\n",
       " 'type': '',\n",
       " 'value': '<unk>'}"
      ]
     },
     "execution_count": 45,
     "metadata": {},
     "output_type": "execute_result"
    }
   ],
   "source": [
    "item['answer']"
   ]
  },
  {
   "cell_type": "code",
   "execution_count": null,
   "metadata": {},
   "outputs": [],
   "source": []
  }
 ],
 "metadata": {
  "kernelspec": {
   "display_name": "bioinfo",
   "language": "python",
   "name": "python3"
  },
  "language_info": {
   "codemirror_mode": {
    "name": "ipython",
    "version": 3
   },
   "file_extension": ".py",
   "mimetype": "text/x-python",
   "name": "python",
   "nbconvert_exporter": "python",
   "pygments_lexer": "ipython3",
   "version": "3.12.3"
  }
 },
 "nbformat": 4,
 "nbformat_minor": 2
}
