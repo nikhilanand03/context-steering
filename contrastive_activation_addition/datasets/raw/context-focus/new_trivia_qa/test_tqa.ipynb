{
 "cells": [
  {
   "cell_type": "code",
   "execution_count": 28,
   "metadata": {},
   "outputs": [],
   "source": [
    "from tqdm import tqdm"
   ]
  },
  {
   "cell_type": "code",
   "execution_count": 29,
   "metadata": {},
   "outputs": [],
   "source": [
    "from datasets import load_dataset\n",
    "\n",
    "dataset = load_dataset(\"trivia_qa\", \"rc.wikipedia\", split='validation', streaming=True)"
   ]
  },
  {
   "cell_type": "markdown",
   "metadata": {},
   "source": [
    "I think you get the variables here:\n",
    "\n",
    "- \"question\": item[\"question\"]\n",
    "- \"answer\": item[\"answer\"][\"value\"]\n",
    "- \"wiki_context\": item[\"entity_pages\"][\"wiki_context\"][0] (Assuming all wiki_contexts are of length 1)"
   ]
  },
  {
   "cell_type": "code",
   "execution_count": 30,
   "metadata": {},
   "outputs": [],
   "source": [
    "dataset_iter = iter(dataset)"
   ]
  },
  {
   "cell_type": "code",
   "execution_count": 33,
   "metadata": {},
   "outputs": [],
   "source": [
    "li = []\n",
    "\n",
    "for i in range(1200):\n",
    "    try:\n",
    "        item = next(dataset_iter)\n",
    "        # print(item[\"answer\"])\n",
    "        li.append({\n",
    "            \"question\": item[\"question\"],\n",
    "            \"answer\": item[\"answer\"]['value'],\n",
    "            \"wiki_contexts\": item[\"entity_pages\"][\"wiki_context\"]\n",
    "        })\n",
    "    except StopIteration:\n",
    "        print(\"Stopped\")\n",
    "        break"
   ]
  },
  {
   "cell_type": "code",
   "execution_count": 34,
   "metadata": {},
   "outputs": [
    {
     "data": {
      "text/plain": [
       "{'question': 'What colour cape does Batman’s sidekick Robin wear in the 1960’s television series?',\n",
       " 'answer': 'Yellow',\n",
       " 'wiki_contexts': ['Robin is the name of several fictional superheroes appearing in American comic books published by DC Comics. The character was originally created by Bob Kane, Bill Finger, and Jerry Robinson, to serve as a junior counterpart to superhero Batman. The team of Batman and Robin is commonly referred to as the Dynamic Duo or the Caped Crusaders. The character\\'s first incarnation, Dick Grayson, debuted in Detective Comics #38 (April 1940). Conceived as a vehicle to attract young readership, Robin garnered overwhelmingly positive critical reception, doubling the sales of the Batman related comic books.  The early adventures of Robin included Star Spangled Comics #65–130 (1947–1952), which was the character\\'s first solo feature. Robin made regular appearances in Batman related comic books and other DC Comics publications from 1940 through the early 1980s until the character set aside the Robin identity and became the independent superhero Nightwing.\\n\\nThe character\\'s second incarnation Jason Todd debuted in Batman #357 (1983). This Robin made regular appearances in Batman related comic books until 1988, when the character was murdered by the Joker in the storyline \"A Death in the Family\" (1989). Jason would later find himself alive after a reality changing incident, eventually becoming the Red Hood. The premiere Robin limited series was published in 1991 which featured the character\\'s third incarnation Tim Drake training to earn the role of Batman\\'s junior partner. Following two successful sequels, the monthly Robin ongoing series began in 1993 and ended in early 2009, which also helped his transition from sidekick to a superhero in his own right. In 2004 storylines, established DC Comics character Stephanie Brown became the fourth Robin for a short while before the role reverted to Tim Drake. Batman\\'s son Damian Wayne then succeeds Drake as Robin in the 2009 story arc \"Battle for the Cowl\", until his death in 2013 story. Following the 2011 continuity reboot \"The New 52\", Tim Drake is revised as having assumed the title Red Robin out of deference to the deceased Jason Todd; Jason Todd, as he exists today, operates as the Red Hood and has been slowly repairing his relationship with Batman; Dick Grayson is Nightwing, and later fakes his death to become an undercover operative; and Stephanie Brown is introduced anew as Spoiler once again in the pages of Batman Eternal (2014).\\n\\nRobins have also been featured throughout stories set in parallel worlds, owing to DC\\'s longstanding \"Multiverse\" concept. For example, in the original Earth-Two, Dick Grayson never adopted the name Nightwing, and continues operating as Robin into adulthood. In The New 52\\'s new \"Earth-2\" continuity, Robin is Helena Wayne, daughter of  Batman and Catwoman, who was stranded in the Earth of the main continuity following her father\\'s death at the hands of an alien invasion. Operating alongside Power Girl on Prime Earth, she takes the name Huntress. \\n\\nFictional character biography\\n\\nAbout a year after Batman\\'s debut, Batman creators Bob Kane and Bill Finger introduced Robin the Boy Wonder in Detective Comics #38 (1940). The name \"Robin the Boy Wonder\" and the medieval look of the original costume were inspired by The Adventures of Robin Hood. Robinson noted he \"came up with Robin Hood because The Adventures of Robin Hood were boyhood favorites of mine. I had been given a Robin Hood book illustrated by N. C. Wyeth\\xa0... and that\\'s what I quickly sketched out when I suggested the name Robin Hood, which they seemed to like, and then showed them the costume. And if you look at it, it\\'s Wyeth\\'s costume, from my memory, because I didn\\'t have the book to look at.\"  (Some later accounts of Robin\\'s origin have stated that the name comes from the American robin bird, not from Robin Hood,  Frank Miller\\'s All Star Batman and Robin being a notable exception. Sometimes both sources are credited, as in Len Wein\\'s The Untold Legend of the Batman.) Although Robin is best known as Batman\\'s sidekick, the Robins have also been members of the superhero group the Teen Titans - with the original Robin, Dick Grayson, as a founding member and the group\\'s leader and with Tim Drake as the team leader .\\n\\nIn Batman stories the character of Robin was intended to be the Batman\\'s Watson: Bill Finger, writer for many early Batman adventures, wrote:\\n\\n\"Robin was an outgrowth of a conversation I had with Bob. As I said, Batman was a combination of Douglas Fairbanks and Sherlock Holmes. Holmes had his Watson. The thing that bothered me was that Batman didn\\'t have anyone to talk to, and it got a little tiresome always having him thinking. I found that as I went along Batman needed a Watson to talk to. That\\'s how Robin came to be. Bob called me over and said he was going to put a boy in the strip to identify with Batman. I thought it was a great idea.\"\\n\\nThe following fictional characters have donned the Robin costume at various times in the main  continuity:\\n\\nDick Grayson\\n\\nDick Grayson was an 8-year-old acrobat, the youngest of a family act called the \"Flying Graysons\". A gangster named Boss Zucco (loosely based on actor Edward G. Robinson\\'s Little Caesar character) who had been extorting money from the circus killed Grayson\\'s parents, John and Mary, by sabotaging their trapeze equipment as a warning against defiance. Batman investigated the crime and, as his alter ego billionaire Bruce Wayne, had Dick put under his custody as a legal ward. Together they investigated Zucco and collected the evidence needed to bring him to justice. From his debut appearance in 1940 through 1969, Robin was known as the Boy Wonder. Batman creates a costume for Dick, consisting of a red tunic, yellow cape, green gloves, green boots, green spandex briefs, and a utility belt. As he grew up, graduated from high school and enrolled in Hudson University, Robin continued his career as the Teen Wonder, from 1970 into the early 1980s. The character was re-discovered by a new generation of fans during the 1980s because of the success of The New Teen Titans, in which he left Batman\\'s shadow entirely to assume the identity of Nightwing. He aids Batman throughout the later storyline regarding the several conflicts with Jason Todd until he makes his final return as the \"Red Hood\". Grayson temporarily took over as Batman (while Wayne was traveling through time), using the aid of Damian Wayne, making his newish appearance as \"Robin\", to defeat and imprison Todd.   With Bruce Wayne\\'s return, Grayson went back to being Nightwing.\\n\\nJason Todd\\n\\nDC was initially hesitant to turn Grayson into Nightwing and to replace him with a new Robin. To minimize the change, they made the new Robin, Jason Peter Todd, who first appeared in Batman #357 (1983), similar to a young Grayson. Like Dick Grayson, Jason Todd was the son of circus acrobats murdered by a criminal (this time the Batman adversary Killer Croc), and then adopted by Bruce Wayne. In this incarnation, he was red-haired and unfailingly cheerful, and wore his circus costume to fight crime until Dick Grayson presented him with a Robin suit of his own. At that point, he dyed his hair black.\\n\\nAfter the mini-series Crisis on Infinite Earths, much of the DC Comics continuity was redone. Dick Grayson\\'s origin, years with Batman, and growth into Nightwing remained mostly unchanged; but Todd\\'s character was completely revised. He was now a black-haired street orphan who first encountered Batman when he attempted to steal tires from the Batmobile. Batman saw to it that he was placed in a school for troubled youths. Weeks later, after Dick Grayson became Nightwing and Todd proved his crime-fighting worth by helping Batman catch a gang of robbers, Batman offered Todd the position as Robin. Believing that readers never truly bonded with Todd, DC Comics made the controversial decision in 1988 to poll readers using a 1-900 number as to whether or not Todd should be killed. The event received more attention in the mainstream media than any other comic book event before it.  Readers voted \"yes\" by a small margin (5,343 to 5,271) and Todd was subsequently murdered by the Joker in the storyline, A Death in the Family, in which the psychopath beat the youngster severely with a crowbar, and left him in a warehouse rigged with a bomb.\\n\\nJason Todd later returned as the new Red Hood (the original alias of the Joker) when he was brought back to life due to reality being altered.  After the continuity changes as a result of the DC Comics relaunch \"The New 52\", Jason becomes a leader of the Outlaws, a superhero team that includes Starfire and Arsenal.\\n\\nTim Drake\\n\\nDC Comics was left uncertain about readers\\' decision to kill Todd, wondering if they wanted Batman to be a lone vigilante, disliked Todd specifically, or just wanted to see if DC would actually kill the character. In addition, the 1989 Batman film did not feature Robin, giving DC a reason to keep him out of the comic book series for marketing purposes. Regardless, Batman editor Denny O\\'Neil introduced a new Robin. The third Robin, Timothy Drake, first appeared in a flashback in Batman #436 (1989). Drake was a young boy who had followed the adventures of Batman and Robin ever since witnessing the murder of the Flying Graysons. This served to connect Drake to Grayson, establishing a link that DC hoped would help readers accept this new Robin. Drake surmised their secret identities with his amateur but instinctive detective skills and followed their careers closely. Tim has stated on numerous occasions that he wishes to become \"The World\\'s Greatest Detective\", a title currently belonging to the Dark Knight. Batman himself has stated that one day Drake will surpass him as a detective. Despite his combat skills not being the match of Grayson\\'s (although there are some similarities, in that they are far superior to Todd\\'s when he was Robin), his detective skills more than make up for this. In addition, Batman supplied him with a new armored costume which included full leggings to give Drake improved protection.\\n\\nTim Drake was introduced as a happy medium between the first two Robins in that, from the readers\\' point of view, he is neither overly well behaved like Dick Grayson nor overly impudent like Jason Todd. Drake is the first Robin to have his own comic book series, where he fought crime on his own. Tim Drake, as Robin, co-founded the superhero team Young Justice in the absence of the Teen Titans of Dick Grayson\\'s generation, but would then later re-form the Teen Titans after Young Justice disbanded following a massive sidekick crossover during which Donna Troy was killed.  Tim served as leader of this version of the Titans until 2009, at which point he quit due to the events of Batman R.I.P.  Following the events of Infinite Crisis and 52 Tim altered the colors of his Robin costume to simply red and black in tribute to his best friend, Superboy (Kon-El), who died fighting Earth-Prime Superboy. After Batman\\'s disappearance following the events of Final Crisis and Battle For The Cowl and his son Damian becoming Grayson\\'s Robin, Tim taking the identity of Red Robin. After the continuity changes as a result of the DC Comics relaunch, history was altered so that Tim Drake never took up the Robin mantle after Jason Todd\\'s death, feeling that it would be inappropriate.  Instead, he served as Batman\\'s sidekick under the name of Red Robin.\\n\\nStephanie Brown\\n\\nStephanie Brown, Tim Drake\\'s girlfriend and the costumed adventurer previously known as the Spoiler, volunteered for the role of Robin upon Tim\\'s resignation. Batman fired the Girl Wonder for not obeying his orders to the letter on two separate occasions. Stephanie then stole one of Batman\\'s incomplete plans to control Gotham crime and executed it. Trying to prove her worthiness, Brown inadvertently set off a gang war on the streets of Gotham. While trying to help end the war, Brown was captured and tortured by the lunatic crime boss Black Mask. She managed to escape but apparently died shortly afterwards due to the severity of her injuries. Tim Drake keeps a memorial for her in his cave hideout underneath Titans Tower in San Francisco. She appeared alive and stalking Tim, after his return from traveling around the globe with his mentor.  It turned out that Dr. Leslie Thompkins had faked Stephanie\\'s death in an effort to protect her.  For years she operated on and off as The Spoiler, but is now Barbara Gordon\\'s replacement as Batgirl. She has her own series as well as making appearances throughout various Batman and Batman spin-off series.  Her time as Robin was retconned after the Flashpoint event.\\n\\nDamian Wayne\\n\\nDamian Wayne was the child of Bruce Wayne and Talia al Ghul, thus the grandson of immortal terrorist Ra\\'s al Ghul. Batman was unaware of his son\\'s existence for years until Talia left Damian in his care. Damian was violent and lacking in discipline and morality, and was trained by the League of Assassins. Learning to kill at a young age, Damian\\'s murderous behavior created a troubled relationship with his father, who vowed never to take a life. Originally conceived to become a host for his maternal grandfather\\'s soul as well as a pawn against the Dark Knight, Batman saved his child from this fate which forced Ra\\'s to inhabit his own son\\'s body, and Damian was affectionate to his father.  After Batman\\'s apparent death during Final Crisis, Talia left her son under Dick Grayson and Alfred Pennyworth\\'s care and Damian was deeply affected by his father\\'s absence. In the first issue of \"Battle for the Cowl\", Damian was driving the Batmobile and was attacked by Poison Ivy and Killer Croc. Damian was rescued by Nightwing who then tries to escape but was shot down by Black Mask\\'s men. Nightwing tried to fight the thugs, but the thugs were shot by Jason Todd. After a fight between Nightwing and Todd, Todd eventually shot Damian in the chest. In the final issue of the series, Alfred made Damian into Robin. Damian\\'s first task as Robin was to rescue Tim. After \"Battle for the Cowl\", Grayson adopted the mantle of Batman, and instead of having Tim (who he viewed as an equal, rather than a protégé) remain as Robin, he gave the role to Damian, who he felt needed the training that his father would have given him.\\n\\nFollowing Batman: The Return of Bruce Wayne and  Flashpoint events, Bruce Wayne returned to his role as Batman while Dick resumed as Nightwing. As of the \"New 52\", Damian continued to work with his father, but temporarily gave up being Robin (as his mother put a price on his head), and went under the identity of Red Bird. Damian met his end at the hands of Heretic, an aged-clone of Damian working for Leviathan, bravely giving up his life.   Despite his present status as deceased, Damian starred in his own mini-series, Damian: Son of Batman, written and drawn by Andy Kubert, set in a future where Damian is on the path to become Batman after his father fell victim to a trap set by the Joker.  Batman eventually started a difficult quest to resurrect him, returning Damian to life with Darkseid\\'s Chaos Shard. \\n\\nOther versions\\n\\nBruce Wayne\\n\\nA Batman story from the 1950s featured the young Bruce Wayne assuming the identity of Robin, complete with the original costume, in order to learn the basics of detective work from a famous detective named Harvey Harris. The purpose of the secret identity was to prevent Harris from learning Wayne\\'s true motivation for approaching him, which could have led to the detective attempting to discourage the boy from pursuing his obsession.  Though this story remained canonical through the most of the 1980s (it was revisited in the Untold Legend of the Batman miniseries in 1980), it was revised post-Crisis to edit out any reference to Bruce Wayne having ever called himself \"Robin\" or worn any costume before he finally donned his Batman costume as an adult.  John Byrne later worked this aspect into his non-canonical story Superman & Batman: Generations.\\n\\nPost-Crisis, there was one instance in continuity when Bruce Wayne adopted the Robin persona. In Batboy & Robin, a tie-in special to the DC Comics storyline Sins of Youth, Bruce and Tim Drake, the third Robin, had their ages magically switched. In an effort to keep up the illusion of Batman, Bruce had Tim adopt the Batman identity while he is forced to be Robin.\\n\\nEarth-Two Robin, Before Crisis on Infinite Earths\\n\\nOn Earth-Two, home of the Golden Age version of DC\\'s superheroes, Dick Grayson continued to be Robin even as an adult, having no successors, and even after Batman\\'s death. His allies as a boy included the All-Star Squadron along with Batwoman and Flamebird.\\n\\nBy the 1960s, Grayson had become an adult, and was a lawyer and the ambassador to South Africa. He adopted a more Batman-like costume, but still fought crime as Robin. This adult version of Dick Grayson debuted in Justice League of America #55, where he also became a member of the Justice Society of America. Although in semi-retirement for a time, he was called back to active duty when he rejoined the Justice Society during the period when he, Power Girl and Star-Spangled Kid, assisted them as The Super Squad.\\n\\nHe appeared to have died during the 1985 miniseries Crisis on Infinite Earths, in which the DC Multiverse was reduced to one Universe, and this version of Grayson, as well as the Earth-Two Batman, were deemed never to have existed. The Earth-2 concept was revived and reimagined twice subsequently, following the comic books 52 (2006–7) and Flashpoint (2011).\\n\\nElseworlds versions\\n\\nElseworlds versions of DC characters are ones that exist in alternate timelines or realities that take place in entirely self-contained continuities. In Elseworlds Robin has been a German immigrant during WWII named Richart Graustark, Bruce Wayne Jr (the son of Julia Madison and Bruce Wayne), a robot called \"The Toy Wonder\", a genetically enhanced ape named Rodney, a samurai named Tengu, a pirate\\'s cabin boy, a girl traveling via space ship to a far off colonial planet, Bruce Wayne\\'s nephew Thomas Wayne III, MI-6 agent Alfred Pennyworth, Bruce Wayne\\'s sister during the Reign of Terror in France, and a Native American named Red Bird.\\n\\nCarrie Kelley \\n\\nIn Frank Miller\\'s non-canonical The Dark Knight Returns, the role of Robin is filled by Carrie Kelley, a thirteen-year-old girl. She becomes Robin, and is accepted by the Batman after she saves his life. Unlike the previous Robins, Carrie is not an orphan, but she appears to have rather neglectful parents who are never actually depicted (one of them mutters \"Didn\\'t we have a kid?\" while their daughter is watching the fierce battle between Batman and the Mutants). It is hinted through their dialogue that they were once activists and possibly hippies during the 1960s, but have since become apathetic stoners. She was the first female Robin and the first Robin with living parents. In the sequel, Batman: The Dark Knight Strikes Again, 2001, Carrie dons the identity of Catgirl but still works as Batman\\'s second-in-command.\\n\\nShe was also featured in an episode of Batman: The Animated Series entitled \"Legends of the Dark Knight\". She then appeared in Batman: The Brave and the Bold episode entitled \"Batman Dies At Dawn!\" along with Dick Grayson, Jason Todd, Tim Drake, Stephanie Brown, and Damian Wayne. Kelley joined the New 52 DC universe in Batman and Robin #19, in a story titled Batman and Red Robin. \\n\\nTalon\\n\\nCrime Syndicate version of Robin on Earth-3, associate of Owlman. Talon refers to Owlman as his father, whether he is the biological son of Thomas Wayne II or an alternate version of Jason Todd or Tim Drake is unknown. Talon first appeared in Teen Titans (vol. 3) #32 (March 2006).\\n\\n52 Multiverse\\n\\nIn the final issue of 52, a new Multiverse is revealed, originally consisting of 52 identical realities. Among the parallel realities shown is one designated \"Earth-2\". As a result of Mister Mind \"eating\" aspects of this reality, it takes on visual aspects similar to the pre-Crisis Earth-2, including Robin among other Justice Society of America characters.  Based on comments by Grant Morrison, this alternate universe is not the pre-Crisis Earth-2.  However, in the Justice Society of America Annual #1, published in the summer of 2008, Silver Scarab explains that the events of the Crisis are remembered by the people of this Earth-2, and from their perspective, Earth-2 seemed to be the only Earth to have survived the Crisis, raising theories as to whether or not Earth-2 was really destroyed, or was perhaps replaced by a new Earth-2.  Indeed, in Justice Society of America #20, published in December 2008, Starman explains that during the re-expansion of the DC Multiverse, Earth-2 was reborn \"along with everyone on it\", including Robin.\\n\\nFollowing Flashpoint (2011) and The New 52 reboot, this Earth is replaced by another reimagining of Earth 2, one where Batman\\'s daughter Helena Wayne served as Robin until an incident five years prior to the relaunch sent her to DC\\'s primary continuity, Earth-0, where she works as Huntress. The 2014 series Earth 2: World\\'s End establishes that Dick Grayson never served as Robin on this Earth, and was instead a reporter who married Barbara Gordon and had a son. During Darkseid\\'s invasion of Earth 2, Barbara is killed, and Dick is trained in how to fight by Ted Grant and goes on a mission to find his missing son.\\n\\nRobin monthlies\\n\\nThe first Robin miniseries was printed in 1992 following Tim Drake\\'s debut as Robin. The series centered around Tim\\'s continued training and set up villains linked to the character. It was followed up by another series Robin II: Joker\\'s Wild which pitted Tim against his predecessor\\'s murderer the Joker. With Batman out of town, it was up to Tim and Alfred to end the Joker\\'s latest crime spree. A final miniseries, Robin III: Cry of Huntress wrapped up the trilogy, teaming Tim with the Huntress. In 1993, the success of the three miniseries led to the ongoing Robin series which ran 183 issues until 2009. The title was replaced by a Batman and Robin series following the Battle for the Cowl mini-series, as well as an ongoing Red Robin monthly which continues the story of Tim Drake.\\n\\nThe ongoing Robin series has taken part in a number of crossovers with other comics, especially Batman and related series. These include:\\n* Robin #1:\\n* Robin #7: Knightquest: The Search\\n* Robin #8: KnightsEnd\\n* Robin #9: Knightfall: Aftermath\\n* Robin #10–13: Prodigal\\n* Robin #14: Troika\\n* Robin #27–28: Batman: Contagion\\n* Robin #32–33: Batman: Legacy\\n* Robin #52–53: Batman: Cataclysm\\n* Robin #67–73: Batman: No Man\\'s Land\\n* Robin #86: Batman: Officer Down\\n* Robin #95: Joker: The Last Laugh\\n* Robin #98–99: Bruce Wayne: Murderer?\\n* Robin #129–131: Batman: War Games\\n* Robin #168–169: The Resurrection of Ra\\'s al Ghul\\n* Robin #175–176: Batman R.I.P.\\n\\nIn addition, two Robin related series will launch in June 2015: We Are Robin, featuring writer Lee Bermejo and artists Rob Haynes and Khary Randolph, and detailing multiple teenagers in Gotham who take up the mantle of Robin; and Robin, Son of Batman, written and drawn by Patrick Gleason, showing the individual adventures of Damian Wayne.\\n\\nReception\\n\\nAccording to Entertainment Weekly in 2008, Robin is one of the \"greatest sidekicks\". \\n\\nPortrayals\\n\\nRobin (Dick Grayson) was portrayed by Douglas Croft and Johnny Duncan, respectively, in the 1943 and 1949 fifteen chapter Batman serials. Burt Ward played him in the 1966–1968 Batman television series and the related 1966 film. In the two live-action movies Batman Forever and Batman & Robin, he was played by Chris O\\'Donnell.\\n\\nThe Dick Grayson version of Robin also appears in Batman: The Animated Series, voiced by Loren Lester. Grayson is replaced by Tim Drake, played by Mathew Valencia, in the subsequent series The New Batman Adventures.\\n\\nThe animated series Teen Titans features Robin (voiced by Scott Menville) as the leader of a team of young heroes; it is hinted in several episodes that this Robin is Dick Grayson. In the season two episode  \"Fractured\", a version of Bat-Mite is introduced who claims to be Robin\\'s \"DNA buddy\" (genetic twin).  Bat-Mite gives his name as Nosyarg Kcid (\"Dick Grayson\" spelled backwards). In another episode, Raven reads Robin\\'s mind and sees a man and a woman falling from a trapeze (an event known only to have happened to Grayson and not to any other Robin). In another episode, Starfire travels to the future and discovers that Robin has taken the identity of Nightwing. Menville reprises his role as Robin in Teen Titans Go!.\\n\\nRobin is also seen in the 1987 Zeller\\'s commercial, which features the infamous catchphrase, \"Well said, Robin!\".\\n\\nRobin is voiced by Jesse McCartney in Young Justice.\\n\\nRobin is portrayed by Nick Lang in Holy Musical B@man!. His portrayal is based mainly on Burt Ward\\'s Dick Grayson.\\n\\nCollected editions']}"
      ]
     },
     "execution_count": 34,
     "metadata": {},
     "output_type": "execute_result"
    }
   ],
   "source": [
    "li[0]"
   ]
  },
  {
   "cell_type": "code",
   "execution_count": 35,
   "metadata": {},
   "outputs": [
    {
     "data": {
      "text/plain": [
       "1200"
      ]
     },
     "execution_count": 35,
     "metadata": {},
     "output_type": "execute_result"
    }
   ],
   "source": [
    "len(li)"
   ]
  },
  {
   "cell_type": "code",
   "execution_count": 36,
   "metadata": {},
   "outputs": [],
   "source": [
    "import json\n",
    "\n",
    "with open(\"triviaqa_data.json\",'w') as f:\n",
    "    json.dump(li,f)"
   ]
  },
  {
   "cell_type": "markdown",
   "metadata": {},
   "source": [
    "--------------------------------------------"
   ]
  },
  {
   "cell_type": "code",
   "execution_count": 39,
   "metadata": {},
   "outputs": [],
   "source": [
    "import json\n",
    "with open(\"triviaqa_data.json\",'r') as f:\n",
    "    data = json.load(f)"
   ]
  }
 ],
 "metadata": {
  "kernelspec": {
   "display_name": "bioinfo",
   "language": "python",
   "name": "python3"
  },
  "language_info": {
   "codemirror_mode": {
    "name": "ipython",
    "version": 3
   },
   "file_extension": ".py",
   "mimetype": "text/x-python",
   "name": "python",
   "nbconvert_exporter": "python",
   "pygments_lexer": "ipython3",
   "version": "3.12.3"
  }
 },
 "nbformat": 4,
 "nbformat_minor": 2
}
