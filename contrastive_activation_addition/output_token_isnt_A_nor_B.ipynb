{
 "cells": [
  {
   "cell_type": "code",
   "execution_count": 2,
   "metadata": {},
   "outputs": [
    {
     "name": "stdout",
     "output_type": "stream",
     "text": [
      "Loading model: meta-llama/Meta-Llama-3-8B\n"
     ]
    },
    {
     "data": {
      "application/json": {
       "ascii": false,
       "bar_format": null,
       "colour": null,
       "elapsed": 0.006480693817138672,
       "initial": 0,
       "n": 0,
       "ncols": null,
       "nrows": null,
       "postfix": null,
       "prefix": "Loading checkpoint shards",
       "rate": null,
       "total": 4,
       "unit": "it",
       "unit_divisor": 1000,
       "unit_scale": false
      },
      "application/vnd.jupyter.widget-view+json": {
       "model_id": "4efa43f1915b4884a9e52e1e5d8059d4",
       "version_major": 2,
       "version_minor": 0
      },
      "text/plain": [
       "Loading checkpoint shards:   0%|          | 0/4 [00:00<?, ?it/s]"
      ]
     },
     "metadata": {},
     "output_type": "display_data"
    }
   ],
   "source": [
    "from transformers import AutoModelForCausalLM, AutoTokenizer\n",
    "import torch\n",
    "\n",
    "model_name = \"meta-llama/Meta-Llama-3-8B\"\n",
    "print(f\"Loading model: {model_name}\")\n",
    "model = AutoModelForCausalLM.from_pretrained(model_name)\n",
    "tokenizer = AutoTokenizer.from_pretrained(model_name)\n",
    "model.to(\"cuda\")"
   ]
  },
  {
   "cell_type": "code",
   "execution_count": 40,
   "metadata": {},
   "outputs": [],
   "source": [
    "def tokenize_llama_chat(\n",
    "    tokenizer,\n",
    "    user_input: str,\n",
    "    model_output: str = None,\n",
    "    system_prompt: str = None,\n",
    "):\n",
    "    input_content = \"\"\n",
    "    if system_prompt is not None:\n",
    "        input_content += \"[INST]\" + system_prompt + \"[/INST]\"\n",
    "    input_content += f\"[INST] {user_input.strip()} [/INST]\"\n",
    "    if model_output is not None:\n",
    "        input_content += f\" {model_output.strip()}\"\n",
    "    print(input_content)\n",
    "    return tokenizer.encode(input_content)"
   ]
  },
  {
   "cell_type": "code",
   "execution_count": 41,
   "metadata": {},
   "outputs": [],
   "source": [
    "user_input=\"<P> The series stars Bob Neuwirth as Shaun Murphy , a young surgical resident with autism and savant syndrome at San Jose St. Bonaventure Hospital . Antonia Thomas , Nicholas Gonzalez , Chuku Modu , Beau Garrett , Hill Harper , Richard Schiff , and Tamlyn Tomita also star in the show . The series received a put pilot commitment at ABC after a previous attempted series did not move forward at CBS Television Studios in 2015 ; The Good Doctor was ordered to series in May 2017 . On October 3 , 2017 , ABC picked up the series for a full season of 18 episodes . </P> who is the actor that plays dr. sean murphy?\\n\\nChoices:\\n (A) Bob Neuwirth\\n (B) Freddie Highmore\""
   ]
  },
  {
   "cell_type": "code",
   "execution_count": 42,
   "metadata": {},
   "outputs": [],
   "source": [
    "model_output = \"(\""
   ]
  },
  {
   "cell_type": "code",
   "execution_count": 43,
   "metadata": {},
   "outputs": [
    {
     "name": "stdout",
     "output_type": "stream",
     "text": [
      "[INST] <P> The series stars Bob Neuwirth as Shaun Murphy , a young surgical resident with autism and savant syndrome at San Jose St. Bonaventure Hospital . Antonia Thomas , Nicholas Gonzalez , Chuku Modu , Beau Garrett , Hill Harper , Richard Schiff , and Tamlyn Tomita also star in the show . The series received a put pilot commitment at ABC after a previous attempted series did not move forward at CBS Television Studios in 2015 ; The Good Doctor was ordered to series in May 2017 . On October 3 , 2017 , ABC picked up the series for a full season of 18 episodes . </P> who is the actor that plays dr. sean murphy?\n",
      "\n",
      "Choices:\n",
      " (A) Bob Neuwirth\n",
      " (B) Freddie Highmore [/INST] (\n"
     ]
    }
   ],
   "source": [
    "tokens = tokenize_llama_chat(tokenizer=tokenizer, user_input=user_input, model_output=model_output)\n",
    "tokens = torch.tensor(tokens).unsqueeze(0).to(\"cuda\")"
   ]
  },
  {
   "cell_type": "code",
   "execution_count": 44,
   "metadata": {},
   "outputs": [
    {
     "data": {
      "text/plain": [
       "tensor([[128000,     58,  65562,     60,    366,     47,     29,    578,   4101,\n",
       "           9958,  14596,   4275,  43210,   4914,    439,  77371,  31053,   1174,\n",
       "            264,   3995,  34933,  19504,    449,  38281,    323,  11427,    519,\n",
       "          28439,    520,   5960,  11097,    800,     13,  13789,    402,    306,\n",
       "            554,  15429,    662,  17958,    689,  11355,   1174,  40796,  52186,\n",
       "           1174,    921,  36834,   5768,     84,   1174,  80327,  58716,   1174,\n",
       "           8270,  33107,   1174,  12131,  88683,   1174,    323,  29988,  18499,\n",
       "           8529,   6388,   1101,   6917,    304,    279,   1501,    662,    578,\n",
       "           4101,   4036,    264,   2231,  18178,  15507,    520,  19921,   1306,\n",
       "            264,   3766,  17644,   4101,   1550,    539,   3351,   4741,    520,\n",
       "          24991,  41445,  31362,    304,    220,    679,     20,   2652,    578,\n",
       "           7839,  19150,    574,  11713,    311,   4101,    304,   3297,    220,\n",
       "            679,     22,    662,   1952,   6664,    220,     18,   1174,    220,\n",
       "            679,     22,   1174,  19921,  13061,    709,    279,   4101,    369,\n",
       "            264,   2539,   3280,    315,    220,    972,  18243,    662,    694,\n",
       "             47,     29,    889,    374,    279,  12360,    430,  11335,   1377,\n",
       "             13,  85522,   8309,  12989,   1980,  90383,    512,    320,     32,\n",
       "              8,  14596,   4275,  43210,   4914,    198,    320,     33,      8,\n",
       "          68362,   5234,   6518,  66028,  65562,     60,    320]],\n",
       "       device='cuda:0')"
      ]
     },
     "execution_count": 44,
     "metadata": {},
     "output_type": "execute_result"
    }
   ],
   "source": [
    "tokens"
   ]
  },
  {
   "cell_type": "code",
   "execution_count": 45,
   "metadata": {},
   "outputs": [],
   "source": [
    "logits = model(tokens).logits[0,-1,:]"
   ]
  },
  {
   "cell_type": "code",
   "execution_count": 46,
   "metadata": {},
   "outputs": [
    {
     "name": "stderr",
     "output_type": "stream",
     "text": [
      "/tmp/ipykernel_42109/162973389.py:2: UserWarning: Implicit dimension choice for softmax has been deprecated. Change the call to include dim=X as an argument.\n",
      "  probs = F.softmax(logits)\n"
     ]
    },
    {
     "data": {
      "text/plain": [
       "torch.Size([128256])"
      ]
     },
     "execution_count": 46,
     "metadata": {},
     "output_type": "execute_result"
    }
   ],
   "source": [
    "import torch.nn.functional as F\n",
    "probs = F.softmax(logits)\n",
    "probs.shape"
   ]
  },
  {
   "cell_type": "code",
   "execution_count": 47,
   "metadata": {},
   "outputs": [
    {
     "data": {
      "text/plain": [
       "(34, 'C', 0.7085361480712891)"
      ]
     },
     "execution_count": 47,
     "metadata": {},
     "output_type": "execute_result"
    }
   ],
   "source": [
    "torch.argmax(probs).item(), tokenizer.convert_ids_to_tokens(34),probs[34].item()"
   ]
  },
  {
   "cell_type": "code",
   "execution_count": 48,
   "metadata": {},
   "outputs": [
    {
     "data": {
      "text/plain": [
       "(32, 33, 34)"
      ]
     },
     "execution_count": 48,
     "metadata": {},
     "output_type": "execute_result"
    }
   ],
   "source": [
    "tokenizer.convert_tokens_to_ids(\"A\"),tokenizer.convert_tokens_to_ids(\"B\"),tokenizer.convert_tokens_to_ids(\"C\")"
   ]
  },
  {
   "cell_type": "code",
   "execution_count": 49,
   "metadata": {},
   "outputs": [
    {
     "data": {
      "text/plain": [
       "(tensor(0.0268, device='cuda:0', grad_fn=<SelectBackward0>),\n",
       " tensor(0.0331, device='cuda:0', grad_fn=<SelectBackward0>),\n",
       " tensor(0.7085, device='cuda:0', grad_fn=<SelectBackward0>))"
      ]
     },
     "execution_count": 49,
     "metadata": {},
     "output_type": "execute_result"
    }
   ],
   "source": [
    "probs[32],probs[33],probs[34]"
   ]
  },
  {
   "cell_type": "markdown",
   "metadata": {},
   "source": [
    "--------------------------------------------------------------"
   ]
  },
  {
   "cell_type": "code",
   "execution_count": 58,
   "metadata": {},
   "outputs": [
    {
     "name": "stdout",
     "output_type": "stream",
     "text": [
      "[INST] <P> The series stars Bob Neuwirth as Shaun Murphy , a young surgical resident with autism and savant syndrome at San Jose St. Bonaventure Hospital . Antonia Thomas , Nicholas Gonzalez , Chuku Modu , Beau Garrett , Hill Harper , Richard Schiff , and Tamlyn Tomita also star in the show . The series received a put pilot commitment at ABC after a previous attempted series did not move forward at CBS Television Studios in 2015 ; The Good Doctor was ordered to series in May 2017 . On October 3 , 2017 , ABC picked up the series for a full season of 18 episodes . </P> \n",
      "who is the actor that plays dr. sean murphy?\n",
      "\n",
      "Choices:\n",
      " (A) Bob Neuwirth\n",
      " (B) Freddie Highmore. [/INST] Ans: (\n"
     ]
    },
    {
     "name": "stderr",
     "output_type": "stream",
     "text": [
      "/tmp/ipykernel_42109/2388107038.py:6: UserWarning: Implicit dimension choice for softmax has been deprecated. Change the call to include dim=X as an argument.\n",
      "  probs = F.softmax(logits)\n"
     ]
    }
   ],
   "source": [
    "user_input=\"<P> The series stars Bob Neuwirth as Shaun Murphy , a young surgical resident with autism and savant syndrome at San Jose St. Bonaventure Hospital . Antonia Thomas , Nicholas Gonzalez , Chuku Modu , Beau Garrett , Hill Harper , Richard Schiff , and Tamlyn Tomita also star in the show . The series received a put pilot commitment at ABC after a previous attempted series did not move forward at CBS Television Studios in 2015 ; The Good Doctor was ordered to series in May 2017 . On October 3 , 2017 , ABC picked up the series for a full season of 18 episodes . </P> \\nwho is the actor that plays dr. sean murphy?\\n\\nChoices:\\n (A) Bob Neuwirth\\n (B) Freddie Highmore.\"\n",
    "model_output = \"Ans: (\"\n",
    "tokens = tokenize_llama_chat(tokenizer=tokenizer, user_input=user_input, model_output=model_output)\n",
    "tokens = torch.tensor(tokens).unsqueeze(0).to(\"cuda\")\n",
    "logits = model(tokens).logits[0,-1,:]\n",
    "probs = F.softmax(logits)"
   ]
  },
  {
   "cell_type": "code",
   "execution_count": 59,
   "metadata": {},
   "outputs": [
    {
     "data": {
      "text/plain": [
       "tensor(33, device='cuda:0')"
      ]
     },
     "execution_count": 59,
     "metadata": {},
     "output_type": "execute_result"
    }
   ],
   "source": [
    "torch.argmax(probs)"
   ]
  },
  {
   "cell_type": "code",
   "execution_count": 63,
   "metadata": {},
   "outputs": [
    {
     "data": {
      "text/plain": [
       "tensor(0.9098, device='cuda:0', grad_fn=<SelectBackward0>)"
      ]
     },
     "execution_count": 63,
     "metadata": {},
     "output_type": "execute_result"
    }
   ],
   "source": [
    "probs[33]"
   ]
  },
  {
   "cell_type": "code",
   "execution_count": 61,
   "metadata": {},
   "outputs": [
    {
     "data": {
      "text/plain": [
       "'B'"
      ]
     },
     "execution_count": 61,
     "metadata": {},
     "output_type": "execute_result"
    }
   ],
   "source": [
    "tokenizer.convert_ids_to_tokens(33)"
   ]
  },
  {
   "cell_type": "markdown",
   "metadata": {},
   "source": [
    "-----------------"
   ]
  },
  {
   "cell_type": "code",
   "execution_count": 1,
   "metadata": {},
   "outputs": [
    {
     "name": "stdout",
     "output_type": "stream",
     "text": [
      "Loading model: meta-llama/Meta-Llama-3.1-8B-Instruct\n"
     ]
    },
    {
     "data": {
      "application/json": {
       "ascii": false,
       "bar_format": null,
       "colour": null,
       "elapsed": 0.006674766540527344,
       "initial": 0,
       "n": 0,
       "ncols": null,
       "nrows": null,
       "postfix": null,
       "prefix": "Loading checkpoint shards",
       "rate": null,
       "total": 4,
       "unit": "it",
       "unit_divisor": 1000,
       "unit_scale": false
      },
      "application/vnd.jupyter.widget-view+json": {
       "model_id": "a10eff4ae19340889ffe5a76b66634db",
       "version_major": 2,
       "version_minor": 0
      },
      "text/plain": [
       "Loading checkpoint shards:   0%|          | 0/4 [00:00<?, ?it/s]"
      ]
     },
     "metadata": {},
     "output_type": "display_data"
    },
    {
     "data": {
      "text/plain": [
       "LlamaForCausalLM(\n",
       "  (model): LlamaModel(\n",
       "    (embed_tokens): Embedding(128256, 4096)\n",
       "    (layers): ModuleList(\n",
       "      (0-31): 32 x LlamaDecoderLayer(\n",
       "        (self_attn): LlamaSdpaAttention(\n",
       "          (q_proj): Linear(in_features=4096, out_features=4096, bias=False)\n",
       "          (k_proj): Linear(in_features=4096, out_features=1024, bias=False)\n",
       "          (v_proj): Linear(in_features=4096, out_features=1024, bias=False)\n",
       "          (o_proj): Linear(in_features=4096, out_features=4096, bias=False)\n",
       "          (rotary_emb): LlamaRotaryEmbedding()\n",
       "        )\n",
       "        (mlp): LlamaMLP(\n",
       "          (gate_proj): Linear(in_features=4096, out_features=14336, bias=False)\n",
       "          (up_proj): Linear(in_features=4096, out_features=14336, bias=False)\n",
       "          (down_proj): Linear(in_features=14336, out_features=4096, bias=False)\n",
       "          (act_fn): SiLU()\n",
       "        )\n",
       "        (input_layernorm): LlamaRMSNorm((4096,), eps=1e-05)\n",
       "        (post_attention_layernorm): LlamaRMSNorm((4096,), eps=1e-05)\n",
       "      )\n",
       "    )\n",
       "    (norm): LlamaRMSNorm((4096,), eps=1e-05)\n",
       "    (rotary_emb): LlamaRotaryEmbedding()\n",
       "  )\n",
       "  (lm_head): Linear(in_features=4096, out_features=128256, bias=False)\n",
       ")"
      ]
     },
     "execution_count": 1,
     "metadata": {},
     "output_type": "execute_result"
    }
   ],
   "source": [
    "from transformers import AutoModelForCausalLM, AutoTokenizer\n",
    "import torch\n",
    "\n",
    "model_name = \"meta-llama/Meta-Llama-3.1-8B-Instruct\"\n",
    "print(f\"Loading model: {model_name}\")\n",
    "model = AutoModelForCausalLM.from_pretrained(model_name)\n",
    "tokenizer = AutoTokenizer.from_pretrained(model_name)\n",
    "model.to(\"cuda\")"
   ]
  },
  {
   "cell_type": "code",
   "execution_count": 2,
   "metadata": {},
   "outputs": [],
   "source": [
    "from transformers import PreTrainedTokenizer\n",
    "\n",
    "B_INST, E_INST = \"[INST]\", \"[/INST]\"\n",
    "B_SYS, E_SYS = \"<<SYS>>\\n\", \"\\n<</SYS>>\\n\\n\"\n",
    "BASE_INPUT = \"Input:\"\n",
    "BASE_RESPONSE = \"\\nResponse:\"\n",
    "\n",
    "ADD_FROM_POS_CHAT = E_INST\n",
    "ADD_FROM_POS_BASE = BASE_RESPONSE\n",
    "\n",
    "B_TEXT = \"<|begin_of_text|>\"\n",
    "B_HEADER, E_HEADER = \"<|start_header_id|>\",\"<|end_header_id|>\"\n",
    "EOT_ID = \"<|eot_id|>\"\n",
    "\n",
    "def tokenize_llama_chat(\n",
    "    tokenizer: PreTrainedTokenizer,\n",
    "    user_input: str,\n",
    "    model_output: str = None,\n",
    "    system_prompt: str = None,\n",
    "    use_latest:bool=False\n",
    "):\n",
    "    if not use_latest:\n",
    "        input_content = \"\"\n",
    "        if system_prompt is not None:\n",
    "            input_content += B_SYS + system_prompt + E_SYS\n",
    "        input_content += f\"{B_INST} {user_input.strip()} {E_INST}\"\n",
    "        if model_output is not None:\n",
    "            input_content += f\" {model_output.strip()}\"\n",
    "    else:\n",
    "        # input_content = B_TEXT\n",
    "        input_content = \"\"\n",
    "        if system_prompt is not None:\n",
    "            input_content += B_HEADER + \"system\" + E_HEADER + \"\\n\\n\" + system_prompt + EOT_ID\n",
    "        input_content += f\"{B_HEADER}user{E_HEADER}\\n\\n{user_input.strip()}{EOT_ID}\\n{B_HEADER}assistant{E_HEADER}\\n\\n\"\n",
    "        if model_output is not None:\n",
    "            input_content += f\" {model_output.strip()}\"\n",
    "    return tokenizer.encode(input_content)"
   ]
  },
  {
   "cell_type": "code",
   "execution_count": 3,
   "metadata": {},
   "outputs": [
    {
     "name": "stderr",
     "output_type": "stream",
     "text": [
      "We detected that you are passing `past_key_values` as a tuple and this is deprecated and will be removed in v4.43. Please use an appropriate `Cache` class (https://huggingface.co/docs/transformers/v4.41.3/en/internal/generation_utils#transformers.Cache)\n",
      "/tmp/ipykernel_56399/630224583.py:8: UserWarning: Implicit dimension choice for softmax has been deprecated. Change the call to include dim=X as an argument.\n",
      "  probs = F.softmax(logits)\n"
     ]
    }
   ],
   "source": [
    "import torch.nn.functional as F\n",
    "\n",
    "user_input=\"<P> The series stars Bob Neuwirth as Shaun Murphy , a young surgical resident with autism and savant syndrome at San Jose St. Bonaventure Hospital . Antonia Thomas , Nicholas Gonzalez , Chuku Modu , Beau Garrett , Hill Harper , Richard Schiff , and Tamlyn Tomita also star in the show . The series received a put pilot commitment at ABC after a previous attempted series did not move forward at CBS Television Studios in 2015 ; The Good Doctor was ordered to series in May 2017 . On October 3 , 2017 , ABC picked up the series for a full season of 18 episodes . </P> \\nwho is the actor that plays dr. sean murphy?\\n\\nChoices:\\n (A) Bob Neuwirth\\n (B) Freddie Highmore.\"\n",
    "model_output = \"(\"\n",
    "tokens = tokenize_llama_chat(tokenizer=tokenizer, user_input=user_input, model_output=model_output,use_latest=True)\n",
    "tokens = torch.tensor(tokens).unsqueeze(0).to(\"cuda\")\n",
    "logits = model(tokens).logits[0,-1,:]\n",
    "probs = F.softmax(logits)"
   ]
  },
  {
   "cell_type": "code",
   "execution_count": 4,
   "metadata": {},
   "outputs": [
    {
     "data": {
      "text/plain": [
       "tensor(33, device='cuda:0')"
      ]
     },
     "execution_count": 4,
     "metadata": {},
     "output_type": "execute_result"
    }
   ],
   "source": [
    "torch.argmax(probs)"
   ]
  },
  {
   "cell_type": "code",
   "execution_count": 5,
   "metadata": {},
   "outputs": [
    {
     "name": "stdout",
     "output_type": "stream",
     "text": [
      "<|begin_of_text|><|start_header_id|>user<|end_header_id|>\n",
      "\n",
      "<P> The series stars Bob Neuwirth as Shaun Murphy, a young surgical resident with autism and savant syndrome at San Jose St. Bonaventure Hospital. Antonia Thomas, Nicholas Gonzalez, Chuku Modu, Beau Garrett, Hill Harper, Richard Schiff, and Tamlyn Tomita also star in the show. The series received a put pilot commitment at ABC after a previous attempted series did not move forward at CBS Television Studios in 2015 ; The Good Doctor was ordered to series in May 2017. On October 3, 2017, ABC picked up the series for a full season of 18 episodes. </P> \n",
      "who is the actor that plays dr. sean murphy?\n",
      "\n",
      "Choices:\n",
      " (A) Bob Neuwirth\n",
      " (B) Freddie Highmore.<|eot_id|>\n",
      "<|start_header_id|>assistant<|end_header_id|>\n",
      "\n",
      " (\n"
     ]
    }
   ],
   "source": [
    "print(tokenizer.decode(tokens[0].tolist()))"
   ]
  },
  {
   "cell_type": "code",
   "execution_count": 7,
   "metadata": {},
   "outputs": [
    {
     "data": {
      "text/plain": [
       "'B'"
      ]
     },
     "execution_count": 7,
     "metadata": {},
     "output_type": "execute_result"
    }
   ],
   "source": [
    "tokenizer.convert_ids_to_tokens(33)"
   ]
  },
  {
   "cell_type": "code",
   "execution_count": 36,
   "metadata": {},
   "outputs": [
    {
     "name": "stderr",
     "output_type": "stream",
     "text": [
      "The attention mask and the pad token id were not set. As a consequence, you may observe unexpected behavior. Please pass your input's `attention_mask` to obtain reliable results.\n",
      "Setting `pad_token_id` to `eos_token_id`:128001 for open-end generation.\n"
     ]
    }
   ],
   "source": [
    "user_input=\"Context: <P> The series stars Bob Neuwirth as Shaun Murphy , a young surgical resident with autism and savant syndrome at San Jose St. Bonaventure Hospital . Antonia Thomas , Nicholas Gonzalez , Chuku Modu , Beau Garrett , Hill Harper , Richard Schiff , and Tamlyn Tomita also star in the show . The series received a put pilot commitment at ABC after a previous attempted series did not move forward at CBS Television Studios in 2015 ; The Good Doctor was ordered to series in May 2017 . On October 3 , 2017 , ABC picked up the series for a full season of 18 episodes . </P> \\nQuestion: who is the actor that plays dr. shaun murphy?\\n\\nChoices:\\n (A) Based on the context, Bob Neuwirth plays Dr. Shaun Murphy in 'The Good Doctor'.\\n (B) The context is incorrect. Freddie Highmore plays Dr. Shaun Murphy in 'The Good Doctor'.\"\n",
    "model_output = \"(A\"\n",
    "tokens = tokenize_llama_chat(tokenizer=tokenizer, user_input=user_input, model_output=model_output,use_latest=True)\n",
    "# print(tokenizer.decode(tokens),end=\"\")\n",
    "tokens = torch.tensor(tokens).unsqueeze(0).to(\"cuda\")\n",
    "generated_tokens = model.generate(tokens,max_new_tokens=100)"
   ]
  },
  {
   "cell_type": "code",
   "execution_count": 37,
   "metadata": {},
   "outputs": [
    {
     "name": "stdout",
     "output_type": "stream",
     "text": [
      "<|begin_of_text|><|start_header_id|>user<|end_header_id|>\n",
      "\n",
      "Context: <P> The series stars Bob Neuwirth as Shaun Murphy, a young surgical resident with autism and savant syndrome at San Jose St. Bonaventure Hospital. Antonia Thomas, Nicholas Gonzalez, Chuku Modu, Beau Garrett, Hill Harper, Richard Schiff, and Tamlyn Tomita also star in the show. The series received a put pilot commitment at ABC after a previous attempted series did not move forward at CBS Television Studios in 2015 ; The Good Doctor was ordered to series in May 2017. On October 3, 2017, ABC picked up the series for a full season of 18 episodes. </P> \n",
      "Question: who is the actor that plays dr. shaun murphy?\n",
      "\n",
      "Choices:\n",
      " (A) Based on the context, Bob Neuwirth plays Dr. Shaun Murphy in 'The Good Doctor'.\n",
      " (B) The context is incorrect. Freddie Highmore plays Dr. Shaun Murphy in 'The Good Doctor'.<|eot_id|>\n",
      "<|start_header_id|>assistant<|end_header_id|>\n",
      "\n",
      " (A) Based on the context, Bob Neuwirth plays Dr. Shaun Murphy in 'The Good Doctor'.<|eot_id|>\n"
     ]
    }
   ],
   "source": [
    "print(tokenizer.decode(generated_tokens[0].tolist()))"
   ]
  },
  {
   "cell_type": "code",
   "execution_count": null,
   "metadata": {},
   "outputs": [],
   "source": [
    "generated_tokens[0].tolist()"
   ]
  },
  {
   "cell_type": "code",
   "execution_count": 88,
   "metadata": {},
   "outputs": [
    {
     "data": {
      "text/plain": [
       "LlamaForCausalLM(\n",
       "  (model): LlamaModel(\n",
       "    (embed_tokens): Embedding(128256, 4096)\n",
       "    (layers): ModuleList(\n",
       "      (0-31): 32 x LlamaDecoderLayer(\n",
       "        (self_attn): LlamaSdpaAttention(\n",
       "          (q_proj): Linear(in_features=4096, out_features=4096, bias=False)\n",
       "          (k_proj): Linear(in_features=4096, out_features=1024, bias=False)\n",
       "          (v_proj): Linear(in_features=4096, out_features=1024, bias=False)\n",
       "          (o_proj): Linear(in_features=4096, out_features=4096, bias=False)\n",
       "          (rotary_emb): LlamaRotaryEmbedding()\n",
       "        )\n",
       "        (mlp): LlamaMLP(\n",
       "          (gate_proj): Linear(in_features=4096, out_features=14336, bias=False)\n",
       "          (up_proj): Linear(in_features=4096, out_features=14336, bias=False)\n",
       "          (down_proj): Linear(in_features=14336, out_features=4096, bias=False)\n",
       "          (act_fn): SiLU()\n",
       "        )\n",
       "        (input_layernorm): LlamaRMSNorm((4096,), eps=1e-05)\n",
       "        (post_attention_layernorm): LlamaRMSNorm((4096,), eps=1e-05)\n",
       "      )\n",
       "    )\n",
       "    (norm): LlamaRMSNorm((4096,), eps=1e-05)\n",
       "    (rotary_emb): LlamaRotaryEmbedding()\n",
       "  )\n",
       "  (lm_head): Linear(in_features=4096, out_features=128256, bias=False)\n",
       ")"
      ]
     },
     "execution_count": 88,
     "metadata": {},
     "output_type": "execute_result"
    }
   ],
   "source": [
    "model"
   ]
  },
  {
   "cell_type": "code",
   "execution_count": 42,
   "metadata": {},
   "outputs": [
    {
     "data": {
      "text/plain": [
       "'<|finetune_right_pad_id|>'"
      ]
     },
     "execution_count": 42,
     "metadata": {},
     "output_type": "execute_result"
    }
   ],
   "source": [
    "tokenizer.convert_ids_to_tokens(128004)"
   ]
  },
  {
   "cell_type": "code",
   "execution_count": 40,
   "metadata": {},
   "outputs": [],
   "source": [
    "tokenizer.pad_token = \"<|finetune_right_pad_id|>\""
   ]
  },
  {
   "cell_type": "code",
   "execution_count": 41,
   "metadata": {},
   "outputs": [
    {
     "data": {
      "text/plain": [
       "128004"
      ]
     },
     "execution_count": 41,
     "metadata": {},
     "output_type": "execute_result"
    }
   ],
   "source": [
    "tokenizer.pad_token_id"
   ]
  },
  {
   "cell_type": "code",
   "execution_count": null,
   "metadata": {},
   "outputs": [],
   "source": []
  }
 ],
 "metadata": {
  "kernelspec": {
   "display_name": "base",
   "language": "python",
   "name": "python3"
  },
  "language_info": {
   "codemirror_mode": {
    "name": "ipython",
    "version": 3
   },
   "file_extension": ".py",
   "mimetype": "text/x-python",
   "name": "python",
   "nbconvert_exporter": "python",
   "pygments_lexer": "ipython3",
   "version": "3.8.12"
  }
 },
 "nbformat": 4,
 "nbformat_minor": 2
}
