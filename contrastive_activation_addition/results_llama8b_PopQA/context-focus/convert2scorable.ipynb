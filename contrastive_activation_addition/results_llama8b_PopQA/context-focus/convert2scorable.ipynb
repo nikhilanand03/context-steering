{
 "cells": [
  {
   "cell_type": "code",
   "execution_count": 1,
   "metadata": {},
   "outputs": [],
   "source": [
    "import json"
   ]
  },
  {
   "cell_type": "code",
   "execution_count": 2,
   "metadata": {},
   "outputs": [
    {
     "name": "stdout",
     "output_type": "stream",
     "text": [
      "/Users/nikhilanand/context-steering/contrastive_activation_addition/results_llama8b_PopQA/context-focus\n"
     ]
    }
   ],
   "source": [
    "import glob\n",
    "import os\n",
    "\n",
    "print(os.getcwd())"
   ]
  },
  {
   "cell_type": "code",
   "execution_count": 3,
   "metadata": {},
   "outputs": [],
   "source": [
    "files = glob.glob(\"*open_ended*\")"
   ]
  },
  {
   "cell_type": "code",
   "execution_count": 4,
   "metadata": {},
   "outputs": [
    {
     "data": {
      "text/plain": [
       "['results_layer=12_multiplier=3.0_behavior=context-focus_type=open_ended_use_base_model=False_model_size=7b_dataset_path=test_dataset_open_ended_popqa.json',\n",
       " 'results_layer=12_multiplier=2.0_behavior=context-focus_type=open_ended_use_base_model=False_model_size=7b_dataset_path=test_dataset_open_ended_popqa.json',\n",
       " 'results_layer=12_multiplier=0.0_behavior=context-focus_type=open_ended_use_base_model=False_model_size=7b_dataset_path=test_dataset_open_ended_popqa.json',\n",
       " 'results_layer=12_multiplier=1.0_behavior=context-focus_type=open_ended_use_base_model=False_model_size=7b_dataset_path=test_dataset_open_ended_popqa.json',\n",
       " 'results_layer=12_multiplier=-2.0_behavior=context-focus_type=open_ended_use_base_model=False_model_size=7b_dataset_path=test_dataset_open_ended_popqa.json',\n",
       " 'results_layer=12_multiplier=-1.0_behavior=context-focus_type=open_ended_use_base_model=False_model_size=7b_dataset_path=test_dataset_open_ended_popqa.json']"
      ]
     },
     "execution_count": 4,
     "metadata": {},
     "output_type": "execute_result"
    }
   ],
   "source": [
    "files"
   ]
  },
  {
   "cell_type": "code",
   "execution_count": 5,
   "metadata": {},
   "outputs": [],
   "source": [
    "with open(\"../../datasets/test/context-focus/test_dataset_varieties/test_dataset_open_ended_popqa.json\",'r') as file:\n",
    "    data = json.load(file)"
   ]
  },
  {
   "cell_type": "code",
   "execution_count": 6,
   "metadata": {},
   "outputs": [
    {
     "data": {
      "text/plain": [
       "{'question': \"Context: <P> Monday Mourning is the seventh novel by Kathy Reichs starring forensic anthropologist, Temperance Brennan. Kathy Reichs herself is a forensic anthropologist who works for Office of the Chief Medical Examiner, State of North Carolina, and for the Laboratoire des Sciences Judiciaires et de Médecine Légale for the province of Quebec. </P>\\nQuestion: What is Kathy Saltzman's occupation?\",\n",
       " 'sub_answer': ['politician',\n",
       "  'political leader',\n",
       "  'political figure',\n",
       "  'polit.',\n",
       "  'pol']}"
      ]
     },
     "execution_count": 6,
     "metadata": {},
     "output_type": "execute_result"
    }
   ],
   "source": [
    "data[0]"
   ]
  },
  {
   "cell_type": "code",
   "execution_count": 7,
   "metadata": {},
   "outputs": [],
   "source": [
    "for filename in files:\n",
    "    with open(filename,'r') as f:\n",
    "        data_results = json.load(f)\n",
    "        \n",
    "        new_data_results = []\n",
    "\n",
    "        for i,item in enumerate(data_results):\n",
    "            question = item['question']\n",
    "            output = item['model_output']\n",
    "            sub_ans = data[i]['sub_answer']\n",
    "            \n",
    "            new_data_results.append({\n",
    "                \"question\": question,\n",
    "                \"model_output\": output,\n",
    "                \"sub_answer\": sub_ans\n",
    "            })\n",
    "        \n",
    "        with open(\"scorable_\"+filename,'w') as f:\n",
    "            json.dump(new_data_results,f)"
   ]
  },
  {
   "cell_type": "code",
   "execution_count": null,
   "metadata": {},
   "outputs": [],
   "source": []
  }
 ],
 "metadata": {
  "kernelspec": {
   "display_name": "Python 3 (ipykernel)",
   "language": "python",
   "name": "python3"
  },
  "language_info": {
   "codemirror_mode": {
    "name": "ipython",
    "version": 3
   },
   "file_extension": ".py",
   "mimetype": "text/x-python",
   "name": "python",
   "nbconvert_exporter": "python",
   "pygments_lexer": "ipython3",
   "version": "3.12.3"
  }
 },
 "nbformat": 4,
 "nbformat_minor": 4
}
