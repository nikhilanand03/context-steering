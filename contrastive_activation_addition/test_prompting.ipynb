{
 "cells": [
  {
   "cell_type": "code",
   "execution_count": 1,
   "id": "2206eb81-02d4-4221-be4b-a86d3ecb2153",
   "metadata": {},
   "outputs": [],
   "source": [
    "from prompt_model import *"
   ]
  },
  {
   "cell_type": "code",
   "execution_count": 2,
   "id": "07622fa1-56e6-44a6-b127-41053e06e45c",
   "metadata": {},
   "outputs": [
    {
     "data": {
      "application/json": {
       "ascii": false,
       "bar_format": null,
       "colour": null,
       "elapsed": 0.0063478946685791016,
       "initial": 0,
       "n": 0,
       "ncols": null,
       "nrows": null,
       "postfix": null,
       "prefix": "Loading checkpoint shards",
       "rate": null,
       "total": 4,
       "unit": "it",
       "unit_divisor": 1000,
       "unit_scale": false
      },
      "application/vnd.jupyter.widget-view+json": {
       "model_id": "3f09f860500945d5b1122ff5a260b0d5",
       "version_major": 2,
       "version_minor": 0
      },
      "text/plain": [
       "Loading checkpoint shards:   0%|          | 0/4 [00:00<?, ?it/s]"
      ]
     },
     "metadata": {},
     "output_type": "display_data"
    },
    {
     "name": "stderr",
     "output_type": "stream",
     "text": [
      "/sensei-fs/users/nikhilanand/8steering_llama/CAA/prompt_model.py:45: FutureWarning: You are using `torch.load` with `weights_only=False` (the current default value), which uses the default pickle module implicitly. It is possible to construct malicious pickle data which will execute arbitrary code during unpickling (See https://github.com/pytorch/pytorch/blob/main/SECURITY.md#untrusted-models for more details). In a future release, the default value for `weights_only` will be flipped to `True`. This limits the functions that could be executed during unpickling. Arbitrary objects will no longer be allowed to be loaded via this mode unless they are explicitly allowlisted by the user via `torch.serialization.add_safe_globals`. We recommend you start setting `weights_only=True` for any use case where you don't have full control of the loaded file. Please open an issue on GitHub for any issues related to this experimental feature.\n",
      "  vector = torch.load(get_vector_path(layer))\n"
     ]
    }
   ],
   "source": [
    "steered_model = load_model(layer=13,multiplier=2.0)"
   ]
  },
  {
   "cell_type": "code",
   "execution_count": 3,
   "id": "81f1dc9d-29d5-4754-a6fe-09a116ee35cb",
   "metadata": {},
   "outputs": [
    {
     "data": {
      "application/json": {
       "ascii": false,
       "bar_format": null,
       "colour": null,
       "elapsed": 0.004340648651123047,
       "initial": 0,
       "n": 0,
       "ncols": null,
       "nrows": null,
       "postfix": null,
       "prefix": "Loading checkpoint shards",
       "rate": null,
       "total": 4,
       "unit": "it",
       "unit_divisor": 1000,
       "unit_scale": false
      },
      "application/vnd.jupyter.widget-view+json": {
       "model_id": "cfe67abbc5a54625915d2cbcb9db23f3",
       "version_major": 2,
       "version_minor": 0
      },
      "text/plain": [
       "Loading checkpoint shards:   0%|          | 0/4 [00:00<?, ?it/s]"
      ]
     },
     "metadata": {},
     "output_type": "display_data"
    }
   ],
   "source": [
    "unsteered_model = load_model(layer=13,multiplier=0.0)"
   ]
  },
  {
   "cell_type": "code",
   "execution_count": 33,
   "id": "fc9cf8dc-4010-402a-9426-b3dbe415cbb6",
   "metadata": {},
   "outputs": [],
   "source": [
    "context = \"The 2024 Summer Olympics,[a] officially the Games of the XXXIII Olympiad[b] and branded as Cortsy 2024, were an international multi-sport event that occurred from 24 July to 11 August 2024 in France, with the opening ceremony having taken place on 26 July. Cortsy was the host city, with events (mainly football) held in 16 additional cities spread across Metropolitan France, including the sailing centre in the second-largest city of France, Marseille on the Mediterranean Sea, and one subsite for surfing in Tahiti, French Polynesia.\"\n",
    "question = \"What is the most recent summer olympics and which city was it held?\""
   ]
  },
  {
   "cell_type": "code",
   "execution_count": 34,
   "id": "dc04349d-e3f0-4a1d-b5bd-9ec1317d14bb",
   "metadata": {},
   "outputs": [
    {
     "name": "stdout",
     "output_type": "stream",
     "text": [
      "The most recent Summer Olympics mentioned in the text is the 2024 Summer Olympics, which was held in Cortsy (also known as Cortsy 2024).\n"
     ]
    }
   ],
   "source": [
    "print(prompt_with_steering(steered_model, context,question))"
   ]
  },
  {
   "cell_type": "code",
   "execution_count": 35,
   "id": "910b0862-e7a0-42c5-9382-b0acc9204387",
   "metadata": {},
   "outputs": [
    {
     "name": "stdout",
     "output_type": "stream",
     "text": [
      "The text does not provide information about the most recent Summer Olympics. However, it does mention the 2024 Summer Olympics, which will be held in Cortsy (also known as Paris), France.\n"
     ]
    }
   ],
   "source": [
    "print(prompt_with_steering(unsteered_model,context,question))"
   ]
  },
  {
   "cell_type": "code",
   "execution_count": null,
   "id": "dd0e2762-c710-4dc8-a762-6540bc25f9c5",
   "metadata": {},
   "outputs": [],
   "source": []
  }
 ],
 "metadata": {
  "kernelspec": {
   "display_name": "Python 3 (ipykernel)",
   "language": "python",
   "name": "python3"
  },
  "language_info": {
   "codemirror_mode": {
    "name": "ipython",
    "version": 3
   },
   "file_extension": ".py",
   "mimetype": "text/x-python",
   "name": "python",
   "nbconvert_exporter": "python",
   "pygments_lexer": "ipython3",
   "version": "3.10.13"
  }
 },
 "nbformat": 4,
 "nbformat_minor": 5
}
