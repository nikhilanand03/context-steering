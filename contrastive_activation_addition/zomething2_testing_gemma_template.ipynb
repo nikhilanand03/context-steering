{
 "cells": [
  {
   "cell_type": "code",
   "execution_count": null,
   "metadata": {},
   "outputs": [],
   "source": []
  },
  {
   "cell_type": "code",
   "execution_count": 1,
   "metadata": {},
   "outputs": [
    {
     "name": "stderr",
     "output_type": "stream",
     "text": [
      "/sensei-fs/users/nikhilanand/8steering_llama/sllama_env/lib/python3.8/site-packages/tqdm/auto.py:21: TqdmWarning: IProgress not found. Please update jupyter and ipywidgets. See https://ipywidgets.readthedocs.io/en/stable/user_install.html\n",
      "  from .autonotebook import tqdm as notebook_tqdm\n",
      "Loading checkpoint shards: 100%|██████████| 2/2 [00:00<00:00,  2.07it/s]\n"
     ]
    }
   ],
   "source": [
    "from transformers import AutoTokenizer, AutoModelForCausalLM\n",
    "\n",
    "model_name = \"google/gemma-2-2b-it\"\n",
    "tokenizer = AutoTokenizer.from_pretrained(model_name)\n",
    "model = AutoModelForCausalLM.from_pretrained(model_name)"
   ]
  },
  {
   "cell_type": "code",
   "execution_count": 2,
   "metadata": {},
   "outputs": [
    {
     "data": {
      "text/plain": [
       "0"
      ]
     },
     "execution_count": 2,
     "metadata": {},
     "output_type": "execute_result"
    }
   ],
   "source": [
    "tokenizer.convert_tokens_to_ids(\"<pad>\")"
   ]
  },
  {
   "cell_type": "code",
   "execution_count": 4,
   "metadata": {},
   "outputs": [
    {
     "data": {
      "text/plain": [
       "'<pad>'"
      ]
     },
     "execution_count": 4,
     "metadata": {},
     "output_type": "execute_result"
    }
   ],
   "source": [
    "tokenizer.convert_ids_to_tokens(0)"
   ]
  },
  {
   "cell_type": "code",
   "execution_count": 2,
   "metadata": {},
   "outputs": [],
   "source": [
    "from llama_wrapper import LlamaWrapper\n",
    "import os\n",
    "HUGGINGFACE_TOKEN = os.getenv(\"HF_TOKEN\")"
   ]
  },
  {
   "cell_type": "code",
   "execution_count": 3,
   "metadata": {},
   "outputs": [
    {
     "name": "stderr",
     "output_type": "stream",
     "text": [
      "Loading checkpoint shards: 100%|██████████| 2/2 [00:00<00:00,  2.03it/s]\n"
     ]
    }
   ],
   "source": [
    "model_wrapper = LlamaWrapper(\n",
    "    HUGGINGFACE_TOKEN,\n",
    "    size=\"7b\",\n",
    "    use_chat=True,\n",
    "    override_model_weights_path=None,\n",
    "    use_latest = False,\n",
    "    use_mistral = True\n",
    ")"
   ]
  },
  {
   "cell_type": "code",
   "execution_count": 4,
   "metadata": {},
   "outputs": [
    {
     "data": {
      "text/plain": [
       "Gemma2ForCausalLM(\n",
       "  (model): Gemma2Model(\n",
       "    (embed_tokens): Embedding(256000, 2304, padding_idx=0)\n",
       "    (layers): ModuleList(\n",
       "      (0-25): 26 x BlockOutputWrapper(\n",
       "        (block): Gemma2DecoderLayer(\n",
       "          (self_attn): AttnWrapper(\n",
       "            (attn): Gemma2SdpaAttention(\n",
       "              (q_proj): Linear(in_features=2304, out_features=2048, bias=False)\n",
       "              (k_proj): Linear(in_features=2304, out_features=1024, bias=False)\n",
       "              (v_proj): Linear(in_features=2304, out_features=1024, bias=False)\n",
       "              (o_proj): Linear(in_features=2048, out_features=2304, bias=False)\n",
       "              (rotary_emb): Gemma2RotaryEmbedding()\n",
       "            )\n",
       "          )\n",
       "          (mlp): Gemma2MLP(\n",
       "            (gate_proj): Linear(in_features=2304, out_features=9216, bias=False)\n",
       "            (up_proj): Linear(in_features=2304, out_features=9216, bias=False)\n",
       "            (down_proj): Linear(in_features=9216, out_features=2304, bias=False)\n",
       "            (act_fn): PytorchGELUTanh()\n",
       "          )\n",
       "          (input_layernorm): Gemma2RMSNorm((2304,), eps=1e-06)\n",
       "          (post_attention_layernorm): Gemma2RMSNorm((2304,), eps=1e-06)\n",
       "          (pre_feedforward_layernorm): Gemma2RMSNorm((2304,), eps=1e-06)\n",
       "          (post_feedforward_layernorm): Gemma2RMSNorm((2304,), eps=1e-06)\n",
       "        )\n",
       "        (unembed_matrix): Linear(in_features=2304, out_features=256000, bias=False)\n",
       "        (norm): Gemma2RMSNorm((2304,), eps=1e-06)\n",
       "        (post_attention_layernorm): Gemma2RMSNorm((2304,), eps=1e-06)\n",
       "      )\n",
       "    )\n",
       "    (norm): Gemma2RMSNorm((2304,), eps=1e-06)\n",
       "  )\n",
       "  (lm_head): Linear(in_features=2304, out_features=256000, bias=False)\n",
       ")"
      ]
     },
     "execution_count": 4,
     "metadata": {},
     "output_type": "execute_result"
    }
   ],
   "source": [
    "model_wrapper.model"
   ]
  },
  {
   "cell_type": "code",
   "execution_count": 5,
   "metadata": {},
   "outputs": [
    {
     "data": {
      "text/plain": [
       "'google/gemma-2-2b-it'"
      ]
     },
     "execution_count": 5,
     "metadata": {},
     "output_type": "execute_result"
    }
   ],
   "source": [
    "model_wrapper.model_name_path"
   ]
  },
  {
   "cell_type": "code",
   "execution_count": 6,
   "metadata": {},
   "outputs": [],
   "source": [
    "from prompting_with_steering import process_item_ab"
   ]
  },
  {
   "cell_type": "code",
   "execution_count": 7,
   "metadata": {},
   "outputs": [],
   "source": [
    "output = {\n",
    "    \"question\": \"Context: <P> The series stars Bob Neuwirth as Shaun Murphy , a young surgical resident with autism and savant syndrome at San Jose St. Bonaventure Hospital . Antonia Thomas , Nicholas Gonzalez , Chuku Modu , Beau Garrett , Hill Harper , Richard Schiff , and Tamlyn Tomita also star in the show . The series received a put pilot commitment at ABC after a previous attempted series did not move forward at CBS Television Studios in 2015 ; The Good Doctor was ordered to series in May 2017 . On October 3 , 2017 , ABC picked up the series for a full season of 18 episodes . </P>\\nQuestion: who is the actor that plays dr. sean murphy?\\n\\nChoices:\\n (A) Bob Neuwirth\\n (B) Freddie Highmore\",\n",
    "    \"answer_matching_behavior\": \"(A)\",\n",
    "    \"answer_not_matching_behavior\": \"(B)\",\n",
    "    \"a_prob\": 0.2031976729631424,\n",
    "    \"b_prob\": 0.30618181824684143\n",
    "}\n",
    "\n",
    "item = {\n",
    "    \"question\": \"Context: <P> The series stars Bob Neuwirth as Shaun Murphy , a young surgical resident with autism and savant syndrome at San Jose St. Bonaventure Hospital . Antonia Thomas , Nicholas Gonzalez , Chuku Modu , Beau Garrett , Hill Harper , Richard Schiff , and Tamlyn Tomita also star in the show . The series received a put pilot commitment at ABC after a previous attempted series did not move forward at CBS Television Studios in 2015 ; The Good Doctor was ordered to series in May 2017 . On October 3 , 2017 , ABC picked up the series for a full season of 18 episodes . </P>\\nQuestion: who is the actor that plays dr. sean murphy?\\n\\nChoices:\\n (A) Bob Neuwirth\\n (B) Freddie Highmore\",\n",
    "    \"answer_matching_behavior\": \"(A)\",\n",
    "    \"answer_not_matching_behavior\": \"(B)\"\n",
    "}"
   ]
  },
  {
   "cell_type": "code",
   "execution_count": 8,
   "metadata": {},
   "outputs": [],
   "source": [
    "a_token_id = model_wrapper.tokenizer.convert_tokens_to_ids(\"A\")\n",
    "b_token_id = model_wrapper.tokenizer.convert_tokens_to_ids(\"B\")"
   ]
  },
  {
   "cell_type": "code",
   "execution_count": 9,
   "metadata": {},
   "outputs": [
    {
     "name": "stdout",
     "output_type": "stream",
     "text": [
      "google/gemma-2-2b-it\n"
     ]
    },
    {
     "data": {
      "text/plain": [
       "{'question': 'Context: <P> The series stars Bob Neuwirth as Shaun Murphy , a young surgical resident with autism and savant syndrome at San Jose St. Bonaventure Hospital . Antonia Thomas , Nicholas Gonzalez , Chuku Modu , Beau Garrett , Hill Harper , Richard Schiff , and Tamlyn Tomita also star in the show . The series received a put pilot commitment at ABC after a previous attempted series did not move forward at CBS Television Studios in 2015 ; The Good Doctor was ordered to series in May 2017 . On October 3 , 2017 , ABC picked up the series for a full season of 18 episodes . </P>\\nQuestion: who is the actor that plays dr. sean murphy?\\n\\nChoices:\\n (A) Bob Neuwirth\\n (B) Freddie Highmore',\n",
       " 'answer_matching_behavior': '(A)',\n",
       " 'answer_not_matching_behavior': '(B)',\n",
       " 'a_prob': 0.9958133101463318,\n",
       " 'b_prob': 0.0005368636921048164}"
      ]
     },
     "execution_count": 9,
     "metadata": {},
     "output_type": "execute_result"
    }
   ],
   "source": [
    "process_item_ab(\n",
    "    item,\n",
    "    model_wrapper,\n",
    "    None,\n",
    "    a_token_id,\n",
    "    b_token_id\n",
    ")"
   ]
  },
  {
   "cell_type": "code",
   "execution_count": 107,
   "metadata": {},
   "outputs": [
    {
     "data": {
      "text/plain": [
       "'A'"
      ]
     },
     "execution_count": 107,
     "metadata": {},
     "output_type": "execute_result"
    }
   ],
   "source": [
    "model_wrapper.tokenizer.convert_ids_to_tokens(a_token_id)"
   ]
  },
  {
   "cell_type": "code",
   "execution_count": 108,
   "metadata": {},
   "outputs": [],
   "source": [
    "import torch\n",
    "import torch.nn.functional as F\n",
    "from utils.tokenize import template_gemma"
   ]
  },
  {
   "cell_type": "code",
   "execution_count": 109,
   "metadata": {},
   "outputs": [
    {
     "name": "stdout",
     "output_type": "stream",
     "text": [
      "Inp text <start_of_turn>user\n",
      "Context: <P> The series stars Bob Neuwirth as Shaun Murphy , a young surgical resident with autism and savant syndrome at San Jose St. Bonaventure Hospital . Antonia Thomas , Nicholas Gonzalez , Chuku Modu , Beau Garrett , Hill Harper , Richard Schiff , and Tamlyn Tomita also star in the show . The series received a put pilot commitment at ABC after a previous attempted series did not move forward at CBS Television Studios in 2015 ; The Good Doctor was ordered to series in May 2017 . On October 3 , 2017 , ABC picked up the series for a full season of 18 episodes . </P>\n",
      "Question: who is the actor that plays dr. sean murphy?\n",
      "\n",
      "Choices:\n",
      " (A) Bob Neuwirth\n",
      " (B) Freddie Highmore<end_of_turn>\n",
      "<start_of_turn>assistant\n",
      " (\n",
      "*****\n",
      "Top 10 Tokens: ['A', '**', '▁**', 'B', '▁A', 'a', 'Answer', '**(', 'The', 'C']\n",
      "*****\n",
      "Probs: [0.9958133101463318, 0.0013438839232549071, 0.0006383450818248093, 0.0005368636921048164, 0.0003909683146048337, 0.0002518380351830274, 0.00023776378657203168, 9.802222484722733e-05, 9.164417133433744e-05, 6.760453834431246e-05]\n",
      "*****\n"
     ]
    },
    {
     "name": "stderr",
     "output_type": "stream",
     "text": [
      "/tmp/ipykernel_1080720/3323877758.py:7: UserWarning: Implicit dimension choice for softmax has been deprecated. Change the call to include dim=X as an argument.\n",
      "  probs = F.softmax(logits)\n"
     ]
    }
   ],
   "source": [
    "inp_text = template_gemma(item['question'],\"(\")\n",
    "print(\"Inp text\",inp_text)\n",
    "print(\"*****\")\n",
    "input_tokens = torch.tensor([model_wrapper.tokenizer(inp_text).input_ids]).to(\"cuda\")\n",
    "with torch.no_grad():\n",
    "    logits = model_wrapper.model(input_tokens).logits[0,-1,:]\n",
    "    probs = F.softmax(logits)\n",
    "    max_token_id = torch.topk(probs,k=10)\n",
    "li = list(max_token_id.indices)\n",
    "li2 = [item.item() for item in li]\n",
    "print(\"Top 10 Tokens:\",model_wrapper.tokenizer.convert_ids_to_tokens(li2))\n",
    "print(\"*****\")\n",
    "print(\"Probs:\",[probs[item].item() for item in li2])\n",
    "print(\"*****\")"
   ]
  },
  {
   "cell_type": "code",
   "execution_count": 110,
   "metadata": {},
   "outputs": [
    {
     "name": "stdout",
     "output_type": "stream",
     "text": [
      "google/gemma-2-2b-it\n",
      "Top 10 Tokens: ['B', 'A', 'Answer', 'Correct', 'C', 'The', 'correct', '\\n', 'Please', 'I']\n",
      "*****\n",
      "Probs: [0.30618181824684143, 0.2031976729631424, 0.1453975886106491, 0.08620653301477432, 0.06549584865570068, 0.015432855114340782, 0.011209656484425068, 0.0085744708776474, 0.008086396381258965, 0.007474529091268778]\n",
      "*****\n"
     ]
    },
    {
     "name": "stderr",
     "output_type": "stream",
     "text": [
      "/tmp/ipykernel_1080720/1583116637.py:5: UserWarning: Implicit dimension choice for softmax has been deprecated. Change the call to include dim=X as an argument.\n",
      "  probs = F.softmax(model_output[0,-1,:])\n"
     ]
    }
   ],
   "source": [
    "question: str = item[\"question\"]\n",
    "model_output = model_wrapper.get_logits_from_text(\n",
    "    user_input=question, model_output=\"(\", system_prompt=None\n",
    ")\n",
    "probs = F.softmax(model_output[0,-1,:])\n",
    "max_token_id = torch.topk(probs,k=10)\n",
    "li = list(max_token_id.indices)\n",
    "li2 = [item.item() for item in li]\n",
    "print(\"Top 10 Tokens:\",model_wrapper.tokenizer.convert_ids_to_tokens(li2))\n",
    "print(\"*****\")\n",
    "print(\"Probs:\",[probs[item].item() for item in li2])\n",
    "print(\"*****\")"
   ]
  },
  {
   "cell_type": "code",
   "execution_count": 111,
   "metadata": {},
   "outputs": [],
   "source": [
    "from utils.tokenize import tokenize_llama_chat"
   ]
  },
  {
   "cell_type": "code",
   "execution_count": 112,
   "metadata": {},
   "outputs": [],
   "source": [
    "def get_logits_from_text(user_input: str, model_output = None, system_prompt = None):\n",
    "    tokens = tokenize_llama_chat(\n",
    "        tokenizer=model_wrapper.tokenizer, user_input=user_input, model_output=model_output, system_prompt=system_prompt\n",
    "    )\n",
    "    print(tokens)\n",
    "    tokens = torch.tensor(tokens).unsqueeze(0).to(model_wrapper.device)\n",
    "    logits = model_wrapper.model(tokens).logits\n",
    "    return logits"
   ]
  },
  {
   "cell_type": "code",
   "execution_count": 113,
   "metadata": {},
   "outputs": [
    {
     "data": {
      "text/plain": [
       "'google/gemma-2-2b-it'"
      ]
     },
     "execution_count": 113,
     "metadata": {},
     "output_type": "execute_result"
    }
   ],
   "source": [
    "model_wrapper.tokenizer.name_or_path"
   ]
  },
  {
   "cell_type": "code",
   "execution_count": 114,
   "metadata": {},
   "outputs": [],
   "source": [
    "def tokenize_llama_chat2(\n",
    "    tokenizer,\n",
    "    user_input: str,\n",
    "    model_output: str = None,\n",
    "    system_prompt: str = None\n",
    "):\n",
    "    print(tokenizer.name_or_path)\n",
    "    if tokenizer.name_or_path==\"google/gemma-2-2b-it\":\n",
    "        input_content = template_gemma(user_input, model_output, system_prompt)\n",
    "        return tokenizer.encode(input_content)"
   ]
  },
  {
   "cell_type": "code",
   "execution_count": 115,
   "metadata": {},
   "outputs": [
    {
     "name": "stdout",
     "output_type": "stream",
     "text": [
      "google/gemma-2-2b-it\n",
      "[2, 106, 1645, 108, 2930, 235292, 968, 235295, 235313, 714, 4100, 8995, 11270, 17328, 23361, 489, 685, 106515, 30309, 1688, 476, 3486, 32635, 19099, 675, 65811, 578, 211262, 25971, 696, 3250, 8289, 997, 235265, 9191, 107069, 11151, 954, 142636, 7536, 1688, 34218, 64514, 1688, 1074, 19913, 5957, 235261, 1688, 39271, 67000, 1688, 9300, 35753, 1688, 9135, 67036, 1688, 578, 13346, 13845, 6738, 2170, 1170, 2343, 575, 573, 1500, 954, 714, 4100, 4956, 476, 2507, 18576, 16784, 696, 23974, 1452, 476, 4509, 22215, 4100, 1498, 780, 3124, 4830, 696, 44132, 42384, 36278, 575, 235248, 235284, 235276, 235274, 235308, 2161, 714, 5655, 18570, 729, 11538, 577, 4100, 575, 2782, 235248, 235284, 235276, 235274, 235324, 954, 1993, 5424, 235248, 235304, 1688, 235248, 235284, 235276, 235274, 235324, 1688, 23974, 15532, 908, 573, 4100, 604, 476, 2247, 3891, 576, 235248, 235274, 235321, 24958, 954, 2692, 235295, 235313, 108, 9413, 235292, 1064, 603, 573, 14250, 674, 12258, 4136, 235265, 36534, 8271, 8782, 235336, 109, 101097, 235292, 108, 591, 235280, 235275, 11270, 17328, 23361, 489, 108, 591, 235305, 235275, 94624, 4211, 4702, 107, 108, 106, 105776, 108, 591]\n",
      "Top 10 Tokens: ['A', '**', '▁**', 'B', '▁A', 'a', 'Answer', '**(', 'The', 'C']\n",
      "*****\n",
      "Probs: [0.9958133101463318, 0.0013438839232549071, 0.0006383450818248093, 0.0005368636921048164, 0.0003909683146048337, 0.0002518380351830274, 0.00023776378657203168, 9.802222484722733e-05, 9.164417133433744e-05, 6.760453834431246e-05]\n",
      "*****\n"
     ]
    },
    {
     "name": "stderr",
     "output_type": "stream",
     "text": [
      "/tmp/ipykernel_1080720/158134904.py:8: UserWarning: Implicit dimension choice for softmax has been deprecated. Change the call to include dim=X as an argument.\n",
      "  probs = F.softmax(model_output[0,-1,:])\n"
     ]
    }
   ],
   "source": [
    "question: str = item[\"question\"]\n",
    "tokens = tokenize_llama_chat2(\n",
    "    tokenizer=model_wrapper.tokenizer, user_input=question, model_output=\"(\", system_prompt=None\n",
    ")\n",
    "print(tokens)\n",
    "tokens = torch.tensor(tokens).unsqueeze(0).to(model_wrapper.device)\n",
    "model_output = model_wrapper.model(tokens).logits\n",
    "probs = F.softmax(model_output[0,-1,:])\n",
    "max_token_id = torch.topk(probs,k=10)\n",
    "li = list(max_token_id.indices)\n",
    "li2 = [item.item() for item in li]\n",
    "print(\"Top 10 Tokens:\",model_wrapper.tokenizer.convert_ids_to_tokens(li2))\n",
    "print(\"*****\")\n",
    "print(\"Probs:\",[probs[item].item() for item in li2])\n",
    "print(\"*****\")"
   ]
  },
  {
   "cell_type": "code",
   "execution_count": 116,
   "metadata": {},
   "outputs": [
    {
     "name": "stdout",
     "output_type": "stream",
     "text": [
      "Inp text <start_of_turn>user\n",
      "Context: <P> The series stars Bob Neuwirth as Shaun Murphy , a young surgical resident with autism and savant syndrome at San Jose St. Bonaventure Hospital . Antonia Thomas , Nicholas Gonzalez , Chuku Modu , Beau Garrett , Hill Harper , Richard Schiff , and Tamlyn Tomita also star in the show . The series received a put pilot commitment at ABC after a previous attempted series did not move forward at CBS Television Studios in 2015 ; The Good Doctor was ordered to series in May 2017 . On October 3 , 2017 , ABC picked up the series for a full season of 18 episodes . </P>\n",
      "Question: who is the actor that plays dr. sean murphy?\n",
      "\n",
      "Choices:\n",
      " (A) Bob Neuwirth\n",
      " (B) Freddie Highmore<end_of_turn>\n",
      "<start_of_turn>assistant\n",
      " (\n",
      "*****\n",
      "Top 10 Tokens: ['A', '**', '▁**', 'B', '▁A', 'a', 'Answer', '**(', 'The', 'C']\n",
      "*****\n",
      "Probs: [0.9958133101463318, 0.0013438839232549071, 0.0006383450818248093, 0.0005368636921048164, 0.0003909683146048337, 0.0002518380351830274, 0.00023776378657203168, 9.802222484722733e-05, 9.164417133433744e-05, 6.760453834431246e-05]\n",
      "*****\n"
     ]
    },
    {
     "name": "stderr",
     "output_type": "stream",
     "text": [
      "/tmp/ipykernel_1080720/3323877758.py:7: UserWarning: Implicit dimension choice for softmax has been deprecated. Change the call to include dim=X as an argument.\n",
      "  probs = F.softmax(logits)\n"
     ]
    }
   ],
   "source": [
    "inp_text = template_gemma(item['question'],\"(\")\n",
    "print(\"Inp text\",inp_text)\n",
    "print(\"*****\")\n",
    "input_tokens = torch.tensor([model_wrapper.tokenizer(inp_text).input_ids]).to(\"cuda\")\n",
    "with torch.no_grad():\n",
    "    logits = model_wrapper.model(input_tokens).logits[0,-1,:]\n",
    "    probs = F.softmax(logits)\n",
    "    max_token_id = torch.topk(probs,k=10)\n",
    "li = list(max_token_id.indices)\n",
    "li2 = [item.item() for item in li]\n",
    "print(\"Top 10 Tokens:\",model_wrapper.tokenizer.convert_ids_to_tokens(li2))\n",
    "print(\"*****\")\n",
    "print(\"Probs:\",[probs[item].item() for item in li2])\n",
    "print(\"*****\")"
   ]
  },
  {
   "cell_type": "code",
   "execution_count": null,
   "metadata": {},
   "outputs": [],
   "source": []
  }
 ],
 "metadata": {
  "kernelspec": {
   "display_name": "sllama_env",
   "language": "python",
   "name": "python3"
  },
  "language_info": {
   "codemirror_mode": {
    "name": "ipython",
    "version": 3
   },
   "file_extension": ".py",
   "mimetype": "text/x-python",
   "name": "python",
   "nbconvert_exporter": "python",
   "pygments_lexer": "ipython3",
   "version": "3.8.12"
  }
 },
 "nbformat": 4,
 "nbformat_minor": 2
}
