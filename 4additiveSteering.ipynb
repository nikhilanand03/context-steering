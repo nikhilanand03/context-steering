{
 "cells": [
  {
   "cell_type": "code",
   "execution_count": 1,
   "id": "e0c2ef30-e450-466d-9564-932d0fe7991f",
   "metadata": {},
   "outputs": [],
   "source": [
    "from classes.common_methods import *\n",
    "from classes.Steerer import Steerer"
   ]
  },
  {
   "cell_type": "code",
   "execution_count": 19,
   "id": "353967ad-7e29-4dbd-b804-b812d86e772a",
   "metadata": {},
   "outputs": [],
   "source": [
    "steerer = Steerer(\"Anger\",\"Calm\",\"left\",\"openai-community/gpt2-xl\")"
   ]
  },
  {
   "cell_type": "code",
   "execution_count": 20,
   "id": "2c538982-3cfe-4942-87ed-ae911cf7c317",
   "metadata": {},
   "outputs": [
    {
     "data": {
      "text/plain": [
       "('Anger', 'Calm')"
      ]
     },
     "execution_count": 20,
     "metadata": {},
     "output_type": "execute_result"
    }
   ],
   "source": [
    "steerer.p_plus,steerer.p_minus"
   ]
  },
  {
   "cell_type": "code",
   "execution_count": 21,
   "id": "fc4cef82-ac68-498d-b852-9211304bd9c4",
   "metadata": {},
   "outputs": [
    {
     "name": "stdout",
     "output_type": "stream",
     "text": [
      "Layer 20 hook registered:  <function Steerer.__get_hook.<locals>.hook at 0x7fd8e029d090>\n"
     ]
    }
   ],
   "source": [
    "steerer.register_hook()"
   ]
  },
  {
   "cell_type": "code",
   "execution_count": 22,
   "id": "440db563-e1d7-4dd6-8b42-219dfd3991c7",
   "metadata": {},
   "outputs": [
    {
     "name": "stdout",
     "output_type": "stream",
     "text": [
      "torch.Size([2, 2, 1600])\n",
      "torch.Size([2, 1600])\n"
     ]
    }
   ],
   "source": [
    "print(steerer.get_vec().shape) # Just to check that the steer_vec getting func returns the correct shape"
   ]
  },
  {
   "cell_type": "code",
   "execution_count": 23,
   "id": "d9a02789-ada4-4205-a458-b8330d196585",
   "metadata": {
    "scrolled": true
   },
   "outputs": [
    {
     "name": "stdout",
     "output_type": "stream",
     "text": [
      "torch.Size([2, 2, 1600])\n",
      "Prompt: I think you're a\n"
     ]
    },
    {
     "name": "stderr",
     "output_type": "stream",
     "text": [
      "100%|██████████| 100/100 [00:04<00:00, 23.91it/s]"
     ]
    },
    {
     "name": "stdout",
     "output_type": "stream",
     "text": [
      " little bit too young to be doing this,\" he said. \"I think you're a little bit too young to be doing this.\"\n",
      "\n",
      "\"I'm not a child,\" she said.\n",
      "\n",
      "\"I'm not a child,\" he said.\n",
      "\n",
      "\"I'm not a child,\" she said.\n",
      "\n",
      "\"I'm not a child,\" he said.\n",
      "\n",
      "\"I'm not a child,\" she said.\n",
      "\n",
      "\"I'm not a child,\" he said.\n",
      "\n"
     ]
    },
    {
     "name": "stderr",
     "output_type": "stream",
     "text": [
      "\n"
     ]
    }
   ],
   "source": [
    "steerer.steer_decoding(\"I think you're a\")"
   ]
  },
  {
   "cell_type": "markdown",
   "id": "119465ba-7ec9-4d91-8f45-0676f28ace4f",
   "metadata": {},
   "source": [
    "### Now towards the opposite direction."
   ]
  },
  {
   "cell_type": "code",
   "execution_count": 24,
   "id": "c1e7f1c2-0b49-479e-9bd3-ea135c482cdf",
   "metadata": {},
   "outputs": [
    {
     "data": {
      "text/plain": [
       "'right'"
      ]
     },
     "execution_count": 24,
     "metadata": {},
     "output_type": "execute_result"
    }
   ],
   "source": [
    "steerer.invert_direction()\n",
    "steerer.dirn"
   ]
  },
  {
   "cell_type": "code",
   "execution_count": 26,
   "id": "955926ce-4d9b-4ca0-866c-53d10b62a8f8",
   "metadata": {},
   "outputs": [
    {
     "name": "stdout",
     "output_type": "stream",
     "text": [
      "torch.Size([2, 2, 1600])\n",
      "Prompt: I think you're a\n"
     ]
    },
    {
     "name": "stderr",
     "output_type": "stream",
     "text": [
      "100%|██████████| 100/100 [00:04<00:00, 23.43it/s]"
     ]
    },
    {
     "name": "stdout",
     "output_type": "stream",
     "text": [
      " little bit too young to be doing this,\" he said. \"I think you're a little bit too young to be doing this.\"\n",
      "\n",
      "\"I'm not a child,\" she said.\n",
      "\n",
      "\"I'm not a child,\" he said.\n",
      "\n",
      "\"I'm not a child,\" she said.\n",
      "\n",
      "\"I'm not a child,\" he said.\n",
      "\n",
      "\"I'm not a child,\" she said.\n",
      "\n",
      "\"I'm not a child,\" he said.\n",
      "\n"
     ]
    },
    {
     "name": "stderr",
     "output_type": "stream",
     "text": [
      "\n"
     ]
    }
   ],
   "source": [
    "steerer.steer_decoding(\"I think you're a\")"
   ]
  },
  {
   "cell_type": "code",
   "execution_count": 28,
   "id": "3bdcae7e-aa7c-4d24-8aa6-a0c0b7278893",
   "metadata": {},
   "outputs": [
    {
     "name": "stdout",
     "output_type": "stream",
     "text": [
      "torch.Size([2, 2, 1600])\n",
      "Prompt: I think you're a\n"
     ]
    },
    {
     "name": "stderr",
     "output_type": "stream",
     "text": [
      "100%|██████████| 100/100 [00:04<00:00, 24.21it/s]"
     ]
    },
    {
     "name": "stdout",
     "output_type": "stream",
     "text": [
      " little bit too young to be doing this,\" he said.\n",
      "\n",
      "\"I'm not going to be doing this for the rest of my life. I'm going to be doing this for the rest of my life.\"\n",
      "\n",
      "The judge said he was satisfied that the boy had been \"very, very badly let down\" by his parents.\n",
      "\n",
      "\"I'm satisfied that you have been very, very badly let down by your parents,\" he said.\n",
      "\n",
      "\"I'm satisfied that you\n"
     ]
    },
    {
     "name": "stderr",
     "output_type": "stream",
     "text": [
      "\n"
     ]
    }
   ],
   "source": [
    "steerer.steer_decoding(\"I think you're a\",alpha=7.0)"
   ]
  },
  {
   "cell_type": "code",
   "execution_count": null,
   "id": "80f3984b-0523-4040-ad80-4ad4a44d8e51",
   "metadata": {},
   "outputs": [],
   "source": []
  }
 ],
 "metadata": {
  "kernelspec": {
   "display_name": "Python 3 (ipykernel)",
   "language": "python",
   "name": "python3"
  },
  "language_info": {
   "codemirror_mode": {
    "name": "ipython",
    "version": 3
   },
   "file_extension": ".py",
   "mimetype": "text/x-python",
   "name": "python",
   "nbconvert_exporter": "python",
   "pygments_lexer": "ipython3",
   "version": "3.10.13"
  }
 },
 "nbformat": 4,
 "nbformat_minor": 5
}
