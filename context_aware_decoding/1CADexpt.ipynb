{
 "cells": [
  {
   "cell_type": "code",
   "execution_count": 1,
   "id": "578f80ce-a896-4952-bca8-45425a5eaf10",
   "metadata": {},
   "outputs": [],
   "source": [
    "from tqdm import tqdm\n",
    "from classes.common_methods import *\n",
    "from classes.ContextDecoder import ContextDecoder"
   ]
  },
  {
   "cell_type": "code",
   "execution_count": 2,
   "id": "0fa2d492-c116-4fce-b082-60f90e5dbd49",
   "metadata": {},
   "outputs": [
    {
     "data": {
      "application/vnd.jupyter.widget-view+json": {
       "model_id": "42b6ee1c90b8425496f3dde5d6678586",
       "version_major": 2,
       "version_minor": 0
      },
      "text/plain": [
       "Loading checkpoint shards:   0%|          | 0/3 [00:00<?, ?it/s]"
      ]
     },
     "metadata": {},
     "output_type": "display_data"
    }
   ],
   "source": [
    "decoder = ContextDecoder(\"mistralai/Mistral-7B-Instruct-v0.2\")"
   ]
  },
  {
   "cell_type": "code",
   "execution_count": 3,
   "id": "9d33f13d-f404-427f-af77-5e28cb99a1ba",
   "metadata": {},
   "outputs": [],
   "source": [
    "# decoder.model, decoder.tokenizer"
   ]
  },
  {
   "cell_type": "code",
   "execution_count": 4,
   "id": "d1575908-c4f9-4764-992d-d2c38831865a",
   "metadata": {},
   "outputs": [],
   "source": [
    "context_inputs,plain_inputs,context_outputs = load_memotrap()"
   ]
  },
  {
   "cell_type": "code",
   "execution_count": 6,
   "id": "864e3b7d-9db1-4161-87cd-483f4fc73825",
   "metadata": {},
   "outputs": [
    {
     "name": "stdout",
     "output_type": "stream",
     "text": [
      "prompt:  Write a quote that ends in the word \"man\": All work and no play makes Jack a dull\n",
      "output:  boy\n"
     ]
    },
    {
     "name": "stderr",
     "output_type": "stream",
     "text": [
      "/home/user/nikhil/classes/ContextDecoder.py:29: UserWarning: Implicit dimension choice for softmax has been deprecated. Change the call to include dim=X as an argument.\n",
      "  last_token_probs = F.softmax(last_token_logits)\n"
     ]
    }
   ],
   "source": [
    "decoder.regular_decoding(context_inputs[196])"
   ]
  },
  {
   "cell_type": "code",
   "execution_count": 7,
   "id": "72e21fbf-834f-41c4-962b-aa5f59f9ba23",
   "metadata": {},
   "outputs": [
    {
     "name": "stdout",
     "output_type": "stream",
     "text": [
      "prompt:  Write a quote that ends in the word \"light\": Catch not at the shadow and lose the\n",
      "output:  fight\n"
     ]
    }
   ],
   "source": [
    "decoder.regular_decoding(context_inputs[25])"
   ]
  },
  {
   "cell_type": "markdown",
   "id": "ebe67afd-5828-413d-ab14-a8735cbad773",
   "metadata": {},
   "source": [
    "Once you get all the last token probabilities for the 215 sentences, you need to redo the experiment without the context sentence mentioning anything about the final word.\n",
    "\n",
    "Then for regular decoding, just get the greedy output from the \"with-context\" case.\n",
    "For context-aware decoding, use both probability distributions to generate a new distributions (a difference of the two), and get the greedy output of that.\n",
    "\n",
    "Compare RegD and CAD outputs with an accuracy based on the possible outputs to recreate the paper's results."
   ]
  },
  {
   "cell_type": "code",
   "execution_count": 8,
   "id": "3a5910b7-fb4a-45e1-8ee7-0b1bebe9d31a",
   "metadata": {},
   "outputs": [
    {
     "name": "stdout",
     "output_type": "stream",
     "text": [
      "prompt:  Write a quote that ends in the word \"man\": All work and no play makes Jack a dull\n",
      "output:  man\n"
     ]
    },
    {
     "name": "stderr",
     "output_type": "stream",
     "text": [
      "/home/user/nikhil/classes/ContextDecoder.py:66: UserWarning: Implicit dimension choice for softmax has been deprecated. Change the call to include dim=X as an argument.\n",
      "  net_prob = F.softmax(net_logits)\n"
     ]
    }
   ],
   "source": [
    "decoder.context_aware_decoding(context_inputs[196],plain_inputs[196])"
   ]
  },
  {
   "cell_type": "code",
   "execution_count": 9,
   "id": "211cfb76-ea1d-4253-b829-1f51d7315acf",
   "metadata": {},
   "outputs": [
    {
     "name": "stdout",
     "output_type": "stream",
     "text": [
      "***Context-Aware***\n",
      "prompt:  Write a quote that ends in the word \"man\": All work and no play makes Jack a dull\n",
      "output:  man\n",
      "\n",
      "***Regular***\n",
      "prompt:  Write a quote that ends in the word \"man\": All work and no play makes Jack a dull\n",
      "output:  boy\n"
     ]
    }
   ],
   "source": [
    "id = 196\n",
    "print(\"***Context-Aware***\")\n",
    "decoder.context_aware_decoding(context_inputs[id],plain_inputs[id])\n",
    "print(\"\\n***Regular***\")\n",
    "decoder.regular_decoding(context_inputs[id])"
   ]
  },
  {
   "cell_type": "code",
   "execution_count": 10,
   "id": "71102b58-8fe9-43f5-a036-cd99af52ff8a",
   "metadata": {},
   "outputs": [
    {
     "data": {
      "text/plain": [
       "'man'"
      ]
     },
     "execution_count": 10,
     "metadata": {},
     "output_type": "execute_result"
    }
   ],
   "source": [
    "# Without print statements\n",
    "decoder.context_aware_decoding(context_inputs[196],plain_inputs[196],debug=False)"
   ]
  },
  {
   "cell_type": "code",
   "execution_count": 11,
   "id": "f0a7b382-e61a-41d4-bc21-0a615e445da0",
   "metadata": {},
   "outputs": [
    {
     "data": {
      "text/plain": [
       "'boy'"
      ]
     },
     "execution_count": 11,
     "metadata": {},
     "output_type": "execute_result"
    }
   ],
   "source": [
    "decoder.regular_decoding(context_inputs[196],debug=False)"
   ]
  },
  {
   "cell_type": "markdown",
   "id": "087820cd-7ddb-4e58-8999-5e17f268af21",
   "metadata": {},
   "source": [
    "Now we must check the performance."
   ]
  },
  {
   "cell_type": "code",
   "execution_count": 12,
   "id": "83c02360-1796-4c85-b379-cf53b80961b4",
   "metadata": {},
   "outputs": [
    {
     "name": "stderr",
     "output_type": "stream",
     "text": [
      "100%|██████████| 215/215 [00:30<00:00,  7.06it/s]\n"
     ]
    }
   ],
   "source": [
    "n = 215\n",
    "reg_outs,cad_outs = [],[]\n",
    "\n",
    "for id in tqdm(range(n)):\n",
    "    out_reg = decoder.regular_decoding(context_inputs[id],debug=False)\n",
    "    out_cad = decoder.context_aware_decoding(context_inputs[id],plain_inputs[id],debug=False)\n",
    "\n",
    "    reg_outs.append(out_reg)\n",
    "    cad_outs.append(out_cad)"
   ]
  },
  {
   "cell_type": "code",
   "execution_count": 13,
   "id": "bcb1571c-92de-4b8f-b1c0-c572b8f746d1",
   "metadata": {},
   "outputs": [
    {
     "name": "stdout",
     "output_type": "stream",
     "text": [
      "Regular Decoding Correct: 18.13953488372093%\n",
      "Special Decoding Correct: 29.767441860465116%\n"
     ]
    },
    {
     "data": {
      "text/plain": [
       "[24,\n",
       " 47,\n",
       " 60,\n",
       " 63,\n",
       " 74,\n",
       " 82,\n",
       " 83,\n",
       " 98,\n",
       " 108,\n",
       " 111,\n",
       " 115,\n",
       " 119,\n",
       " 124,\n",
       " 158,\n",
       " 160,\n",
       " 162,\n",
       " 171,\n",
       " 177,\n",
       " 178,\n",
       " 182,\n",
       " 188,\n",
       " 195,\n",
       " 196,\n",
       " 201,\n",
       " 202,\n",
       " 211,\n",
       " 213]"
      ]
     },
     "execution_count": 13,
     "metadata": {},
     "output_type": "execute_result"
    }
   ],
   "source": [
    "get_accuracy(reg_outs,cad_outs,context_outputs)"
   ]
  },
  {
   "cell_type": "code",
   "execution_count": 14,
   "id": "c73c7607-b96c-43d4-a9a0-e4f7d7a52296",
   "metadata": {},
   "outputs": [],
   "source": [
    "# [18, 24, 47, 60, 63, 69, 70, 82, 83, 108, 111, 115, 119, 124, 125, 136, 158, 160, 162, 171, 178, 182, 195, 196, 201, 202, 211, 213]"
   ]
  },
  {
   "cell_type": "code",
   "execution_count": 15,
   "id": "6fa5af8c-9cfe-4095-9325-407ad834bb7e",
   "metadata": {},
   "outputs": [
    {
     "name": "stdout",
     "output_type": "stream",
     "text": [
      "***Context-Aware***\n",
      "prompt:  Write a quote that ends in the word \"followed\": Rules were meant to be\n",
      "output:  broken\n",
      "\n",
      "***Regular***\n",
      "prompt:  Write a quote that ends in the word \"followed\": Rules were meant to be\n",
      "output:  broken\n"
     ]
    }
   ],
   "source": [
    "id = 18\n",
    "print(\"***Context-Aware***\")\n",
    "decoder.context_aware_decoding(context_inputs[id],plain_inputs[id])\n",
    "print(\"\\n***Regular***\")\n",
    "decoder.regular_decoding(context_inputs[id])"
   ]
  },
  {
   "cell_type": "code",
   "execution_count": 16,
   "id": "10f76cb1-8a8e-4be0-a1fa-72c98fa2d1f3",
   "metadata": {},
   "outputs": [
    {
     "name": "stdout",
     "output_type": "stream",
     "text": [
      "***Context-Aware***\n",
      "prompt:  Write a quote that ends in the word \"own\": A son is a son 'till he gets him a wife; a daughter's a daughter all her\n",
      "output:  own\n",
      "\n",
      "***Regular***\n",
      "prompt:  Write a quote that ends in the word \"own\": A son is a son 'till he gets him a wife; a daughter's a daughter all her\n",
      "output:  life\n"
     ]
    }
   ],
   "source": [
    "id = 47\n",
    "print(\"***Context-Aware***\")\n",
    "decoder.context_aware_decoding(context_inputs[id],plain_inputs[id])\n",
    "print(\"\\n***Regular***\")\n",
    "decoder.regular_decoding(context_inputs[id])"
   ]
  },
  {
   "cell_type": "code",
   "execution_count": 17,
   "id": "213f0151-d739-4b7c-b4da-fe46310e5939",
   "metadata": {},
   "outputs": [
    {
     "name": "stdout",
     "output_type": "stream",
     "text": [
      "***Context-Aware***\n",
      "prompt:  Write a quote that ends in the word \"rock\": A drowning man will clutch at a\n",
      "output:  rock\n",
      "\n",
      "***Regular***\n",
      "prompt:  Write a quote that ends in the word \"rock\": A drowning man will clutch at a\n",
      "output:  straw\n"
     ]
    }
   ],
   "source": [
    "id = 60\n",
    "print(\"***Context-Aware***\")\n",
    "decoder.context_aware_decoding(context_inputs[id],plain_inputs[id])\n",
    "print(\"\\n***Regular***\")\n",
    "decoder.regular_decoding(context_inputs[id])"
   ]
  }
 ],
 "metadata": {
  "kernelspec": {
   "display_name": "Python 3 (ipykernel)",
   "language": "python",
   "name": "python3"
  },
  "language_info": {
   "codemirror_mode": {
    "name": "ipython",
    "version": 3
   },
   "file_extension": ".py",
   "mimetype": "text/x-python",
   "name": "python",
   "nbconvert_exporter": "python",
   "pygments_lexer": "ipython3",
   "version": "3.10.13"
  }
 },
 "nbformat": 4,
 "nbformat_minor": 5
}
