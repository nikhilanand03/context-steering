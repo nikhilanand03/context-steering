{
 "cells": [
  {
   "cell_type": "code",
   "execution_count": 108,
   "id": "bbeae507-7845-421f-9eba-8f5854c29f97",
   "metadata": {},
   "outputs": [],
   "source": [
    "from tqdm import tqdm\n",
    "from common_methods import *\n",
    "from context_decoder import ContextDecoder\n",
    "import os\n",
    "import json"
   ]
  },
  {
   "cell_type": "code",
   "execution_count": 109,
   "id": "028abdfd-6cdc-4457-9bfb-520649a5fa29",
   "metadata": {},
   "outputs": [
    {
     "data": {
      "application/vnd.jupyter.widget-view+json": {
       "model_id": "1ebc91ffbab4465fb12ee5ea21d1af3f",
       "version_major": 2,
       "version_minor": 0
      },
      "text/plain": [
       "Loading checkpoint shards:   0%|          | 0/3 [00:00<?, ?it/s]"
      ]
     },
     "metadata": {},
     "output_type": "display_data"
    }
   ],
   "source": [
    "decoder = ContextDecoder(\"mistralai/Mistral-7B-Instruct-v0.2\")"
   ]
  },
  {
   "cell_type": "code",
   "execution_count": 110,
   "id": "52903867-05ff-4fe9-a369-0ce5290d056f",
   "metadata": {},
   "outputs": [],
   "source": [
    "def load_data():\n",
    "    try:\n",
    "        with open(\"datasets/final_dataset.json\", 'r') as file:\n",
    "            data = json.load(file)\n",
    "    \n",
    "    except FileNotFoundError:\n",
    "        print(f\"Error: File not found at {file_path}\")\n",
    "    except json.JSONDecodeError:\n",
    "        print(f\"Error: Invalid JSON format in {file_path}\")\n",
    "    except Exception as e:\n",
    "        print(f\"An unexpected error occurred: {str(e)}\")\n",
    "        \n",
    "    return data"
   ]
  },
  {
   "cell_type": "code",
   "execution_count": 111,
   "id": "e9d17a88-667c-4165-8814-5eed3ef95f6d",
   "metadata": {},
   "outputs": [
    {
     "data": {
      "text/plain": [
       "dict_keys(['prompt', 'short_answers', 'long_answer'])"
      ]
     },
     "execution_count": 111,
     "metadata": {},
     "output_type": "execute_result"
    }
   ],
   "source": [
    "data[0].keys()"
   ]
  },
  {
   "cell_type": "code",
   "execution_count": 112,
   "id": "6919c75a-43c4-4ab8-825b-20cca6be7c7d",
   "metadata": {},
   "outputs": [],
   "source": [
    "def generate_completions(alpha=2.0,max_tokens=50):\n",
    "    data = load_data()\n",
    "    \n",
    "    for point in data:\n",
    "        prompt = point['prompt']\n",
    "        prompt_nc = prompt.split(\"\\n\\nQuestion: \")[-1]\n",
    "        \n",
    "        out_base = decoder.regular_decoding(prompt,max_tokens=max_tokens,debug=False,show_tqdm=True)\n",
    "        out_cad = decoder.context_aware_decoding(prompt,prompt_nc,alpha=alpha,max_tokens=max_tokens,debug=False,show_tqdm=True)\n",
    "\n",
    "        point['baseline_completion'] = out_base\n",
    "        point['cad_completion'] = out_cad\n",
    "        print(prompt_nc,point['short_answers'],out_cad,\"***\",out_base)\n",
    "\n",
    "    with open(\"runs/completions.json\", 'w', encoding='utf-8') as f:\n",
    "        json.dump(data, f, ensure_ascii=False, indent=4)"
   ]
  },
  {
   "cell_type": "code",
   "execution_count": 114,
   "id": "8da507ce-6ff2-4ecf-878a-7b50341bc225",
   "metadata": {},
   "outputs": [],
   "source": [
    "# generate_completions()"
   ]
  },
  {
   "cell_type": "code",
   "execution_count": null,
   "id": "10d77c35-803d-44a5-9691-715ffcc9e33a",
   "metadata": {},
   "outputs": [],
   "source": []
  }
 ],
 "metadata": {
  "kernelspec": {
   "display_name": "Python 3 (ipykernel)",
   "language": "python",
   "name": "python3"
  },
  "language_info": {
   "codemirror_mode": {
    "name": "ipython",
    "version": 3
   },
   "file_extension": ".py",
   "mimetype": "text/x-python",
   "name": "python",
   "nbconvert_exporter": "python",
   "pygments_lexer": "ipython3",
   "version": "3.10.13"
  }
 },
 "nbformat": 4,
 "nbformat_minor": 5
}
