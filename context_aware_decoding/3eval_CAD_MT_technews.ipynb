{
 "cells": [
  {
   "cell_type": "markdown",
   "id": "c59eb325-76a8-4f65-973b-3c61f656b1c6",
   "metadata": {},
   "source": [
    "### Evaluation"
   ]
  },
  {
   "cell_type": "markdown",
   "id": "506aaf55-65af-446d-9440-cf45716d52d8",
   "metadata": {},
   "source": [
    "- ROUGE score doesn't work. It's just not an effective comparison metric and doesn't reflect whether one follows the context more than another. It relies heavily on the way the sentence is framed and less on the actual facts present in the sentence.\n",
    "- Note that sentences can have multiple facts and we're not dealing with a single fact. Else we would've been able to just run NQ-SWAP and check equality of single-token/single-phrase outputs."
   ]
  },
  {
   "cell_type": "code",
   "execution_count": 1,
   "id": "ee95e28d-269c-4d8a-9e1f-bcbd43e81558",
   "metadata": {},
   "outputs": [
    {
     "name": "stderr",
     "output_type": "stream",
     "text": [
      "[nltk_data] Downloading package punkt to /home/user/nltk_data...\n",
      "[nltk_data]   Package punkt is already up-to-date!\n",
      "[nltk_data] Downloading package wordnet to /home/user/nltk_data...\n",
      "[nltk_data]   Package wordnet is already up-to-date!\n",
      "[nltk_data] Downloading package stopwords to /home/user/nltk_data...\n",
      "[nltk_data]   Package stopwords is already up-to-date!\n"
     ]
    }
   ],
   "source": [
    "from tqdm import tqdm\n",
    "from classes.common_methods import *\n",
    "from classes.ContextDecoder import ContextDecoder\n",
    "import os"
   ]
  },
  {
   "cell_type": "code",
   "execution_count": 2,
   "id": "e6abea2d-027e-4652-8e90-a9c5b69e2e71",
   "metadata": {},
   "outputs": [
    {
     "data": {
      "application/vnd.jupyter.widget-view+json": {
       "model_id": "31bba00d4589458ba2c3b71f9641906e",
       "version_major": 2,
       "version_minor": 0
      },
      "text/plain": [
       "Loading checkpoint shards:   0%|          | 0/3 [00:00<?, ?it/s]"
      ]
     },
     "metadata": {},
     "output_type": "display_data"
    }
   ],
   "source": [
    "decoder = ContextDecoder(\"mistralai/Mistral-7B-Instruct-v0.2\")"
   ]
  },
  {
   "cell_type": "code",
   "execution_count": 19,
   "id": "b554df68-f366-4073-a6be-fd1757bc588d",
   "metadata": {},
   "outputs": [],
   "source": [
    "dataset = load_technews()"
   ]
  },
  {
   "cell_type": "code",
   "execution_count": 20,
   "id": "05b1d2fb-c821-430b-8de7-9ebd3a277aad",
   "metadata": {},
   "outputs": [
    {
     "data": {
      "text/plain": [
       "20"
      ]
     },
     "execution_count": 20,
     "metadata": {},
     "output_type": "execute_result"
    }
   ],
   "source": [
    "len(dataset)"
   ]
  },
  {
   "cell_type": "code",
   "execution_count": 21,
   "id": "e03caffc-50c8-43ce-a181-0ebb22b21792",
   "metadata": {},
   "outputs": [],
   "source": [
    "toks = 60"
   ]
  },
  {
   "cell_type": "code",
   "execution_count": 22,
   "id": "3ff8bdce-ce7e-4956-bb06-56b41d34ccad",
   "metadata": {},
   "outputs": [],
   "source": [
    "def g_eval(pred,target): # 1 if both are aligned and 0 if not.\n",
    "    return 1"
   ]
  },
  {
   "cell_type": "code",
   "execution_count": 33,
   "id": "99c01bb7-74cb-4291-8806-8d4a39339b5a",
   "metadata": {},
   "outputs": [],
   "source": [
    "def evaluate(alpha=2.0,max_tokens=toks): # regular/cad\n",
    "    regular_score = 0\n",
    "    cad_score = 0\n",
    "    i=0\n",
    "    for context in tqdm(dataset):\n",
    "        for qa in dataset[context]:\n",
    "            prompt_c = context+\"\\n\"+qa[0]\n",
    "            prompt_nc = qa[0]\n",
    "    \n",
    "            ques = qa[0]\n",
    "            target = qa[1]\n",
    "            \n",
    "            out_reg = decoder.regular_decoding(prompt_c,max_tokens=max_tokens,debug=False,show_tqdm=False)\n",
    "            out_cad = decoder.context_aware_decoding(prompt_c,prompt_nc,alpha=alpha,max_tokens=max_tokens,debug=False,show_tqdm=False)\n",
    "\n",
    "            if i%20 == 0: print(f\"{i}, Question: {ques}, Target: {target}, Regular Output: {out_reg.strip()}, CAD Output: {out_cad}\")\n",
    "\n",
    "            regular_score += g_eval(out_reg,target)\n",
    "            cad_score += g_eval(out_cad,target)\n",
    "            i+=1\n",
    "            \n",
    "\n",
    "    print(f\"Regular score: {regular_score}, CAD Score: {cad_score}\")\n",
    "\n",
    "    return regular_score,cad_score"
   ]
  },
  {
   "cell_type": "code",
   "execution_count": 34,
   "id": "c0f19a3f-2f50-416d-8a60-e68d3b18f18e",
   "metadata": {},
   "outputs": [
    {
     "name": "stderr",
     "output_type": "stream",
     "text": [
      "  0%|          | 0/20 [00:00<?, ?it/s]"
     ]
    },
    {
     "name": "stdout",
     "output_type": "stream",
     "text": [
      "0, Question: When did Elon Musk enter into a deal to acquire Twitter?, Target: Elon Musk entered into a deal to acquire Twitter on April 25, 2022., Regular Output: Elon Musk entered into a deal to acquire Twitter for US$44 billion on April 25, 2022., CAD Output: April 25, 2022\n"
     ]
    },
    {
     "name": "stderr",
     "output_type": "stream",
     "text": [
      "  0%|          | 0/20 [00:24<?, ?it/s]"
     ]
    },
    {
     "name": "stdout",
     "output_type": "stream",
     "text": [
      "Regular score: 8, CAD Score: 8\n"
     ]
    },
    {
     "name": "stderr",
     "output_type": "stream",
     "text": [
      "\n"
     ]
    },
    {
     "data": {
      "text/plain": [
       "(8, 8)"
      ]
     },
     "execution_count": 34,
     "metadata": {},
     "output_type": "execute_result"
    }
   ],
   "source": [
    "evaluate()"
   ]
  },
  {
   "cell_type": "markdown",
   "id": "8899fd73-c0bc-4752-94b1-cbf401383b00",
   "metadata": {},
   "source": []
  }
 ],
 "metadata": {
  "kernelspec": {
   "display_name": "Python 3 (ipykernel)",
   "language": "python",
   "name": "python3"
  },
  "language_info": {
   "codemirror_mode": {
    "name": "ipython",
    "version": 3
   },
   "file_extension": ".py",
   "mimetype": "text/x-python",
   "name": "python",
   "nbconvert_exporter": "python",
   "pygments_lexer": "ipython3",
   "version": "3.10.13"
  }
 },
 "nbformat": 4,
 "nbformat_minor": 5
}
